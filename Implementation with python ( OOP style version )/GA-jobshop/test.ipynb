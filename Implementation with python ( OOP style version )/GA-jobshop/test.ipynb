{
 "cells": [
  {
   "cell_type": "code",
   "execution_count": 7,
   "metadata": {},
   "outputs": [
    {
     "data": {
      "text/html": [
       "        <script type=\"text/javascript\">\n",
       "        window.PlotlyConfig = {MathJaxConfig: 'local'};\n",
       "        if (window.MathJax) {MathJax.Hub.Config({SVG: {font: \"STIX-Web\"}});}\n",
       "        if (typeof require !== 'undefined') {\n",
       "        require.undef(\"plotly\");\n",
       "        requirejs.config({\n",
       "            paths: {\n",
       "                'plotly': ['https://cdn.plot.ly/plotly-latest.min']\n",
       "            }\n",
       "        });\n",
       "        require(['plotly'], function(Plotly) {\n",
       "            window._Plotly = Plotly;\n",
       "        });\n",
       "        }\n",
       "        </script>\n",
       "        "
      ]
     },
     "metadata": {},
     "output_type": "display_data"
    },
    {
     "name": "stdout",
     "output_type": "stream",
     "text": [
      "Calculating...\n",
      "optimal sequence [4, 4, 1, 6, 5, 6, 7, 1, 1, 1, 7, 6, 3, 9, 7, 5, 7, 0, 3, 7, 8, 5, 7, 7, 4, 9, 8, 3, 3, 6, 4, 1, 3, 8, 2, 8, 0, 3, 9, 1, 4, 0, 3, 9, 8, 4, 5, 9, 8, 4, 7, 5, 0, 0, 6, 2, 2, 8, 4, 5, 6, 0, 8, 2, 6, 7, 8, 5, 1, 3, 2, 0, 7, 4, 9, 5, 1, 3, 6, 6, 0, 9, 5, 4, 0, 2, 3, 2, 1, 8, 6, 1, 9, 2, 5, 9, 0, 2, 2, 9]\n",
      "optimal value:1199.000000\n"
     ]
    },
    {
     "data": {
      "image/png": "[encoded data removed]",
      "text/plain": [
       "<Figure size 432x288 with 1 Axes>"
      ]
     },
     "metadata": {},
     "output_type": "display_data"
    },
    {
     "data": {
      "application/vnd.plotly.v1+json": {
       "config": {
        "linkText": "Export to plot.ly",
        "plotlyServerURL": "https://plot.ly",
        "responsive": true,
        "showLink": false
       },
       "data": [
        {
         "marker": {
          "color": "white"
         },
         "name": "",
         "type": "scatter",
         "uid": "e41ec4e8-fca5-4c2c-bbd8-659db6289936",
         "x": [
          "2018-07-14 0:03:35",
          "2018-07-14 0:04:04"
         ],
         "y": [
          9,
          9
         ]
        },
        {
         "marker": {
          "color": "white"
         },
         "name": "",
         "type": "scatter",
         "uid": "9e8253a6-a1b8-401d-9ec5-b04e2f82ac0e",
         "x": [
          "2018-07-14 0:00:20",
          "2018-07-14 0:01:03"
         ],
         "y": [
          9,
          9
         ]
        },
        {
         "marker": {
          "color": "white"
         },
         "name": "",
         "type": "scatter",
         "uid": "9d6a5c38-e9e7-419b-b350-c9199f71c7f5",
         "x": [
          "2018-07-14 0:08:00",
          "2018-07-14 0:09:25"
         ],
         "y": [
          9,
          9
         ]
        },
        {
         "marker": {
          "color": "white"
         },
         "name": "",
         "type": "scatter",
         "uid": "8dfd2396-8a03-411d-a528-8c684026eda4",
         "x": [
          "2018-07-14 0:05:33",
          "2018-07-14 0:06:44"
         ],
         "y": [
          9,
          9
         ]
        },
        {
         "marker": {
          "color": "white"
         },
         "name": "",
         "type": "scatter",
         "uid": "0fbcc1a6-68f6-4ca0-b457-86aaeffba5bc",
         "x": [
          "2018-07-14 0:00:14",
          "2018-07-14 0:00:20"
         ],
         "y": [
          9,
          9
         ]
        },
        {
         "marker": {
          "color": "white"
         },
         "name": "",
         "type": "scatter",
         "uid": "9edaa237-69e7-43ac-a81a-8021acbd78c1",
         "x": [
          "2018-07-14 0:13:03",
          "2018-07-14 0:13:50"
         ],
         "y": [
          9,
          9
         ]
        },
        {
         "marker": {
          "color": "white"
         },
         "name": "",
         "type": "scatter",
         "uid": "f8e5d80d-16a3-481e-91f0-f5c5f8238f4f",
         "x": [
          "2018-07-14 0:01:03",
          "2018-07-14 0:01:40"
         ],
         "y": [
          9,
          9
         ]
        },
        {
         "marker": {
          "color": "white"
         },
         "name": "",
         "type": "scatter",
         "uid": "77e84e51-f5f8-4be7-9c34-8a96cd2f6836",
         "x": [
          "2018-07-14 0:02:09",
          "2018-07-14 0:03:35"
         ],
         "y": [
          9,
          9
         ]
        },
        {
         "marker": {
          "color": "white"
         },
         "name": "",
         "type": "scatter",
         "uid": "e47647ad-762e-4452-9958-1609c2815e7f",
         "x": [
          "2018-07-14 0:04:04",
          "2018-07-14 0:05:20"
         ],
         "y": [
          9,
          9
         ]
        },
        {
         "marker": {
          "color": "white"
         },
         "name": "",
         "type": "scatter",
         "uid": "d8f6e0f5-3c90-4ee2-9203-72849e1788a1",
         "x": [
          "2018-07-14 0:05:20",
          "2018-07-14 0:05:33"
         ],
         "y": [
          9,
          9
         ]
        },
        {
         "marker": {
          "color": "white"
         },
         "name": "",
         "type": "scatter",
         "uid": "82f0b8db-6ebb-41a1-92ee-8130ca7306eb",
         "x": [
          "2018-07-14 0:08:00",
          "2018-07-14 0:09:18"
         ],
         "y": [
          8,
          8
         ]
        },
        {
         "marker": {
          "color": "white"
         },
         "name": "",
         "type": "scatter",
         "uid": "ebf95968-e3af-4188-816f-b4857ddcf6df",
         "x": [
          "2018-07-14 0:09:18",
          "2018-07-14 0:09:46"
         ],
         "y": [
          8,
          8
         ]
        },
        {
         "marker": {
          "color": "white"
         },
         "name": "",
         "type": "scatter",
         "uid": "25336563-aa1f-46c2-baca-cbc1c989fd4e",
         "x": [
          "2018-07-14 0:06:29",
          "2018-07-14 0:08:00"
         ],
         "y": [
          8,
          8
         ]
        },
        {
         "marker": {
          "color": "white"
         },
         "name": "",
         "type": "scatter",
         "uid": "97c627b3-e980-497d-9a69-18b684177906",
         "x": [
          "2018-07-14 0:00:46",
          "2018-07-14 0:02:07"
         ],
         "y": [
          8,
          8
         ]
        },
        {
         "marker": {
          "color": "white"
         },
         "name": "",
         "type": "scatter",
         "uid": "87074b51-67e7-4141-8a6f-5871588414f9",
         "x": [
          "2018-07-14 0:04:23",
          "2018-07-14 0:04:45"
         ],
         "y": [
          8,
          8
         ]
        },
        {
         "marker": {
          "color": "white"
         },
         "name": "",
         "type": "scatter",
         "uid": "419d2f32-1c52-4497-8687-915fe4408c78",
         "x": [
          "2018-07-14 0:04:21",
          "2018-07-14 0:04:23"
         ],
         "y": [
          8,
          8
         ]
        },
        {
         "marker": {
          "color": "white"
         },
         "name": "",
         "type": "scatter",
         "uid": "8b694bcd-488b-4156-bbca-532bfdd50263",
         "x": [
          "2018-07-14 0:00:00",
          "2018-07-14 0:00:46"
         ],
         "y": [
          8,
          8
         ]
        },
        {
         "marker": {
          "color": "white"
         },
         "name": "",
         "type": "scatter",
         "uid": "3710366f-0b89-44fa-b821-50c2e812eb31",
         "x": [
          "2018-07-14 0:03:35",
          "2018-07-14 0:04:21"
         ],
         "y": [
          8,
          8
         ]
        },
        {
         "marker": {
          "color": "white"
         },
         "name": "",
         "type": "scatter",
         "uid": "6673c547-8b55-46e6-9734-90ed04a05d53",
         "x": [
          "2018-07-14 0:05:20",
          "2018-07-14 0:06:29"
         ],
         "y": [
          8,
          8
         ]
        },
        {
         "marker": {
          "color": "white"
         },
         "name": "",
         "type": "scatter",
         "uid": "c446063b-dd0a-4b64-9fba-6a3938d661b7",
         "x": [
          "2018-07-14 0:02:07",
          "2018-07-14 0:03:32"
         ],
         "y": [
          8,
          8
         ]
        },
        {
         "marker": {
          "color": "white"
         },
         "name": "",
         "type": "scatter",
         "uid": "12318208-c7f9-4511-9091-35a57a80f3ba",
         "x": [
          "2018-07-14 0:09:18",
          "2018-07-14 0:09:27"
         ],
         "y": [
          7,
          7
         ]
        },
        {
         "marker": {
          "color": "white"
         },
         "name": "",
         "type": "scatter",
         "uid": "05d99c7a-054b-4dc7-a8ba-c56ebaefd461",
         "x": [
          "2018-07-14 0:02:09",
          "2018-07-14 0:03:39"
         ],
         "y": [
          7,
          7
         ]
        },
        {
         "marker": {
          "color": "white"
         },
         "name": "",
         "type": "scatter",
         "uid": "3ed14e82-2e55-4625-a067-b0623cf6c474",
         "x": [
          "2018-07-14 0:11:01",
          "2018-07-14 0:12:15"
         ],
         "y": [
          7,
          7
         ]
        },
        {
         "marker": {
          "color": "white"
         },
         "name": "",
         "type": "scatter",
         "uid": "9ddb1589-309e-426b-8ed4-06c73dccd132",
         "x": [
          "2018-07-14 0:03:39",
          "2018-07-14 0:05:14"
         ],
         "y": [
          7,
          7
         ]
        },
        {
         "marker": {
          "color": "white"
         },
         "name": "",
         "type": "scatter",
         "uid": "301f7616-dd2d-40f6-946d-854df1820f51",
         "x": [
          "2018-07-14 0:00:00",
          "2018-07-14 0:00:14"
         ],
         "y": [
          7,
          7
         ]
        },
        {
         "marker": {
          "color": "white"
         },
         "name": "",
         "type": "scatter",
         "uid": "70bd287e-6218-4f08-87ab-4aa929844a4b",
         "x": [
          "2018-07-14 0:00:14",
          "2018-07-14 0:01:38"
         ],
         "y": [
          7,
          7
         ]
        },
        {
         "marker": {
          "color": "white"
         },
         "name": "",
         "type": "scatter",
         "uid": "a181193e-1a9b-4010-bc92-678ac6431821",
         "x": [
          "2018-07-14 0:05:14",
          "2018-07-14 0:05:27"
         ],
         "y": [
          7,
          7
         ]
        },
        {
         "marker": {
          "color": "white"
         },
         "name": "",
         "type": "scatter",
         "uid": "41870161-cc61-4e31-876d-b04397cf0c3b",
         "x": [
          "2018-07-14 0:01:38",
          "2018-07-14 0:02:09"
         ],
         "y": [
          7,
          7
         ]
        },
        {
         "marker": {
          "color": "white"
         },
         "name": "",
         "type": "scatter",
         "uid": "d3584e74-d922-4c87-a279-930d466f21a6",
         "x": [
          "2018-07-14 0:09:27",
          "2018-07-14 0:10:52"
         ],
         "y": [
          7,
          7
         ]
        },
        {
         "marker": {
          "color": "white"
         },
         "name": "",
         "type": "scatter",
         "uid": "a89c13c0-0b51-4046-8a85-2c6787df252b",
         "x": [
          "2018-07-14 0:05:33",
          "2018-07-14 0:06:34"
         ],
         "y": [
          7,
          7
         ]
        },
        {
         "marker": {
          "color": "white"
         },
         "name": "",
         "type": "scatter",
         "uid": "c8586b66-03f9-4d1a-9eb3-5a0101d86582",
         "x": [
          "2018-07-14 0:09:46",
          "2018-07-14 0:10:22"
         ],
         "y": [
          6,
          6
         ]
        },
        {
         "marker": {
          "color": "white"
         },
         "name": "",
         "type": "scatter",
         "uid": "2b1fd034-d1ca-461c-a23b-0e97790aa5a0",
         "x": [
          "2018-07-14 0:05:05",
          "2018-07-14 0:06:14"
         ],
         "y": [
          6,
          6
         ]
        },
        {
         "marker": {
          "color": "white"
         },
         "name": "",
         "type": "scatter",
         "uid": "3e1784e0-3b8b-45db-8e5c-6eeadf310492",
         "x": [
          "2018-07-14 0:10:22",
          "2018-07-14 0:11:01"
         ],
         "y": [
          6,
          6
         ]
        },
        {
         "marker": {
          "color": "white"
         },
         "name": "",
         "type": "scatter",
         "uid": "761ee2a7-99cd-4edf-a1a5-73acfcc5db7b",
         "x": [
          "2018-07-14 0:11:01",
          "2018-07-14 0:12:39"
         ],
         "y": [
          6,
          6
         ]
        },
        {
         "marker": {
          "color": "white"
         },
         "name": "",
         "type": "scatter",
         "uid": "2e15644d-1486-4326-a8ae-910dd967dc13",
         "x": [
          "2018-07-14 0:07:45",
          "2018-07-14 0:08:11"
         ],
         "y": [
          6,
          6
         ]
        },
        {
         "marker": {
          "color": "white"
         },
         "name": "",
         "type": "scatter",
         "uid": "16ddf101-422e-433e-af1e-bd16c70c3ae4",
         "x": [
          "2018-07-14 0:08:11",
          "2018-07-14 0:09:46"
         ],
         "y": [
          6,
          6
         ]
        },
        {
         "marker": {
          "color": "white"
         },
         "name": "",
         "type": "scatter",
         "uid": "8c2ff0d0-15e5-4b74-b332-eedf09de8fd2",
         "x": [
          "2018-07-14 0:01:40",
          "2018-07-14 0:02:41"
         ],
         "y": [
          6,
          6
         ]
        },
        {
         "marker": {
          "color": "white"
         },
         "name": "",
         "type": "scatter",
         "uid": "80c32d57-29e1-4c2f-a158-7aa138a463a3",
         "x": [
          "2018-07-14 0:13:48",
          "2018-07-14 0:15:07"
         ],
         "y": [
          6,
          6
         ]
        },
        {
         "marker": {
          "color": "white"
         },
         "name": "",
         "type": "scatter",
         "uid": "ab0cddf3-2048-4e54-a261-004696f87a96",
         "x": [
          "2018-07-14 0:06:29",
          "2018-07-14 0:07:45"
         ],
         "y": [
          6,
          6
         ]
        },
        {
         "marker": {
          "color": "white"
         },
         "name": "",
         "type": "scatter",
         "uid": "17d7dbf2-71ea-4c69-97a5-6e1e5a155138",
         "x": [
          "2018-07-14 0:16:50",
          "2018-07-14 0:17:42"
         ],
         "y": [
          6,
          6
         ]
        },
        {
         "marker": {
          "color": "white"
         },
         "name": "",
         "type": "scatter",
         "uid": "77671c04-6eeb-403a-85fd-fb4efc980e72",
         "x": [
          "2018-07-14 0:10:22",
          "2018-07-14 0:11:11"
         ],
         "y": [
          5,
          5
         ]
        },
        {
         "marker": {
          "color": "white"
         },
         "name": "",
         "type": "scatter",
         "uid": "318232cc-1cf0-44d7-b0ab-4b470c4c31f0",
         "x": [
          "2018-07-14 0:03:39",
          "2018-07-14 0:04:54"
         ],
         "y": [
          5,
          5
         ]
        },
        {
         "marker": {
          "color": "white"
         },
         "name": "",
         "type": "scatter",
         "uid": "364784de-314a-4886-bf83-d8f45360a050",
         "x": [
          "2018-07-14 0:19:26",
          "2018-07-14 0:19:59"
         ],
         "y": [
          5,
          5
         ]
        },
        {
         "marker": {
          "color": "white"
         },
         "name": "",
         "type": "scatter",
         "uid": "91d475dc-9c63-4127-9344-9605ac9e4095",
         "x": [
          "2018-07-14 0:06:44",
          "2018-07-14 0:08:23"
         ],
         "y": [
          5,
          5
         ]
        },
        {
         "marker": {
          "color": "white"
         },
         "name": "",
         "type": "scatter",
         "uid": "5cd03c06-93b9-4b33-9551-575e1d02d643",
         "x": [
          "2018-07-14 0:08:23",
          "2018-07-14 0:09:32"
         ],
         "y": [
          5,
          5
         ]
        },
        {
         "marker": {
          "color": "white"
         },
         "name": "",
         "type": "scatter",
         "uid": "3ccb45a9-0efc-4075-a458-0f3f535c7dff",
         "x": [
          "2018-07-14 0:14:55",
          "2018-07-14 0:15:01"
         ],
         "y": [
          5,
          5
         ]
        },
        {
         "marker": {
          "color": "white"
         },
         "name": "",
         "type": "scatter",
         "uid": "d460e575-f7e1-45f6-b032-5b81d4c10105",
         "x": [
          "2018-07-14 0:15:44",
          "2018-07-14 0:16:39"
         ],
         "y": [
          5,
          5
         ]
        },
        {
         "marker": {
          "color": "white"
         },
         "name": "",
         "type": "scatter",
         "uid": "c0dd7946-6b8c-49a3-a66e-0cdaf982324c",
         "x": [
          "2018-07-14 0:05:35",
          "2018-07-14 0:06:07"
         ],
         "y": [
          5,
          5
         ]
        },
        {
         "marker": {
          "color": "white"
         },
         "name": "",
         "type": "scatter",
         "uid": "b591da4a-7913-4ced-86fc-c9c0272a855a",
         "x": [
          "2018-07-14 0:13:12",
          "2018-07-14 0:13:38"
         ],
         "y": [
          5,
          5
         ]
        },
        {
         "marker": {
          "color": "white"
         },
         "name": "",
         "type": "scatter",
         "uid": "58df85a5-18c1-45d5-8f58-d5acc6f35792",
         "x": [
          "2018-07-14 0:17:42",
          "2018-07-14 0:19:12"
         ],
         "y": [
          5,
          5
         ]
        },
        {
         "marker": {
          "color": "white"
         },
         "name": "",
         "type": "scatter",
         "uid": "90ec0780-1ffb-418c-89a3-df68d2409a4d",
         "x": [
          "2018-07-14 0:11:11",
          "2018-07-14 0:11:22"
         ],
         "y": [
          4,
          4
         ]
        },
        {
         "marker": {
          "color": "white"
         },
         "name": "",
         "type": "scatter",
         "uid": "46146995-a65b-4a3e-86d9-cfc74d5b3e62",
         "x": [
          "2018-07-14 0:12:29",
          "2018-07-14 0:13:15"
         ],
         "y": [
          4,
          4
         ]
        },
        {
         "marker": {
          "color": "white"
         },
         "name": "",
         "type": "scatter",
         "uid": "97c113e9-9c88-4bf0-a5a4-d593f3ecadfd",
         "x": [
          "2018-07-14 0:16:50",
          "2018-07-14 0:17:00"
         ],
         "y": [
          4,
          4
         ]
        },
        {
         "marker": {
          "color": "white"
         },
         "name": "",
         "type": "scatter",
         "uid": "8f196ed1-70c9-40a7-9466-171d6f77c4fd",
         "x": [
          "2018-07-14 0:17:00",
          "2018-07-14 0:17:43"
         ],
         "y": [
          4,
          4
         ]
        },
        {
         "marker": {
          "color": "white"
         },
         "name": "",
         "type": "scatter",
         "uid": "0e51274a-0879-4465-9808-15758a09eea3",
         "x": [
          "2018-07-14 0:06:27",
          "2018-07-14 0:07:28"
         ],
         "y": [
          4,
          4
         ]
        },
        {
         "marker": {
          "color": "white"
         },
         "name": "",
         "type": "scatter",
         "uid": "e3cdd9da-cb0a-4cfe-87b4-6a5f39b77c94",
         "x": [
          "2018-07-14 0:05:35",
          "2018-07-14 0:06:27"
         ],
         "y": [
          4,
          4
         ]
        },
        {
         "marker": {
          "color": "white"
         },
         "name": "",
         "type": "scatter",
         "uid": "ea90c6e5-c9f1-4afe-af11-f0d7ecf776ad",
         "x": [
          "2018-07-14 0:09:11",
          "2018-07-14 0:09:32"
         ],
         "y": [
          4,
          4
         ]
        },
        {
         "marker": {
          "color": "white"
         },
         "name": "",
         "type": "scatter",
         "uid": "27e9e919-0566-406d-adf9-171882f2eb04",
         "x": [
          "2018-07-14 0:04:21",
          "2018-07-14 0:05:35"
         ],
         "y": [
          4,
          4
         ]
        },
        {
         "marker": {
          "color": "white"
         },
         "name": "",
         "type": "scatter",
         "uid": "0ae7f67a-bb76-4818-918c-7813d5441bc6",
         "x": [
          "2018-07-14 0:07:45",
          "2018-07-14 0:08:36"
         ],
         "y": [
          4,
          4
         ]
        },
        {
         "marker": {
          "color": "white"
         },
         "name": "",
         "type": "scatter",
         "uid": "cefba036-f9f3-4082-91fb-2528965c063a",
         "x": [
          "2018-07-14 0:16:03",
          "2018-07-14 0:16:50"
         ],
         "y": [
          4,
          4
         ]
        },
        {
         "marker": {
          "color": "white"
         },
         "name": "",
         "type": "scatter",
         "uid": "1a04a6fc-994f-4008-92bf-f90b1bf3371e",
         "x": [
          "2018-07-14 0:12:29",
          "2018-07-14 0:13:31"
         ],
         "y": [
          3,
          3
         ]
        },
        {
         "marker": {
          "color": "white"
         },
         "name": "",
         "type": "scatter",
         "uid": "2018bdbd-85aa-4e64-b9a2-2031b9680071",
         "x": [
          "2018-07-14 0:11:43",
          "2018-07-14 0:12:29"
         ],
         "y": [
          3,
          3
         ]
        },
        {
         "marker": {
          "color": "white"
         },
         "name": "",
         "type": "scatter",
         "uid": "890e34f0-05e7-456b-b0c4-5765c5031e6f",
         "x": [
          "2018-07-14 0:17:12",
          "2018-07-14 0:18:41"
         ],
         "y": [
          3,
          3
         ]
        },
        {
         "marker": {
          "color": "white"
         },
         "name": "",
         "type": "scatter",
         "uid": "f5d3c722-83ee-4191-8539-03f0d2368a12",
         "x": [
          "2018-07-14 0:08:23",
          "2018-07-14 0:08:32"
         ],
         "y": [
          3,
          3
         ]
        },
        {
         "marker": {
          "color": "white"
         },
         "name": "",
         "type": "scatter",
         "uid": "1307357f-b025-40e6-b37d-81a05ae0856b",
         "x": [
          "2018-07-14 0:14:55",
          "2018-07-14 0:15:48"
         ],
         "y": [
          3,
          3
         ]
        },
        {
         "marker": {
          "color": "white"
         },
         "name": "",
         "type": "scatter",
         "uid": "cea6604a-c996-431d-8b10-d26d525b091a",
         "x": [
          "2018-07-14 0:13:50",
          "2018-07-14 0:14:55"
         ],
         "y": [
          3,
          3
         ]
        },
        {
         "marker": {
          "color": "white"
         },
         "name": "",
         "type": "scatter",
         "uid": "c12fc41a-4400-4b8f-9169-d89ff12ceba3",
         "x": [
          "2018-07-14 0:08:39",
          "2018-07-14 0:09:11"
         ],
         "y": [
          3,
          3
         ]
        },
        {
         "marker": {
          "color": "white"
         },
         "name": "",
         "type": "scatter",
         "uid": "f1e09364-334e-4e4a-9698-1667624b1552",
         "x": [
          "2018-07-14 0:06:07",
          "2018-07-14 0:07:35"
         ],
         "y": [
          3,
          3
         ]
        },
        {
         "marker": {
          "color": "white"
         },
         "name": "",
         "type": "scatter",
         "uid": "5447e170-fdac-4c2c-85bd-3076b1f2d90d",
         "x": [
          "2018-07-14 0:11:03",
          "2018-07-14 0:11:43"
         ],
         "y": [
          3,
          3
         ]
        },
        {
         "marker": {
          "color": "white"
         },
         "name": "",
         "type": "scatter",
         "uid": "d94c5c4f-c64b-4be3-bab2-086fbc3efba6",
         "x": [
          "2018-07-14 0:08:32",
          "2018-07-14 0:08:39"
         ],
         "y": [
          3,
          3
         ]
        },
        {
         "marker": {
          "color": "white"
         },
         "name": "",
         "type": "scatter",
         "uid": "03cfd0a3-e871-437a-910b-5326d804df2c",
         "x": [
          "2018-07-14 0:15:44",
          "2018-07-14 0:16:40"
         ],
         "y": [
          2,
          2
         ]
        },
        {
         "marker": {
          "color": "white"
         },
         "name": "",
         "type": "scatter",
         "uid": "07dc849a-5b34-4cf9-b8f6-92309881609a",
         "x": [
          "2018-07-14 0:17:12",
          "2018-07-14 0:18:24"
         ],
         "y": [
          2,
          2
         ]
        },
        {
         "marker": {
          "color": "white"
         },
         "name": "",
         "type": "scatter",
         "uid": "a96df6e0-edc2-41ce-8835-543e9405e147",
         "x": [
          "2018-07-14 0:17:00",
          "2018-07-14 0:17:12"
         ],
         "y": [
          2,
          2
         ]
        },
        {
         "marker": {
          "color": "white"
         },
         "name": "",
         "type": "scatter",
         "uid": "459100a4-095c-42a9-ae90-7ca5588922e2",
         "x": [
          "2018-07-14 0:09:24",
          "2018-07-14 0:10:49"
         ],
         "y": [
          2,
          2
         ]
        },
        {
         "marker": {
          "color": "white"
         },
         "name": "",
         "type": "scatter",
         "uid": "1551c776-4e3a-4553-a7d1-105a215898b8",
         "x": [
          "2018-07-14 0:10:49",
          "2018-07-14 0:11:38"
         ],
         "y": [
          2,
          2
         ]
        },
        {
         "marker": {
          "color": "white"
         },
         "name": "",
         "type": "scatter",
         "uid": "5630a022-239b-470f-9476-ba970e0c831c",
         "x": [
          "2018-07-14 0:18:24",
          "2018-07-14 0:18:49"
         ],
         "y": [
          2,
          2
         ]
        },
        {
         "marker": {
          "color": "white"
         },
         "name": "",
         "type": "scatter",
         "uid": "464db309-a7db-4116-93ce-e550ccc67584",
         "x": [
          "2018-07-14 0:15:14",
          "2018-07-14 0:15:44"
         ],
         "y": [
          2,
          2
         ]
        },
        {
         "marker": {
          "color": "white"
         },
         "name": "",
         "type": "scatter",
         "uid": "2e377e63-51f5-4f4b-83d5-777f6ee5ffe7",
         "x": [
          "2018-07-14 0:13:12",
          "2018-07-14 0:13:48"
         ],
         "y": [
          2,
          2
         ]
        },
        {
         "marker": {
          "color": "white"
         },
         "name": "",
         "type": "scatter",
         "uid": "3db24a34-4b4e-48e6-bdb7-d1c53fa7852c",
         "x": [
          "2018-07-14 0:11:43",
          "2018-07-14 0:13:12"
         ],
         "y": [
          2,
          2
         ]
        },
        {
         "marker": {
          "color": "white"
         },
         "name": "",
         "type": "scatter",
         "uid": "0e1e3ad9-d261-4f62-ade5-f33fe317a894",
         "x": [
          "2018-07-14 0:19:12",
          "2018-07-14 0:19:57"
         ],
         "y": [
          2,
          2
         ]
        },
        {
         "marker": {
          "color": "white"
         },
         "name": "",
         "type": "scatter",
         "uid": "75d0b7bf-5443-427b-9fbd-04ddbc62eef5",
         "x": [
          "2018-07-14 0:16:40",
          "2018-07-14 0:17:24"
         ],
         "y": [
          1,
          1
         ]
        },
        {
         "marker": {
          "color": "white"
         },
         "name": "",
         "type": "scatter",
         "uid": "91938208-5c4b-4ca0-b180-90f261a84a50",
         "x": [
          "2018-07-14 0:18:38",
          "2018-07-14 0:19:08"
         ],
         "y": [
          1,
          1
         ]
        },
        {
         "marker": {
          "color": "white"
         },
         "name": "",
         "type": "scatter",
         "uid": "21caf9a8-1d56-4b2b-851a-7a5f059d054f",
         "x": [
          "2018-07-14 0:12:15",
          "2018-07-14 0:13:45"
         ],
         "y": [
          1,
          1
         ]
        },
        {
         "marker": {
          "color": "white"
         },
         "name": "",
         "type": "scatter",
         "uid": "98f3effc-53f6-47c5-ac76-9b271a7bc03b",
         "x": [
          "2018-07-14 0:08:32",
          "2018-07-14 0:09:24"
         ],
         "y": [
          1,
          1
         ]
        },
        {
         "marker": {
          "color": "white"
         },
         "name": "",
         "type": "scatter",
         "uid": "c3c1a98d-08f8-40de-83ce-f7c5283e7e8d",
         "x": [
          "2018-07-14 0:10:28",
          "2018-07-14 0:10:49"
         ],
         "y": [
          1,
          1
         ]
        },
        {
         "marker": {
          "color": "white"
         },
         "name": "",
         "type": "scatter",
         "uid": "bb074d2d-4652-42dc-808a-fea76f991eb5",
         "x": [
          "2018-07-14 0:10:49",
          "2018-07-14 0:11:37"
         ],
         "y": [
          1,
          1
         ]
        },
        {
         "marker": {
          "color": "white"
         },
         "name": "",
         "type": "scatter",
         "uid": "a44568aa-9faf-413e-8c5c-eb2532861f1d",
         "x": [
          "2018-07-14 0:13:45",
          "2018-07-14 0:15:14"
         ],
         "y": [
          1,
          1
         ]
        },
        {
         "marker": {
          "color": "white"
         },
         "name": "",
         "type": "scatter",
         "uid": "ef4ad4a0-58a6-4186-9c77-86337e7ad272",
         "x": [
          "2018-07-14 0:07:35",
          "2018-07-14 0:07:54"
         ],
         "y": [
          1,
          1
         ]
        },
        {
         "marker": {
          "color": "white"
         },
         "name": "",
         "type": "scatter",
         "uid": "2974c4f0-f3aa-4bc0-8c2b-5a057be44765",
         "x": [
          "2018-07-14 0:17:24",
          "2018-07-14 0:18:38"
         ],
         "y": [
          1,
          1
         ]
        },
        {
         "marker": {
          "color": "white"
         },
         "name": "",
         "type": "scatter",
         "uid": "5246120a-159c-4c3f-bb62-a680960fce56",
         "x": [
          "2018-07-14 0:09:24",
          "2018-07-14 0:10:28"
         ],
         "y": [
          1,
          1
         ]
        },
        {
         "marker": {
          "color": "white"
         },
         "name": "",
         "type": "scatter",
         "uid": "0727609a-ae8d-4c50-91cf-48da81033466",
         "x": [
          "2018-07-14 0:17:24",
          "2018-07-14 0:17:45"
         ],
         "y": [
          0,
          0
         ]
        },
        {
         "marker": {
          "color": "white"
         },
         "name": "",
         "type": "scatter",
         "uid": "3650350a-8131-4a47-a3c3-3e7241487c8a",
         "x": [
          "2018-07-14 0:04:54",
          "2018-07-14 0:05:05"
         ],
         "y": [
          0,
          0
         ]
        },
        {
         "marker": {
          "color": "white"
         },
         "name": "",
         "type": "scatter",
         "uid": "f760fb8c-8fd3-4b8c-8ffd-96b95bf33b45",
         "x": [
          "2018-07-14 0:18:41",
          "2018-07-14 0:19:26"
         ],
         "y": [
          0,
          0
         ]
        },
        {
         "marker": {
          "color": "white"
         },
         "name": "",
         "type": "scatter",
         "uid": "39bee9f1-c470-431f-bce6-3ef484c904fa",
         "x": [
          "2018-07-14 0:16:03",
          "2018-07-14 0:16:25"
         ],
         "y": [
          0,
          0
         ]
        },
        {
         "marker": {
          "color": "white"
         },
         "name": "",
         "type": "scatter",
         "uid": "4f13a3c6-38ed-4d39-86ec-87a2da6a35c0",
         "x": [
          "2018-07-14 0:13:35",
          "2018-07-14 0:14:47"
         ],
         "y": [
          0,
          0
         ]
        },
        {
         "marker": {
          "color": "white"
         },
         "name": "",
         "type": "scatter",
         "uid": "b5e0e8b7-aec1-452e-b902-5dd87723b04b",
         "x": [
          "2018-07-14 0:11:51",
          "2018-07-14 0:13:03"
         ],
         "y": [
          0,
          0
         ]
        },
        {
         "marker": {
          "color": "white"
         },
         "name": "",
         "type": "scatter",
         "uid": "bfebcfc6-54a9-4d05-ba1e-dff487fa8653",
         "x": [
          "2018-07-14 0:13:03",
          "2018-07-14 0:13:35"
         ],
         "y": [
          0,
          0
         ]
        },
        {
         "marker": {
          "color": "white"
         },
         "name": "",
         "type": "scatter",
         "uid": "51d296ff-ebf1-4e33-8d0d-6da4321c85ba",
         "x": [
          "2018-07-14 0:11:03",
          "2018-07-14 0:11:51"
         ],
         "y": [
          0,
          0
         ]
        },
        {
         "marker": {
          "color": "white"
         },
         "name": "",
         "type": "scatter",
         "uid": "12182d2a-28b4-402e-b2f8-6b8b5e00d37f",
         "x": [
          "2018-07-14 0:10:52",
          "2018-07-14 0:11:03"
         ],
         "y": [
          0,
          0
         ]
        },
        {
         "marker": {
          "color": "white"
         },
         "name": "",
         "type": "scatter",
         "uid": "c2a29660-78ee-4c78-a33a-4527af8810b5",
         "x": [
          "2018-07-14 0:14:47",
          "2018-07-14 0:16:03"
         ],
         "y": [
          0,
          0
         ]
        },
        {
         "hoverinfo": "none",
         "marker": {
          "color": "rgb(31, 119, 180)",
          "size": 1
         },
         "name": "Job 1",
         "showlegend": true,
         "type": "scatter",
         "uid": "33e575c0-380d-423c-a6c9-3a5c00cccd56",
         "x": [
          "2018-07-14 0:14:47",
          "2018-07-14 0:14:47"
         ],
         "y": [
          0,
          0
         ]
        },
        {
         "hoverinfo": "none",
         "marker": {
          "color": "rgb(255, 127, 14)",
          "size": 1
         },
         "name": "Job 10",
         "showlegend": true,
         "type": "scatter",
         "uid": "cd555dc5-1308-443b-976a-22eb93afe4a3",
         "x": [
          "2018-07-14 0:14:47",
          "2018-07-14 0:14:47"
         ],
         "y": [
          1,
          1
         ]
        },
        {
         "hoverinfo": "none",
         "marker": {
          "color": "rgb(44, 160, 44)",
          "size": 1
         },
         "name": "Job 2",
         "showlegend": true,
         "type": "scatter",
         "uid": "12bde8cf-1d38-4fee-bfc4-b91f077ed354",
         "x": [
          "2018-07-14 0:14:47",
          "2018-07-14 0:14:47"
         ],
         "y": [
          2,
          2
         ]
        },
        {
         "hoverinfo": "none",
         "marker": {
          "color": "rgb(214, 39, 40)",
          "size": 1
         },
         "name": "Job 3",
         "showlegend": true,
         "type": "scatter",
         "uid": "e8f5877f-b880-4aac-9d70-6b1ddf3f1cb2",
         "x": [
          "2018-07-14 0:14:47",
          "2018-07-14 0:14:47"
         ],
         "y": [
          3,
          3
         ]
        },
        {
         "hoverinfo": "none",
         "marker": {
          "color": "rgb(148, 103, 189)",
          "size": 1
         },
         "name": "Job 4",
         "showlegend": true,
         "type": "scatter",
         "uid": "eace1ed3-f130-4a17-97e7-c1b6f24cafd4",
         "x": [
          "2018-07-14 0:14:47",
          "2018-07-14 0:14:47"
         ],
         "y": [
          4,
          4
         ]
        },
        {
         "hoverinfo": "none",
         "marker": {
          "color": "rgb(140, 86, 75)",
          "size": 1
         },
         "name": "Job 5",
         "showlegend": true,
         "type": "scatter",
         "uid": "f12be79f-acc2-4beb-b0bd-0c6f46d55200",
         "x": [
          "2018-07-14 0:14:47",
          "2018-07-14 0:14:47"
         ],
         "y": [
          5,
          5
         ]
        },
        {
         "hoverinfo": "none",
         "marker": {
          "color": "rgb(227, 119, 194)",
          "size": 1
         },
         "name": "Job 6",
         "showlegend": true,
         "type": "scatter",
         "uid": "03e17193-2818-4a4f-bc78-50e69890ab78",
         "x": [
          "2018-07-14 0:14:47",
          "2018-07-14 0:14:47"
         ],
         "y": [
          6,
          6
         ]
        },
        {
         "hoverinfo": "none",
         "marker": {
          "color": "rgb(127, 127, 127)",
          "size": 1
         },
         "name": "Job 7",
         "showlegend": true,
         "type": "scatter",
         "uid": "ea8d4bdc-5511-43d1-894b-2d001ad830f4",
         "x": [
          "2018-07-14 0:14:47",
          "2018-07-14 0:14:47"
         ],
         "y": [
          7,
          7
         ]
        },
        {
         "hoverinfo": "none",
         "marker": {
          "color": "rgb(188, 189, 34)",
          "size": 1
         },
         "name": "Job 8",
         "showlegend": true,
         "type": "scatter",
         "uid": "59003d03-3bb5-4798-9fb0-aec3521efc29",
         "x": [
          "2018-07-14 0:14:47",
          "2018-07-14 0:14:47"
         ],
         "y": [
          8,
          8
         ]
        },
        {
         "hoverinfo": "none",
         "marker": {
          "color": "rgb(23, 190, 207)",
          "size": 1
         },
         "name": "Job 9",
         "showlegend": true,
         "type": "scatter",
         "uid": "c300b267-c222-4872-b7af-e56483790a19",
         "x": [
          "2018-07-14 0:14:47",
          "2018-07-14 0:14:47"
         ],
         "y": [
          9,
          9
         ]
        }
       ],
       "layout": {
        "height": 600,
        "hovermode": "closest",
        "shapes": [
         {
          "fillcolor": "rgb(31, 119, 180)",
          "line": {
           "width": 0
          },
          "opacity": 1,
          "type": "rect",
          "x0": "2018-07-14 0:03:35",
          "x1": "2018-07-14 0:04:04",
          "xref": "x",
          "y0": 8.8,
          "y1": 9.2,
          "yref": "y"
         },
         {
          "fillcolor": "rgb(44, 160, 44)",
          "line": {
           "width": 0
          },
          "opacity": 1,
          "type": "rect",
          "x0": "2018-07-14 0:00:20",
          "x1": "2018-07-14 0:01:03",
          "xref": "x",
          "y0": 8.8,
          "y1": 9.2,
          "yref": "y"
         },
         {
          "fillcolor": "rgb(214, 39, 40)",
          "line": {
           "width": 0
          },
          "opacity": 1,
          "type": "rect",
          "x0": "2018-07-14 0:08:00",
          "x1": "2018-07-14 0:09:25",
          "xref": "x",
          "y0": 8.8,
          "y1": 9.2,
          "yref": "y"
         },
         {
          "fillcolor": "rgb(148, 103, 189)",
          "line": {
           "width": 0
          },
          "opacity": 1,
          "type": "rect",
          "x0": "2018-07-14 0:05:33",
          "x1": "2018-07-14 0:06:44",
          "xref": "x",
          "y0": 8.8,
          "y1": 9.2,
          "yref": "y"
         },
         {
          "fillcolor": "rgb(140, 86, 75)",
          "line": {
           "width": 0
          },
          "opacity": 1,
          "type": "rect",
          "x0": "2018-07-14 0:00:14",
          "x1": "2018-07-14 0:00:20",
          "xref": "x",
          "y0": 8.8,
          "y1": 9.2,
          "yref": "y"
         },
         {
          "fillcolor": "rgb(227, 119, 194)",
          "line": {
           "width": 0
          },
          "opacity": 1,
          "type": "rect",
          "x0": "2018-07-14 0:13:03",
          "x1": "2018-07-14 0:13:50",
          "xref": "x",
          "y0": 8.8,
          "y1": 9.2,
          "yref": "y"
         },
         {
          "fillcolor": "rgb(127, 127, 127)",
          "line": {
           "width": 0
          },
          "opacity": 1,
          "type": "rect",
          "x0": "2018-07-14 0:01:03",
          "x1": "2018-07-14 0:01:40",
          "xref": "x",
          "y0": 8.8,
          "y1": 9.2,
          "yref": "y"
         },
         {
          "fillcolor": "rgb(188, 189, 34)",
          "line": {
           "width": 0
          },
          "opacity": 1,
          "type": "rect",
          "x0": "2018-07-14 0:02:09",
          "x1": "2018-07-14 0:03:35",
          "xref": "x",
          "y0": 8.8,
          "y1": 9.2,
          "yref": "y"
         },
         {
          "fillcolor": "rgb(23, 190, 207)",
          "line": {
           "width": 0
          },
          "opacity": 1,
          "type": "rect",
          "x0": "2018-07-14 0:04:04",
          "x1": "2018-07-14 0:05:20",
          "xref": "x",
          "y0": 8.8,
          "y1": 9.2,
          "yref": "y"
         },
         {
          "fillcolor": "rgb(255, 127, 14)",
          "line": {
           "width": 0
          },
          "opacity": 1,
          "type": "rect",
          "x0": "2018-07-14 0:05:20",
          "x1": "2018-07-14 0:05:33",
          "xref": "x",
          "y0": 8.8,
          "y1": 9.2,
          "yref": "y"
         },
         {
          "fillcolor": "rgb(31, 119, 180)",
          "line": {
           "width": 0
          },
          "opacity": 1,
          "type": "rect",
          "x0": "2018-07-14 0:08:00",
          "x1": "2018-07-14 0:09:18",
          "xref": "x",
          "y0": 7.8,
          "y1": 8.2,
          "yref": "y"
         },
         {
          "fillcolor": "rgb(44, 160, 44)",
          "line": {
           "width": 0
          },
          "opacity": 1,
          "type": "rect",
          "x0": "2018-07-14 0:09:18",
          "x1": "2018-07-14 0:09:46",
          "xref": "x",
          "y0": 7.8,
          "y1": 8.2,
          "yref": "y"
         },
         {
          "fillcolor": "rgb(214, 39, 40)",
          "line": {
           "width": 0
          },
          "opacity": 1,
          "type": "rect",
          "x0": "2018-07-14 0:06:29",
          "x1": "2018-07-14 0:08:00",
          "xref": "x",
          "y0": 7.8,
          "y1": 8.2,
          "yref": "y"
         },
         {
          "fillcolor": "rgb(148, 103, 189)",
          "line": {
           "width": 0
          },
          "opacity": 1,
          "type": "rect",
          "x0": "2018-07-14 0:00:46",
          "x1": "2018-07-14 0:02:07",
          "xref": "x",
          "y0": 7.8,
          "y1": 8.2,
          "yref": "y"
         },
         {
          "fillcolor": "rgb(140, 86, 75)",
          "line": {
           "width": 0
          },
          "opacity": 1,
          "type": "rect",
          "x0": "2018-07-14 0:04:23",
          "x1": "2018-07-14 0:04:45",
          "xref": "x",
          "y0": 7.8,
          "y1": 8.2,
          "yref": "y"
         },
         {
          "fillcolor": "rgb(227, 119, 194)",
          "line": {
           "width": 0
          },
          "opacity": 1,
          "type": "rect",
          "x0": "2018-07-14 0:04:21",
          "x1": "2018-07-14 0:04:23",
          "xref": "x",
          "y0": 7.8,
          "y1": 8.2,
          "yref": "y"
         },
         {
          "fillcolor": "rgb(127, 127, 127)",
          "line": {
           "width": 0
          },
          "opacity": 1,
          "type": "rect",
          "x0": "2018-07-14 0:00:00",
          "x1": "2018-07-14 0:00:46",
          "xref": "x",
          "y0": 7.8,
          "y1": 8.2,
          "yref": "y"
         },
         {
          "fillcolor": "rgb(188, 189, 34)",
          "line": {
           "width": 0
          },
          "opacity": 1,
          "type": "rect",
          "x0": "2018-07-14 0:03:35",
          "x1": "2018-07-14 0:04:21",
          "xref": "x",
          "y0": 7.8,
          "y1": 8.2,
          "yref": "y"
         },
         {
          "fillcolor": "rgb(23, 190, 207)",
          "line": {
           "width": 0
          },
          "opacity": 1,
          "type": "rect",
          "x0": "2018-07-14 0:05:20",
          "x1": "2018-07-14 0:06:29",
          "xref": "x",
          "y0": 7.8,
          "y1": 8.2,
          "yref": "y"
         },
         {
          "fillcolor": "rgb(255, 127, 14)",
          "line": {
           "width": 0
          },
          "opacity": 1,
          "type": "rect",
          "x0": "2018-07-14 0:02:07",
          "x1": "2018-07-14 0:03:32",
          "xref": "x",
          "y0": 7.8,
          "y1": 8.2,
          "yref": "y"
         },
         {
          "fillcolor": "rgb(31, 119, 180)",
          "line": {
           "width": 0
          },
          "opacity": 1,
          "type": "rect",
          "x0": "2018-07-14 0:09:18",
          "x1": "2018-07-14 0:09:27",
          "xref": "x",
          "y0": 6.8,
          "y1": 7.2,
          "yref": "y"
         },
         {
          "fillcolor": "rgb(44, 160, 44)",
          "line": {
           "width": 0
          },
          "opacity": 1,
          "type": "rect",
          "x0": "2018-07-14 0:02:09",
          "x1": "2018-07-14 0:03:39",
          "xref": "x",
          "y0": 6.8,
          "y1": 7.2,
          "yref": "y"
         },
         {
          "fillcolor": "rgb(214, 39, 40)",
          "line": {
           "width": 0
          },
          "opacity": 1,
          "type": "rect",
          "x0": "2018-07-14 0:11:01",
          "x1": "2018-07-14 0:12:15",
          "xref": "x",
          "y0": 6.8,
          "y1": 7.2,
          "yref": "y"
         },
         {
          "fillcolor": "rgb(148, 103, 189)",
          "line": {
           "width": 0
          },
          "opacity": 1,
          "type": "rect",
          "x0": "2018-07-14 0:03:39",
          "x1": "2018-07-14 0:05:14",
          "xref": "x",
          "y0": 6.8,
          "y1": 7.2,
          "yref": "y"
         },
         {
          "fillcolor": "rgb(140, 86, 75)",
          "line": {
           "width": 0
          },
          "opacity": 1,
          "type": "rect",
          "x0": "2018-07-14 0:00:00",
          "x1": "2018-07-14 0:00:14",
          "xref": "x",
          "y0": 6.8,
          "y1": 7.2,
          "yref": "y"
         },
         {
          "fillcolor": "rgb(227, 119, 194)",
          "line": {
           "width": 0
          },
          "opacity": 1,
          "type": "rect",
          "x0": "2018-07-14 0:00:14",
          "x1": "2018-07-14 0:01:38",
          "xref": "x",
          "y0": 6.8,
          "y1": 7.2,
          "yref": "y"
         },
         {
          "fillcolor": "rgb(127, 127, 127)",
          "line": {
           "width": 0
          },
          "opacity": 1,
          "type": "rect",
          "x0": "2018-07-14 0:05:14",
          "x1": "2018-07-14 0:05:27",
          "xref": "x",
          "y0": 6.8,
          "y1": 7.2,
          "yref": "y"
         },
         {
          "fillcolor": "rgb(188, 189, 34)",
          "line": {
           "width": 0
          },
          "opacity": 1,
          "type": "rect",
          "x0": "2018-07-14 0:01:38",
          "x1": "2018-07-14 0:02:09",
          "xref": "x",
          "y0": 6.8,
          "y1": 7.2,
          "yref": "y"
         },
         {
          "fillcolor": "rgb(23, 190, 207)",
          "line": {
           "width": 0
          },
          "opacity": 1,
          "type": "rect",
          "x0": "2018-07-14 0:09:27",
          "x1": "2018-07-14 0:10:52",
          "xref": "x",
          "y0": 6.8,
          "y1": 7.2,
          "yref": "y"
         },
         {
          "fillcolor": "rgb(255, 127, 14)",
          "line": {
           "width": 0
          },
          "opacity": 1,
          "type": "rect",
          "x0": "2018-07-14 0:05:33",
          "x1": "2018-07-14 0:06:34",
          "xref": "x",
          "y0": 6.8,
          "y1": 7.2,
          "yref": "y"
         },
         {
          "fillcolor": "rgb(31, 119, 180)",
          "line": {
           "width": 0
          },
          "opacity": 1,
          "type": "rect",
          "x0": "2018-07-14 0:09:46",
          "x1": "2018-07-14 0:10:22",
          "xref": "x",
          "y0": 5.8,
          "y1": 6.2,
          "yref": "y"
         },
         {
          "fillcolor": "rgb(44, 160, 44)",
          "line": {
           "width": 0
          },
          "opacity": 1,
          "type": "rect",
          "x0": "2018-07-14 0:05:05",
          "x1": "2018-07-14 0:06:14",
          "xref": "x",
          "y0": 5.8,
          "y1": 6.2,
          "yref": "y"
         },
         {
          "fillcolor": "rgb(214, 39, 40)",
          "line": {
           "width": 0
          },
          "opacity": 1,
          "type": "rect",
          "x0": "2018-07-14 0:10:22",
          "x1": "2018-07-14 0:11:01",
          "xref": "x",
          "y0": 5.8,
          "y1": 6.2,
          "yref": "y"
         },
         {
          "fillcolor": "rgb(148, 103, 189)",
          "line": {
           "width": 0
          },
          "opacity": 1,
          "type": "rect",
          "x0": "2018-07-14 0:11:01",
          "x1": "2018-07-14 0:12:39",
          "xref": "x",
          "y0": 5.8,
          "y1": 6.2,
          "yref": "y"
         },
         {
          "fillcolor": "rgb(140, 86, 75)",
          "line": {
           "width": 0
          },
          "opacity": 1,
          "type": "rect",
          "x0": "2018-07-14 0:07:45",
          "x1": "2018-07-14 0:08:11",
          "xref": "x",
          "y0": 5.8,
          "y1": 6.2,
          "yref": "y"
         },
         {
          "fillcolor": "rgb(227, 119, 194)",
          "line": {
           "width": 0
          },
          "opacity": 1,
          "type": "rect",
          "x0": "2018-07-14 0:08:11",
          "x1": "2018-07-14 0:09:46",
          "xref": "x",
          "y0": 5.8,
          "y1": 6.2,
          "yref": "y"
         },
         {
          "fillcolor": "rgb(127, 127, 127)",
          "line": {
           "width": 0
          },
          "opacity": 1,
          "type": "rect",
          "x0": "2018-07-14 0:01:40",
          "x1": "2018-07-14 0:02:41",
          "xref": "x",
          "y0": 5.8,
          "y1": 6.2,
          "yref": "y"
         },
         {
          "fillcolor": "rgb(188, 189, 34)",
          "line": {
           "width": 0
          },
          "opacity": 1,
          "type": "rect",
          "x0": "2018-07-14 0:13:48",
          "x1": "2018-07-14 0:15:07",
          "xref": "x",
          "y0": 5.8,
          "y1": 6.2,
          "yref": "y"
         },
         {
          "fillcolor": "rgb(23, 190, 207)",
          "line": {
           "width": 0
          },
          "opacity": 1,
          "type": "rect",
          "x0": "2018-07-14 0:06:29",
          "x1": "2018-07-14 0:07:45",
          "xref": "x",
          "y0": 5.8,
          "y1": 6.2,
          "yref": "y"
         },
         {
          "fillcolor": "rgb(255, 127, 14)",
          "line": {
           "width": 0
          },
          "opacity": 1,
          "type": "rect",
          "x0": "2018-07-14 0:16:50",
          "x1": "2018-07-14 0:17:42",
          "xref": "x",
          "y0": 5.8,
          "y1": 6.2,
          "yref": "y"
         },
         {
          "fillcolor": "rgb(31, 119, 180)",
          "line": {
           "width": 0
          },
          "opacity": 1,
          "type": "rect",
          "x0": "2018-07-14 0:10:22",
          "x1": "2018-07-14 0:11:11",
          "xref": "x",
          "y0": 4.8,
          "y1": 5.2,
          "yref": "y"
         },
         {
          "fillcolor": "rgb(44, 160, 44)",
          "line": {
           "width": 0
          },
          "opacity": 1,
          "type": "rect",
          "x0": "2018-07-14 0:03:39",
          "x1": "2018-07-14 0:04:54",
          "xref": "x",
          "y0": 4.8,
          "y1": 5.2,
          "yref": "y"
         },
         {
          "fillcolor": "rgb(214, 39, 40)",
          "line": {
           "width": 0
          },
          "opacity": 1,
          "type": "rect",
          "x0": "2018-07-14 0:19:26",
          "x1": "2018-07-14 0:19:59",
          "xref": "x",
          "y0": 4.8,
          "y1": 5.2,
          "yref": "y"
         },
         {
          "fillcolor": "rgb(148, 103, 189)",
          "line": {
           "width": 0
          },
          "opacity": 1,
          "type": "rect",
          "x0": "2018-07-14 0:06:44",
          "x1": "2018-07-14 0:08:23",
          "xref": "x",
          "y0": 4.8,
          "y1": 5.2,
          "yref": "y"
         },
         {
          "fillcolor": "rgb(140, 86, 75)",
          "line": {
           "width": 0
          },
          "opacity": 1,
          "type": "rect",
          "x0": "2018-07-14 0:08:23",
          "x1": "2018-07-14 0:09:32",
          "xref": "x",
          "y0": 4.8,
          "y1": 5.2,
          "yref": "y"
         },
         {
          "fillcolor": "rgb(227, 119, 194)",
          "line": {
           "width": 0
          },
          "opacity": 1,
          "type": "rect",
          "x0": "2018-07-14 0:14:55",
          "x1": "2018-07-14 0:15:01",
          "xref": "x",
          "y0": 4.8,
          "y1": 5.2,
          "yref": "y"
         },
         {
          "fillcolor": "rgb(127, 127, 127)",
          "line": {
           "width": 0
          },
          "opacity": 1,
          "type": "rect",
          "x0": "2018-07-14 0:15:44",
          "x1": "2018-07-14 0:16:39",
          "xref": "x",
          "y0": 4.8,
          "y1": 5.2,
          "yref": "y"
         },
         {
          "fillcolor": "rgb(188, 189, 34)",
          "line": {
           "width": 0
          },
          "opacity": 1,
          "type": "rect",
          "x0": "2018-07-14 0:05:35",
          "x1": "2018-07-14 0:06:07",
          "xref": "x",
          "y0": 4.8,
          "y1": 5.2,
          "yref": "y"
         },
         {
          "fillcolor": "rgb(23, 190, 207)",
          "line": {
           "width": 0
          },
          "opacity": 1,
          "type": "rect",
          "x0": "2018-07-14 0:13:12",
          "x1": "2018-07-14 0:13:38",
          "xref": "x",
          "y0": 4.8,
          "y1": 5.2,
          "yref": "y"
         },
         {
          "fillcolor": "rgb(255, 127, 14)",
          "line": {
           "width": 0
          },
          "opacity": 1,
          "type": "rect",
          "x0": "2018-07-14 0:17:42",
          "x1": "2018-07-14 0:19:12",
          "xref": "x",
          "y0": 4.8,
          "y1": 5.2,
          "yref": "y"
         },
         {
          "fillcolor": "rgb(31, 119, 180)",
          "line": {
           "width": 0
          },
          "opacity": 1,
          "type": "rect",
          "x0": "2018-07-14 0:11:11",
          "x1": "2018-07-14 0:11:22",
          "xref": "x",
          "y0": 3.8,
          "y1": 4.2,
          "yref": "y"
         },
         {
          "fillcolor": "rgb(44, 160, 44)",
          "line": {
           "width": 0
          },
          "opacity": 1,
          "type": "rect",
          "x0": "2018-07-14 0:12:29",
          "x1": "2018-07-14 0:13:15",
          "xref": "x",
          "y0": 3.8,
          "y1": 4.2,
          "yref": "y"
         },
         {
          "fillcolor": "rgb(214, 39, 40)",
          "line": {
           "width": 0
          },
          "opacity": 1,
          "type": "rect",
          "x0": "2018-07-14 0:16:50",
          "x1": "2018-07-14 0:17:00",
          "xref": "x",
          "y0": 3.8,
          "y1": 4.2,
          "yref": "y"
         },
         {
          "fillcolor": "rgb(148, 103, 189)",
          "line": {
           "width": 0
          },
          "opacity": 1,
          "type": "rect",
          "x0": "2018-07-14 0:17:00",
          "x1": "2018-07-14 0:17:43",
          "xref": "x",
          "y0": 3.8,
          "y1": 4.2,
          "yref": "y"
         },
         {
          "fillcolor": "rgb(140, 86, 75)",
          "line": {
           "width": 0
          },
          "opacity": 1,
          "type": "rect",
          "x0": "2018-07-14 0:06:27",
          "x1": "2018-07-14 0:07:28",
          "xref": "x",
          "y0": 3.8,
          "y1": 4.2,
          "yref": "y"
         },
         {
          "fillcolor": "rgb(227, 119, 194)",
          "line": {
           "width": 0
          },
          "opacity": 1,
          "type": "rect",
          "x0": "2018-07-14 0:05:35",
          "x1": "2018-07-14 0:06:27",
          "xref": "x",
          "y0": 3.8,
          "y1": 4.2,
          "yref": "y"
         },
         {
          "fillcolor": "rgb(127, 127, 127)",
          "line": {
           "width": 0
          },
          "opacity": 1,
          "type": "rect",
          "x0": "2018-07-14 0:09:11",
          "x1": "2018-07-14 0:09:32",
          "xref": "x",
          "y0": 3.8,
          "y1": 4.2,
          "yref": "y"
         },
         {
          "fillcolor": "rgb(188, 189, 34)",
          "line": {
           "width": 0
          },
          "opacity": 1,
          "type": "rect",
          "x0": "2018-07-14 0:04:21",
          "x1": "2018-07-14 0:05:35",
          "xref": "x",
          "y0": 3.8,
          "y1": 4.2,
          "yref": "y"
         },
         {
          "fillcolor": "rgb(23, 190, 207)",
          "line": {
           "width": 0
          },
          "opacity": 1,
          "type": "rect",
          "x0": "2018-07-14 0:07:45",
          "x1": "2018-07-14 0:08:36",
          "xref": "x",
          "y0": 3.8,
          "y1": 4.2,
          "yref": "y"
         },
         {
          "fillcolor": "rgb(255, 127, 14)",
          "line": {
           "width": 0
          },
          "opacity": 1,
          "type": "rect",
          "x0": "2018-07-14 0:16:03",
          "x1": "2018-07-14 0:16:50",
          "xref": "x",
          "y0": 3.8,
          "y1": 4.2,
          "yref": "y"
         },
         {
          "fillcolor": "rgb(31, 119, 180)",
          "line": {
           "width": 0
          },
          "opacity": 1,
          "type": "rect",
          "x0": "2018-07-14 0:12:29",
          "x1": "2018-07-14 0:13:31",
          "xref": "x",
          "y0": 2.8,
          "y1": 3.2,
          "yref": "y"
         },
         {
          "fillcolor": "rgb(44, 160, 44)",
          "line": {
           "width": 0
          },
          "opacity": 1,
          "type": "rect",
          "x0": "2018-07-14 0:11:43",
          "x1": "2018-07-14 0:12:29",
          "xref": "x",
          "y0": 2.8,
          "y1": 3.2,
          "yref": "y"
         },
         {
          "fillcolor": "rgb(214, 39, 40)",
          "line": {
           "width": 0
          },
          "opacity": 1,
          "type": "rect",
          "x0": "2018-07-14 0:17:12",
          "x1": "2018-07-14 0:18:41",
          "xref": "x",
          "y0": 2.8,
          "y1": 3.2,
          "yref": "y"
         },
         {
          "fillcolor": "rgb(148, 103, 189)",
          "line": {
           "width": 0
          },
          "opacity": 1,
          "type": "rect",
          "x0": "2018-07-14 0:08:23",
          "x1": "2018-07-14 0:08:32",
          "xref": "x",
          "y0": 2.8,
          "y1": 3.2,
          "yref": "y"
         },
         {
          "fillcolor": "rgb(140, 86, 75)",
          "line": {
           "width": 0
          },
          "opacity": 1,
          "type": "rect",
          "x0": "2018-07-14 0:14:55",
          "x1": "2018-07-14 0:15:48",
          "xref": "x",
          "y0": 2.8,
          "y1": 3.2,
          "yref": "y"
         },
         {
          "fillcolor": "rgb(227, 119, 194)",
          "line": {
           "width": 0
          },
          "opacity": 1,
          "type": "rect",
          "x0": "2018-07-14 0:13:50",
          "x1": "2018-07-14 0:14:55",
          "xref": "x",
          "y0": 2.8,
          "y1": 3.2,
          "yref": "y"
         },
         {
          "fillcolor": "rgb(127, 127, 127)",
          "line": {
           "width": 0
          },
          "opacity": 1,
          "type": "rect",
          "x0": "2018-07-14 0:08:39",
          "x1": "2018-07-14 0:09:11",
          "xref": "x",
          "y0": 2.8,
          "y1": 3.2,
          "yref": "y"
         },
         {
          "fillcolor": "rgb(188, 189, 34)",
          "line": {
           "width": 0
          },
          "opacity": 1,
          "type": "rect",
          "x0": "2018-07-14 0:06:07",
          "x1": "2018-07-14 0:07:35",
          "xref": "x",
          "y0": 2.8,
          "y1": 3.2,
          "yref": "y"
         },
         {
          "fillcolor": "rgb(23, 190, 207)",
          "line": {
           "width": 0
          },
          "opacity": 1,
          "type": "rect",
          "x0": "2018-07-14 0:11:03",
          "x1": "2018-07-14 0:11:43",
          "xref": "x",
          "y0": 2.8,
          "y1": 3.2,
          "yref": "y"
         },
         {
          "fillcolor": "rgb(255, 127, 14)",
          "line": {
           "width": 0
          },
          "opacity": 1,
          "type": "rect",
          "x0": "2018-07-14 0:08:32",
          "x1": "2018-07-14 0:08:39",
          "xref": "x",
          "y0": 2.8,
          "y1": 3.2,
          "yref": "y"
         },
         {
          "fillcolor": "rgb(31, 119, 180)",
          "line": {
           "width": 0
          },
          "opacity": 1,
          "type": "rect",
          "x0": "2018-07-14 0:15:44",
          "x1": "2018-07-14 0:16:40",
          "xref": "x",
          "y0": 1.8,
          "y1": 2.2,
          "yref": "y"
         },
         {
          "fillcolor": "rgb(44, 160, 44)",
          "line": {
           "width": 0
          },
          "opacity": 1,
          "type": "rect",
          "x0": "2018-07-14 0:17:12",
          "x1": "2018-07-14 0:18:24",
          "xref": "x",
          "y0": 1.8,
          "y1": 2.2,
          "yref": "y"
         },
         {
          "fillcolor": "rgb(214, 39, 40)",
          "line": {
           "width": 0
          },
          "opacity": 1,
          "type": "rect",
          "x0": "2018-07-14 0:17:00",
          "x1": "2018-07-14 0:17:12",
          "xref": "x",
          "y0": 1.8,
          "y1": 2.2,
          "yref": "y"
         },
         {
          "fillcolor": "rgb(148, 103, 189)",
          "line": {
           "width": 0
          },
          "opacity": 1,
          "type": "rect",
          "x0": "2018-07-14 0:09:24",
          "x1": "2018-07-14 0:10:49",
          "xref": "x",
          "y0": 1.8,
          "y1": 2.2,
          "yref": "y"
         },
         {
          "fillcolor": "rgb(140, 86, 75)",
          "line": {
           "width": 0
          },
          "opacity": 1,
          "type": "rect",
          "x0": "2018-07-14 0:10:49",
          "x1": "2018-07-14 0:11:38",
          "xref": "x",
          "y0": 1.8,
          "y1": 2.2,
          "yref": "y"
         },
         {
          "fillcolor": "rgb(227, 119, 194)",
          "line": {
           "width": 0
          },
          "opacity": 1,
          "type": "rect",
          "x0": "2018-07-14 0:18:24",
          "x1": "2018-07-14 0:18:49",
          "xref": "x",
          "y0": 1.8,
          "y1": 2.2,
          "yref": "y"
         },
         {
          "fillcolor": "rgb(127, 127, 127)",
          "line": {
           "width": 0
          },
          "opacity": 1,
          "type": "rect",
          "x0": "2018-07-14 0:15:14",
          "x1": "2018-07-14 0:15:44",
          "xref": "x",
          "y0": 1.8,
          "y1": 2.2,
          "yref": "y"
         },
         {
          "fillcolor": "rgb(188, 189, 34)",
          "line": {
           "width": 0
          },
          "opacity": 1,
          "type": "rect",
          "x0": "2018-07-14 0:13:12",
          "x1": "2018-07-14 0:13:48",
          "xref": "x",
          "y0": 1.8,
          "y1": 2.2,
          "yref": "y"
         },
         {
          "fillcolor": "rgb(23, 190, 207)",
          "line": {
           "width": 0
          },
          "opacity": 1,
          "type": "rect",
          "x0": "2018-07-14 0:11:43",
          "x1": "2018-07-14 0:13:12",
          "xref": "x",
          "y0": 1.8,
          "y1": 2.2,
          "yref": "y"
         },
         {
          "fillcolor": "rgb(255, 127, 14)",
          "line": {
           "width": 0
          },
          "opacity": 1,
          "type": "rect",
          "x0": "2018-07-14 0:19:12",
          "x1": "2018-07-14 0:19:57",
          "xref": "x",
          "y0": 1.8,
          "y1": 2.2,
          "yref": "y"
         },
         {
          "fillcolor": "rgb(31, 119, 180)",
          "line": {
           "width": 0
          },
          "opacity": 1,
          "type": "rect",
          "x0": "2018-07-14 0:16:40",
          "x1": "2018-07-14 0:17:24",
          "xref": "x",
          "y0": 0.8,
          "y1": 1.2,
          "yref": "y"
         },
         {
          "fillcolor": "rgb(44, 160, 44)",
          "line": {
           "width": 0
          },
          "opacity": 1,
          "type": "rect",
          "x0": "2018-07-14 0:18:38",
          "x1": "2018-07-14 0:19:08",
          "xref": "x",
          "y0": 0.8,
          "y1": 1.2,
          "yref": "y"
         },
         {
          "fillcolor": "rgb(214, 39, 40)",
          "line": {
           "width": 0
          },
          "opacity": 1,
          "type": "rect",
          "x0": "2018-07-14 0:12:15",
          "x1": "2018-07-14 0:13:45",
          "xref": "x",
          "y0": 0.8,
          "y1": 1.2,
          "yref": "y"
         },
         {
          "fillcolor": "rgb(148, 103, 189)",
          "line": {
           "width": 0
          },
          "opacity": 1,
          "type": "rect",
          "x0": "2018-07-14 0:08:32",
          "x1": "2018-07-14 0:09:24",
          "xref": "x",
          "y0": 0.8,
          "y1": 1.2,
          "yref": "y"
         },
         {
          "fillcolor": "rgb(140, 86, 75)",
          "line": {
           "width": 0
          },
          "opacity": 1,
          "type": "rect",
          "x0": "2018-07-14 0:10:28",
          "x1": "2018-07-14 0:10:49",
          "xref": "x",
          "y0": 0.8,
          "y1": 1.2,
          "yref": "y"
         },
         {
          "fillcolor": "rgb(227, 119, 194)",
          "line": {
           "width": 0
          },
          "opacity": 1,
          "type": "rect",
          "x0": "2018-07-14 0:10:49",
          "x1": "2018-07-14 0:11:37",
          "xref": "x",
          "y0": 0.8,
          "y1": 1.2,
          "yref": "y"
         },
         {
          "fillcolor": "rgb(127, 127, 127)",
          "line": {
           "width": 0
          },
          "opacity": 1,
          "type": "rect",
          "x0": "2018-07-14 0:13:45",
          "x1": "2018-07-14 0:15:14",
          "xref": "x",
          "y0": 0.8,
          "y1": 1.2,
          "yref": "y"
         },
         {
          "fillcolor": "rgb(188, 189, 34)",
          "line": {
           "width": 0
          },
          "opacity": 1,
          "type": "rect",
          "x0": "2018-07-14 0:07:35",
          "x1": "2018-07-14 0:07:54",
          "xref": "x",
          "y0": 0.8,
          "y1": 1.2,
          "yref": "y"
         },
         {
          "fillcolor": "rgb(23, 190, 207)",
          "line": {
           "width": 0
          },
          "opacity": 1,
          "type": "rect",
          "x0": "2018-07-14 0:17:24",
          "x1": "2018-07-14 0:18:38",
          "xref": "x",
          "y0": 0.8,
          "y1": 1.2,
          "yref": "y"
         },
         {
          "fillcolor": "rgb(255, 127, 14)",
          "line": {
           "width": 0
          },
          "opacity": 1,
          "type": "rect",
          "x0": "2018-07-14 0:09:24",
          "x1": "2018-07-14 0:10:28",
          "xref": "x",
          "y0": 0.8,
          "y1": 1.2,
          "yref": "y"
         },
         {
          "fillcolor": "rgb(31, 119, 180)",
          "line": {
           "width": 0
          },
          "opacity": 1,
          "type": "rect",
          "x0": "2018-07-14 0:17:24",
          "x1": "2018-07-14 0:17:45",
          "xref": "x",
          "y0": -0.2,
          "y1": 0.2,
          "yref": "y"
         },
         {
          "fillcolor": "rgb(44, 160, 44)",
          "line": {
           "width": 0
          },
          "opacity": 1,
          "type": "rect",
          "x0": "2018-07-14 0:04:54",
          "x1": "2018-07-14 0:05:05",
          "xref": "x",
          "y0": -0.2,
          "y1": 0.2,
          "yref": "y"
         },
         {
          "fillcolor": "rgb(214, 39, 40)",
          "line": {
           "width": 0
          },
          "opacity": 1,
          "type": "rect",
          "x0": "2018-07-14 0:18:41",
          "x1": "2018-07-14 0:19:26",
          "xref": "x",
          "y0": -0.2,
          "y1": 0.2,
          "yref": "y"
         },
         {
          "fillcolor": "rgb(148, 103, 189)",
          "line": {
           "width": 0
          },
          "opacity": 1,
          "type": "rect",
          "x0": "2018-07-14 0:16:03",
          "x1": "2018-07-14 0:16:25",
          "xref": "x",
          "y0": -0.2,
          "y1": 0.2,
          "yref": "y"
         },
         {
          "fillcolor": "rgb(140, 86, 75)",
          "line": {
           "width": 0
          },
          "opacity": 1,
          "type": "rect",
          "x0": "2018-07-14 0:13:35",
          "x1": "2018-07-14 0:14:47",
          "xref": "x",
          "y0": -0.2,
          "y1": 0.2,
          "yref": "y"
         },
         {
          "fillcolor": "rgb(227, 119, 194)",
          "line": {
           "width": 0
          },
          "opacity": 1,
          "type": "rect",
          "x0": "2018-07-14 0:11:51",
          "x1": "2018-07-14 0:13:03",
          "xref": "x",
          "y0": -0.2,
          "y1": 0.2,
          "yref": "y"
         },
         {
          "fillcolor": "rgb(127, 127, 127)",
          "line": {
           "width": 0
          },
          "opacity": 1,
          "type": "rect",
          "x0": "2018-07-14 0:13:03",
          "x1": "2018-07-14 0:13:35",
          "xref": "x",
          "y0": -0.2,
          "y1": 0.2,
          "yref": "y"
         },
         {
          "fillcolor": "rgb(188, 189, 34)",
          "line": {
           "width": 0
          },
          "opacity": 1,
          "type": "rect",
          "x0": "2018-07-14 0:11:03",
          "x1": "2018-07-14 0:11:51",
          "xref": "x",
          "y0": -0.2,
          "y1": 0.2,
          "yref": "y"
         },
         {
          "fillcolor": "rgb(23, 190, 207)",
          "line": {
           "width": 0
          },
          "opacity": 1,
          "type": "rect",
          "x0": "2018-07-14 0:10:52",
          "x1": "2018-07-14 0:11:03",
          "xref": "x",
          "y0": -0.2,
          "y1": 0.2,
          "yref": "y"
         },
         {
          "fillcolor": "rgb(255, 127, 14)",
          "line": {
           "width": 0
          },
          "opacity": 1,
          "type": "rect",
          "x0": "2018-07-14 0:14:47",
          "x1": "2018-07-14 0:16:03",
          "xref": "x",
          "y0": -0.2,
          "y1": 0.2,
          "yref": "y"
         }
        ],
        "showlegend": true,
        "title": {
         "text": "Job shop Schedule"
        },
        "width": 900,
        "xaxis": {
         "rangeselector": {
          "buttons": [
           {
            "count": 7,
            "label": "1w",
            "step": "day",
            "stepmode": "backward"
           },
           {
            "count": 1,
            "label": "1m",
            "step": "month",
            "stepmode": "backward"
           },
           {
            "count": 6,
            "label": "6m",
            "step": "month",
            "stepmode": "backward"
           },
           {
            "count": 1,
            "label": "YTD",
            "step": "year",
            "stepmode": "todate"
           },
           {
            "count": 1,
            "label": "1y",
            "step": "year",
            "stepmode": "backward"
           },
           {
            "step": "all"
           }
          ]
         },
         "showgrid": true,
         "type": "date",
         "zeroline": false
        },
        "yaxis": {
         "autorange": false,
         "range": [
          -1,
          11
         ],
         "showgrid": false,
         "ticktext": [
          "Machine 10",
          "Machine 9",
          "Machine 8",
          "Machine 7",
          "Machine 6",
          "Machine 5",
          "Machine 4",
          "Machine 3",
          "Machine 2",
          "Machine 1"
         ],
         "tickvals": [
          0,
          1,
          2,
          3,
          4,
          5,
          6,
          7,
          8,
          9
         ],
         "zeroline": false
        }
       }
      },
      "text/html": [
       "<div>\n",
       "        \n",
       "        \n",
       "            <div id=\"11517fb0-7476-48a5-8c5f-674c8cc113a3\" class=\"plotly-graph-div\" style=\"height:600px; width:900px;\"></div>\n",
       "            <script type=\"text/javascript\">\n",
       "                require([\"plotly\"], function(Plotly) {\n",
       "                    window.PLOTLYENV=window.PLOTLYENV || {};\n",
       "                    window.PLOTLYENV.BASE_URL='https://plot.ly';\n",
       "                    \n",
       "                if (document.getElementById(\"11517fb0-7476-48a5-8c5f-674c8cc113a3\")) {\n",
       "                    Plotly.newPlot(\n",
       "                        '11517fb0-7476-48a5-8c5f-674c8cc113a3',\n",
       "                        [{\"marker\": {\"color\": \"white\"}, \"name\": \"\", \"type\": \"scatter\", \"uid\": \"a191855b-8582-457f-9c56-9971442cc551\", \"x\": [\"2018-07-14 0:03:35\", \"2018-07-14 0:04:04\"], \"y\": [9, 9]}, {\"marker\": {\"color\": \"white\"}, \"name\": \"\", \"type\": \"scatter\", \"uid\": \"268d280c-5259-4bbf-a715-368d32b4a705\", \"x\": [\"2018-07-14 0:00:20\", \"2018-07-14 0:01:03\"], \"y\": [9, 9]}, {\"marker\": {\"color\": \"white\"}, \"name\": \"\", \"type\": \"scatter\", \"uid\": \"be1aae0d-adca-4c03-bb87-e080d33d3348\", \"x\": [\"2018-07-14 0:08:00\", \"2018-07-14 0:09:25\"], \"y\": [9, 9]}, {\"marker\": {\"color\": \"white\"}, \"name\": \"\", \"type\": \"scatter\", \"uid\": \"0da41569-c6c5-49ef-ad2e-7b602bafd591\", \"x\": [\"2018-07-14 0:05:33\", \"2018-07-14 0:06:44\"], \"y\": [9, 9]}, {\"marker\": {\"color\": \"white\"}, \"name\": \"\", \"type\": \"scatter\", \"uid\": \"a79a6125-c99d-4e1d-9d8c-8da4b5710564\", \"x\": [\"2018-07-14 0:00:14\", \"2018-07-14 0:00:20\"], \"y\": [9, 9]}, {\"marker\": {\"color\": \"white\"}, \"name\": \"\", \"type\": \"scatter\", \"uid\": \"5ae69094-ffe1-4b04-9e3b-85683910e0f3\", \"x\": [\"2018-07-14 0:13:03\", \"2018-07-14 0:13:50\"], \"y\": [9, 9]}, {\"marker\": {\"color\": \"white\"}, \"name\": \"\", \"type\": \"scatter\", \"uid\": \"14ff634a-92e9-4a27-90cc-60e981311960\", \"x\": [\"2018-07-14 0:01:03\", \"2018-07-14 0:01:40\"], \"y\": [9, 9]}, {\"marker\": {\"color\": \"white\"}, \"name\": \"\", \"type\": \"scatter\", \"uid\": \"831d9222-35b1-4707-859a-1a7983ef010b\", \"x\": [\"2018-07-14 0:02:09\", \"2018-07-14 0:03:35\"], \"y\": [9, 9]}, {\"marker\": {\"color\": \"white\"}, \"name\": \"\", \"type\": \"scatter\", \"uid\": \"1848c5c8-9326-4201-b1ed-58a7d6d5eb53\", \"x\": [\"2018-07-14 0:04:04\", \"2018-07-14 0:05:20\"], \"y\": [9, 9]}, {\"marker\": {\"color\": \"white\"}, \"name\": \"\", \"type\": \"scatter\", \"uid\": \"ae5f01ee-660a-47b6-8dd4-68e5b161f7f4\", \"x\": [\"2018-07-14 0:05:20\", \"2018-07-14 0:05:33\"], \"y\": [9, 9]}, {\"marker\": {\"color\": \"white\"}, \"name\": \"\", \"type\": \"scatter\", \"uid\": \"73623a0b-6ecf-4f72-a4b8-20281a54646f\", \"x\": [\"2018-07-14 0:08:00\", \"2018-07-14 0:09:18\"], \"y\": [8, 8]}, {\"marker\": {\"color\": \"white\"}, \"name\": \"\", \"type\": \"scatter\", \"uid\": \"e489e717-bf6e-44a2-a588-5d90732e970d\", \"x\": [\"2018-07-14 0:09:18\", \"2018-07-14 0:09:46\"], \"y\": [8, 8]}, {\"marker\": {\"color\": \"white\"}, \"name\": \"\", \"type\": \"scatter\", \"uid\": \"e378723c-519b-4995-a16e-627a5de2f1e8\", \"x\": [\"2018-07-14 0:06:29\", \"2018-07-14 0:08:00\"], \"y\": [8, 8]}, {\"marker\": {\"color\": \"white\"}, \"name\": \"\", \"type\": \"scatter\", \"uid\": \"6f85b060-6365-40f3-a0ed-526a6d62e104\", \"x\": [\"2018-07-14 0:00:46\", \"2018-07-14 0:02:07\"], \"y\": [8, 8]}, {\"marker\": {\"color\": \"white\"}, \"name\": \"\", \"type\": \"scatter\", \"uid\": \"278c6b26-7d6f-44ba-adce-d94f7b6962c2\", \"x\": [\"2018-07-14 0:04:23\", \"2018-07-14 0:04:45\"], \"y\": [8, 8]}, {\"marker\": {\"color\": \"white\"}, \"name\": \"\", \"type\": \"scatter\", \"uid\": \"262a5564-b9fd-4fa8-a861-80c53fb0f3d4\", \"x\": [\"2018-07-14 0:04:21\", \"2018-07-14 0:04:23\"], \"y\": [8, 8]}, {\"marker\": {\"color\": \"white\"}, \"name\": \"\", \"type\": \"scatter\", \"uid\": \"0da873e1-7a02-42fc-8e6a-2cb3eb37a6ea\", \"x\": [\"2018-07-14 0:00:00\", \"2018-07-14 0:00:46\"], \"y\": [8, 8]}, {\"marker\": {\"color\": \"white\"}, \"name\": \"\", \"type\": \"scatter\", \"uid\": \"0c7c2e8c-ec93-4976-9544-17f686132324\", \"x\": [\"2018-07-14 0:03:35\", \"2018-07-14 0:04:21\"], \"y\": [8, 8]}, {\"marker\": {\"color\": \"white\"}, \"name\": \"\", \"type\": \"scatter\", \"uid\": \"e801d537-b0b9-4703-bd7d-aa34a5a0ec3a\", \"x\": [\"2018-07-14 0:05:20\", \"2018-07-14 0:06:29\"], \"y\": [8, 8]}, {\"marker\": {\"color\": \"white\"}, \"name\": \"\", \"type\": \"scatter\", \"uid\": \"dc35b2ed-171a-4720-b547-e6447421188f\", \"x\": [\"2018-07-14 0:02:07\", \"2018-07-14 0:03:32\"], \"y\": [8, 8]}, {\"marker\": {\"color\": \"white\"}, \"name\": \"\", \"type\": \"scatter\", \"uid\": \"afbcd07c-6196-4b4f-9607-c6fefb3013c0\", \"x\": [\"2018-07-14 0:09:18\", \"2018-07-14 0:09:27\"], \"y\": [7, 7]}, {\"marker\": {\"color\": \"white\"}, \"name\": \"\", \"type\": \"scatter\", \"uid\": \"d9d0c660-fbf8-4d47-afa6-f7c1040f548b\", \"x\": [\"2018-07-14 0:02:09\", \"2018-07-14 0:03:39\"], \"y\": [7, 7]}, {\"marker\": {\"color\": \"white\"}, \"name\": \"\", \"type\": \"scatter\", \"uid\": \"add95bf6-6526-48a5-a8d7-7987e521986b\", \"x\": [\"2018-07-14 0:11:01\", \"2018-07-14 0:12:15\"], \"y\": [7, 7]}, {\"marker\": {\"color\": \"white\"}, \"name\": \"\", \"type\": \"scatter\", \"uid\": \"2fcc99a8-dd63-40a5-956e-13899760da4d\", \"x\": [\"2018-07-14 0:03:39\", \"2018-07-14 0:05:14\"], \"y\": [7, 7]}, {\"marker\": {\"color\": \"white\"}, \"name\": \"\", \"type\": \"scatter\", \"uid\": \"194e8dea-04fe-49e5-8928-92838fdccfd0\", \"x\": [\"2018-07-14 0:00:00\", \"2018-07-14 0:00:14\"], \"y\": [7, 7]}, {\"marker\": {\"color\": \"white\"}, \"name\": \"\", \"type\": \"scatter\", \"uid\": \"16f7a54f-03be-428e-baa9-1e4b45a016bb\", \"x\": [\"2018-07-14 0:00:14\", \"2018-07-14 0:01:38\"], \"y\": [7, 7]}, {\"marker\": {\"color\": \"white\"}, \"name\": \"\", \"type\": \"scatter\", \"uid\": \"ee1f931f-73da-4ad9-8448-9b130a12a348\", \"x\": [\"2018-07-14 0:05:14\", \"2018-07-14 0:05:27\"], \"y\": [7, 7]}, {\"marker\": {\"color\": \"white\"}, \"name\": \"\", \"type\": \"scatter\", \"uid\": \"32940aca-fda1-4e1f-9c7e-6e82050a6ffd\", \"x\": [\"2018-07-14 0:01:38\", \"2018-07-14 0:02:09\"], \"y\": [7, 7]}, {\"marker\": {\"color\": \"white\"}, \"name\": \"\", \"type\": \"scatter\", \"uid\": \"3e25a201-3501-47d0-a9ce-3b0f158ee44a\", \"x\": [\"2018-07-14 0:09:27\", \"2018-07-14 0:10:52\"], \"y\": [7, 7]}, {\"marker\": {\"color\": \"white\"}, \"name\": \"\", \"type\": \"scatter\", \"uid\": \"a125aa03-15a3-478a-a49a-f086237cbd00\", \"x\": [\"2018-07-14 0:05:33\", \"2018-07-14 0:06:34\"], \"y\": [7, 7]}, {\"marker\": {\"color\": \"white\"}, \"name\": \"\", \"type\": \"scatter\", \"uid\": \"143860ba-26ea-499f-bdbd-ee3dab9efc23\", \"x\": [\"2018-07-14 0:09:46\", \"2018-07-14 0:10:22\"], \"y\": [6, 6]}, {\"marker\": {\"color\": \"white\"}, \"name\": \"\", \"type\": \"scatter\", \"uid\": \"44769b62-abcc-435f-aafd-fe4cf2543028\", \"x\": [\"2018-07-14 0:05:05\", \"2018-07-14 0:06:14\"], \"y\": [6, 6]}, {\"marker\": {\"color\": \"white\"}, \"name\": \"\", \"type\": \"scatter\", \"uid\": \"89880b1b-892a-4901-bfbd-947e07a8b811\", \"x\": [\"2018-07-14 0:10:22\", \"2018-07-14 0:11:01\"], \"y\": [6, 6]}, {\"marker\": {\"color\": \"white\"}, \"name\": \"\", \"type\": \"scatter\", \"uid\": \"408526a4-3622-4cfb-9656-e1c3634aa58d\", \"x\": [\"2018-07-14 0:11:01\", \"2018-07-14 0:12:39\"], \"y\": [6, 6]}, {\"marker\": {\"color\": \"white\"}, \"name\": \"\", \"type\": \"scatter\", \"uid\": \"2fa4de28-22fa-42b2-b813-8c081e5ce661\", \"x\": [\"2018-07-14 0:07:45\", \"2018-07-14 0:08:11\"], \"y\": [6, 6]}, {\"marker\": {\"color\": \"white\"}, \"name\": \"\", \"type\": \"scatter\", \"uid\": \"d962f100-40ac-4a29-8546-761d4acae3bf\", \"x\": [\"2018-07-14 0:08:11\", \"2018-07-14 0:09:46\"], \"y\": [6, 6]}, {\"marker\": {\"color\": \"white\"}, \"name\": \"\", \"type\": \"scatter\", \"uid\": \"c5f0c99c-4cf2-4ea1-9c17-bb5ffd6a7a4c\", \"x\": [\"2018-07-14 0:01:40\", \"2018-07-14 0:02:41\"], \"y\": [6, 6]}, {\"marker\": {\"color\": \"white\"}, \"name\": \"\", \"type\": \"scatter\", \"uid\": \"5d465f95-4bdf-4f0a-8dd0-125d63c80ffb\", \"x\": [\"2018-07-14 0:13:48\", \"2018-07-14 0:15:07\"], \"y\": [6, 6]}, {\"marker\": {\"color\": \"white\"}, \"name\": \"\", \"type\": \"scatter\", \"uid\": \"54661825-550c-4c45-b5ce-8ad2419bc7d0\", \"x\": [\"2018-07-14 0:06:29\", \"2018-07-14 0:07:45\"], \"y\": [6, 6]}, {\"marker\": {\"color\": \"white\"}, \"name\": \"\", \"type\": \"scatter\", \"uid\": \"f169534c-c11e-478e-ab1e-06c00a61c096\", \"x\": [\"2018-07-14 0:16:50\", \"2018-07-14 0:17:42\"], \"y\": [6, 6]}, {\"marker\": {\"color\": \"white\"}, \"name\": \"\", \"type\": \"scatter\", \"uid\": \"33f3b95a-0862-4c67-bca3-8e4b6b60a250\", \"x\": [\"2018-07-14 0:10:22\", \"2018-07-14 0:11:11\"], \"y\": [5, 5]}, {\"marker\": {\"color\": \"white\"}, \"name\": \"\", \"type\": \"scatter\", \"uid\": \"c4422e88-c3fc-4a0d-b9f6-3cad93d0d661\", \"x\": [\"2018-07-14 0:03:39\", \"2018-07-14 0:04:54\"], \"y\": [5, 5]}, {\"marker\": {\"color\": \"white\"}, \"name\": \"\", \"type\": \"scatter\", \"uid\": \"ec17151a-08f9-4364-b0b2-9a4ee31add20\", \"x\": [\"2018-07-14 0:19:26\", \"2018-07-14 0:19:59\"], \"y\": [5, 5]}, {\"marker\": {\"color\": \"white\"}, \"name\": \"\", \"type\": \"scatter\", \"uid\": \"2a0ef036-d207-42c8-89b5-51b15ad66245\", \"x\": [\"2018-07-14 0:06:44\", \"2018-07-14 0:08:23\"], \"y\": [5, 5]}, {\"marker\": {\"color\": \"white\"}, \"name\": \"\", \"type\": \"scatter\", \"uid\": \"5869e0e8-5f48-4e9f-8187-87db6f18280d\", \"x\": [\"2018-07-14 0:08:23\", \"2018-07-14 0:09:32\"], \"y\": [5, 5]}, {\"marker\": {\"color\": \"white\"}, \"name\": \"\", \"type\": \"scatter\", \"uid\": \"56546593-5fb4-42ff-995d-639bc0e5dfb0\", \"x\": [\"2018-07-14 0:14:55\", \"2018-07-14 0:15:01\"], \"y\": [5, 5]}, {\"marker\": {\"color\": \"white\"}, \"name\": \"\", \"type\": \"scatter\", \"uid\": \"660ed336-5ed9-40c6-9431-e7012efef13e\", \"x\": [\"2018-07-14 0:15:44\", \"2018-07-14 0:16:39\"], \"y\": [5, 5]}, {\"marker\": {\"color\": \"white\"}, \"name\": \"\", \"type\": \"scatter\", \"uid\": \"d071f3fa-a6fa-4f18-96dc-a9dc8ceb83e9\", \"x\": [\"2018-07-14 0:05:35\", \"2018-07-14 0:06:07\"], \"y\": [5, 5]}, {\"marker\": {\"color\": \"white\"}, \"name\": \"\", \"type\": \"scatter\", \"uid\": \"f4e18fdf-e87a-4799-8ba8-5eaeb8e45fb5\", \"x\": [\"2018-07-14 0:13:12\", \"2018-07-14 0:13:38\"], \"y\": [5, 5]}, {\"marker\": {\"color\": \"white\"}, \"name\": \"\", \"type\": \"scatter\", \"uid\": \"960f6468-1f2c-47c9-9dc6-88819029f602\", \"x\": [\"2018-07-14 0:17:42\", \"2018-07-14 0:19:12\"], \"y\": [5, 5]}, {\"marker\": {\"color\": \"white\"}, \"name\": \"\", \"type\": \"scatter\", \"uid\": \"996b7bca-8da3-4e70-8283-05d69e4ec357\", \"x\": [\"2018-07-14 0:11:11\", \"2018-07-14 0:11:22\"], \"y\": [4, 4]}, {\"marker\": {\"color\": \"white\"}, \"name\": \"\", \"type\": \"scatter\", \"uid\": \"195ceb34-7841-4545-ae93-2943849fb1df\", \"x\": [\"2018-07-14 0:12:29\", \"2018-07-14 0:13:15\"], \"y\": [4, 4]}, {\"marker\": {\"color\": \"white\"}, \"name\": \"\", \"type\": \"scatter\", \"uid\": \"20cce127-e554-41b0-96f2-633111d67283\", \"x\": [\"2018-07-14 0:16:50\", \"2018-07-14 0:17:00\"], \"y\": [4, 4]}, {\"marker\": {\"color\": \"white\"}, \"name\": \"\", \"type\": \"scatter\", \"uid\": \"00a1f7b1-447a-4736-aa49-e9a3259aca6a\", \"x\": [\"2018-07-14 0:17:00\", \"2018-07-14 0:17:43\"], \"y\": [4, 4]}, {\"marker\": {\"color\": \"white\"}, \"name\": \"\", \"type\": \"scatter\", \"uid\": \"64586f17-318a-4382-879b-17c9ab793bec\", \"x\": [\"2018-07-14 0:06:27\", \"2018-07-14 0:07:28\"], \"y\": [4, 4]}, {\"marker\": {\"color\": \"white\"}, \"name\": \"\", \"type\": \"scatter\", \"uid\": \"56d60a3f-e185-47a5-972d-181da16c79a7\", \"x\": [\"2018-07-14 0:05:35\", \"2018-07-14 0:06:27\"], \"y\": [4, 4]}, {\"marker\": {\"color\": \"white\"}, \"name\": \"\", \"type\": \"scatter\", \"uid\": \"f2a24d8d-aced-418c-bd6d-17a3fade4030\", \"x\": [\"2018-07-14 0:09:11\", \"2018-07-14 0:09:32\"], \"y\": [4, 4]}, {\"marker\": {\"color\": \"white\"}, \"name\": \"\", \"type\": \"scatter\", \"uid\": \"741fa417-04d7-410f-b785-72f62f50660a\", \"x\": [\"2018-07-14 0:04:21\", \"2018-07-14 0:05:35\"], \"y\": [4, 4]}, {\"marker\": {\"color\": \"white\"}, \"name\": \"\", \"type\": \"scatter\", \"uid\": \"aba5b6af-40a0-46d7-90f5-866cf294e6ab\", \"x\": [\"2018-07-14 0:07:45\", \"2018-07-14 0:08:36\"], \"y\": [4, 4]}, {\"marker\": {\"color\": \"white\"}, \"name\": \"\", \"type\": \"scatter\", \"uid\": \"2105b21b-eb51-4e23-b29f-75dc488b3b0c\", \"x\": [\"2018-07-14 0:16:03\", \"2018-07-14 0:16:50\"], \"y\": [4, 4]}, {\"marker\": {\"color\": \"white\"}, \"name\": \"\", \"type\": \"scatter\", \"uid\": \"40bdf34d-c5d9-4622-a31f-03cd2d3182e5\", \"x\": [\"2018-07-14 0:12:29\", \"2018-07-14 0:13:31\"], \"y\": [3, 3]}, {\"marker\": {\"color\": \"white\"}, \"name\": \"\", \"type\": \"scatter\", \"uid\": \"f4630433-d4af-4fee-ad17-1f3df9c0d086\", \"x\": [\"2018-07-14 0:11:43\", \"2018-07-14 0:12:29\"], \"y\": [3, 3]}, {\"marker\": {\"color\": \"white\"}, \"name\": \"\", \"type\": \"scatter\", \"uid\": \"970feec1-5a3d-406a-9449-660a907cf603\", \"x\": [\"2018-07-14 0:17:12\", \"2018-07-14 0:18:41\"], \"y\": [3, 3]}, {\"marker\": {\"color\": \"white\"}, \"name\": \"\", \"type\": \"scatter\", \"uid\": \"eeae9ed2-66fb-412e-bb2d-c319c6e6d97f\", \"x\": [\"2018-07-14 0:08:23\", \"2018-07-14 0:08:32\"], \"y\": [3, 3]}, {\"marker\": {\"color\": \"white\"}, \"name\": \"\", \"type\": \"scatter\", \"uid\": \"0fd3381f-3d09-401e-a7fc-08ffd6b0b708\", \"x\": [\"2018-07-14 0:14:55\", \"2018-07-14 0:15:48\"], \"y\": [3, 3]}, {\"marker\": {\"color\": \"white\"}, \"name\": \"\", \"type\": \"scatter\", \"uid\": \"e6d5de6c-4078-44ab-b27f-46ff13ac7307\", \"x\": [\"2018-07-14 0:13:50\", \"2018-07-14 0:14:55\"], \"y\": [3, 3]}, {\"marker\": {\"color\": \"white\"}, \"name\": \"\", \"type\": \"scatter\", \"uid\": \"7289840f-3865-462f-ad95-91eae2785ab9\", \"x\": [\"2018-07-14 0:08:39\", \"2018-07-14 0:09:11\"], \"y\": [3, 3]}, {\"marker\": {\"color\": \"white\"}, \"name\": \"\", \"type\": \"scatter\", \"uid\": \"6313e5d6-6a78-4228-ad36-ab92730aca8b\", \"x\": [\"2018-07-14 0:06:07\", \"2018-07-14 0:07:35\"], \"y\": [3, 3]}, {\"marker\": {\"color\": \"white\"}, \"name\": \"\", \"type\": \"scatter\", \"uid\": \"7f2de86b-0972-4c5d-abb1-7be9c5b53998\", \"x\": [\"2018-07-14 0:11:03\", \"2018-07-14 0:11:43\"], \"y\": [3, 3]}, {\"marker\": {\"color\": \"white\"}, \"name\": \"\", \"type\": \"scatter\", \"uid\": \"d97e24d3-595a-4ebc-81ac-3e873084337c\", \"x\": [\"2018-07-14 0:08:32\", \"2018-07-14 0:08:39\"], \"y\": [3, 3]}, {\"marker\": {\"color\": \"white\"}, \"name\": \"\", \"type\": \"scatter\", \"uid\": \"1ca87ef0-28b7-48ff-9617-09df499087c2\", \"x\": [\"2018-07-14 0:15:44\", \"2018-07-14 0:16:40\"], \"y\": [2, 2]}, {\"marker\": {\"color\": \"white\"}, \"name\": \"\", \"type\": \"scatter\", \"uid\": \"55821dbd-0cf1-4a6a-907f-939c1b4a8994\", \"x\": [\"2018-07-14 0:17:12\", \"2018-07-14 0:18:24\"], \"y\": [2, 2]}, {\"marker\": {\"color\": \"white\"}, \"name\": \"\", \"type\": \"scatter\", \"uid\": \"f7e349ff-0d49-4bea-a420-1141524b3498\", \"x\": [\"2018-07-14 0:17:00\", \"2018-07-14 0:17:12\"], \"y\": [2, 2]}, {\"marker\": {\"color\": \"white\"}, \"name\": \"\", \"type\": \"scatter\", \"uid\": \"e7353b02-de6a-4417-aac1-9ad3cd9a15c5\", \"x\": [\"2018-07-14 0:09:24\", \"2018-07-14 0:10:49\"], \"y\": [2, 2]}, {\"marker\": {\"color\": \"white\"}, \"name\": \"\", \"type\": \"scatter\", \"uid\": \"c80a9507-bc49-46a3-a2b9-c4adfebba6f5\", \"x\": [\"2018-07-14 0:10:49\", \"2018-07-14 0:11:38\"], \"y\": [2, 2]}, {\"marker\": {\"color\": \"white\"}, \"name\": \"\", \"type\": \"scatter\", \"uid\": \"55c7c9d1-7e1c-42ac-86d4-3bd3d59d4c1e\", \"x\": [\"2018-07-14 0:18:24\", \"2018-07-14 0:18:49\"], \"y\": [2, 2]}, {\"marker\": {\"color\": \"white\"}, \"name\": \"\", \"type\": \"scatter\", \"uid\": \"fbf6adef-8d18-45cd-92d5-38298a604512\", \"x\": [\"2018-07-14 0:15:14\", \"2018-07-14 0:15:44\"], \"y\": [2, 2]}, {\"marker\": {\"color\": \"white\"}, \"name\": \"\", \"type\": \"scatter\", \"uid\": \"ded47df3-02a1-4f62-9bdc-8fcb430781b2\", \"x\": [\"2018-07-14 0:13:12\", \"2018-07-14 0:13:48\"], \"y\": [2, 2]}, {\"marker\": {\"color\": \"white\"}, \"name\": \"\", \"type\": \"scatter\", \"uid\": \"0546836a-a90a-4fec-94d5-0767b9ae44c1\", \"x\": [\"2018-07-14 0:11:43\", \"2018-07-14 0:13:12\"], \"y\": [2, 2]}, {\"marker\": {\"color\": \"white\"}, \"name\": \"\", \"type\": \"scatter\", \"uid\": \"808ca85a-ef1d-4331-a071-7b84b4c1a8fe\", \"x\": [\"2018-07-14 0:19:12\", \"2018-07-14 0:19:57\"], \"y\": [2, 2]}, {\"marker\": {\"color\": \"white\"}, \"name\": \"\", \"type\": \"scatter\", \"uid\": \"972200a5-ad72-4ab3-98e3-152a4e39fe30\", \"x\": [\"2018-07-14 0:16:40\", \"2018-07-14 0:17:24\"], \"y\": [1, 1]}, {\"marker\": {\"color\": \"white\"}, \"name\": \"\", \"type\": \"scatter\", \"uid\": \"fb2018f6-517c-4b7a-80bb-ac5b17f450f4\", \"x\": [\"2018-07-14 0:18:38\", \"2018-07-14 0:19:08\"], \"y\": [1, 1]}, {\"marker\": {\"color\": \"white\"}, \"name\": \"\", \"type\": \"scatter\", \"uid\": \"269c440e-e7a6-4eda-9f0a-a8407c1567a9\", \"x\": [\"2018-07-14 0:12:15\", \"2018-07-14 0:13:45\"], \"y\": [1, 1]}, {\"marker\": {\"color\": \"white\"}, \"name\": \"\", \"type\": \"scatter\", \"uid\": \"567aff62-574d-4365-99ae-8d951fffd9be\", \"x\": [\"2018-07-14 0:08:32\", \"2018-07-14 0:09:24\"], \"y\": [1, 1]}, {\"marker\": {\"color\": \"white\"}, \"name\": \"\", \"type\": \"scatter\", \"uid\": \"f2db6361-0339-4117-aabe-8ef4ed0b6f40\", \"x\": [\"2018-07-14 0:10:28\", \"2018-07-14 0:10:49\"], \"y\": [1, 1]}, {\"marker\": {\"color\": \"white\"}, \"name\": \"\", \"type\": \"scatter\", \"uid\": \"77431024-74b1-4ba0-b182-47ebcfd9e81f\", \"x\": [\"2018-07-14 0:10:49\", \"2018-07-14 0:11:37\"], \"y\": [1, 1]}, {\"marker\": {\"color\": \"white\"}, \"name\": \"\", \"type\": \"scatter\", \"uid\": \"b0cb638a-3593-4951-8945-31e86bded669\", \"x\": [\"2018-07-14 0:13:45\", \"2018-07-14 0:15:14\"], \"y\": [1, 1]}, {\"marker\": {\"color\": \"white\"}, \"name\": \"\", \"type\": \"scatter\", \"uid\": \"1631f35b-ce39-4554-94e9-e06a525ee807\", \"x\": [\"2018-07-14 0:07:35\", \"2018-07-14 0:07:54\"], \"y\": [1, 1]}, {\"marker\": {\"color\": \"white\"}, \"name\": \"\", \"type\": \"scatter\", \"uid\": \"84db3305-52f9-426b-b7e6-199858914212\", \"x\": [\"2018-07-14 0:17:24\", \"2018-07-14 0:18:38\"], \"y\": [1, 1]}, {\"marker\": {\"color\": \"white\"}, \"name\": \"\", \"type\": \"scatter\", \"uid\": \"8b107076-2476-4734-981e-6eff08971676\", \"x\": [\"2018-07-14 0:09:24\", \"2018-07-14 0:10:28\"], \"y\": [1, 1]}, {\"marker\": {\"color\": \"white\"}, \"name\": \"\", \"type\": \"scatter\", \"uid\": \"6ac2cade-9166-41a7-9db4-4465fdc05b88\", \"x\": [\"2018-07-14 0:17:24\", \"2018-07-14 0:17:45\"], \"y\": [0, 0]}, {\"marker\": {\"color\": \"white\"}, \"name\": \"\", \"type\": \"scatter\", \"uid\": \"be9c720a-5f58-4ea1-8b94-0a061157908f\", \"x\": [\"2018-07-14 0:04:54\", \"2018-07-14 0:05:05\"], \"y\": [0, 0]}, {\"marker\": {\"color\": \"white\"}, \"name\": \"\", \"type\": \"scatter\", \"uid\": \"1d6b980e-eb2e-4410-b604-b1b80930734f\", \"x\": [\"2018-07-14 0:18:41\", \"2018-07-14 0:19:26\"], \"y\": [0, 0]}, {\"marker\": {\"color\": \"white\"}, \"name\": \"\", \"type\": \"scatter\", \"uid\": \"95c81128-0dfd-4057-b2d4-6ff2d6a4e269\", \"x\": [\"2018-07-14 0:16:03\", \"2018-07-14 0:16:25\"], \"y\": [0, 0]}, {\"marker\": {\"color\": \"white\"}, \"name\": \"\", \"type\": \"scatter\", \"uid\": \"2f10655f-3f25-4b20-85d6-8f57652d21d3\", \"x\": [\"2018-07-14 0:13:35\", \"2018-07-14 0:14:47\"], \"y\": [0, 0]}, {\"marker\": {\"color\": \"white\"}, \"name\": \"\", \"type\": \"scatter\", \"uid\": \"8cc45a17-11a3-4751-8a83-b472fd4d77e8\", \"x\": [\"2018-07-14 0:11:51\", \"2018-07-14 0:13:03\"], \"y\": [0, 0]}, {\"marker\": {\"color\": \"white\"}, \"name\": \"\", \"type\": \"scatter\", \"uid\": \"6daaa378-b5a4-40e5-9750-0143c7617f4c\", \"x\": [\"2018-07-14 0:13:03\", \"2018-07-14 0:13:35\"], \"y\": [0, 0]}, {\"marker\": {\"color\": \"white\"}, \"name\": \"\", \"type\": \"scatter\", \"uid\": \"d818ca45-7405-48bb-b819-cacf4b58dac2\", \"x\": [\"2018-07-14 0:11:03\", \"2018-07-14 0:11:51\"], \"y\": [0, 0]}, {\"marker\": {\"color\": \"white\"}, \"name\": \"\", \"type\": \"scatter\", \"uid\": \"bd98c4da-3e01-4aed-b9e5-348eacd7b430\", \"x\": [\"2018-07-14 0:10:52\", \"2018-07-14 0:11:03\"], \"y\": [0, 0]}, {\"marker\": {\"color\": \"white\"}, \"name\": \"\", \"type\": \"scatter\", \"uid\": \"30b0cc0a-5d30-4c7a-a08e-0188ece10960\", \"x\": [\"2018-07-14 0:14:47\", \"2018-07-14 0:16:03\"], \"y\": [0, 0]}, {\"hoverinfo\": \"none\", \"marker\": {\"color\": \"rgb(31, 119, 180)\", \"size\": 1}, \"name\": \"Job 1\", \"showlegend\": true, \"type\": \"scatter\", \"uid\": \"1711a5a1-71f5-421e-bbf8-eae44b85d6de\", \"x\": [\"2018-07-14 0:14:47\", \"2018-07-14 0:14:47\"], \"y\": [0, 0]}, {\"hoverinfo\": \"none\", \"marker\": {\"color\": \"rgb(255, 127, 14)\", \"size\": 1}, \"name\": \"Job 10\", \"showlegend\": true, \"type\": \"scatter\", \"uid\": \"d88a1895-88e2-4cc3-a244-2033911f5e1d\", \"x\": [\"2018-07-14 0:14:47\", \"2018-07-14 0:14:47\"], \"y\": [1, 1]}, {\"hoverinfo\": \"none\", \"marker\": {\"color\": \"rgb(44, 160, 44)\", \"size\": 1}, \"name\": \"Job 2\", \"showlegend\": true, \"type\": \"scatter\", \"uid\": \"937ff73d-02bb-4c94-8337-1ff25b28a1c0\", \"x\": [\"2018-07-14 0:14:47\", \"2018-07-14 0:14:47\"], \"y\": [2, 2]}, {\"hoverinfo\": \"none\", \"marker\": {\"color\": \"rgb(214, 39, 40)\", \"size\": 1}, \"name\": \"Job 3\", \"showlegend\": true, \"type\": \"scatter\", \"uid\": \"f1006d9f-6c3b-4479-b37d-f8ee15fa8559\", \"x\": [\"2018-07-14 0:14:47\", \"2018-07-14 0:14:47\"], \"y\": [3, 3]}, {\"hoverinfo\": \"none\", \"marker\": {\"color\": \"rgb(148, 103, 189)\", \"size\": 1}, \"name\": \"Job 4\", \"showlegend\": true, \"type\": \"scatter\", \"uid\": \"c8007092-85da-4f0e-a3e6-9e418604cc8f\", \"x\": [\"2018-07-14 0:14:47\", \"2018-07-14 0:14:47\"], \"y\": [4, 4]}, {\"hoverinfo\": \"none\", \"marker\": {\"color\": \"rgb(140, 86, 75)\", \"size\": 1}, \"name\": \"Job 5\", \"showlegend\": true, \"type\": \"scatter\", \"uid\": \"304a6fc8-2aee-4676-bae0-703944956e91\", \"x\": [\"2018-07-14 0:14:47\", \"2018-07-14 0:14:47\"], \"y\": [5, 5]}, {\"hoverinfo\": \"none\", \"marker\": {\"color\": \"rgb(227, 119, 194)\", \"size\": 1}, \"name\": \"Job 6\", \"showlegend\": true, \"type\": \"scatter\", \"uid\": \"5bd44930-7e7f-4dac-bd69-42af4afe78b9\", \"x\": [\"2018-07-14 0:14:47\", \"2018-07-14 0:14:47\"], \"y\": [6, 6]}, {\"hoverinfo\": \"none\", \"marker\": {\"color\": \"rgb(127, 127, 127)\", \"size\": 1}, \"name\": \"Job 7\", \"showlegend\": true, \"type\": \"scatter\", \"uid\": \"84cd0582-2f2a-4728-b600-54904e719ea9\", \"x\": [\"2018-07-14 0:14:47\", \"2018-07-14 0:14:47\"], \"y\": [7, 7]}, {\"hoverinfo\": \"none\", \"marker\": {\"color\": \"rgb(188, 189, 34)\", \"size\": 1}, \"name\": \"Job 8\", \"showlegend\": true, \"type\": \"scatter\", \"uid\": \"5c30765c-c698-45f5-8bbc-b5e9b29fba3c\", \"x\": [\"2018-07-14 0:14:47\", \"2018-07-14 0:14:47\"], \"y\": [8, 8]}, {\"hoverinfo\": \"none\", \"marker\": {\"color\": \"rgb(23, 190, 207)\", \"size\": 1}, \"name\": \"Job 9\", \"showlegend\": true, \"type\": \"scatter\", \"uid\": \"1fecc783-0dde-46ac-a63e-97d9b563456b\", \"x\": [\"2018-07-14 0:14:47\", \"2018-07-14 0:14:47\"], \"y\": [9, 9]}],\n",
       "                        {\"height\": 600, \"hovermode\": \"closest\", \"shapes\": [{\"fillcolor\": \"rgb(31, 119, 180)\", \"line\": {\"width\": 0}, \"opacity\": 1, \"type\": \"rect\", \"x0\": \"2018-07-14 0:03:35\", \"x1\": \"2018-07-14 0:04:04\", \"xref\": \"x\", \"y0\": 8.8, \"y1\": 9.2, \"yref\": \"y\"}, {\"fillcolor\": \"rgb(44, 160, 44)\", \"line\": {\"width\": 0}, \"opacity\": 1, \"type\": \"rect\", \"x0\": \"2018-07-14 0:00:20\", \"x1\": \"2018-07-14 0:01:03\", \"xref\": \"x\", \"y0\": 8.8, \"y1\": 9.2, \"yref\": \"y\"}, {\"fillcolor\": \"rgb(214, 39, 40)\", \"line\": {\"width\": 0}, \"opacity\": 1, \"type\": \"rect\", \"x0\": \"2018-07-14 0:08:00\", \"x1\": \"2018-07-14 0:09:25\", \"xref\": \"x\", \"y0\": 8.8, \"y1\": 9.2, \"yref\": \"y\"}, {\"fillcolor\": \"rgb(148, 103, 189)\", \"line\": {\"width\": 0}, \"opacity\": 1, \"type\": \"rect\", \"x0\": \"2018-07-14 0:05:33\", \"x1\": \"2018-07-14 0:06:44\", \"xref\": \"x\", \"y0\": 8.8, \"y1\": 9.2, \"yref\": \"y\"}, {\"fillcolor\": \"rgb(140, 86, 75)\", \"line\": {\"width\": 0}, \"opacity\": 1, \"type\": \"rect\", \"x0\": \"2018-07-14 0:00:14\", \"x1\": \"2018-07-14 0:00:20\", \"xref\": \"x\", \"y0\": 8.8, \"y1\": 9.2, \"yref\": \"y\"}, {\"fillcolor\": \"rgb(227, 119, 194)\", \"line\": {\"width\": 0}, \"opacity\": 1, \"type\": \"rect\", \"x0\": \"2018-07-14 0:13:03\", \"x1\": \"2018-07-14 0:13:50\", \"xref\": \"x\", \"y0\": 8.8, \"y1\": 9.2, \"yref\": \"y\"}, {\"fillcolor\": \"rgb(127, 127, 127)\", \"line\": {\"width\": 0}, \"opacity\": 1, \"type\": \"rect\", \"x0\": \"2018-07-14 0:01:03\", \"x1\": \"2018-07-14 0:01:40\", \"xref\": \"x\", \"y0\": 8.8, \"y1\": 9.2, \"yref\": \"y\"}, {\"fillcolor\": \"rgb(188, 189, 34)\", \"line\": {\"width\": 0}, \"opacity\": 1, \"type\": \"rect\", \"x0\": \"2018-07-14 0:02:09\", \"x1\": \"2018-07-14 0:03:35\", \"xref\": \"x\", \"y0\": 8.8, \"y1\": 9.2, \"yref\": \"y\"}, {\"fillcolor\": \"rgb(23, 190, 207)\", \"line\": {\"width\": 0}, \"opacity\": 1, \"type\": \"rect\", \"x0\": \"2018-07-14 0:04:04\", \"x1\": \"2018-07-14 0:05:20\", \"xref\": \"x\", \"y0\": 8.8, \"y1\": 9.2, \"yref\": \"y\"}, {\"fillcolor\": \"rgb(255, 127, 14)\", \"line\": {\"width\": 0}, \"opacity\": 1, \"type\": \"rect\", \"x0\": \"2018-07-14 0:05:20\", \"x1\": \"2018-07-14 0:05:33\", \"xref\": \"x\", \"y0\": 8.8, \"y1\": 9.2, \"yref\": \"y\"}, {\"fillcolor\": \"rgb(31, 119, 180)\", \"line\": {\"width\": 0}, \"opacity\": 1, \"type\": \"rect\", \"x0\": \"2018-07-14 0:08:00\", \"x1\": \"2018-07-14 0:09:18\", \"xref\": \"x\", \"y0\": 7.8, \"y1\": 8.2, \"yref\": \"y\"}, {\"fillcolor\": \"rgb(44, 160, 44)\", \"line\": {\"width\": 0}, \"opacity\": 1, \"type\": \"rect\", \"x0\": \"2018-07-14 0:09:18\", \"x1\": \"2018-07-14 0:09:46\", \"xref\": \"x\", \"y0\": 7.8, \"y1\": 8.2, \"yref\": \"y\"}, {\"fillcolor\": \"rgb(214, 39, 40)\", \"line\": {\"width\": 0}, \"opacity\": 1, \"type\": \"rect\", \"x0\": \"2018-07-14 0:06:29\", \"x1\": \"2018-07-14 0:08:00\", \"xref\": \"x\", \"y0\": 7.8, \"y1\": 8.2, \"yref\": \"y\"}, {\"fillcolor\": \"rgb(148, 103, 189)\", \"line\": {\"width\": 0}, \"opacity\": 1, \"type\": \"rect\", \"x0\": \"2018-07-14 0:00:46\", \"x1\": \"2018-07-14 0:02:07\", \"xref\": \"x\", \"y0\": 7.8, \"y1\": 8.2, \"yref\": \"y\"}, {\"fillcolor\": \"rgb(140, 86, 75)\", \"line\": {\"width\": 0}, \"opacity\": 1, \"type\": \"rect\", \"x0\": \"2018-07-14 0:04:23\", \"x1\": \"2018-07-14 0:04:45\", \"xref\": \"x\", \"y0\": 7.8, \"y1\": 8.2, \"yref\": \"y\"}, {\"fillcolor\": \"rgb(227, 119, 194)\", \"line\": {\"width\": 0}, \"opacity\": 1, \"type\": \"rect\", \"x0\": \"2018-07-14 0:04:21\", \"x1\": \"2018-07-14 0:04:23\", \"xref\": \"x\", \"y0\": 7.8, \"y1\": 8.2, \"yref\": \"y\"}, {\"fillcolor\": \"rgb(127, 127, 127)\", \"line\": {\"width\": 0}, \"opacity\": 1, \"type\": \"rect\", \"x0\": \"2018-07-14 0:00:00\", \"x1\": \"2018-07-14 0:00:46\", \"xref\": \"x\", \"y0\": 7.8, \"y1\": 8.2, \"yref\": \"y\"}, {\"fillcolor\": \"rgb(188, 189, 34)\", \"line\": {\"width\": 0}, \"opacity\": 1, \"type\": \"rect\", \"x0\": \"2018-07-14 0:03:35\", \"x1\": \"2018-07-14 0:04:21\", \"xref\": \"x\", \"y0\": 7.8, \"y1\": 8.2, \"yref\": \"y\"}, {\"fillcolor\": \"rgb(23, 190, 207)\", \"line\": {\"width\": 0}, \"opacity\": 1, \"type\": \"rect\", \"x0\": \"2018-07-14 0:05:20\", \"x1\": \"2018-07-14 0:06:29\", \"xref\": \"x\", \"y0\": 7.8, \"y1\": 8.2, \"yref\": \"y\"}, {\"fillcolor\": \"rgb(255, 127, 14)\", \"line\": {\"width\": 0}, \"opacity\": 1, \"type\": \"rect\", \"x0\": \"2018-07-14 0:02:07\", \"x1\": \"2018-07-14 0:03:32\", \"xref\": \"x\", \"y0\": 7.8, \"y1\": 8.2, \"yref\": \"y\"}, {\"fillcolor\": \"rgb(31, 119, 180)\", \"line\": {\"width\": 0}, \"opacity\": 1, \"type\": \"rect\", \"x0\": \"2018-07-14 0:09:18\", \"x1\": \"2018-07-14 0:09:27\", \"xref\": \"x\", \"y0\": 6.8, \"y1\": 7.2, \"yref\": \"y\"}, {\"fillcolor\": \"rgb(44, 160, 44)\", \"line\": {\"width\": 0}, \"opacity\": 1, \"type\": \"rect\", \"x0\": \"2018-07-14 0:02:09\", \"x1\": \"2018-07-14 0:03:39\", \"xref\": \"x\", \"y0\": 6.8, \"y1\": 7.2, \"yref\": \"y\"}, {\"fillcolor\": \"rgb(214, 39, 40)\", \"line\": {\"width\": 0}, \"opacity\": 1, \"type\": \"rect\", \"x0\": \"2018-07-14 0:11:01\", \"x1\": \"2018-07-14 0:12:15\", \"xref\": \"x\", \"y0\": 6.8, \"y1\": 7.2, \"yref\": \"y\"}, {\"fillcolor\": \"rgb(148, 103, 189)\", \"line\": {\"width\": 0}, \"opacity\": 1, \"type\": \"rect\", \"x0\": \"2018-07-14 0:03:39\", \"x1\": \"2018-07-14 0:05:14\", \"xref\": \"x\", \"y0\": 6.8, \"y1\": 7.2, \"yref\": \"y\"}, {\"fillcolor\": \"rgb(140, 86, 75)\", \"line\": {\"width\": 0}, \"opacity\": 1, \"type\": \"rect\", \"x0\": \"2018-07-14 0:00:00\", \"x1\": \"2018-07-14 0:00:14\", \"xref\": \"x\", \"y0\": 6.8, \"y1\": 7.2, \"yref\": \"y\"}, {\"fillcolor\": \"rgb(227, 119, 194)\", \"line\": {\"width\": 0}, \"opacity\": 1, \"type\": \"rect\", \"x0\": \"2018-07-14 0:00:14\", \"x1\": \"2018-07-14 0:01:38\", \"xref\": \"x\", \"y0\": 6.8, \"y1\": 7.2, \"yref\": \"y\"}, {\"fillcolor\": \"rgb(127, 127, 127)\", \"line\": {\"width\": 0}, \"opacity\": 1, \"type\": \"rect\", \"x0\": \"2018-07-14 0:05:14\", \"x1\": \"2018-07-14 0:05:27\", \"xref\": \"x\", \"y0\": 6.8, \"y1\": 7.2, \"yref\": \"y\"}, {\"fillcolor\": \"rgb(188, 189, 34)\", \"line\": {\"width\": 0}, \"opacity\": 1, \"type\": \"rect\", \"x0\": \"2018-07-14 0:01:38\", \"x1\": \"2018-07-14 0:02:09\", \"xref\": \"x\", \"y0\": 6.8, \"y1\": 7.2, \"yref\": \"y\"}, {\"fillcolor\": \"rgb(23, 190, 207)\", \"line\": {\"width\": 0}, \"opacity\": 1, \"type\": \"rect\", \"x0\": \"2018-07-14 0:09:27\", \"x1\": \"2018-07-14 0:10:52\", \"xref\": \"x\", \"y0\": 6.8, \"y1\": 7.2, \"yref\": \"y\"}, {\"fillcolor\": \"rgb(255, 127, 14)\", \"line\": {\"width\": 0}, \"opacity\": 1, \"type\": \"rect\", \"x0\": \"2018-07-14 0:05:33\", \"x1\": \"2018-07-14 0:06:34\", \"xref\": \"x\", \"y0\": 6.8, \"y1\": 7.2, \"yref\": \"y\"}, {\"fillcolor\": \"rgb(31, 119, 180)\", \"line\": {\"width\": 0}, \"opacity\": 1, \"type\": \"rect\", \"x0\": \"2018-07-14 0:09:46\", \"x1\": \"2018-07-14 0:10:22\", \"xref\": \"x\", \"y0\": 5.8, \"y1\": 6.2, \"yref\": \"y\"}, {\"fillcolor\": \"rgb(44, 160, 44)\", \"line\": {\"width\": 0}, \"opacity\": 1, \"type\": \"rect\", \"x0\": \"2018-07-14 0:05:05\", \"x1\": \"2018-07-14 0:06:14\", \"xref\": \"x\", \"y0\": 5.8, \"y1\": 6.2, \"yref\": \"y\"}, {\"fillcolor\": \"rgb(214, 39, 40)\", \"line\": {\"width\": 0}, \"opacity\": 1, \"type\": \"rect\", \"x0\": \"2018-07-14 0:10:22\", \"x1\": \"2018-07-14 0:11:01\", \"xref\": \"x\", \"y0\": 5.8, \"y1\": 6.2, \"yref\": \"y\"}, {\"fillcolor\": \"rgb(148, 103, 189)\", \"line\": {\"width\": 0}, \"opacity\": 1, \"type\": \"rect\", \"x0\": \"2018-07-14 0:11:01\", \"x1\": \"2018-07-14 0:12:39\", \"xref\": \"x\", \"y0\": 5.8, \"y1\": 6.2, \"yref\": \"y\"}, {\"fillcolor\": \"rgb(140, 86, 75)\", \"line\": {\"width\": 0}, \"opacity\": 1, \"type\": \"rect\", \"x0\": \"2018-07-14 0:07:45\", \"x1\": \"2018-07-14 0:08:11\", \"xref\": \"x\", \"y0\": 5.8, \"y1\": 6.2, \"yref\": \"y\"}, {\"fillcolor\": \"rgb(227, 119, 194)\", \"line\": {\"width\": 0}, \"opacity\": 1, \"type\": \"rect\", \"x0\": \"2018-07-14 0:08:11\", \"x1\": \"2018-07-14 0:09:46\", \"xref\": \"x\", \"y0\": 5.8, \"y1\": 6.2, \"yref\": \"y\"}, {\"fillcolor\": \"rgb(127, 127, 127)\", \"line\": {\"width\": 0}, \"opacity\": 1, \"type\": \"rect\", \"x0\": \"2018-07-14 0:01:40\", \"x1\": \"2018-07-14 0:02:41\", \"xref\": \"x\", \"y0\": 5.8, \"y1\": 6.2, \"yref\": \"y\"}, {\"fillcolor\": \"rgb(188, 189, 34)\", \"line\": {\"width\": 0}, \"opacity\": 1, \"type\": \"rect\", \"x0\": \"2018-07-14 0:13:48\", \"x1\": \"2018-07-14 0:15:07\", \"xref\": \"x\", \"y0\": 5.8, \"y1\": 6.2, \"yref\": \"y\"}, {\"fillcolor\": \"rgb(23, 190, 207)\", \"line\": {\"width\": 0}, \"opacity\": 1, \"type\": \"rect\", \"x0\": \"2018-07-14 0:06:29\", \"x1\": \"2018-07-14 0:07:45\", \"xref\": \"x\", \"y0\": 5.8, \"y1\": 6.2, \"yref\": \"y\"}, {\"fillcolor\": \"rgb(255, 127, 14)\", \"line\": {\"width\": 0}, \"opacity\": 1, \"type\": \"rect\", \"x0\": \"2018-07-14 0:16:50\", \"x1\": \"2018-07-14 0:17:42\", \"xref\": \"x\", \"y0\": 5.8, \"y1\": 6.2, \"yref\": \"y\"}, {\"fillcolor\": \"rgb(31, 119, 180)\", \"line\": {\"width\": 0}, \"opacity\": 1, \"type\": \"rect\", \"x0\": \"2018-07-14 0:10:22\", \"x1\": \"2018-07-14 0:11:11\", \"xref\": \"x\", \"y0\": 4.8, \"y1\": 5.2, \"yref\": \"y\"}, {\"fillcolor\": \"rgb(44, 160, 44)\", \"line\": {\"width\": 0}, \"opacity\": 1, \"type\": \"rect\", \"x0\": \"2018-07-14 0:03:39\", \"x1\": \"2018-07-14 0:04:54\", \"xref\": \"x\", \"y0\": 4.8, \"y1\": 5.2, \"yref\": \"y\"}, {\"fillcolor\": \"rgb(214, 39, 40)\", \"line\": {\"width\": 0}, \"opacity\": 1, \"type\": \"rect\", \"x0\": \"2018-07-14 0:19:26\", \"x1\": \"2018-07-14 0:19:59\", \"xref\": \"x\", \"y0\": 4.8, \"y1\": 5.2, \"yref\": \"y\"}, {\"fillcolor\": \"rgb(148, 103, 189)\", \"line\": {\"width\": 0}, \"opacity\": 1, \"type\": \"rect\", \"x0\": \"2018-07-14 0:06:44\", \"x1\": \"2018-07-14 0:08:23\", \"xref\": \"x\", \"y0\": 4.8, \"y1\": 5.2, \"yref\": \"y\"}, {\"fillcolor\": \"rgb(140, 86, 75)\", \"line\": {\"width\": 0}, \"opacity\": 1, \"type\": \"rect\", \"x0\": \"2018-07-14 0:08:23\", \"x1\": \"2018-07-14 0:09:32\", \"xref\": \"x\", \"y0\": 4.8, \"y1\": 5.2, \"yref\": \"y\"}, {\"fillcolor\": \"rgb(227, 119, 194)\", \"line\": {\"width\": 0}, \"opacity\": 1, \"type\": \"rect\", \"x0\": \"2018-07-14 0:14:55\", \"x1\": \"2018-07-14 0:15:01\", \"xref\": \"x\", \"y0\": 4.8, \"y1\": 5.2, \"yref\": \"y\"}, {\"fillcolor\": \"rgb(127, 127, 127)\", \"line\": {\"width\": 0}, \"opacity\": 1, \"type\": \"rect\", \"x0\": \"2018-07-14 0:15:44\", \"x1\": \"2018-07-14 0:16:39\", \"xref\": \"x\", \"y0\": 4.8, \"y1\": 5.2, \"yref\": \"y\"}, {\"fillcolor\": \"rgb(188, 189, 34)\", \"line\": {\"width\": 0}, \"opacity\": 1, \"type\": \"rect\", \"x0\": \"2018-07-14 0:05:35\", \"x1\": \"2018-07-14 0:06:07\", \"xref\": \"x\", \"y0\": 4.8, \"y1\": 5.2, \"yref\": \"y\"}, {\"fillcolor\": \"rgb(23, 190, 207)\", \"line\": {\"width\": 0}, \"opacity\": 1, \"type\": \"rect\", \"x0\": \"2018-07-14 0:13:12\", \"x1\": \"2018-07-14 0:13:38\", \"xref\": \"x\", \"y0\": 4.8, \"y1\": 5.2, \"yref\": \"y\"}, {\"fillcolor\": \"rgb(255, 127, 14)\", \"line\": {\"width\": 0}, \"opacity\": 1, \"type\": \"rect\", \"x0\": \"2018-07-14 0:17:42\", \"x1\": \"2018-07-14 0:19:12\", \"xref\": \"x\", \"y0\": 4.8, \"y1\": 5.2, \"yref\": \"y\"}, {\"fillcolor\": \"rgb(31, 119, 180)\", \"line\": {\"width\": 0}, \"opacity\": 1, \"type\": \"rect\", \"x0\": \"2018-07-14 0:11:11\", \"x1\": \"2018-07-14 0:11:22\", \"xref\": \"x\", \"y0\": 3.8, \"y1\": 4.2, \"yref\": \"y\"}, {\"fillcolor\": \"rgb(44, 160, 44)\", \"line\": {\"width\": 0}, \"opacity\": 1, \"type\": \"rect\", \"x0\": \"2018-07-14 0:12:29\", \"x1\": \"2018-07-14 0:13:15\", \"xref\": \"x\", \"y0\": 3.8, \"y1\": 4.2, \"yref\": \"y\"}, {\"fillcolor\": \"rgb(214, 39, 40)\", \"line\": {\"width\": 0}, \"opacity\": 1, \"type\": \"rect\", \"x0\": \"2018-07-14 0:16:50\", \"x1\": \"2018-07-14 0:17:00\", \"xref\": \"x\", \"y0\": 3.8, \"y1\": 4.2, \"yref\": \"y\"}, {\"fillcolor\": \"rgb(148, 103, 189)\", \"line\": {\"width\": 0}, \"opacity\": 1, \"type\": \"rect\", \"x0\": \"2018-07-14 0:17:00\", \"x1\": \"2018-07-14 0:17:43\", \"xref\": \"x\", \"y0\": 3.8, \"y1\": 4.2, \"yref\": \"y\"}, {\"fillcolor\": \"rgb(140, 86, 75)\", \"line\": {\"width\": 0}, \"opacity\": 1, \"type\": \"rect\", \"x0\": \"2018-07-14 0:06:27\", \"x1\": \"2018-07-14 0:07:28\", \"xref\": \"x\", \"y0\": 3.8, \"y1\": 4.2, \"yref\": \"y\"}, {\"fillcolor\": \"rgb(227, 119, 194)\", \"line\": {\"width\": 0}, \"opacity\": 1, \"type\": \"rect\", \"x0\": \"2018-07-14 0:05:35\", \"x1\": \"2018-07-14 0:06:27\", \"xref\": \"x\", \"y0\": 3.8, \"y1\": 4.2, \"yref\": \"y\"}, {\"fillcolor\": \"rgb(127, 127, 127)\", \"line\": {\"width\": 0}, \"opacity\": 1, \"type\": \"rect\", \"x0\": \"2018-07-14 0:09:11\", \"x1\": \"2018-07-14 0:09:32\", \"xref\": \"x\", \"y0\": 3.8, \"y1\": 4.2, \"yref\": \"y\"}, {\"fillcolor\": \"rgb(188, 189, 34)\", \"line\": {\"width\": 0}, \"opacity\": 1, \"type\": \"rect\", \"x0\": \"2018-07-14 0:04:21\", \"x1\": \"2018-07-14 0:05:35\", \"xref\": \"x\", \"y0\": 3.8, \"y1\": 4.2, \"yref\": \"y\"}, {\"fillcolor\": \"rgb(23, 190, 207)\", \"line\": {\"width\": 0}, \"opacity\": 1, \"type\": \"rect\", \"x0\": \"2018-07-14 0:07:45\", \"x1\": \"2018-07-14 0:08:36\", \"xref\": \"x\", \"y0\": 3.8, \"y1\": 4.2, \"yref\": \"y\"}, {\"fillcolor\": \"rgb(255, 127, 14)\", \"line\": {\"width\": 0}, \"opacity\": 1, \"type\": \"rect\", \"x0\": \"2018-07-14 0:16:03\", \"x1\": \"2018-07-14 0:16:50\", \"xref\": \"x\", \"y0\": 3.8, \"y1\": 4.2, \"yref\": \"y\"}, {\"fillcolor\": \"rgb(31, 119, 180)\", \"line\": {\"width\": 0}, \"opacity\": 1, \"type\": \"rect\", \"x0\": \"2018-07-14 0:12:29\", \"x1\": \"2018-07-14 0:13:31\", \"xref\": \"x\", \"y0\": 2.8, \"y1\": 3.2, \"yref\": \"y\"}, {\"fillcolor\": \"rgb(44, 160, 44)\", \"line\": {\"width\": 0}, \"opacity\": 1, \"type\": \"rect\", \"x0\": \"2018-07-14 0:11:43\", \"x1\": \"2018-07-14 0:12:29\", \"xref\": \"x\", \"y0\": 2.8, \"y1\": 3.2, \"yref\": \"y\"}, {\"fillcolor\": \"rgb(214, 39, 40)\", \"line\": {\"width\": 0}, \"opacity\": 1, \"type\": \"rect\", \"x0\": \"2018-07-14 0:17:12\", \"x1\": \"2018-07-14 0:18:41\", \"xref\": \"x\", \"y0\": 2.8, \"y1\": 3.2, \"yref\": \"y\"}, {\"fillcolor\": \"rgb(148, 103, 189)\", \"line\": {\"width\": 0}, \"opacity\": 1, \"type\": \"rect\", \"x0\": \"2018-07-14 0:08:23\", \"x1\": \"2018-07-14 0:08:32\", \"xref\": \"x\", \"y0\": 2.8, \"y1\": 3.2, \"yref\": \"y\"}, {\"fillcolor\": \"rgb(140, 86, 75)\", \"line\": {\"width\": 0}, \"opacity\": 1, \"type\": \"rect\", \"x0\": \"2018-07-14 0:14:55\", \"x1\": \"2018-07-14 0:15:48\", \"xref\": \"x\", \"y0\": 2.8, \"y1\": 3.2, \"yref\": \"y\"}, {\"fillcolor\": \"rgb(227, 119, 194)\", \"line\": {\"width\": 0}, \"opacity\": 1, \"type\": \"rect\", \"x0\": \"2018-07-14 0:13:50\", \"x1\": \"2018-07-14 0:14:55\", \"xref\": \"x\", \"y0\": 2.8, \"y1\": 3.2, \"yref\": \"y\"}, {\"fillcolor\": \"rgb(127, 127, 127)\", \"line\": {\"width\": 0}, \"opacity\": 1, \"type\": \"rect\", \"x0\": \"2018-07-14 0:08:39\", \"x1\": \"2018-07-14 0:09:11\", \"xref\": \"x\", \"y0\": 2.8, \"y1\": 3.2, \"yref\": \"y\"}, {\"fillcolor\": \"rgb(188, 189, 34)\", \"line\": {\"width\": 0}, \"opacity\": 1, \"type\": \"rect\", \"x0\": \"2018-07-14 0:06:07\", \"x1\": \"2018-07-14 0:07:35\", \"xref\": \"x\", \"y0\": 2.8, \"y1\": 3.2, \"yref\": \"y\"}, {\"fillcolor\": \"rgb(23, 190, 207)\", \"line\": {\"width\": 0}, \"opacity\": 1, \"type\": \"rect\", \"x0\": \"2018-07-14 0:11:03\", \"x1\": \"2018-07-14 0:11:43\", \"xref\": \"x\", \"y0\": 2.8, \"y1\": 3.2, \"yref\": \"y\"}, {\"fillcolor\": \"rgb(255, 127, 14)\", \"line\": {\"width\": 0}, \"opacity\": 1, \"type\": \"rect\", \"x0\": \"2018-07-14 0:08:32\", \"x1\": \"2018-07-14 0:08:39\", \"xref\": \"x\", \"y0\": 2.8, \"y1\": 3.2, \"yref\": \"y\"}, {\"fillcolor\": \"rgb(31, 119, 180)\", \"line\": {\"width\": 0}, \"opacity\": 1, \"type\": \"rect\", \"x0\": \"2018-07-14 0:15:44\", \"x1\": \"2018-07-14 0:16:40\", \"xref\": \"x\", \"y0\": 1.8, \"y1\": 2.2, \"yref\": \"y\"}, {\"fillcolor\": \"rgb(44, 160, 44)\", \"line\": {\"width\": 0}, \"opacity\": 1, \"type\": \"rect\", \"x0\": \"2018-07-14 0:17:12\", \"x1\": \"2018-07-14 0:18:24\", \"xref\": \"x\", \"y0\": 1.8, \"y1\": 2.2, \"yref\": \"y\"}, {\"fillcolor\": \"rgb(214, 39, 40)\", \"line\": {\"width\": 0}, \"opacity\": 1, \"type\": \"rect\", \"x0\": \"2018-07-14 0:17:00\", \"x1\": \"2018-07-14 0:17:12\", \"xref\": \"x\", \"y0\": 1.8, \"y1\": 2.2, \"yref\": \"y\"}, {\"fillcolor\": \"rgb(148, 103, 189)\", \"line\": {\"width\": 0}, \"opacity\": 1, \"type\": \"rect\", \"x0\": \"2018-07-14 0:09:24\", \"x1\": \"2018-07-14 0:10:49\", \"xref\": \"x\", \"y0\": 1.8, \"y1\": 2.2, \"yref\": \"y\"}, {\"fillcolor\": \"rgb(140, 86, 75)\", \"line\": {\"width\": 0}, \"opacity\": 1, \"type\": \"rect\", \"x0\": \"2018-07-14 0:10:49\", \"x1\": \"2018-07-14 0:11:38\", \"xref\": \"x\", \"y0\": 1.8, \"y1\": 2.2, \"yref\": \"y\"}, {\"fillcolor\": \"rgb(227, 119, 194)\", \"line\": {\"width\": 0}, \"opacity\": 1, \"type\": \"rect\", \"x0\": \"2018-07-14 0:18:24\", \"x1\": \"2018-07-14 0:18:49\", \"xref\": \"x\", \"y0\": 1.8, \"y1\": 2.2, \"yref\": \"y\"}, {\"fillcolor\": \"rgb(127, 127, 127)\", \"line\": {\"width\": 0}, \"opacity\": 1, \"type\": \"rect\", \"x0\": \"2018-07-14 0:15:14\", \"x1\": \"2018-07-14 0:15:44\", \"xref\": \"x\", \"y0\": 1.8, \"y1\": 2.2, \"yref\": \"y\"}, {\"fillcolor\": \"rgb(188, 189, 34)\", \"line\": {\"width\": 0}, \"opacity\": 1, \"type\": \"rect\", \"x0\": \"2018-07-14 0:13:12\", \"x1\": \"2018-07-14 0:13:48\", \"xref\": \"x\", \"y0\": 1.8, \"y1\": 2.2, \"yref\": \"y\"}, {\"fillcolor\": \"rgb(23, 190, 207)\", \"line\": {\"width\": 0}, \"opacity\": 1, \"type\": \"rect\", \"x0\": \"2018-07-14 0:11:43\", \"x1\": \"2018-07-14 0:13:12\", \"xref\": \"x\", \"y0\": 1.8, \"y1\": 2.2, \"yref\": \"y\"}, {\"fillcolor\": \"rgb(255, 127, 14)\", \"line\": {\"width\": 0}, \"opacity\": 1, \"type\": \"rect\", \"x0\": \"2018-07-14 0:19:12\", \"x1\": \"2018-07-14 0:19:57\", \"xref\": \"x\", \"y0\": 1.8, \"y1\": 2.2, \"yref\": \"y\"}, {\"fillcolor\": \"rgb(31, 119, 180)\", \"line\": {\"width\": 0}, \"opacity\": 1, \"type\": \"rect\", \"x0\": \"2018-07-14 0:16:40\", \"x1\": \"2018-07-14 0:17:24\", \"xref\": \"x\", \"y0\": 0.8, \"y1\": 1.2, \"yref\": \"y\"}, {\"fillcolor\": \"rgb(44, 160, 44)\", \"line\": {\"width\": 0}, \"opacity\": 1, \"type\": \"rect\", \"x0\": \"2018-07-14 0:18:38\", \"x1\": \"2018-07-14 0:19:08\", \"xref\": \"x\", \"y0\": 0.8, \"y1\": 1.2, \"yref\": \"y\"}, {\"fillcolor\": \"rgb(214, 39, 40)\", \"line\": {\"width\": 0}, \"opacity\": 1, \"type\": \"rect\", \"x0\": \"2018-07-14 0:12:15\", \"x1\": \"2018-07-14 0:13:45\", \"xref\": \"x\", \"y0\": 0.8, \"y1\": 1.2, \"yref\": \"y\"}, {\"fillcolor\": \"rgb(148, 103, 189)\", \"line\": {\"width\": 0}, \"opacity\": 1, \"type\": \"rect\", \"x0\": \"2018-07-14 0:08:32\", \"x1\": \"2018-07-14 0:09:24\", \"xref\": \"x\", \"y0\": 0.8, \"y1\": 1.2, \"yref\": \"y\"}, {\"fillcolor\": \"rgb(140, 86, 75)\", \"line\": {\"width\": 0}, \"opacity\": 1, \"type\": \"rect\", \"x0\": \"2018-07-14 0:10:28\", \"x1\": \"2018-07-14 0:10:49\", \"xref\": \"x\", \"y0\": 0.8, \"y1\": 1.2, \"yref\": \"y\"}, {\"fillcolor\": \"rgb(227, 119, 194)\", \"line\": {\"width\": 0}, \"opacity\": 1, \"type\": \"rect\", \"x0\": \"2018-07-14 0:10:49\", \"x1\": \"2018-07-14 0:11:37\", \"xref\": \"x\", \"y0\": 0.8, \"y1\": 1.2, \"yref\": \"y\"}, {\"fillcolor\": \"rgb(127, 127, 127)\", \"line\": {\"width\": 0}, \"opacity\": 1, \"type\": \"rect\", \"x0\": \"2018-07-14 0:13:45\", \"x1\": \"2018-07-14 0:15:14\", \"xref\": \"x\", \"y0\": 0.8, \"y1\": 1.2, \"yref\": \"y\"}, {\"fillcolor\": \"rgb(188, 189, 34)\", \"line\": {\"width\": 0}, \"opacity\": 1, \"type\": \"rect\", \"x0\": \"2018-07-14 0:07:35\", \"x1\": \"2018-07-14 0:07:54\", \"xref\": \"x\", \"y0\": 0.8, \"y1\": 1.2, \"yref\": \"y\"}, {\"fillcolor\": \"rgb(23, 190, 207)\", \"line\": {\"width\": 0}, \"opacity\": 1, \"type\": \"rect\", \"x0\": \"2018-07-14 0:17:24\", \"x1\": \"2018-07-14 0:18:38\", \"xref\": \"x\", \"y0\": 0.8, \"y1\": 1.2, \"yref\": \"y\"}, {\"fillcolor\": \"rgb(255, 127, 14)\", \"line\": {\"width\": 0}, \"opacity\": 1, \"type\": \"rect\", \"x0\": \"2018-07-14 0:09:24\", \"x1\": \"2018-07-14 0:10:28\", \"xref\": \"x\", \"y0\": 0.8, \"y1\": 1.2, \"yref\": \"y\"}, {\"fillcolor\": \"rgb(31, 119, 180)\", \"line\": {\"width\": 0}, \"opacity\": 1, \"type\": \"rect\", \"x0\": \"2018-07-14 0:17:24\", \"x1\": \"2018-07-14 0:17:45\", \"xref\": \"x\", \"y0\": -0.2, \"y1\": 0.2, \"yref\": \"y\"}, {\"fillcolor\": \"rgb(44, 160, 44)\", \"line\": {\"width\": 0}, \"opacity\": 1, \"type\": \"rect\", \"x0\": \"2018-07-14 0:04:54\", \"x1\": \"2018-07-14 0:05:05\", \"xref\": \"x\", \"y0\": -0.2, \"y1\": 0.2, \"yref\": \"y\"}, {\"fillcolor\": \"rgb(214, 39, 40)\", \"line\": {\"width\": 0}, \"opacity\": 1, \"type\": \"rect\", \"x0\": \"2018-07-14 0:18:41\", \"x1\": \"2018-07-14 0:19:26\", \"xref\": \"x\", \"y0\": -0.2, \"y1\": 0.2, \"yref\": \"y\"}, {\"fillcolor\": \"rgb(148, 103, 189)\", \"line\": {\"width\": 0}, \"opacity\": 1, \"type\": \"rect\", \"x0\": \"2018-07-14 0:16:03\", \"x1\": \"2018-07-14 0:16:25\", \"xref\": \"x\", \"y0\": -0.2, \"y1\": 0.2, \"yref\": \"y\"}, {\"fillcolor\": \"rgb(140, 86, 75)\", \"line\": {\"width\": 0}, \"opacity\": 1, \"type\": \"rect\", \"x0\": \"2018-07-14 0:13:35\", \"x1\": \"2018-07-14 0:14:47\", \"xref\": \"x\", \"y0\": -0.2, \"y1\": 0.2, \"yref\": \"y\"}, {\"fillcolor\": \"rgb(227, 119, 194)\", \"line\": {\"width\": 0}, \"opacity\": 1, \"type\": \"rect\", \"x0\": \"2018-07-14 0:11:51\", \"x1\": \"2018-07-14 0:13:03\", \"xref\": \"x\", \"y0\": -0.2, \"y1\": 0.2, \"yref\": \"y\"}, {\"fillcolor\": \"rgb(127, 127, 127)\", \"line\": {\"width\": 0}, \"opacity\": 1, \"type\": \"rect\", \"x0\": \"2018-07-14 0:13:03\", \"x1\": \"2018-07-14 0:13:35\", \"xref\": \"x\", \"y0\": -0.2, \"y1\": 0.2, \"yref\": \"y\"}, {\"fillcolor\": \"rgb(188, 189, 34)\", \"line\": {\"width\": 0}, \"opacity\": 1, \"type\": \"rect\", \"x0\": \"2018-07-14 0:11:03\", \"x1\": \"2018-07-14 0:11:51\", \"xref\": \"x\", \"y0\": -0.2, \"y1\": 0.2, \"yref\": \"y\"}, {\"fillcolor\": \"rgb(23, 190, 207)\", \"line\": {\"width\": 0}, \"opacity\": 1, \"type\": \"rect\", \"x0\": \"2018-07-14 0:10:52\", \"x1\": \"2018-07-14 0:11:03\", \"xref\": \"x\", \"y0\": -0.2, \"y1\": 0.2, \"yref\": \"y\"}, {\"fillcolor\": \"rgb(255, 127, 14)\", \"line\": {\"width\": 0}, \"opacity\": 1, \"type\": \"rect\", \"x0\": \"2018-07-14 0:14:47\", \"x1\": \"2018-07-14 0:16:03\", \"xref\": \"x\", \"y0\": -0.2, \"y1\": 0.2, \"yref\": \"y\"}], \"showlegend\": true, \"title\": {\"text\": \"Job shop Schedule\"}, \"width\": 900, \"xaxis\": {\"rangeselector\": {\"buttons\": [{\"count\": 7, \"label\": \"1w\", \"step\": \"day\", \"stepmode\": \"backward\"}, {\"count\": 1, \"label\": \"1m\", \"step\": \"month\", \"stepmode\": \"backward\"}, {\"count\": 6, \"label\": \"6m\", \"step\": \"month\", \"stepmode\": \"backward\"}, {\"count\": 1, \"label\": \"YTD\", \"step\": \"year\", \"stepmode\": \"todate\"}, {\"count\": 1, \"label\": \"1y\", \"step\": \"year\", \"stepmode\": \"backward\"}, {\"step\": \"all\"}]}, \"showgrid\": true, \"type\": \"date\", \"zeroline\": false}, \"yaxis\": {\"autorange\": false, \"range\": [-1, 11], \"showgrid\": false, \"ticktext\": [\"Machine 10\", \"Machine 9\", \"Machine 8\", \"Machine 7\", \"Machine 6\", \"Machine 5\", \"Machine 4\", \"Machine 3\", \"Machine 2\", \"Machine 1\"], \"tickvals\": [0, 1, 2, 3, 4, 5, 6, 7, 8, 9], \"zeroline\": false}},\n",
       "                        {\"showLink\": false, \"linkText\": \"Export to plot.ly\", \"plotlyServerURL\": \"https://plot.ly\", \"responsive\": true}\n",
       "                    ).then(function(){\n",
       "                            \n",
       "var gd = document.getElementById('11517fb0-7476-48a5-8c5f-674c8cc113a3');\n",
       "var x = new MutationObserver(function (mutations, observer) {{\n",
       "        var display = window.getComputedStyle(gd).display;\n",
       "        if (!display || display === 'none') {{\n",
       "            console.log([gd, 'removed!']);\n",
       "            Plotly.purge(gd);\n",
       "            observer.disconnect();\n",
       "        }}\n",
       "}});\n",
       "\n",
       "// Listen for the removal of the full notebook cells\n",
       "var notebookContainer = gd.closest('#notebook-container');\n",
       "if (notebookContainer) {{\n",
       "    x.observe(notebookContainer, {childList: true});\n",
       "}}\n",
       "\n",
       "// Listen for the clearing of the current output cell\n",
       "var outputEl = gd.closest('.output');\n",
       "if (outputEl) {{\n",
       "    x.observe(outputEl, {childList: true});\n",
       "}}\n",
       "\n",
       "                        })\n",
       "                };\n",
       "                });\n",
       "            </script>\n",
       "        </div>"
      ]
     },
     "metadata": {},
     "output_type": "display_data"
    }
   ],
   "source": [
    "import jobshopscheduling as jss\n",
    "\n",
    "#---Main Function--\n",
    "mainScheduler = jss.Scheduler()\n",
    "mainScheduler[\"processTimeTable\"] = \"ProcessingTime.csv\"\n",
    "mainScheduler[\"machinesSequenceTable\"] = \"MachinesSequence.csv\"\n",
    "\n",
    "mainScheduler.Run()\n",
    "\n",
    "mainScheduler.PrintResult()\n",
    "mainScheduler.PrintFitnessPlot()\n",
    "mainScheduler.GenerateGanttChart()\n",
    "#---\n",
    "\n",
    "# .ipynb file may not be fully displayed on Github, you can click the prompt that on the right handside to check the full file"
   ]
  },
  {
   "cell_type": "code",
   "execution_count": null,
   "metadata": {},
   "outputs": [],
   "source": []
  }
 ],
 "metadata": {
  "kernelspec": {
   "display_name": "Python 3",
   "language": "python",
   "name": "python3"
  },
  "language_info": {
   "codemirror_mode": {
    "name": "ipython",
    "version": 3
   },
   "file_extension": ".py",
   "mimetype": "text/x-python",
   "name": "python",
   "nbconvert_exporter": "python",
   "pygments_lexer": "ipython3",
   "version": "3.6.8"
  }
 },
 "nbformat": 4,
 "nbformat_minor": 2
}
