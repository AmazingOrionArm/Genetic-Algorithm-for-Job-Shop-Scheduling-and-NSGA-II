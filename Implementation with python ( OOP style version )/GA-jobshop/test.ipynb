{
 "cells": [
  {
   "cell_type": "code",
   "execution_count": 8,
   "metadata": {},
   "outputs": [
    {
     "name": "stdout",
     "output_type": "stream",
     "text": [
      "Calculating...\n",
      "optimal sequence [8, 1, 4, 4, 0, 3, 8, 4, 1, 1, 3, 9, 1, 6, 1, 0, 2, 3, 8, 0, 3, 9, 1, 0, 6, 4, 4, 9, 9, 8, 6, 9, 5, 2, 6, 7, 3, 5, 6, 0, 5, 5, 8, 4, 9, 4, 8, 2, 4, 1, 6, 9, 0, 3, 7, 7, 2, 7, 5, 7, 6, 6, 2, 5, 1, 8, 3, 0, 7, 8, 1, 2, 7, 4, 5, 2, 7, 3, 3, 9, 0, 8, 1, 5, 6, 3, 2, 9, 4, 6, 5, 7, 8, 2, 0, 0, 2, 9, 5, 7]\n",
      "optimal value:1165.000000\n"
     ]
    },
    {
     "data": {
      "image/png": "[encoded data removed]",
      "text/plain": [
       "<Figure size 432x288 with 1 Axes>"
      ]
     },
     "metadata": {},
     "output_type": "display_data"
    },
    {
     "data": {
      "application/vnd.plotly.v1+json": {
       "config": {
        "linkText": "Export to plot.ly",
        "plotlyServerURL": "https://plot.ly",
        "responsive": true,
        "showLink": false
       },
       "data": [
        {
         "marker": {
          "color": "white"
         },
         "name": "",
         "type": "scatter",
         "uid": "6146a4af-1e4f-4519-b102-55067e41e1bb",
         "x": [
          "2018-07-14 0:02:05",
          "2018-07-14 0:02:34"
         ],
         "y": [
          9,
          9
         ]
        },
        {
         "marker": {
          "color": "white"
         },
         "name": "",
         "type": "scatter",
         "uid": "27026a9c-02f1-4dd7-95bb-3f84093ff990",
         "x": [
          "2018-07-14 0:01:16",
          "2018-07-14 0:01:59"
         ],
         "y": [
          9,
          9
         ]
        },
        {
         "marker": {
          "color": "white"
         },
         "name": "",
         "type": "scatter",
         "uid": "d6616f6a-2742-42d5-9284-ad5f92f37419",
         "x": [
          "2018-07-14 0:07:52",
          "2018-07-14 0:09:17"
         ],
         "y": [
          9,
          9
         ]
        },
        {
         "marker": {
          "color": "white"
         },
         "name": "",
         "type": "scatter",
         "uid": "3c8b56f0-e208-4d98-8376-566f9bb6c407",
         "x": [
          "2018-07-14 0:05:04",
          "2018-07-14 0:06:15"
         ],
         "y": [
          9,
          9
         ]
        },
        {
         "marker": {
          "color": "white"
         },
         "name": "",
         "type": "scatter",
         "uid": "da92cfed-061e-4511-8eb8-4a2aa96c81ef",
         "x": [
          "2018-07-14 0:01:59",
          "2018-07-14 0:02:05"
         ],
         "y": [
          9,
          9
         ]
        },
        {
         "marker": {
          "color": "white"
         },
         "name": "",
         "type": "scatter",
         "uid": "bb0e4d5a-810e-4308-98ac-2ea07416f4d0",
         "x": [
          "2018-07-14 0:13:27",
          "2018-07-14 0:14:14"
         ],
         "y": [
          9,
          9
         ]
        },
        {
         "marker": {
          "color": "white"
         },
         "name": "",
         "type": "scatter",
         "uid": "c6e3b6e3-fae8-4b32-b42f-a5218844435b",
         "x": [
          "2018-07-14 0:06:28",
          "2018-07-14 0:07:05"
         ],
         "y": [
          9,
          9
         ]
        },
        {
         "marker": {
          "color": "white"
         },
         "name": "",
         "type": "scatter",
         "uid": "029c2e70-f10d-4269-8496-4b03d2caf8a5",
         "x": [
          "2018-07-14 0:10:07",
          "2018-07-14 0:11:33"
         ],
         "y": [
          9,
          9
         ]
        },
        {
         "marker": {
          "color": "white"
         },
         "name": "",
         "type": "scatter",
         "uid": "9224231f-37ac-4793-80d9-6c5bea4c186d",
         "x": [
          "2018-07-14 0:00:00",
          "2018-07-14 0:01:16"
         ],
         "y": [
          9,
          9
         ]
        },
        {
         "marker": {
          "color": "white"
         },
         "name": "",
         "type": "scatter",
         "uid": "3bebabda-803d-4ec6-bb0e-6bcf3d248266",
         "x": [
          "2018-07-14 0:06:15",
          "2018-07-14 0:06:28"
         ],
         "y": [
          9,
          9
         ]
        },
        {
         "marker": {
          "color": "white"
         },
         "name": "",
         "type": "scatter",
         "uid": "eea5bfa4-ea21-4ed2-b2c4-dff208668de1",
         "x": [
          "2018-07-14 0:05:03",
          "2018-07-14 0:06:21"
         ],
         "y": [
          8,
          8
         ]
        },
        {
         "marker": {
          "color": "white"
         },
         "name": "",
         "type": "scatter",
         "uid": "04e5ab64-fec6-4a61-adab-758a9d5bafb0",
         "x": [
          "2018-07-14 0:07:52",
          "2018-07-14 0:08:20"
         ],
         "y": [
          8,
          8
         ]
        },
        {
         "marker": {
          "color": "white"
         },
         "name": "",
         "type": "scatter",
         "uid": "4d1aebfd-4919-4979-8478-3a15444ca299",
         "x": [
          "2018-07-14 0:06:21",
          "2018-07-14 0:07:52"
         ],
         "y": [
          8,
          8
         ]
        },
        {
         "marker": {
          "color": "white"
         },
         "name": "",
         "type": "scatter",
         "uid": "f8df9047-0e39-4358-bbe2-214cb85b5849",
         "x": [
          "2018-07-14 0:00:00",
          "2018-07-14 0:01:21"
         ],
         "y": [
          8,
          8
         ]
        },
        {
         "marker": {
          "color": "white"
         },
         "name": "",
         "type": "scatter",
         "uid": "1a14d555-26ec-4a59-adda-9f3165694988",
         "x": [
          "2018-07-14 0:02:30",
          "2018-07-14 0:02:52"
         ],
         "y": [
          8,
          8
         ]
        },
        {
         "marker": {
          "color": "white"
         },
         "name": "",
         "type": "scatter",
         "uid": "228d01cd-b1d4-40d5-bc5f-912c75ba2c66",
         "x": [
          "2018-07-14 0:08:55",
          "2018-07-14 0:08:57"
         ],
         "y": [
          8,
          8
         ]
        },
        {
         "marker": {
          "color": "white"
         },
         "name": "",
         "type": "scatter",
         "uid": "837023e7-1995-401f-b225-5906f2b6eab7",
         "x": [
          "2018-07-14 0:04:17",
          "2018-07-14 0:05:03"
         ],
         "y": [
          8,
          8
         ]
        },
        {
         "marker": {
          "color": "white"
         },
         "name": "",
         "type": "scatter",
         "uid": "976640a2-8f75-448d-a4f8-06c9530f3fb5",
         "x": [
          "2018-07-14 0:11:33",
          "2018-07-14 0:12:19"
         ],
         "y": [
          8,
          8
         ]
        },
        {
         "marker": {
          "color": "white"
         },
         "name": "",
         "type": "scatter",
         "uid": "e59373c3-604f-418b-b8f4-0cfd1cfc5adc",
         "x": [
          "2018-07-14 0:01:21",
          "2018-07-14 0:02:30"
         ],
         "y": [
          8,
          8
         ]
        },
        {
         "marker": {
          "color": "white"
         },
         "name": "",
         "type": "scatter",
         "uid": "12776b94-1e9a-49ce-a991-9ffe98fc0a66",
         "x": [
          "2018-07-14 0:02:52",
          "2018-07-14 0:04:17"
         ],
         "y": [
          8,
          8
         ]
        },
        {
         "marker": {
          "color": "white"
         },
         "name": "",
         "type": "scatter",
         "uid": "d96a5367-7123-4d00-ad8d-78d34d238425",
         "x": [
          "2018-07-14 0:06:21",
          "2018-07-14 0:06:30"
         ],
         "y": [
          7,
          7
         ]
        },
        {
         "marker": {
          "color": "white"
         },
         "name": "",
         "type": "scatter",
         "uid": "53e53e21-8931-4191-b8e8-a214c84bdc87",
         "x": [
          "2018-07-14 0:01:59",
          "2018-07-14 0:03:29"
         ],
         "y": [
          7,
          7
         ]
        },
        {
         "marker": {
          "color": "white"
         },
         "name": "",
         "type": "scatter",
         "uid": "e4e025cb-ce11-438d-b3ad-23371369ac6e",
         "x": [
          "2018-07-14 0:12:03",
          "2018-07-14 0:13:17"
         ],
         "y": [
          7,
          7
         ]
        },
        {
         "marker": {
          "color": "white"
         },
         "name": "",
         "type": "scatter",
         "uid": "56c2e7eb-1dfc-4325-9576-ed73f708da26",
         "x": [
          "2018-07-14 0:03:29",
          "2018-07-14 0:05:04"
         ],
         "y": [
          7,
          7
         ]
        },
        {
         "marker": {
          "color": "white"
         },
         "name": "",
         "type": "scatter",
         "uid": "1db51c19-2d31-49df-82ec-ec9623c15a47",
         "x": [
          "2018-07-14 0:00:00",
          "2018-07-14 0:00:14"
         ],
         "y": [
          7,
          7
         ]
        },
        {
         "marker": {
          "color": "white"
         },
         "name": "",
         "type": "scatter",
         "uid": "15211aab-4cfa-4386-8d96-51c4eecbdbae",
         "x": [
          "2018-07-14 0:07:31",
          "2018-07-14 0:08:55"
         ],
         "y": [
          7,
          7
         ]
        },
        {
         "marker": {
          "color": "white"
         },
         "name": "",
         "type": "scatter",
         "uid": "2d6d7cd7-527f-49a6-b488-b0befce6233d",
         "x": [
          "2018-07-14 0:09:23",
          "2018-07-14 0:09:36"
         ],
         "y": [
          7,
          7
         ]
        },
        {
         "marker": {
          "color": "white"
         },
         "name": "",
         "type": "scatter",
         "uid": "dde6c95a-99c0-4031-b089-0cf9665ccb22",
         "x": [
          "2018-07-14 0:09:36",
          "2018-07-14 0:10:07"
         ],
         "y": [
          7,
          7
         ]
        },
        {
         "marker": {
          "color": "white"
         },
         "name": "",
         "type": "scatter",
         "uid": "9b1960c5-2e9f-409a-8cd8-8ba9fb967820",
         "x": [
          "2018-07-14 0:10:07",
          "2018-07-14 0:11:32"
         ],
         "y": [
          7,
          7
         ]
        },
        {
         "marker": {
          "color": "white"
         },
         "name": "",
         "type": "scatter",
         "uid": "4932b44c-bee1-4ff0-a6b0-84c43d0e000b",
         "x": [
          "2018-07-14 0:06:30",
          "2018-07-14 0:07:31"
         ],
         "y": [
          7,
          7
         ]
        },
        {
         "marker": {
          "color": "white"
         },
         "name": "",
         "type": "scatter",
         "uid": "40f47b46-27c3-4e02-a863-116f322deb17",
         "x": [
          "2018-07-14 0:07:20",
          "2018-07-14 0:07:56"
         ],
         "y": [
          6,
          6
         ]
        },
        {
         "marker": {
          "color": "white"
         },
         "name": "",
         "type": "scatter",
         "uid": "3aaa7416-993e-4207-9cea-16f4191955fb",
         "x": [
          "2018-07-14 0:04:55",
          "2018-07-14 0:06:04"
         ],
         "y": [
          6,
          6
         ]
        },
        {
         "marker": {
          "color": "white"
         },
         "name": "",
         "type": "scatter",
         "uid": "8fdf19b0-822b-4cce-9b45-4815329d90d9",
         "x": [
          "2018-07-14 0:11:24",
          "2018-07-14 0:12:03"
         ],
         "y": [
          6,
          6
         ]
        },
        {
         "marker": {
          "color": "white"
         },
         "name": "",
         "type": "scatter",
         "uid": "94b2d76f-484e-4cbe-a2eb-b59852fd8828",
         "x": [
          "2018-07-14 0:12:32",
          "2018-07-14 0:14:10"
         ],
         "y": [
          6,
          6
         ]
        },
        {
         "marker": {
          "color": "white"
         },
         "name": "",
         "type": "scatter",
         "uid": "bdd37b6e-e3e9-470f-bd80-15504b73dae1",
         "x": [
          "2018-07-14 0:07:56",
          "2018-07-14 0:08:22"
         ],
         "y": [
          6,
          6
         ]
        },
        {
         "marker": {
          "color": "white"
         },
         "name": "",
         "type": "scatter",
         "uid": "51d9d93d-42c3-4936-9003-dfc4913c9d6d",
         "x": [
          "2018-07-14 0:09:49",
          "2018-07-14 0:11:24"
         ],
         "y": [
          6,
          6
         ]
        },
        {
         "marker": {
          "color": "white"
         },
         "name": "",
         "type": "scatter",
         "uid": "796a4258-b7d5-4bf8-a36e-5512b571161e",
         "x": [
          "2018-07-14 0:08:22",
          "2018-07-14 0:09:23"
         ],
         "y": [
          6,
          6
         ]
        },
        {
         "marker": {
          "color": "white"
         },
         "name": "",
         "type": "scatter",
         "uid": "75ab9106-d4db-4189-af56-e2e6ffa4e85c",
         "x": [
          "2018-07-14 0:17:45",
          "2018-07-14 0:19:04"
         ],
         "y": [
          6,
          6
         ]
        },
        {
         "marker": {
          "color": "white"
         },
         "name": "",
         "type": "scatter",
         "uid": "df7e25a8-c63e-4d30-913b-57c6080065d1",
         "x": [
          "2018-07-14 0:06:04",
          "2018-07-14 0:07:20"
         ],
         "y": [
          6,
          6
         ]
        },
        {
         "marker": {
          "color": "white"
         },
         "name": "",
         "type": "scatter",
         "uid": "531bc751-c038-4f90-b2cd-9a16909ae52d",
         "x": [
          "2018-07-14 0:14:10",
          "2018-07-14 0:15:02"
         ],
         "y": [
          6,
          6
         ]
        },
        {
         "marker": {
          "color": "white"
         },
         "name": "",
         "type": "scatter",
         "uid": "34d20b6e-6324-4073-896f-6ad1f0aeccd5",
         "x": [
          "2018-07-14 0:07:56",
          "2018-07-14 0:08:45"
         ],
         "y": [
          5,
          5
         ]
        },
        {
         "marker": {
          "color": "white"
         },
         "name": "",
         "type": "scatter",
         "uid": "c54072b0-eb87-4f86-bf70-bbd26e33a3fe",
         "x": [
          "2018-07-14 0:03:29",
          "2018-07-14 0:04:44"
         ],
         "y": [
          5,
          5
         ]
        },
        {
         "marker": {
          "color": "white"
         },
         "name": "",
         "type": "scatter",
         "uid": "433a0cc0-cf8a-49cc-b013-1fdc7359d224",
         "x": [
          "2018-07-14 0:18:52",
          "2018-07-14 0:19:25"
         ],
         "y": [
          5,
          5
         ]
        },
        {
         "marker": {
          "color": "white"
         },
         "name": "",
         "type": "scatter",
         "uid": "d64dd653-daaa-42d8-bc86-86a654ddd133",
         "x": [
          "2018-07-14 0:06:15",
          "2018-07-14 0:07:54"
         ],
         "y": [
          5,
          5
         ]
        },
        {
         "marker": {
          "color": "white"
         },
         "name": "",
         "type": "scatter",
         "uid": "0a8b43e8-c60d-4876-abca-c5ca1533ef50",
         "x": [
          "2018-07-14 0:08:45",
          "2018-07-14 0:09:54"
         ],
         "y": [
          5,
          5
         ]
        },
        {
         "marker": {
          "color": "white"
         },
         "name": "",
         "type": "scatter",
         "uid": "6bf809e9-7ed9-4c1e-b6ed-3cb7918cddce",
         "x": [
          "2018-07-14 0:18:04",
          "2018-07-14 0:18:10"
         ],
         "y": [
          5,
          5
         ]
        },
        {
         "marker": {
          "color": "white"
         },
         "name": "",
         "type": "scatter",
         "uid": "859ab609-4a64-44b4-bef7-07359654b0c8",
         "x": [
          "2018-07-14 0:17:09",
          "2018-07-14 0:18:04"
         ],
         "y": [
          5,
          5
         ]
        },
        {
         "marker": {
          "color": "white"
         },
         "name": "",
         "type": "scatter",
         "uid": "df77d6b2-05e5-4d7c-a11f-6bb13f3028b4",
         "x": [
          "2018-07-14 0:13:33",
          "2018-07-14 0:14:05"
         ],
         "y": [
          5,
          5
         ]
        },
        {
         "marker": {
          "color": "white"
         },
         "name": "",
         "type": "scatter",
         "uid": "6b3650e2-8818-4dcb-ad8c-714161d60d59",
         "x": [
          "2018-07-14 0:14:05",
          "2018-07-14 0:14:31"
         ],
         "y": [
          5,
          5
         ]
        },
        {
         "marker": {
          "color": "white"
         },
         "name": "",
         "type": "scatter",
         "uid": "2dd88be6-af34-4c93-ac7e-fc2b0d0c6c46",
         "x": [
          "2018-07-14 0:15:02",
          "2018-07-14 0:16:32"
         ],
         "y": [
          5,
          5
         ]
        },
        {
         "marker": {
          "color": "white"
         },
         "name": "",
         "type": "scatter",
         "uid": "0237b629-56ce-40b6-8150-02d2a071f473",
         "x": [
          "2018-07-14 0:11:16",
          "2018-07-14 0:11:27"
         ],
         "y": [
          4,
          4
         ]
        },
        {
         "marker": {
          "color": "white"
         },
         "name": "",
         "type": "scatter",
         "uid": "2831f814-f6f0-42c2-b989-b2d0bf110b60",
         "x": [
          "2018-07-14 0:13:33",
          "2018-07-14 0:14:19"
         ],
         "y": [
          4,
          4
         ]
        },
        {
         "marker": {
          "color": "white"
         },
         "name": "",
         "type": "scatter",
         "uid": "dd68452c-e71a-47d3-95d0-10ed0adfd96c",
         "x": [
          "2018-07-14 0:15:14",
          "2018-07-14 0:15:24"
         ],
         "y": [
          4,
          4
         ]
        },
        {
         "marker": {
          "color": "white"
         },
         "name": "",
         "type": "scatter",
         "uid": "306c5abc-a5e2-442b-ae0c-3621d088e60c",
         "x": [
          "2018-07-14 0:17:02",
          "2018-07-14 0:17:45"
         ],
         "y": [
          4,
          4
         ]
        },
        {
         "marker": {
          "color": "white"
         },
         "name": "",
         "type": "scatter",
         "uid": "e411b1f8-c85c-43db-8541-4f7205c5b697",
         "x": [
          "2018-07-14 0:02:52",
          "2018-07-14 0:03:53"
         ],
         "y": [
          4,
          4
         ]
        },
        {
         "marker": {
          "color": "white"
         },
         "name": "",
         "type": "scatter",
         "uid": "bfa02739-1774-4053-b1c6-d2c356d448f2",
         "x": [
          "2018-07-14 0:08:57",
          "2018-07-14 0:09:49"
         ],
         "y": [
          4,
          4
         ]
        },
        {
         "marker": {
          "color": "white"
         },
         "name": "",
         "type": "scatter",
         "uid": "d98a3368-1992-4ed3-8b08-bba89755bb49",
         "x": [
          "2018-07-14 0:10:08",
          "2018-07-14 0:10:29"
         ],
         "y": [
          4,
          4
         ]
        },
        {
         "marker": {
          "color": "white"
         },
         "name": "",
         "type": "scatter",
         "uid": "8174da1d-f516-4967-a127-14468ae03277",
         "x": [
          "2018-07-14 0:12:19",
          "2018-07-14 0:13:33"
         ],
         "y": [
          4,
          4
         ]
        },
        {
         "marker": {
          "color": "white"
         },
         "name": "",
         "type": "scatter",
         "uid": "c6e6b1d0-d0d5-4927-aa9b-d69396d8b24d",
         "x": [
          "2018-07-14 0:07:20",
          "2018-07-14 0:08:11"
         ],
         "y": [
          4,
          4
         ]
        },
        {
         "marker": {
          "color": "white"
         },
         "name": "",
         "type": "scatter",
         "uid": "dfab0893-8ae3-47f8-b85c-5c8f35c855cc",
         "x": [
          "2018-07-14 0:10:29",
          "2018-07-14 0:11:16"
         ],
         "y": [
          4,
          4
         ]
        },
        {
         "marker": {
          "color": "white"
         },
         "name": "",
         "type": "scatter",
         "uid": "db653a75-f311-4522-ae27-953093343e27",
         "x": [
          "2018-07-14 0:12:23",
          "2018-07-14 0:13:25"
         ],
         "y": [
          3,
          3
         ]
        },
        {
         "marker": {
          "color": "white"
         },
         "name": "",
         "type": "scatter",
         "uid": "4b7cbdc2-ffb9-49f0-a2af-6d0fb08d6080",
         "x": [
          "2018-07-14 0:10:08",
          "2018-07-14 0:10:54"
         ],
         "y": [
          3,
          3
         ]
        },
        {
         "marker": {
          "color": "white"
         },
         "name": "",
         "type": "scatter",
         "uid": "15c117a5-15b1-4b42-8d7e-e0c3ee458b31",
         "x": [
          "2018-07-14 0:16:38",
          "2018-07-14 0:18:07"
         ],
         "y": [
          3,
          3
         ]
        },
        {
         "marker": {
          "color": "white"
         },
         "name": "",
         "type": "scatter",
         "uid": "c3832d99-7e98-466e-b76a-017bba56da64",
         "x": [
          "2018-07-14 0:07:54",
          "2018-07-14 0:08:03"
         ],
         "y": [
          3,
          3
         ]
        },
        {
         "marker": {
          "color": "white"
         },
         "name": "",
         "type": "scatter",
         "uid": "2b415103-91ba-4d0a-a9e8-103b0148123a",
         "x": [
          "2018-07-14 0:18:07",
          "2018-07-14 0:19:00"
         ],
         "y": [
          3,
          3
         ]
        },
        {
         "marker": {
          "color": "white"
         },
         "name": "",
         "type": "scatter",
         "uid": "3cbe4f76-191b-43e9-806e-079d37eee31e",
         "x": [
          "2018-07-14 0:15:33",
          "2018-07-14 0:16:38"
         ],
         "y": [
          3,
          3
         ]
        },
        {
         "marker": {
          "color": "white"
         },
         "name": "",
         "type": "scatter",
         "uid": "d6a37b42-4eb4-4399-b812-e9c004b30c48",
         "x": [
          "2018-07-14 0:09:36",
          "2018-07-14 0:10:08"
         ],
         "y": [
          3,
          3
         ]
        },
        {
         "marker": {
          "color": "white"
         },
         "name": "",
         "type": "scatter",
         "uid": "67b9ebcc-a2ee-4fc7-a9e3-980e338c3e74",
         "x": [
          "2018-07-14 0:14:05",
          "2018-07-14 0:15:33"
         ],
         "y": [
          3,
          3
         ]
        },
        {
         "marker": {
          "color": "white"
         },
         "name": "",
         "type": "scatter",
         "uid": "e5b69ff4-9d17-4448-9b43-ba1f8b794290",
         "x": [
          "2018-07-14 0:11:43",
          "2018-07-14 0:12:23"
         ],
         "y": [
          3,
          3
         ]
        },
        {
         "marker": {
          "color": "white"
         },
         "name": "",
         "type": "scatter",
         "uid": "2c7a8be2-7b0a-45fb-9eb2-78f28ead5593",
         "x": [
          "2018-07-14 0:07:31",
          "2018-07-14 0:07:38"
         ],
         "y": [
          3,
          3
         ]
        },
        {
         "marker": {
          "color": "white"
         },
         "name": "",
         "type": "scatter",
         "uid": "c753deae-6820-4c96-947a-c1f0166e7ead",
         "x": [
          "2018-07-14 0:15:43",
          "2018-07-14 0:16:39"
         ],
         "y": [
          2,
          2
         ]
        },
        {
         "marker": {
          "color": "white"
         },
         "name": "",
         "type": "scatter",
         "uid": "7c76861a-a941-41dc-a5dd-aabc16bd4afa",
         "x": [
          "2018-07-14 0:14:19",
          "2018-07-14 0:15:31"
         ],
         "y": [
          2,
          2
         ]
        },
        {
         "marker": {
          "color": "white"
         },
         "name": "",
         "type": "scatter",
         "uid": "6003f9b7-8e5c-4c03-8a98-894f40c2910d",
         "x": [
          "2018-07-14 0:15:31",
          "2018-07-14 0:15:43"
         ],
         "y": [
          2,
          2
         ]
        },
        {
         "marker": {
          "color": "white"
         },
         "name": "",
         "type": "scatter",
         "uid": "23a26217-d89b-4ced-8980-7988fd98ca45",
         "x": [
          "2018-07-14 0:11:07",
          "2018-07-14 0:12:32"
         ],
         "y": [
          2,
          2
         ]
        },
        {
         "marker": {
          "color": "white"
         },
         "name": "",
         "type": "scatter",
         "uid": "90cfd57d-95ec-41b2-a1af-23d74b7d0e51",
         "x": [
          "2018-07-14 0:10:15",
          "2018-07-14 0:11:04"
         ],
         "y": [
          2,
          2
         ]
        },
        {
         "marker": {
          "color": "white"
         },
         "name": "",
         "type": "scatter",
         "uid": "44b1d896-939f-4984-ba62-0fc294f2b1df",
         "x": [
          "2018-07-14 0:18:30",
          "2018-07-14 0:18:55"
         ],
         "y": [
          2,
          2
         ]
        },
        {
         "marker": {
          "color": "white"
         },
         "name": "",
         "type": "scatter",
         "uid": "fbaf95d1-42f8-4a87-8d24-5a1341367b76",
         "x": [
          "2018-07-14 0:16:39",
          "2018-07-14 0:17:09"
         ],
         "y": [
          2,
          2
         ]
        },
        {
         "marker": {
          "color": "white"
         },
         "name": "",
         "type": "scatter",
         "uid": "18093779-04d4-40d7-a58c-c082a0e56ca1",
         "x": [
          "2018-07-14 0:17:09",
          "2018-07-14 0:17:45"
         ],
         "y": [
          2,
          2
         ]
        },
        {
         "marker": {
          "color": "white"
         },
         "name": "",
         "type": "scatter",
         "uid": "62f121ab-0970-46ef-a690-b9135b3f5fb6",
         "x": [
          "2018-07-14 0:12:32",
          "2018-07-14 0:14:01"
         ],
         "y": [
          2,
          2
         ]
        },
        {
         "marker": {
          "color": "white"
         },
         "name": "",
         "type": "scatter",
         "uid": "30dd3f5a-b3c3-4804-b99d-99176bdbabfd",
         "x": [
          "2018-07-14 0:17:45",
          "2018-07-14 0:18:30"
         ],
         "y": [
          2,
          2
         ]
        },
        {
         "marker": {
          "color": "white"
         },
         "name": "",
         "type": "scatter",
         "uid": "ac20121c-e4ed-4381-ac52-3f2271817742",
         "x": [
          "2018-07-14 0:17:36",
          "2018-07-14 0:18:20"
         ],
         "y": [
          1,
          1
         ]
        },
        {
         "marker": {
          "color": "white"
         },
         "name": "",
         "type": "scatter",
         "uid": "45873678-7e17-4b35-a5a5-ca1c67e264b2",
         "x": [
          "2018-07-14 0:15:52",
          "2018-07-14 0:16:22"
         ],
         "y": [
          1,
          1
         ]
        },
        {
         "marker": {
          "color": "white"
         },
         "name": "",
         "type": "scatter",
         "uid": "bfdd3440-987a-40af-ae0e-798d8f192bf6",
         "x": [
          "2018-07-14 0:13:44",
          "2018-07-14 0:15:14"
         ],
         "y": [
          1,
          1
         ]
        },
        {
         "marker": {
          "color": "white"
         },
         "name": "",
         "type": "scatter",
         "uid": "2f98921f-cf4d-4de9-82dd-fd5a46396147",
         "x": [
          "2018-07-14 0:10:15",
          "2018-07-14 0:11:07"
         ],
         "y": [
          1,
          1
         ]
        },
        {
         "marker": {
          "color": "white"
         },
         "name": "",
         "type": "scatter",
         "uid": "399d6992-d4b6-4337-af1b-a5fca4e8e31f",
         "x": [
          "2018-07-14 0:09:54",
          "2018-07-14 0:10:15"
         ],
         "y": [
          1,
          1
         ]
        },
        {
         "marker": {
          "color": "white"
         },
         "name": "",
         "type": "scatter",
         "uid": "90a209be-534a-4652-9ca0-be5e5320734b",
         "x": [
          "2018-07-14 0:11:24",
          "2018-07-14 0:12:12"
         ],
         "y": [
          1,
          1
         ]
        },
        {
         "marker": {
          "color": "white"
         },
         "name": "",
         "type": "scatter",
         "uid": "07c9bd07-27db-4462-af71-f2c7fd4235c4",
         "x": [
          "2018-07-14 0:12:15",
          "2018-07-14 0:13:44"
         ],
         "y": [
          1,
          1
         ]
        },
        {
         "marker": {
          "color": "white"
         },
         "name": "",
         "type": "scatter",
         "uid": "da5d1862-27f9-44e9-9b10-b4e5c1115683",
         "x": [
          "2018-07-14 0:15:33",
          "2018-07-14 0:15:52"
         ],
         "y": [
          1,
          1
         ]
        },
        {
         "marker": {
          "color": "white"
         },
         "name": "",
         "type": "scatter",
         "uid": "eaef03b0-b628-4a2f-aceb-82fb100de9dd",
         "x": [
          "2018-07-14 0:16:22",
          "2018-07-14 0:17:36"
         ],
         "y": [
          1,
          1
         ]
        },
        {
         "marker": {
          "color": "white"
         },
         "name": "",
         "type": "scatter",
         "uid": "4403e3a9-4f93-4db9-880b-7a5fabf97371",
         "x": [
          "2018-07-14 0:07:38",
          "2018-07-14 0:08:42"
         ],
         "y": [
          1,
          1
         ]
        },
        {
         "marker": {
          "color": "white"
         },
         "name": "",
         "type": "scatter",
         "uid": "8223935f-c4ab-4830-9546-2b42e8641b78",
         "x": [
          "2018-07-14 0:18:52",
          "2018-07-14 0:19:13"
         ],
         "y": [
          0,
          0
         ]
        },
        {
         "marker": {
          "color": "white"
         },
         "name": "",
         "type": "scatter",
         "uid": "f393c9f7-17a2-4b67-9e9f-c7ffe360d93b",
         "x": [
          "2018-07-14 0:04:44",
          "2018-07-14 0:04:55"
         ],
         "y": [
          0,
          0
         ]
        },
        {
         "marker": {
          "color": "white"
         },
         "name": "",
         "type": "scatter",
         "uid": "f220fca5-9bda-4a53-89e0-7a9b1209be58",
         "x": [
          "2018-07-14 0:18:07",
          "2018-07-14 0:18:52"
         ],
         "y": [
          0,
          0
         ]
        },
        {
         "marker": {
          "color": "white"
         },
         "name": "",
         "type": "scatter",
         "uid": "c3c7efca-e855-490e-9713-dd71253b825f",
         "x": [
          "2018-07-14 0:16:40",
          "2018-07-14 0:17:02"
         ],
         "y": [
          0,
          0
         ]
        },
        {
         "marker": {
          "color": "white"
         },
         "name": "",
         "type": "scatter",
         "uid": "b333bf27-9d07-46e5-89d6-825dd70916e3",
         "x": [
          "2018-07-14 0:13:27",
          "2018-07-14 0:14:39"
         ],
         "y": [
          0,
          0
         ]
        },
        {
         "marker": {
          "color": "white"
         },
         "name": "",
         "type": "scatter",
         "uid": "b2852a2b-3871-4120-ab99-b29a234ce183",
         "x": [
          "2018-07-14 0:12:15",
          "2018-07-14 0:13:27"
         ],
         "y": [
          0,
          0
         ]
        },
        {
         "marker": {
          "color": "white"
         },
         "name": "",
         "type": "scatter",
         "uid": "30b9f8e7-1d53-4439-99b9-f9499dcd7ac8",
         "x": [
          "2018-07-14 0:11:43",
          "2018-07-14 0:12:15"
         ],
         "y": [
          0,
          0
         ]
        },
        {
         "marker": {
          "color": "white"
         },
         "name": "",
         "type": "scatter",
         "uid": "389ebb74-36f5-48d7-8b3f-e0c3f6ed83b2",
         "x": [
          "2018-07-14 0:15:52",
          "2018-07-14 0:16:40"
         ],
         "y": [
          0,
          0
         ]
        },
        {
         "marker": {
          "color": "white"
         },
         "name": "",
         "type": "scatter",
         "uid": "0e6c08af-5bac-4274-a494-e519346da758",
         "x": [
          "2018-07-14 0:11:32",
          "2018-07-14 0:11:43"
         ],
         "y": [
          0,
          0
         ]
        },
        {
         "marker": {
          "color": "white"
         },
         "name": "",
         "type": "scatter",
         "uid": "683df85e-d694-4539-8dab-8f23fb050805",
         "x": [
          "2018-07-14 0:08:42",
          "2018-07-14 0:09:58"
         ],
         "y": [
          0,
          0
         ]
        },
        {
         "hoverinfo": "none",
         "marker": {
          "color": "rgb(31, 119, 180)",
          "size": 1
         },
         "name": "Job 1",
         "showlegend": true,
         "type": "scatter",
         "uid": "f7cde1a3-fcaf-49aa-a918-6540f4e4f97d",
         "x": [
          "2018-07-14 0:08:42",
          "2018-07-14 0:08:42"
         ],
         "y": [
          0,
          0
         ]
        },
        {
         "hoverinfo": "none",
         "marker": {
          "color": "rgb(255, 127, 14)",
          "size": 1
         },
         "name": "Job 10",
         "showlegend": true,
         "type": "scatter",
         "uid": "69d45d04-28f6-4a3e-b6a1-3e205ad115b4",
         "x": [
          "2018-07-14 0:08:42",
          "2018-07-14 0:08:42"
         ],
         "y": [
          1,
          1
         ]
        },
        {
         "hoverinfo": "none",
         "marker": {
          "color": "rgb(44, 160, 44)",
          "size": 1
         },
         "name": "Job 2",
         "showlegend": true,
         "type": "scatter",
         "uid": "ec5ee75f-d900-4279-92af-2b31067c7d1d",
         "x": [
          "2018-07-14 0:08:42",
          "2018-07-14 0:08:42"
         ],
         "y": [
          2,
          2
         ]
        },
        {
         "hoverinfo": "none",
         "marker": {
          "color": "rgb(214, 39, 40)",
          "size": 1
         },
         "name": "Job 3",
         "showlegend": true,
         "type": "scatter",
         "uid": "fff9f7e7-2dec-40bd-80f3-1ffa97433965",
         "x": [
          "2018-07-14 0:08:42",
          "2018-07-14 0:08:42"
         ],
         "y": [
          3,
          3
         ]
        },
        {
         "hoverinfo": "none",
         "marker": {
          "color": "rgb(148, 103, 189)",
          "size": 1
         },
         "name": "Job 4",
         "showlegend": true,
         "type": "scatter",
         "uid": "bbe2a1cb-8de4-43b2-a112-f1c36f331852",
         "x": [
          "2018-07-14 0:08:42",
          "2018-07-14 0:08:42"
         ],
         "y": [
          4,
          4
         ]
        },
        {
         "hoverinfo": "none",
         "marker": {
          "color": "rgb(140, 86, 75)",
          "size": 1
         },
         "name": "Job 5",
         "showlegend": true,
         "type": "scatter",
         "uid": "a077e9c8-a636-4d3e-a5b4-2d64979af144",
         "x": [
          "2018-07-14 0:08:42",
          "2018-07-14 0:08:42"
         ],
         "y": [
          5,
          5
         ]
        },
        {
         "hoverinfo": "none",
         "marker": {
          "color": "rgb(227, 119, 194)",
          "size": 1
         },
         "name": "Job 6",
         "showlegend": true,
         "type": "scatter",
         "uid": "994f80f2-29b2-4136-8ad0-8701cdfbc172",
         "x": [
          "2018-07-14 0:08:42",
          "2018-07-14 0:08:42"
         ],
         "y": [
          6,
          6
         ]
        },
        {
         "hoverinfo": "none",
         "marker": {
          "color": "rgb(127, 127, 127)",
          "size": 1
         },
         "name": "Job 7",
         "showlegend": true,
         "type": "scatter",
         "uid": "8d7bcf34-281b-4c3a-b4d5-b0fd5d9cb1a4",
         "x": [
          "2018-07-14 0:08:42",
          "2018-07-14 0:08:42"
         ],
         "y": [
          7,
          7
         ]
        },
        {
         "hoverinfo": "none",
         "marker": {
          "color": "rgb(188, 189, 34)",
          "size": 1
         },
         "name": "Job 8",
         "showlegend": true,
         "type": "scatter",
         "uid": "e87aac91-46b4-43b4-9bb0-82d499996e21",
         "x": [
          "2018-07-14 0:08:42",
          "2018-07-14 0:08:42"
         ],
         "y": [
          8,
          8
         ]
        },
        {
         "hoverinfo": "none",
         "marker": {
          "color": "rgb(23, 190, 207)",
          "size": 1
         },
         "name": "Job 9",
         "showlegend": true,
         "type": "scatter",
         "uid": "fb50e8ff-9846-4218-a715-9355b6472a2f",
         "x": [
          "2018-07-14 0:08:42",
          "2018-07-14 0:08:42"
         ],
         "y": [
          9,
          9
         ]
        }
       ],
       "layout": {
        "height": 600,
        "hovermode": "closest",
        "shapes": [
         {
          "fillcolor": "rgb(31, 119, 180)",
          "line": {
           "width": 0
          },
          "opacity": 1,
          "type": "rect",
          "x0": "2018-07-14 0:02:05",
          "x1": "2018-07-14 0:02:34",
          "xref": "x",
          "y0": 8.8,
          "y1": 9.2,
          "yref": "y"
         },
         {
          "fillcolor": "rgb(44, 160, 44)",
          "line": {
           "width": 0
          },
          "opacity": 1,
          "type": "rect",
          "x0": "2018-07-14 0:01:16",
          "x1": "2018-07-14 0:01:59",
          "xref": "x",
          "y0": 8.8,
          "y1": 9.2,
          "yref": "y"
         },
         {
          "fillcolor": "rgb(214, 39, 40)",
          "line": {
           "width": 0
          },
          "opacity": 1,
          "type": "rect",
          "x0": "2018-07-14 0:07:52",
          "x1": "2018-07-14 0:09:17",
          "xref": "x",
          "y0": 8.8,
          "y1": 9.2,
          "yref": "y"
         },
         {
          "fillcolor": "rgb(148, 103, 189)",
          "line": {
           "width": 0
          },
          "opacity": 1,
          "type": "rect",
          "x0": "2018-07-14 0:05:04",
          "x1": "2018-07-14 0:06:15",
          "xref": "x",
          "y0": 8.8,
          "y1": 9.2,
          "yref": "y"
         },
         {
          "fillcolor": "rgb(140, 86, 75)",
          "line": {
           "width": 0
          },
          "opacity": 1,
          "type": "rect",
          "x0": "2018-07-14 0:01:59",
          "x1": "2018-07-14 0:02:05",
          "xref": "x",
          "y0": 8.8,
          "y1": 9.2,
          "yref": "y"
         },
         {
          "fillcolor": "rgb(227, 119, 194)",
          "line": {
           "width": 0
          },
          "opacity": 1,
          "type": "rect",
          "x0": "2018-07-14 0:13:27",
          "x1": "2018-07-14 0:14:14",
          "xref": "x",
          "y0": 8.8,
          "y1": 9.2,
          "yref": "y"
         },
         {
          "fillcolor": "rgb(127, 127, 127)",
          "line": {
           "width": 0
          },
          "opacity": 1,
          "type": "rect",
          "x0": "2018-07-14 0:06:28",
          "x1": "2018-07-14 0:07:05",
          "xref": "x",
          "y0": 8.8,
          "y1": 9.2,
          "yref": "y"
         },
         {
          "fillcolor": "rgb(188, 189, 34)",
          "line": {
           "width": 0
          },
          "opacity": 1,
          "type": "rect",
          "x0": "2018-07-14 0:10:07",
          "x1": "2018-07-14 0:11:33",
          "xref": "x",
          "y0": 8.8,
          "y1": 9.2,
          "yref": "y"
         },
         {
          "fillcolor": "rgb(23, 190, 207)",
          "line": {
           "width": 0
          },
          "opacity": 1,
          "type": "rect",
          "x0": "2018-07-14 0:00:00",
          "x1": "2018-07-14 0:01:16",
          "xref": "x",
          "y0": 8.8,
          "y1": 9.2,
          "yref": "y"
         },
         {
          "fillcolor": "rgb(255, 127, 14)",
          "line": {
           "width": 0
          },
          "opacity": 1,
          "type": "rect",
          "x0": "2018-07-14 0:06:15",
          "x1": "2018-07-14 0:06:28",
          "xref": "x",
          "y0": 8.8,
          "y1": 9.2,
          "yref": "y"
         },
         {
          "fillcolor": "rgb(31, 119, 180)",
          "line": {
           "width": 0
          },
          "opacity": 1,
          "type": "rect",
          "x0": "2018-07-14 0:05:03",
          "x1": "2018-07-14 0:06:21",
          "xref": "x",
          "y0": 7.8,
          "y1": 8.2,
          "yref": "y"
         },
         {
          "fillcolor": "rgb(44, 160, 44)",
          "line": {
           "width": 0
          },
          "opacity": 1,
          "type": "rect",
          "x0": "2018-07-14 0:07:52",
          "x1": "2018-07-14 0:08:20",
          "xref": "x",
          "y0": 7.8,
          "y1": 8.2,
          "yref": "y"
         },
         {
          "fillcolor": "rgb(214, 39, 40)",
          "line": {
           "width": 0
          },
          "opacity": 1,
          "type": "rect",
          "x0": "2018-07-14 0:06:21",
          "x1": "2018-07-14 0:07:52",
          "xref": "x",
          "y0": 7.8,
          "y1": 8.2,
          "yref": "y"
         },
         {
          "fillcolor": "rgb(148, 103, 189)",
          "line": {
           "width": 0
          },
          "opacity": 1,
          "type": "rect",
          "x0": "2018-07-14 0:00:00",
          "x1": "2018-07-14 0:01:21",
          "xref": "x",
          "y0": 7.8,
          "y1": 8.2,
          "yref": "y"
         },
         {
          "fillcolor": "rgb(140, 86, 75)",
          "line": {
           "width": 0
          },
          "opacity": 1,
          "type": "rect",
          "x0": "2018-07-14 0:02:30",
          "x1": "2018-07-14 0:02:52",
          "xref": "x",
          "y0": 7.8,
          "y1": 8.2,
          "yref": "y"
         },
         {
          "fillcolor": "rgb(227, 119, 194)",
          "line": {
           "width": 0
          },
          "opacity": 1,
          "type": "rect",
          "x0": "2018-07-14 0:08:55",
          "x1": "2018-07-14 0:08:57",
          "xref": "x",
          "y0": 7.8,
          "y1": 8.2,
          "yref": "y"
         },
         {
          "fillcolor": "rgb(127, 127, 127)",
          "line": {
           "width": 0
          },
          "opacity": 1,
          "type": "rect",
          "x0": "2018-07-14 0:04:17",
          "x1": "2018-07-14 0:05:03",
          "xref": "x",
          "y0": 7.8,
          "y1": 8.2,
          "yref": "y"
         },
         {
          "fillcolor": "rgb(188, 189, 34)",
          "line": {
           "width": 0
          },
          "opacity": 1,
          "type": "rect",
          "x0": "2018-07-14 0:11:33",
          "x1": "2018-07-14 0:12:19",
          "xref": "x",
          "y0": 7.8,
          "y1": 8.2,
          "yref": "y"
         },
         {
          "fillcolor": "rgb(23, 190, 207)",
          "line": {
           "width": 0
          },
          "opacity": 1,
          "type": "rect",
          "x0": "2018-07-14 0:01:21",
          "x1": "2018-07-14 0:02:30",
          "xref": "x",
          "y0": 7.8,
          "y1": 8.2,
          "yref": "y"
         },
         {
          "fillcolor": "rgb(255, 127, 14)",
          "line": {
           "width": 0
          },
          "opacity": 1,
          "type": "rect",
          "x0": "2018-07-14 0:02:52",
          "x1": "2018-07-14 0:04:17",
          "xref": "x",
          "y0": 7.8,
          "y1": 8.2,
          "yref": "y"
         },
         {
          "fillcolor": "rgb(31, 119, 180)",
          "line": {
           "width": 0
          },
          "opacity": 1,
          "type": "rect",
          "x0": "2018-07-14 0:06:21",
          "x1": "2018-07-14 0:06:30",
          "xref": "x",
          "y0": 6.8,
          "y1": 7.2,
          "yref": "y"
         },
         {
          "fillcolor": "rgb(44, 160, 44)",
          "line": {
           "width": 0
          },
          "opacity": 1,
          "type": "rect",
          "x0": "2018-07-14 0:01:59",
          "x1": "2018-07-14 0:03:29",
          "xref": "x",
          "y0": 6.8,
          "y1": 7.2,
          "yref": "y"
         },
         {
          "fillcolor": "rgb(214, 39, 40)",
          "line": {
           "width": 0
          },
          "opacity": 1,
          "type": "rect",
          "x0": "2018-07-14 0:12:03",
          "x1": "2018-07-14 0:13:17",
          "xref": "x",
          "y0": 6.8,
          "y1": 7.2,
          "yref": "y"
         },
         {
          "fillcolor": "rgb(148, 103, 189)",
          "line": {
           "width": 0
          },
          "opacity": 1,
          "type": "rect",
          "x0": "2018-07-14 0:03:29",
          "x1": "2018-07-14 0:05:04",
          "xref": "x",
          "y0": 6.8,
          "y1": 7.2,
          "yref": "y"
         },
         {
          "fillcolor": "rgb(140, 86, 75)",
          "line": {
           "width": 0
          },
          "opacity": 1,
          "type": "rect",
          "x0": "2018-07-14 0:00:00",
          "x1": "2018-07-14 0:00:14",
          "xref": "x",
          "y0": 6.8,
          "y1": 7.2,
          "yref": "y"
         },
         {
          "fillcolor": "rgb(227, 119, 194)",
          "line": {
           "width": 0
          },
          "opacity": 1,
          "type": "rect",
          "x0": "2018-07-14 0:07:31",
          "x1": "2018-07-14 0:08:55",
          "xref": "x",
          "y0": 6.8,
          "y1": 7.2,
          "yref": "y"
         },
         {
          "fillcolor": "rgb(127, 127, 127)",
          "line": {
           "width": 0
          },
          "opacity": 1,
          "type": "rect",
          "x0": "2018-07-14 0:09:23",
          "x1": "2018-07-14 0:09:36",
          "xref": "x",
          "y0": 6.8,
          "y1": 7.2,
          "yref": "y"
         },
         {
          "fillcolor": "rgb(188, 189, 34)",
          "line": {
           "width": 0
          },
          "opacity": 1,
          "type": "rect",
          "x0": "2018-07-14 0:09:36",
          "x1": "2018-07-14 0:10:07",
          "xref": "x",
          "y0": 6.8,
          "y1": 7.2,
          "yref": "y"
         },
         {
          "fillcolor": "rgb(23, 190, 207)",
          "line": {
           "width": 0
          },
          "opacity": 1,
          "type": "rect",
          "x0": "2018-07-14 0:10:07",
          "x1": "2018-07-14 0:11:32",
          "xref": "x",
          "y0": 6.8,
          "y1": 7.2,
          "yref": "y"
         },
         {
          "fillcolor": "rgb(255, 127, 14)",
          "line": {
           "width": 0
          },
          "opacity": 1,
          "type": "rect",
          "x0": "2018-07-14 0:06:30",
          "x1": "2018-07-14 0:07:31",
          "xref": "x",
          "y0": 6.8,
          "y1": 7.2,
          "yref": "y"
         },
         {
          "fillcolor": "rgb(31, 119, 180)",
          "line": {
           "width": 0
          },
          "opacity": 1,
          "type": "rect",
          "x0": "2018-07-14 0:07:20",
          "x1": "2018-07-14 0:07:56",
          "xref": "x",
          "y0": 5.8,
          "y1": 6.2,
          "yref": "y"
         },
         {
          "fillcolor": "rgb(44, 160, 44)",
          "line": {
           "width": 0
          },
          "opacity": 1,
          "type": "rect",
          "x0": "2018-07-14 0:04:55",
          "x1": "2018-07-14 0:06:04",
          "xref": "x",
          "y0": 5.8,
          "y1": 6.2,
          "yref": "y"
         },
         {
          "fillcolor": "rgb(214, 39, 40)",
          "line": {
           "width": 0
          },
          "opacity": 1,
          "type": "rect",
          "x0": "2018-07-14 0:11:24",
          "x1": "2018-07-14 0:12:03",
          "xref": "x",
          "y0": 5.8,
          "y1": 6.2,
          "yref": "y"
         },
         {
          "fillcolor": "rgb(148, 103, 189)",
          "line": {
           "width": 0
          },
          "opacity": 1,
          "type": "rect",
          "x0": "2018-07-14 0:12:32",
          "x1": "2018-07-14 0:14:10",
          "xref": "x",
          "y0": 5.8,
          "y1": 6.2,
          "yref": "y"
         },
         {
          "fillcolor": "rgb(140, 86, 75)",
          "line": {
           "width": 0
          },
          "opacity": 1,
          "type": "rect",
          "x0": "2018-07-14 0:07:56",
          "x1": "2018-07-14 0:08:22",
          "xref": "x",
          "y0": 5.8,
          "y1": 6.2,
          "yref": "y"
         },
         {
          "fillcolor": "rgb(227, 119, 194)",
          "line": {
           "width": 0
          },
          "opacity": 1,
          "type": "rect",
          "x0": "2018-07-14 0:09:49",
          "x1": "2018-07-14 0:11:24",
          "xref": "x",
          "y0": 5.8,
          "y1": 6.2,
          "yref": "y"
         },
         {
          "fillcolor": "rgb(127, 127, 127)",
          "line": {
           "width": 0
          },
          "opacity": 1,
          "type": "rect",
          "x0": "2018-07-14 0:08:22",
          "x1": "2018-07-14 0:09:23",
          "xref": "x",
          "y0": 5.8,
          "y1": 6.2,
          "yref": "y"
         },
         {
          "fillcolor": "rgb(188, 189, 34)",
          "line": {
           "width": 0
          },
          "opacity": 1,
          "type": "rect",
          "x0": "2018-07-14 0:17:45",
          "x1": "2018-07-14 0:19:04",
          "xref": "x",
          "y0": 5.8,
          "y1": 6.2,
          "yref": "y"
         },
         {
          "fillcolor": "rgb(23, 190, 207)",
          "line": {
           "width": 0
          },
          "opacity": 1,
          "type": "rect",
          "x0": "2018-07-14 0:06:04",
          "x1": "2018-07-14 0:07:20",
          "xref": "x",
          "y0": 5.8,
          "y1": 6.2,
          "yref": "y"
         },
         {
          "fillcolor": "rgb(255, 127, 14)",
          "line": {
           "width": 0
          },
          "opacity": 1,
          "type": "rect",
          "x0": "2018-07-14 0:14:10",
          "x1": "2018-07-14 0:15:02",
          "xref": "x",
          "y0": 5.8,
          "y1": 6.2,
          "yref": "y"
         },
         {
          "fillcolor": "rgb(31, 119, 180)",
          "line": {
           "width": 0
          },
          "opacity": 1,
          "type": "rect",
          "x0": "2018-07-14 0:07:56",
          "x1": "2018-07-14 0:08:45",
          "xref": "x",
          "y0": 4.8,
          "y1": 5.2,
          "yref": "y"
         },
         {
          "fillcolor": "rgb(44, 160, 44)",
          "line": {
           "width": 0
          },
          "opacity": 1,
          "type": "rect",
          "x0": "2018-07-14 0:03:29",
          "x1": "2018-07-14 0:04:44",
          "xref": "x",
          "y0": 4.8,
          "y1": 5.2,
          "yref": "y"
         },
         {
          "fillcolor": "rgb(214, 39, 40)",
          "line": {
           "width": 0
          },
          "opacity": 1,
          "type": "rect",
          "x0": "2018-07-14 0:18:52",
          "x1": "2018-07-14 0:19:25",
          "xref": "x",
          "y0": 4.8,
          "y1": 5.2,
          "yref": "y"
         },
         {
          "fillcolor": "rgb(148, 103, 189)",
          "line": {
           "width": 0
          },
          "opacity": 1,
          "type": "rect",
          "x0": "2018-07-14 0:06:15",
          "x1": "2018-07-14 0:07:54",
          "xref": "x",
          "y0": 4.8,
          "y1": 5.2,
          "yref": "y"
         },
         {
          "fillcolor": "rgb(140, 86, 75)",
          "line": {
           "width": 0
          },
          "opacity": 1,
          "type": "rect",
          "x0": "2018-07-14 0:08:45",
          "x1": "2018-07-14 0:09:54",
          "xref": "x",
          "y0": 4.8,
          "y1": 5.2,
          "yref": "y"
         },
         {
          "fillcolor": "rgb(227, 119, 194)",
          "line": {
           "width": 0
          },
          "opacity": 1,
          "type": "rect",
          "x0": "2018-07-14 0:18:04",
          "x1": "2018-07-14 0:18:10",
          "xref": "x",
          "y0": 4.8,
          "y1": 5.2,
          "yref": "y"
         },
         {
          "fillcolor": "rgb(127, 127, 127)",
          "line": {
           "width": 0
          },
          "opacity": 1,
          "type": "rect",
          "x0": "2018-07-14 0:17:09",
          "x1": "2018-07-14 0:18:04",
          "xref": "x",
          "y0": 4.8,
          "y1": 5.2,
          "yref": "y"
         },
         {
          "fillcolor": "rgb(188, 189, 34)",
          "line": {
           "width": 0
          },
          "opacity": 1,
          "type": "rect",
          "x0": "2018-07-14 0:13:33",
          "x1": "2018-07-14 0:14:05",
          "xref": "x",
          "y0": 4.8,
          "y1": 5.2,
          "yref": "y"
         },
         {
          "fillcolor": "rgb(23, 190, 207)",
          "line": {
           "width": 0
          },
          "opacity": 1,
          "type": "rect",
          "x0": "2018-07-14 0:14:05",
          "x1": "2018-07-14 0:14:31",
          "xref": "x",
          "y0": 4.8,
          "y1": 5.2,
          "yref": "y"
         },
         {
          "fillcolor": "rgb(255, 127, 14)",
          "line": {
           "width": 0
          },
          "opacity": 1,
          "type": "rect",
          "x0": "2018-07-14 0:15:02",
          "x1": "2018-07-14 0:16:32",
          "xref": "x",
          "y0": 4.8,
          "y1": 5.2,
          "yref": "y"
         },
         {
          "fillcolor": "rgb(31, 119, 180)",
          "line": {
           "width": 0
          },
          "opacity": 1,
          "type": "rect",
          "x0": "2018-07-14 0:11:16",
          "x1": "2018-07-14 0:11:27",
          "xref": "x",
          "y0": 3.8,
          "y1": 4.2,
          "yref": "y"
         },
         {
          "fillcolor": "rgb(44, 160, 44)",
          "line": {
           "width": 0
          },
          "opacity": 1,
          "type": "rect",
          "x0": "2018-07-14 0:13:33",
          "x1": "2018-07-14 0:14:19",
          "xref": "x",
          "y0": 3.8,
          "y1": 4.2,
          "yref": "y"
         },
         {
          "fillcolor": "rgb(214, 39, 40)",
          "line": {
           "width": 0
          },
          "opacity": 1,
          "type": "rect",
          "x0": "2018-07-14 0:15:14",
          "x1": "2018-07-14 0:15:24",
          "xref": "x",
          "y0": 3.8,
          "y1": 4.2,
          "yref": "y"
         },
         {
          "fillcolor": "rgb(148, 103, 189)",
          "line": {
           "width": 0
          },
          "opacity": 1,
          "type": "rect",
          "x0": "2018-07-14 0:17:02",
          "x1": "2018-07-14 0:17:45",
          "xref": "x",
          "y0": 3.8,
          "y1": 4.2,
          "yref": "y"
         },
         {
          "fillcolor": "rgb(140, 86, 75)",
          "line": {
           "width": 0
          },
          "opacity": 1,
          "type": "rect",
          "x0": "2018-07-14 0:02:52",
          "x1": "2018-07-14 0:03:53",
          "xref": "x",
          "y0": 3.8,
          "y1": 4.2,
          "yref": "y"
         },
         {
          "fillcolor": "rgb(227, 119, 194)",
          "line": {
           "width": 0
          },
          "opacity": 1,
          "type": "rect",
          "x0": "2018-07-14 0:08:57",
          "x1": "2018-07-14 0:09:49",
          "xref": "x",
          "y0": 3.8,
          "y1": 4.2,
          "yref": "y"
         },
         {
          "fillcolor": "rgb(127, 127, 127)",
          "line": {
           "width": 0
          },
          "opacity": 1,
          "type": "rect",
          "x0": "2018-07-14 0:10:08",
          "x1": "2018-07-14 0:10:29",
          "xref": "x",
          "y0": 3.8,
          "y1": 4.2,
          "yref": "y"
         },
         {
          "fillcolor": "rgb(188, 189, 34)",
          "line": {
           "width": 0
          },
          "opacity": 1,
          "type": "rect",
          "x0": "2018-07-14 0:12:19",
          "x1": "2018-07-14 0:13:33",
          "xref": "x",
          "y0": 3.8,
          "y1": 4.2,
          "yref": "y"
         },
         {
          "fillcolor": "rgb(23, 190, 207)",
          "line": {
           "width": 0
          },
          "opacity": 1,
          "type": "rect",
          "x0": "2018-07-14 0:07:20",
          "x1": "2018-07-14 0:08:11",
          "xref": "x",
          "y0": 3.8,
          "y1": 4.2,
          "yref": "y"
         },
         {
          "fillcolor": "rgb(255, 127, 14)",
          "line": {
           "width": 0
          },
          "opacity": 1,
          "type": "rect",
          "x0": "2018-07-14 0:10:29",
          "x1": "2018-07-14 0:11:16",
          "xref": "x",
          "y0": 3.8,
          "y1": 4.2,
          "yref": "y"
         },
         {
          "fillcolor": "rgb(31, 119, 180)",
          "line": {
           "width": 0
          },
          "opacity": 1,
          "type": "rect",
          "x0": "2018-07-14 0:12:23",
          "x1": "2018-07-14 0:13:25",
          "xref": "x",
          "y0": 2.8,
          "y1": 3.2,
          "yref": "y"
         },
         {
          "fillcolor": "rgb(44, 160, 44)",
          "line": {
           "width": 0
          },
          "opacity": 1,
          "type": "rect",
          "x0": "2018-07-14 0:10:08",
          "x1": "2018-07-14 0:10:54",
          "xref": "x",
          "y0": 2.8,
          "y1": 3.2,
          "yref": "y"
         },
         {
          "fillcolor": "rgb(214, 39, 40)",
          "line": {
           "width": 0
          },
          "opacity": 1,
          "type": "rect",
          "x0": "2018-07-14 0:16:38",
          "x1": "2018-07-14 0:18:07",
          "xref": "x",
          "y0": 2.8,
          "y1": 3.2,
          "yref": "y"
         },
         {
          "fillcolor": "rgb(148, 103, 189)",
          "line": {
           "width": 0
          },
          "opacity": 1,
          "type": "rect",
          "x0": "2018-07-14 0:07:54",
          "x1": "2018-07-14 0:08:03",
          "xref": "x",
          "y0": 2.8,
          "y1": 3.2,
          "yref": "y"
         },
         {
          "fillcolor": "rgb(140, 86, 75)",
          "line": {
           "width": 0
          },
          "opacity": 1,
          "type": "rect",
          "x0": "2018-07-14 0:18:07",
          "x1": "2018-07-14 0:19:00",
          "xref": "x",
          "y0": 2.8,
          "y1": 3.2,
          "yref": "y"
         },
         {
          "fillcolor": "rgb(227, 119, 194)",
          "line": {
           "width": 0
          },
          "opacity": 1,
          "type": "rect",
          "x0": "2018-07-14 0:15:33",
          "x1": "2018-07-14 0:16:38",
          "xref": "x",
          "y0": 2.8,
          "y1": 3.2,
          "yref": "y"
         },
         {
          "fillcolor": "rgb(127, 127, 127)",
          "line": {
           "width": 0
          },
          "opacity": 1,
          "type": "rect",
          "x0": "2018-07-14 0:09:36",
          "x1": "2018-07-14 0:10:08",
          "xref": "x",
          "y0": 2.8,
          "y1": 3.2,
          "yref": "y"
         },
         {
          "fillcolor": "rgb(188, 189, 34)",
          "line": {
           "width": 0
          },
          "opacity": 1,
          "type": "rect",
          "x0": "2018-07-14 0:14:05",
          "x1": "2018-07-14 0:15:33",
          "xref": "x",
          "y0": 2.8,
          "y1": 3.2,
          "yref": "y"
         },
         {
          "fillcolor": "rgb(23, 190, 207)",
          "line": {
           "width": 0
          },
          "opacity": 1,
          "type": "rect",
          "x0": "2018-07-14 0:11:43",
          "x1": "2018-07-14 0:12:23",
          "xref": "x",
          "y0": 2.8,
          "y1": 3.2,
          "yref": "y"
         },
         {
          "fillcolor": "rgb(255, 127, 14)",
          "line": {
           "width": 0
          },
          "opacity": 1,
          "type": "rect",
          "x0": "2018-07-14 0:07:31",
          "x1": "2018-07-14 0:07:38",
          "xref": "x",
          "y0": 2.8,
          "y1": 3.2,
          "yref": "y"
         },
         {
          "fillcolor": "rgb(31, 119, 180)",
          "line": {
           "width": 0
          },
          "opacity": 1,
          "type": "rect",
          "x0": "2018-07-14 0:15:43",
          "x1": "2018-07-14 0:16:39",
          "xref": "x",
          "y0": 1.8,
          "y1": 2.2,
          "yref": "y"
         },
         {
          "fillcolor": "rgb(44, 160, 44)",
          "line": {
           "width": 0
          },
          "opacity": 1,
          "type": "rect",
          "x0": "2018-07-14 0:14:19",
          "x1": "2018-07-14 0:15:31",
          "xref": "x",
          "y0": 1.8,
          "y1": 2.2,
          "yref": "y"
         },
         {
          "fillcolor": "rgb(214, 39, 40)",
          "line": {
           "width": 0
          },
          "opacity": 1,
          "type": "rect",
          "x0": "2018-07-14 0:15:31",
          "x1": "2018-07-14 0:15:43",
          "xref": "x",
          "y0": 1.8,
          "y1": 2.2,
          "yref": "y"
         },
         {
          "fillcolor": "rgb(148, 103, 189)",
          "line": {
           "width": 0
          },
          "opacity": 1,
          "type": "rect",
          "x0": "2018-07-14 0:11:07",
          "x1": "2018-07-14 0:12:32",
          "xref": "x",
          "y0": 1.8,
          "y1": 2.2,
          "yref": "y"
         },
         {
          "fillcolor": "rgb(140, 86, 75)",
          "line": {
           "width": 0
          },
          "opacity": 1,
          "type": "rect",
          "x0": "2018-07-14 0:10:15",
          "x1": "2018-07-14 0:11:04",
          "xref": "x",
          "y0": 1.8,
          "y1": 2.2,
          "yref": "y"
         },
         {
          "fillcolor": "rgb(227, 119, 194)",
          "line": {
           "width": 0
          },
          "opacity": 1,
          "type": "rect",
          "x0": "2018-07-14 0:18:30",
          "x1": "2018-07-14 0:18:55",
          "xref": "x",
          "y0": 1.8,
          "y1": 2.2,
          "yref": "y"
         },
         {
          "fillcolor": "rgb(127, 127, 127)",
          "line": {
           "width": 0
          },
          "opacity": 1,
          "type": "rect",
          "x0": "2018-07-14 0:16:39",
          "x1": "2018-07-14 0:17:09",
          "xref": "x",
          "y0": 1.8,
          "y1": 2.2,
          "yref": "y"
         },
         {
          "fillcolor": "rgb(188, 189, 34)",
          "line": {
           "width": 0
          },
          "opacity": 1,
          "type": "rect",
          "x0": "2018-07-14 0:17:09",
          "x1": "2018-07-14 0:17:45",
          "xref": "x",
          "y0": 1.8,
          "y1": 2.2,
          "yref": "y"
         },
         {
          "fillcolor": "rgb(23, 190, 207)",
          "line": {
           "width": 0
          },
          "opacity": 1,
          "type": "rect",
          "x0": "2018-07-14 0:12:32",
          "x1": "2018-07-14 0:14:01",
          "xref": "x",
          "y0": 1.8,
          "y1": 2.2,
          "yref": "y"
         },
         {
          "fillcolor": "rgb(255, 127, 14)",
          "line": {
           "width": 0
          },
          "opacity": 1,
          "type": "rect",
          "x0": "2018-07-14 0:17:45",
          "x1": "2018-07-14 0:18:30",
          "xref": "x",
          "y0": 1.8,
          "y1": 2.2,
          "yref": "y"
         },
         {
          "fillcolor": "rgb(31, 119, 180)",
          "line": {
           "width": 0
          },
          "opacity": 1,
          "type": "rect",
          "x0": "2018-07-14 0:17:36",
          "x1": "2018-07-14 0:18:20",
          "xref": "x",
          "y0": 0.8,
          "y1": 1.2,
          "yref": "y"
         },
         {
          "fillcolor": "rgb(44, 160, 44)",
          "line": {
           "width": 0
          },
          "opacity": 1,
          "type": "rect",
          "x0": "2018-07-14 0:15:52",
          "x1": "2018-07-14 0:16:22",
          "xref": "x",
          "y0": 0.8,
          "y1": 1.2,
          "yref": "y"
         },
         {
          "fillcolor": "rgb(214, 39, 40)",
          "line": {
           "width": 0
          },
          "opacity": 1,
          "type": "rect",
          "x0": "2018-07-14 0:13:44",
          "x1": "2018-07-14 0:15:14",
          "xref": "x",
          "y0": 0.8,
          "y1": 1.2,
          "yref": "y"
         },
         {
          "fillcolor": "rgb(148, 103, 189)",
          "line": {
           "width": 0
          },
          "opacity": 1,
          "type": "rect",
          "x0": "2018-07-14 0:10:15",
          "x1": "2018-07-14 0:11:07",
          "xref": "x",
          "y0": 0.8,
          "y1": 1.2,
          "yref": "y"
         },
         {
          "fillcolor": "rgb(140, 86, 75)",
          "line": {
           "width": 0
          },
          "opacity": 1,
          "type": "rect",
          "x0": "2018-07-14 0:09:54",
          "x1": "2018-07-14 0:10:15",
          "xref": "x",
          "y0": 0.8,
          "y1": 1.2,
          "yref": "y"
         },
         {
          "fillcolor": "rgb(227, 119, 194)",
          "line": {
           "width": 0
          },
          "opacity": 1,
          "type": "rect",
          "x0": "2018-07-14 0:11:24",
          "x1": "2018-07-14 0:12:12",
          "xref": "x",
          "y0": 0.8,
          "y1": 1.2,
          "yref": "y"
         },
         {
          "fillcolor": "rgb(127, 127, 127)",
          "line": {
           "width": 0
          },
          "opacity": 1,
          "type": "rect",
          "x0": "2018-07-14 0:12:15",
          "x1": "2018-07-14 0:13:44",
          "xref": "x",
          "y0": 0.8,
          "y1": 1.2,
          "yref": "y"
         },
         {
          "fillcolor": "rgb(188, 189, 34)",
          "line": {
           "width": 0
          },
          "opacity": 1,
          "type": "rect",
          "x0": "2018-07-14 0:15:33",
          "x1": "2018-07-14 0:15:52",
          "xref": "x",
          "y0": 0.8,
          "y1": 1.2,
          "yref": "y"
         },
         {
          "fillcolor": "rgb(23, 190, 207)",
          "line": {
           "width": 0
          },
          "opacity": 1,
          "type": "rect",
          "x0": "2018-07-14 0:16:22",
          "x1": "2018-07-14 0:17:36",
          "xref": "x",
          "y0": 0.8,
          "y1": 1.2,
          "yref": "y"
         },
         {
          "fillcolor": "rgb(255, 127, 14)",
          "line": {
           "width": 0
          },
          "opacity": 1,
          "type": "rect",
          "x0": "2018-07-14 0:07:38",
          "x1": "2018-07-14 0:08:42",
          "xref": "x",
          "y0": 0.8,
          "y1": 1.2,
          "yref": "y"
         },
         {
          "fillcolor": "rgb(31, 119, 180)",
          "line": {
           "width": 0
          },
          "opacity": 1,
          "type": "rect",
          "x0": "2018-07-14 0:18:52",
          "x1": "2018-07-14 0:19:13",
          "xref": "x",
          "y0": -0.2,
          "y1": 0.2,
          "yref": "y"
         },
         {
          "fillcolor": "rgb(44, 160, 44)",
          "line": {
           "width": 0
          },
          "opacity": 1,
          "type": "rect",
          "x0": "2018-07-14 0:04:44",
          "x1": "2018-07-14 0:04:55",
          "xref": "x",
          "y0": -0.2,
          "y1": 0.2,
          "yref": "y"
         },
         {
          "fillcolor": "rgb(214, 39, 40)",
          "line": {
           "width": 0
          },
          "opacity": 1,
          "type": "rect",
          "x0": "2018-07-14 0:18:07",
          "x1": "2018-07-14 0:18:52",
          "xref": "x",
          "y0": -0.2,
          "y1": 0.2,
          "yref": "y"
         },
         {
          "fillcolor": "rgb(148, 103, 189)",
          "line": {
           "width": 0
          },
          "opacity": 1,
          "type": "rect",
          "x0": "2018-07-14 0:16:40",
          "x1": "2018-07-14 0:17:02",
          "xref": "x",
          "y0": -0.2,
          "y1": 0.2,
          "yref": "y"
         },
         {
          "fillcolor": "rgb(140, 86, 75)",
          "line": {
           "width": 0
          },
          "opacity": 1,
          "type": "rect",
          "x0": "2018-07-14 0:13:27",
          "x1": "2018-07-14 0:14:39",
          "xref": "x",
          "y0": -0.2,
          "y1": 0.2,
          "yref": "y"
         },
         {
          "fillcolor": "rgb(227, 119, 194)",
          "line": {
           "width": 0
          },
          "opacity": 1,
          "type": "rect",
          "x0": "2018-07-14 0:12:15",
          "x1": "2018-07-14 0:13:27",
          "xref": "x",
          "y0": -0.2,
          "y1": 0.2,
          "yref": "y"
         },
         {
          "fillcolor": "rgb(127, 127, 127)",
          "line": {
           "width": 0
          },
          "opacity": 1,
          "type": "rect",
          "x0": "2018-07-14 0:11:43",
          "x1": "2018-07-14 0:12:15",
          "xref": "x",
          "y0": -0.2,
          "y1": 0.2,
          "yref": "y"
         },
         {
          "fillcolor": "rgb(188, 189, 34)",
          "line": {
           "width": 0
          },
          "opacity": 1,
          "type": "rect",
          "x0": "2018-07-14 0:15:52",
          "x1": "2018-07-14 0:16:40",
          "xref": "x",
          "y0": -0.2,
          "y1": 0.2,
          "yref": "y"
         },
         {
          "fillcolor": "rgb(23, 190, 207)",
          "line": {
           "width": 0
          },
          "opacity": 1,
          "type": "rect",
          "x0": "2018-07-14 0:11:32",
          "x1": "2018-07-14 0:11:43",
          "xref": "x",
          "y0": -0.2,
          "y1": 0.2,
          "yref": "y"
         },
         {
          "fillcolor": "rgb(255, 127, 14)",
          "line": {
           "width": 0
          },
          "opacity": 1,
          "type": "rect",
          "x0": "2018-07-14 0:08:42",
          "x1": "2018-07-14 0:09:58",
          "xref": "x",
          "y0": -0.2,
          "y1": 0.2,
          "yref": "y"
         }
        ],
        "showlegend": true,
        "title": {
         "text": "Job shop Schedule"
        },
        "width": 900,
        "xaxis": {
         "rangeselector": {
          "buttons": [
           {
            "count": 7,
            "label": "1w",
            "step": "day",
            "stepmode": "backward"
           },
           {
            "count": 1,
            "label": "1m",
            "step": "month",
            "stepmode": "backward"
           },
           {
            "count": 6,
            "label": "6m",
            "step": "month",
            "stepmode": "backward"
           },
           {
            "count": 1,
            "label": "YTD",
            "step": "year",
            "stepmode": "todate"
           },
           {
            "count": 1,
            "label": "1y",
            "step": "year",
            "stepmode": "backward"
           },
           {
            "step": "all"
           }
          ]
         },
         "showgrid": true,
         "type": "date",
         "zeroline": false
        },
        "yaxis": {
         "autorange": false,
         "range": [
          -1,
          11
         ],
         "showgrid": false,
         "ticktext": [
          "Machine 10",
          "Machine 9",
          "Machine 8",
          "Machine 7",
          "Machine 6",
          "Machine 5",
          "Machine 4",
          "Machine 3",
          "Machine 2",
          "Machine 1"
         ],
         "tickvals": [
          0,
          1,
          2,
          3,
          4,
          5,
          6,
          7,
          8,
          9
         ],
         "zeroline": false
        }
       }
      },
      "text/html": [
       "<div>\n",
       "        \n",
       "        \n",
       "            <div id=\"1fd7813d-a419-4c95-80ba-f011f72b1486\" class=\"plotly-graph-div\" style=\"height:600px; width:900px;\"></div>\n",
       "            <script type=\"text/javascript\">\n",
       "                require([\"plotly\"], function(Plotly) {\n",
       "                    window.PLOTLYENV=window.PLOTLYENV || {};\n",
       "                    window.PLOTLYENV.BASE_URL='https://plot.ly';\n",
       "                    \n",
       "                if (document.getElementById(\"1fd7813d-a419-4c95-80ba-f011f72b1486\")) {\n",
       "                    Plotly.newPlot(\n",
       "                        '1fd7813d-a419-4c95-80ba-f011f72b1486',\n",
       "                        [{\"marker\": {\"color\": \"white\"}, \"name\": \"\", \"type\": \"scatter\", \"uid\": \"a6dd0533-8808-46c5-ac6a-9301f14484e6\", \"x\": [\"2018-07-14 0:02:05\", \"2018-07-14 0:02:34\"], \"y\": [9, 9]}, {\"marker\": {\"color\": \"white\"}, \"name\": \"\", \"type\": \"scatter\", \"uid\": \"1aaec764-f348-47ee-805a-03e0359f5f3d\", \"x\": [\"2018-07-14 0:01:16\", \"2018-07-14 0:01:59\"], \"y\": [9, 9]}, {\"marker\": {\"color\": \"white\"}, \"name\": \"\", \"type\": \"scatter\", \"uid\": \"e74d1bd7-e7eb-4f72-8fa6-93cf94afcb55\", \"x\": [\"2018-07-14 0:07:52\", \"2018-07-14 0:09:17\"], \"y\": [9, 9]}, {\"marker\": {\"color\": \"white\"}, \"name\": \"\", \"type\": \"scatter\", \"uid\": \"960884f9-63bd-444c-96f4-02d449f66203\", \"x\": [\"2018-07-14 0:05:04\", \"2018-07-14 0:06:15\"], \"y\": [9, 9]}, {\"marker\": {\"color\": \"white\"}, \"name\": \"\", \"type\": \"scatter\", \"uid\": \"0aa3dae3-99b9-4d43-b33d-7d620c8b6fd5\", \"x\": [\"2018-07-14 0:01:59\", \"2018-07-14 0:02:05\"], \"y\": [9, 9]}, {\"marker\": {\"color\": \"white\"}, \"name\": \"\", \"type\": \"scatter\", \"uid\": \"f1a837cd-07ef-40e6-9f6d-7f270a004a35\", \"x\": [\"2018-07-14 0:13:27\", \"2018-07-14 0:14:14\"], \"y\": [9, 9]}, {\"marker\": {\"color\": \"white\"}, \"name\": \"\", \"type\": \"scatter\", \"uid\": \"6eac51c3-71a0-435e-9521-6461507f18fc\", \"x\": [\"2018-07-14 0:06:28\", \"2018-07-14 0:07:05\"], \"y\": [9, 9]}, {\"marker\": {\"color\": \"white\"}, \"name\": \"\", \"type\": \"scatter\", \"uid\": \"de93ac0f-9def-484b-a4e1-e75a54d5930b\", \"x\": [\"2018-07-14 0:10:07\", \"2018-07-14 0:11:33\"], \"y\": [9, 9]}, {\"marker\": {\"color\": \"white\"}, \"name\": \"\", \"type\": \"scatter\", \"uid\": \"ea944e12-1d6c-46e5-85f3-7868667994fc\", \"x\": [\"2018-07-14 0:00:00\", \"2018-07-14 0:01:16\"], \"y\": [9, 9]}, {\"marker\": {\"color\": \"white\"}, \"name\": \"\", \"type\": \"scatter\", \"uid\": \"dc865a62-9832-4f56-bdf0-ffcfb4606724\", \"x\": [\"2018-07-14 0:06:15\", \"2018-07-14 0:06:28\"], \"y\": [9, 9]}, {\"marker\": {\"color\": \"white\"}, \"name\": \"\", \"type\": \"scatter\", \"uid\": \"d34401bb-e67f-4d52-b707-861234007cc0\", \"x\": [\"2018-07-14 0:05:03\", \"2018-07-14 0:06:21\"], \"y\": [8, 8]}, {\"marker\": {\"color\": \"white\"}, \"name\": \"\", \"type\": \"scatter\", \"uid\": \"703bdf77-36a9-4d02-add8-725b87157cd2\", \"x\": [\"2018-07-14 0:07:52\", \"2018-07-14 0:08:20\"], \"y\": [8, 8]}, {\"marker\": {\"color\": \"white\"}, \"name\": \"\", \"type\": \"scatter\", \"uid\": \"e44f06e0-3f6c-4013-8045-d38c0364cd02\", \"x\": [\"2018-07-14 0:06:21\", \"2018-07-14 0:07:52\"], \"y\": [8, 8]}, {\"marker\": {\"color\": \"white\"}, \"name\": \"\", \"type\": \"scatter\", \"uid\": \"cd42294a-33ac-4257-af36-f4d1b207eee7\", \"x\": [\"2018-07-14 0:00:00\", \"2018-07-14 0:01:21\"], \"y\": [8, 8]}, {\"marker\": {\"color\": \"white\"}, \"name\": \"\", \"type\": \"scatter\", \"uid\": \"e69176f0-f364-4992-bdc3-ffa58eedba79\", \"x\": [\"2018-07-14 0:02:30\", \"2018-07-14 0:02:52\"], \"y\": [8, 8]}, {\"marker\": {\"color\": \"white\"}, \"name\": \"\", \"type\": \"scatter\", \"uid\": \"6ab142ba-e037-45c6-a945-3ed04f8cb4ba\", \"x\": [\"2018-07-14 0:08:55\", \"2018-07-14 0:08:57\"], \"y\": [8, 8]}, {\"marker\": {\"color\": \"white\"}, \"name\": \"\", \"type\": \"scatter\", \"uid\": \"65c674d8-dd60-4721-a996-e463570ac205\", \"x\": [\"2018-07-14 0:04:17\", \"2018-07-14 0:05:03\"], \"y\": [8, 8]}, {\"marker\": {\"color\": \"white\"}, \"name\": \"\", \"type\": \"scatter\", \"uid\": \"e25fde4c-a88f-459d-b96c-ea91e4ed2e74\", \"x\": [\"2018-07-14 0:11:33\", \"2018-07-14 0:12:19\"], \"y\": [8, 8]}, {\"marker\": {\"color\": \"white\"}, \"name\": \"\", \"type\": \"scatter\", \"uid\": \"a4cfb698-50c1-46a1-bfd1-22fa11366198\", \"x\": [\"2018-07-14 0:01:21\", \"2018-07-14 0:02:30\"], \"y\": [8, 8]}, {\"marker\": {\"color\": \"white\"}, \"name\": \"\", \"type\": \"scatter\", \"uid\": \"54a49744-d37c-49bf-8bae-a71d6ccf29cb\", \"x\": [\"2018-07-14 0:02:52\", \"2018-07-14 0:04:17\"], \"y\": [8, 8]}, {\"marker\": {\"color\": \"white\"}, \"name\": \"\", \"type\": \"scatter\", \"uid\": \"90362cfb-4534-473c-8cfb-a13b848454f4\", \"x\": [\"2018-07-14 0:06:21\", \"2018-07-14 0:06:30\"], \"y\": [7, 7]}, {\"marker\": {\"color\": \"white\"}, \"name\": \"\", \"type\": \"scatter\", \"uid\": \"f7ead29a-8f1b-4686-a2fe-79985e80c5fb\", \"x\": [\"2018-07-14 0:01:59\", \"2018-07-14 0:03:29\"], \"y\": [7, 7]}, {\"marker\": {\"color\": \"white\"}, \"name\": \"\", \"type\": \"scatter\", \"uid\": \"8df9a11d-d2e2-486a-9db8-5327890ce360\", \"x\": [\"2018-07-14 0:12:03\", \"2018-07-14 0:13:17\"], \"y\": [7, 7]}, {\"marker\": {\"color\": \"white\"}, \"name\": \"\", \"type\": \"scatter\", \"uid\": \"e068fcb7-5c87-4c6e-afbe-0d38e867ec94\", \"x\": [\"2018-07-14 0:03:29\", \"2018-07-14 0:05:04\"], \"y\": [7, 7]}, {\"marker\": {\"color\": \"white\"}, \"name\": \"\", \"type\": \"scatter\", \"uid\": \"94242b24-ff40-4cc1-adb4-3d962c8afc63\", \"x\": [\"2018-07-14 0:00:00\", \"2018-07-14 0:00:14\"], \"y\": [7, 7]}, {\"marker\": {\"color\": \"white\"}, \"name\": \"\", \"type\": \"scatter\", \"uid\": \"c7f08287-e71f-4d62-996c-16c6846b0860\", \"x\": [\"2018-07-14 0:07:31\", \"2018-07-14 0:08:55\"], \"y\": [7, 7]}, {\"marker\": {\"color\": \"white\"}, \"name\": \"\", \"type\": \"scatter\", \"uid\": \"19e3661a-304c-4d71-bf3a-add0e3c0ff3c\", \"x\": [\"2018-07-14 0:09:23\", \"2018-07-14 0:09:36\"], \"y\": [7, 7]}, {\"marker\": {\"color\": \"white\"}, \"name\": \"\", \"type\": \"scatter\", \"uid\": \"11bc125e-fb86-4519-9d7c-b76298250306\", \"x\": [\"2018-07-14 0:09:36\", \"2018-07-14 0:10:07\"], \"y\": [7, 7]}, {\"marker\": {\"color\": \"white\"}, \"name\": \"\", \"type\": \"scatter\", \"uid\": \"15be1d84-5dd1-4a31-9c55-b01e6abadcfc\", \"x\": [\"2018-07-14 0:10:07\", \"2018-07-14 0:11:32\"], \"y\": [7, 7]}, {\"marker\": {\"color\": \"white\"}, \"name\": \"\", \"type\": \"scatter\", \"uid\": \"ec094de0-f849-4a4f-9a62-067e42256d5e\", \"x\": [\"2018-07-14 0:06:30\", \"2018-07-14 0:07:31\"], \"y\": [7, 7]}, {\"marker\": {\"color\": \"white\"}, \"name\": \"\", \"type\": \"scatter\", \"uid\": \"7725b124-dc6c-4b48-97b5-7712a5a80109\", \"x\": [\"2018-07-14 0:07:20\", \"2018-07-14 0:07:56\"], \"y\": [6, 6]}, {\"marker\": {\"color\": \"white\"}, \"name\": \"\", \"type\": \"scatter\", \"uid\": \"f6e25199-0773-46c9-9777-bf17f6e919d5\", \"x\": [\"2018-07-14 0:04:55\", \"2018-07-14 0:06:04\"], \"y\": [6, 6]}, {\"marker\": {\"color\": \"white\"}, \"name\": \"\", \"type\": \"scatter\", \"uid\": \"9c42dcd3-6a00-458a-a67d-e20d63151257\", \"x\": [\"2018-07-14 0:11:24\", \"2018-07-14 0:12:03\"], \"y\": [6, 6]}, {\"marker\": {\"color\": \"white\"}, \"name\": \"\", \"type\": \"scatter\", \"uid\": \"3cc0af5b-9b9d-49a7-9ebf-310536f3c6ca\", \"x\": [\"2018-07-14 0:12:32\", \"2018-07-14 0:14:10\"], \"y\": [6, 6]}, {\"marker\": {\"color\": \"white\"}, \"name\": \"\", \"type\": \"scatter\", \"uid\": \"3d859abd-c00b-4999-b3ec-ae87c2851943\", \"x\": [\"2018-07-14 0:07:56\", \"2018-07-14 0:08:22\"], \"y\": [6, 6]}, {\"marker\": {\"color\": \"white\"}, \"name\": \"\", \"type\": \"scatter\", \"uid\": \"fa8c7d54-865e-4566-94e7-d460beb98151\", \"x\": [\"2018-07-14 0:09:49\", \"2018-07-14 0:11:24\"], \"y\": [6, 6]}, {\"marker\": {\"color\": \"white\"}, \"name\": \"\", \"type\": \"scatter\", \"uid\": \"1c1b6fe3-0596-488f-8644-4e096f116a32\", \"x\": [\"2018-07-14 0:08:22\", \"2018-07-14 0:09:23\"], \"y\": [6, 6]}, {\"marker\": {\"color\": \"white\"}, \"name\": \"\", \"type\": \"scatter\", \"uid\": \"28913761-0bd8-4c2c-a985-3a5413da8f1e\", \"x\": [\"2018-07-14 0:17:45\", \"2018-07-14 0:19:04\"], \"y\": [6, 6]}, {\"marker\": {\"color\": \"white\"}, \"name\": \"\", \"type\": \"scatter\", \"uid\": \"3e64057a-b701-48cc-a62d-316ff1bbf7eb\", \"x\": [\"2018-07-14 0:06:04\", \"2018-07-14 0:07:20\"], \"y\": [6, 6]}, {\"marker\": {\"color\": \"white\"}, \"name\": \"\", \"type\": \"scatter\", \"uid\": \"e7ea00e2-6ddf-498b-8292-2bd15186e49f\", \"x\": [\"2018-07-14 0:14:10\", \"2018-07-14 0:15:02\"], \"y\": [6, 6]}, {\"marker\": {\"color\": \"white\"}, \"name\": \"\", \"type\": \"scatter\", \"uid\": \"c41fd3ed-1213-47d2-afdb-0573d25d4de2\", \"x\": [\"2018-07-14 0:07:56\", \"2018-07-14 0:08:45\"], \"y\": [5, 5]}, {\"marker\": {\"color\": \"white\"}, \"name\": \"\", \"type\": \"scatter\", \"uid\": \"90aae499-5809-4dac-8473-95877d544a0e\", \"x\": [\"2018-07-14 0:03:29\", \"2018-07-14 0:04:44\"], \"y\": [5, 5]}, {\"marker\": {\"color\": \"white\"}, \"name\": \"\", \"type\": \"scatter\", \"uid\": \"0bea4df9-c4e7-4a5c-82f8-095b17d2389c\", \"x\": [\"2018-07-14 0:18:52\", \"2018-07-14 0:19:25\"], \"y\": [5, 5]}, {\"marker\": {\"color\": \"white\"}, \"name\": \"\", \"type\": \"scatter\", \"uid\": \"e26d8fe6-9b09-4c5d-bf4c-adc75c1fd18a\", \"x\": [\"2018-07-14 0:06:15\", \"2018-07-14 0:07:54\"], \"y\": [5, 5]}, {\"marker\": {\"color\": \"white\"}, \"name\": \"\", \"type\": \"scatter\", \"uid\": \"e7145bbb-e0eb-4b0e-b5d1-61df2179a239\", \"x\": [\"2018-07-14 0:08:45\", \"2018-07-14 0:09:54\"], \"y\": [5, 5]}, {\"marker\": {\"color\": \"white\"}, \"name\": \"\", \"type\": \"scatter\", \"uid\": \"2d4f0b13-696e-4cf9-98aa-def039f3c3ae\", \"x\": [\"2018-07-14 0:18:04\", \"2018-07-14 0:18:10\"], \"y\": [5, 5]}, {\"marker\": {\"color\": \"white\"}, \"name\": \"\", \"type\": \"scatter\", \"uid\": \"de0cac2f-e339-4073-b4b5-213c0592af11\", \"x\": [\"2018-07-14 0:17:09\", \"2018-07-14 0:18:04\"], \"y\": [5, 5]}, {\"marker\": {\"color\": \"white\"}, \"name\": \"\", \"type\": \"scatter\", \"uid\": \"8a486934-0587-4b40-bf0a-be83e89e6dfe\", \"x\": [\"2018-07-14 0:13:33\", \"2018-07-14 0:14:05\"], \"y\": [5, 5]}, {\"marker\": {\"color\": \"white\"}, \"name\": \"\", \"type\": \"scatter\", \"uid\": \"ca1d4199-d96c-48dd-8c20-c5ad976c80ba\", \"x\": [\"2018-07-14 0:14:05\", \"2018-07-14 0:14:31\"], \"y\": [5, 5]}, {\"marker\": {\"color\": \"white\"}, \"name\": \"\", \"type\": \"scatter\", \"uid\": \"dc9470d0-2047-4e81-bea0-844f421562d5\", \"x\": [\"2018-07-14 0:15:02\", \"2018-07-14 0:16:32\"], \"y\": [5, 5]}, {\"marker\": {\"color\": \"white\"}, \"name\": \"\", \"type\": \"scatter\", \"uid\": \"77c3b829-5029-41ab-8b53-93bf6eced94b\", \"x\": [\"2018-07-14 0:11:16\", \"2018-07-14 0:11:27\"], \"y\": [4, 4]}, {\"marker\": {\"color\": \"white\"}, \"name\": \"\", \"type\": \"scatter\", \"uid\": \"8b84922a-0e3c-4ef3-bf42-27e8c390c317\", \"x\": [\"2018-07-14 0:13:33\", \"2018-07-14 0:14:19\"], \"y\": [4, 4]}, {\"marker\": {\"color\": \"white\"}, \"name\": \"\", \"type\": \"scatter\", \"uid\": \"f23847be-c708-4eac-81d2-be5877832ddb\", \"x\": [\"2018-07-14 0:15:14\", \"2018-07-14 0:15:24\"], \"y\": [4, 4]}, {\"marker\": {\"color\": \"white\"}, \"name\": \"\", \"type\": \"scatter\", \"uid\": \"be1b24a6-44a5-40e1-8923-4443a9b4707d\", \"x\": [\"2018-07-14 0:17:02\", \"2018-07-14 0:17:45\"], \"y\": [4, 4]}, {\"marker\": {\"color\": \"white\"}, \"name\": \"\", \"type\": \"scatter\", \"uid\": \"f907b3d5-0cc0-4edb-b6b2-7a5ffa25f66f\", \"x\": [\"2018-07-14 0:02:52\", \"2018-07-14 0:03:53\"], \"y\": [4, 4]}, {\"marker\": {\"color\": \"white\"}, \"name\": \"\", \"type\": \"scatter\", \"uid\": \"5a6b0bad-e000-496c-9e94-d4f44bdbef84\", \"x\": [\"2018-07-14 0:08:57\", \"2018-07-14 0:09:49\"], \"y\": [4, 4]}, {\"marker\": {\"color\": \"white\"}, \"name\": \"\", \"type\": \"scatter\", \"uid\": \"0dbfb68a-a128-44e2-862e-3c2a2f45528b\", \"x\": [\"2018-07-14 0:10:08\", \"2018-07-14 0:10:29\"], \"y\": [4, 4]}, {\"marker\": {\"color\": \"white\"}, \"name\": \"\", \"type\": \"scatter\", \"uid\": \"22c7d078-58a9-4b8c-8482-e883aa60ff7c\", \"x\": [\"2018-07-14 0:12:19\", \"2018-07-14 0:13:33\"], \"y\": [4, 4]}, {\"marker\": {\"color\": \"white\"}, \"name\": \"\", \"type\": \"scatter\", \"uid\": \"91628c71-97e1-433c-b4c6-1841fe4297a4\", \"x\": [\"2018-07-14 0:07:20\", \"2018-07-14 0:08:11\"], \"y\": [4, 4]}, {\"marker\": {\"color\": \"white\"}, \"name\": \"\", \"type\": \"scatter\", \"uid\": \"e52408a4-e5dc-49ea-8c11-795b65656e7c\", \"x\": [\"2018-07-14 0:10:29\", \"2018-07-14 0:11:16\"], \"y\": [4, 4]}, {\"marker\": {\"color\": \"white\"}, \"name\": \"\", \"type\": \"scatter\", \"uid\": \"5fb0a185-5f0a-44e0-ab1d-a8974cf41234\", \"x\": [\"2018-07-14 0:12:23\", \"2018-07-14 0:13:25\"], \"y\": [3, 3]}, {\"marker\": {\"color\": \"white\"}, \"name\": \"\", \"type\": \"scatter\", \"uid\": \"7db820d4-5157-405c-8f06-cae8544e68f1\", \"x\": [\"2018-07-14 0:10:08\", \"2018-07-14 0:10:54\"], \"y\": [3, 3]}, {\"marker\": {\"color\": \"white\"}, \"name\": \"\", \"type\": \"scatter\", \"uid\": \"9d82ef96-815c-4cc4-8276-ddb72b40ddd3\", \"x\": [\"2018-07-14 0:16:38\", \"2018-07-14 0:18:07\"], \"y\": [3, 3]}, {\"marker\": {\"color\": \"white\"}, \"name\": \"\", \"type\": \"scatter\", \"uid\": \"ea27735e-28b8-4ea6-9834-3c1af3ed1f21\", \"x\": [\"2018-07-14 0:07:54\", \"2018-07-14 0:08:03\"], \"y\": [3, 3]}, {\"marker\": {\"color\": \"white\"}, \"name\": \"\", \"type\": \"scatter\", \"uid\": \"d1d3ddf5-5712-4171-b7f4-d12e9877b8bb\", \"x\": [\"2018-07-14 0:18:07\", \"2018-07-14 0:19:00\"], \"y\": [3, 3]}, {\"marker\": {\"color\": \"white\"}, \"name\": \"\", \"type\": \"scatter\", \"uid\": \"9e0a1ae6-ccad-448d-89f5-4b3f0ff3dc83\", \"x\": [\"2018-07-14 0:15:33\", \"2018-07-14 0:16:38\"], \"y\": [3, 3]}, {\"marker\": {\"color\": \"white\"}, \"name\": \"\", \"type\": \"scatter\", \"uid\": \"9b3a249b-765a-472d-8141-0bc12c1b36aa\", \"x\": [\"2018-07-14 0:09:36\", \"2018-07-14 0:10:08\"], \"y\": [3, 3]}, {\"marker\": {\"color\": \"white\"}, \"name\": \"\", \"type\": \"scatter\", \"uid\": \"dc97099e-19f3-42af-833d-a1f0fa2ffac4\", \"x\": [\"2018-07-14 0:14:05\", \"2018-07-14 0:15:33\"], \"y\": [3, 3]}, {\"marker\": {\"color\": \"white\"}, \"name\": \"\", \"type\": \"scatter\", \"uid\": \"e07a018a-5dbd-4005-b943-1b277d81eff7\", \"x\": [\"2018-07-14 0:11:43\", \"2018-07-14 0:12:23\"], \"y\": [3, 3]}, {\"marker\": {\"color\": \"white\"}, \"name\": \"\", \"type\": \"scatter\", \"uid\": \"68911f75-4aad-45df-84df-08278a61835c\", \"x\": [\"2018-07-14 0:07:31\", \"2018-07-14 0:07:38\"], \"y\": [3, 3]}, {\"marker\": {\"color\": \"white\"}, \"name\": \"\", \"type\": \"scatter\", \"uid\": \"911d773d-4126-41a2-8169-4b61c382fac6\", \"x\": [\"2018-07-14 0:15:43\", \"2018-07-14 0:16:39\"], \"y\": [2, 2]}, {\"marker\": {\"color\": \"white\"}, \"name\": \"\", \"type\": \"scatter\", \"uid\": \"34877a1e-cf02-4227-820c-006ef9d6a360\", \"x\": [\"2018-07-14 0:14:19\", \"2018-07-14 0:15:31\"], \"y\": [2, 2]}, {\"marker\": {\"color\": \"white\"}, \"name\": \"\", \"type\": \"scatter\", \"uid\": \"73d22a40-9186-4407-bc54-0b0acc950a95\", \"x\": [\"2018-07-14 0:15:31\", \"2018-07-14 0:15:43\"], \"y\": [2, 2]}, {\"marker\": {\"color\": \"white\"}, \"name\": \"\", \"type\": \"scatter\", \"uid\": \"01bd2fcb-33be-43dd-abef-f764f32eb512\", \"x\": [\"2018-07-14 0:11:07\", \"2018-07-14 0:12:32\"], \"y\": [2, 2]}, {\"marker\": {\"color\": \"white\"}, \"name\": \"\", \"type\": \"scatter\", \"uid\": \"07c2f02e-498d-4bb4-99f5-2313034e4c18\", \"x\": [\"2018-07-14 0:10:15\", \"2018-07-14 0:11:04\"], \"y\": [2, 2]}, {\"marker\": {\"color\": \"white\"}, \"name\": \"\", \"type\": \"scatter\", \"uid\": \"6884dfbf-f7fc-42ce-ae3a-ff232420c4db\", \"x\": [\"2018-07-14 0:18:30\", \"2018-07-14 0:18:55\"], \"y\": [2, 2]}, {\"marker\": {\"color\": \"white\"}, \"name\": \"\", \"type\": \"scatter\", \"uid\": \"121e93d4-3ca0-49a0-8c56-81ce91950140\", \"x\": [\"2018-07-14 0:16:39\", \"2018-07-14 0:17:09\"], \"y\": [2, 2]}, {\"marker\": {\"color\": \"white\"}, \"name\": \"\", \"type\": \"scatter\", \"uid\": \"97d04f0b-f0f2-4b0a-952a-232b64fa6488\", \"x\": [\"2018-07-14 0:17:09\", \"2018-07-14 0:17:45\"], \"y\": [2, 2]}, {\"marker\": {\"color\": \"white\"}, \"name\": \"\", \"type\": \"scatter\", \"uid\": \"f4e2bce6-15b9-44c1-be40-8dfca06ea0d8\", \"x\": [\"2018-07-14 0:12:32\", \"2018-07-14 0:14:01\"], \"y\": [2, 2]}, {\"marker\": {\"color\": \"white\"}, \"name\": \"\", \"type\": \"scatter\", \"uid\": \"82eb8b0c-e104-4096-a057-fd9855ab3c4c\", \"x\": [\"2018-07-14 0:17:45\", \"2018-07-14 0:18:30\"], \"y\": [2, 2]}, {\"marker\": {\"color\": \"white\"}, \"name\": \"\", \"type\": \"scatter\", \"uid\": \"64cd5444-8eda-4510-94dc-47a2cd19aea1\", \"x\": [\"2018-07-14 0:17:36\", \"2018-07-14 0:18:20\"], \"y\": [1, 1]}, {\"marker\": {\"color\": \"white\"}, \"name\": \"\", \"type\": \"scatter\", \"uid\": \"c2d03fd4-2f04-4088-aa50-ebe10d208cb5\", \"x\": [\"2018-07-14 0:15:52\", \"2018-07-14 0:16:22\"], \"y\": [1, 1]}, {\"marker\": {\"color\": \"white\"}, \"name\": \"\", \"type\": \"scatter\", \"uid\": \"c460a819-cc80-4249-8b40-6353269fc938\", \"x\": [\"2018-07-14 0:13:44\", \"2018-07-14 0:15:14\"], \"y\": [1, 1]}, {\"marker\": {\"color\": \"white\"}, \"name\": \"\", \"type\": \"scatter\", \"uid\": \"49b2700d-c6ac-4a36-b0af-dd4b99278b2f\", \"x\": [\"2018-07-14 0:10:15\", \"2018-07-14 0:11:07\"], \"y\": [1, 1]}, {\"marker\": {\"color\": \"white\"}, \"name\": \"\", \"type\": \"scatter\", \"uid\": \"ba786af4-552a-4dff-9ca6-adf8d21ef23c\", \"x\": [\"2018-07-14 0:09:54\", \"2018-07-14 0:10:15\"], \"y\": [1, 1]}, {\"marker\": {\"color\": \"white\"}, \"name\": \"\", \"type\": \"scatter\", \"uid\": \"8f23ed88-e25b-428c-a40f-e2ff31a8dc13\", \"x\": [\"2018-07-14 0:11:24\", \"2018-07-14 0:12:12\"], \"y\": [1, 1]}, {\"marker\": {\"color\": \"white\"}, \"name\": \"\", \"type\": \"scatter\", \"uid\": \"5b0cb0ca-6696-42b0-89c5-2502aaf490bf\", \"x\": [\"2018-07-14 0:12:15\", \"2018-07-14 0:13:44\"], \"y\": [1, 1]}, {\"marker\": {\"color\": \"white\"}, \"name\": \"\", \"type\": \"scatter\", \"uid\": \"01229666-d5b6-4c75-aa2c-c1f7c8affc78\", \"x\": [\"2018-07-14 0:15:33\", \"2018-07-14 0:15:52\"], \"y\": [1, 1]}, {\"marker\": {\"color\": \"white\"}, \"name\": \"\", \"type\": \"scatter\", \"uid\": \"99964fe0-11e2-46b9-8f5a-e65ff523a510\", \"x\": [\"2018-07-14 0:16:22\", \"2018-07-14 0:17:36\"], \"y\": [1, 1]}, {\"marker\": {\"color\": \"white\"}, \"name\": \"\", \"type\": \"scatter\", \"uid\": \"7d6c5150-2f27-4d5e-9b52-7fcdd6a9fb35\", \"x\": [\"2018-07-14 0:07:38\", \"2018-07-14 0:08:42\"], \"y\": [1, 1]}, {\"marker\": {\"color\": \"white\"}, \"name\": \"\", \"type\": \"scatter\", \"uid\": \"158698f6-bc59-48e3-9c7a-b5cb71c9708d\", \"x\": [\"2018-07-14 0:18:52\", \"2018-07-14 0:19:13\"], \"y\": [0, 0]}, {\"marker\": {\"color\": \"white\"}, \"name\": \"\", \"type\": \"scatter\", \"uid\": \"a671bbaa-f893-4b16-8ddb-20f3986109a5\", \"x\": [\"2018-07-14 0:04:44\", \"2018-07-14 0:04:55\"], \"y\": [0, 0]}, {\"marker\": {\"color\": \"white\"}, \"name\": \"\", \"type\": \"scatter\", \"uid\": \"9ca9845c-07b0-4921-8311-a8d4b0dd9cb0\", \"x\": [\"2018-07-14 0:18:07\", \"2018-07-14 0:18:52\"], \"y\": [0, 0]}, {\"marker\": {\"color\": \"white\"}, \"name\": \"\", \"type\": \"scatter\", \"uid\": \"e6086e5b-c28d-4503-a27e-ee3aeb7f8825\", \"x\": [\"2018-07-14 0:16:40\", \"2018-07-14 0:17:02\"], \"y\": [0, 0]}, {\"marker\": {\"color\": \"white\"}, \"name\": \"\", \"type\": \"scatter\", \"uid\": \"df3969ed-1d94-45e1-bed8-d2a064bd351e\", \"x\": [\"2018-07-14 0:13:27\", \"2018-07-14 0:14:39\"], \"y\": [0, 0]}, {\"marker\": {\"color\": \"white\"}, \"name\": \"\", \"type\": \"scatter\", \"uid\": \"283b77e7-ec53-4204-967c-a37dbfb58093\", \"x\": [\"2018-07-14 0:12:15\", \"2018-07-14 0:13:27\"], \"y\": [0, 0]}, {\"marker\": {\"color\": \"white\"}, \"name\": \"\", \"type\": \"scatter\", \"uid\": \"5cd98c61-51dc-4716-9e33-815e6cccdf34\", \"x\": [\"2018-07-14 0:11:43\", \"2018-07-14 0:12:15\"], \"y\": [0, 0]}, {\"marker\": {\"color\": \"white\"}, \"name\": \"\", \"type\": \"scatter\", \"uid\": \"cea664aa-0293-45a4-89fa-e79c80a706a2\", \"x\": [\"2018-07-14 0:15:52\", \"2018-07-14 0:16:40\"], \"y\": [0, 0]}, {\"marker\": {\"color\": \"white\"}, \"name\": \"\", \"type\": \"scatter\", \"uid\": \"1b04baf4-47f0-4404-9c37-1473c522cad5\", \"x\": [\"2018-07-14 0:11:32\", \"2018-07-14 0:11:43\"], \"y\": [0, 0]}, {\"marker\": {\"color\": \"white\"}, \"name\": \"\", \"type\": \"scatter\", \"uid\": \"dc3c63b4-3f47-4195-9597-6997d4d1b8c8\", \"x\": [\"2018-07-14 0:08:42\", \"2018-07-14 0:09:58\"], \"y\": [0, 0]}, {\"hoverinfo\": \"none\", \"marker\": {\"color\": \"rgb(31, 119, 180)\", \"size\": 1}, \"name\": \"Job 1\", \"showlegend\": true, \"type\": \"scatter\", \"uid\": \"abbd0293-f3a6-4b56-913b-6c2ff27fc377\", \"x\": [\"2018-07-14 0:08:42\", \"2018-07-14 0:08:42\"], \"y\": [0, 0]}, {\"hoverinfo\": \"none\", \"marker\": {\"color\": \"rgb(255, 127, 14)\", \"size\": 1}, \"name\": \"Job 10\", \"showlegend\": true, \"type\": \"scatter\", \"uid\": \"13ac5bfd-f725-4131-bd40-88992170347d\", \"x\": [\"2018-07-14 0:08:42\", \"2018-07-14 0:08:42\"], \"y\": [1, 1]}, {\"hoverinfo\": \"none\", \"marker\": {\"color\": \"rgb(44, 160, 44)\", \"size\": 1}, \"name\": \"Job 2\", \"showlegend\": true, \"type\": \"scatter\", \"uid\": \"824c84bd-2718-4ba1-85e6-5b86ccbee1d0\", \"x\": [\"2018-07-14 0:08:42\", \"2018-07-14 0:08:42\"], \"y\": [2, 2]}, {\"hoverinfo\": \"none\", \"marker\": {\"color\": \"rgb(214, 39, 40)\", \"size\": 1}, \"name\": \"Job 3\", \"showlegend\": true, \"type\": \"scatter\", \"uid\": \"27e31d6b-f853-46e1-8c08-a816c4492ae0\", \"x\": [\"2018-07-14 0:08:42\", \"2018-07-14 0:08:42\"], \"y\": [3, 3]}, {\"hoverinfo\": \"none\", \"marker\": {\"color\": \"rgb(148, 103, 189)\", \"size\": 1}, \"name\": \"Job 4\", \"showlegend\": true, \"type\": \"scatter\", \"uid\": \"76823629-e539-4462-b5d9-015440aee32d\", \"x\": [\"2018-07-14 0:08:42\", \"2018-07-14 0:08:42\"], \"y\": [4, 4]}, {\"hoverinfo\": \"none\", \"marker\": {\"color\": \"rgb(140, 86, 75)\", \"size\": 1}, \"name\": \"Job 5\", \"showlegend\": true, \"type\": \"scatter\", \"uid\": \"f7367068-8ac6-473a-9157-aa69209d476f\", \"x\": [\"2018-07-14 0:08:42\", \"2018-07-14 0:08:42\"], \"y\": [5, 5]}, {\"hoverinfo\": \"none\", \"marker\": {\"color\": \"rgb(227, 119, 194)\", \"size\": 1}, \"name\": \"Job 6\", \"showlegend\": true, \"type\": \"scatter\", \"uid\": \"398c7b26-2847-4383-aec9-4741ff366ce7\", \"x\": [\"2018-07-14 0:08:42\", \"2018-07-14 0:08:42\"], \"y\": [6, 6]}, {\"hoverinfo\": \"none\", \"marker\": {\"color\": \"rgb(127, 127, 127)\", \"size\": 1}, \"name\": \"Job 7\", \"showlegend\": true, \"type\": \"scatter\", \"uid\": \"b06f9b1e-1f2a-428e-be45-586d0f6e48c5\", \"x\": [\"2018-07-14 0:08:42\", \"2018-07-14 0:08:42\"], \"y\": [7, 7]}, {\"hoverinfo\": \"none\", \"marker\": {\"color\": \"rgb(188, 189, 34)\", \"size\": 1}, \"name\": \"Job 8\", \"showlegend\": true, \"type\": \"scatter\", \"uid\": \"3aff1ee2-c1fe-4e58-b8cc-ad07ba665111\", \"x\": [\"2018-07-14 0:08:42\", \"2018-07-14 0:08:42\"], \"y\": [8, 8]}, {\"hoverinfo\": \"none\", \"marker\": {\"color\": \"rgb(23, 190, 207)\", \"size\": 1}, \"name\": \"Job 9\", \"showlegend\": true, \"type\": \"scatter\", \"uid\": \"20c6017a-b937-424c-8254-f898ff79835d\", \"x\": [\"2018-07-14 0:08:42\", \"2018-07-14 0:08:42\"], \"y\": [9, 9]}],\n",
       "                        {\"height\": 600, \"hovermode\": \"closest\", \"shapes\": [{\"fillcolor\": \"rgb(31, 119, 180)\", \"line\": {\"width\": 0}, \"opacity\": 1, \"type\": \"rect\", \"x0\": \"2018-07-14 0:02:05\", \"x1\": \"2018-07-14 0:02:34\", \"xref\": \"x\", \"y0\": 8.8, \"y1\": 9.2, \"yref\": \"y\"}, {\"fillcolor\": \"rgb(44, 160, 44)\", \"line\": {\"width\": 0}, \"opacity\": 1, \"type\": \"rect\", \"x0\": \"2018-07-14 0:01:16\", \"x1\": \"2018-07-14 0:01:59\", \"xref\": \"x\", \"y0\": 8.8, \"y1\": 9.2, \"yref\": \"y\"}, {\"fillcolor\": \"rgb(214, 39, 40)\", \"line\": {\"width\": 0}, \"opacity\": 1, \"type\": \"rect\", \"x0\": \"2018-07-14 0:07:52\", \"x1\": \"2018-07-14 0:09:17\", \"xref\": \"x\", \"y0\": 8.8, \"y1\": 9.2, \"yref\": \"y\"}, {\"fillcolor\": \"rgb(148, 103, 189)\", \"line\": {\"width\": 0}, \"opacity\": 1, \"type\": \"rect\", \"x0\": \"2018-07-14 0:05:04\", \"x1\": \"2018-07-14 0:06:15\", \"xref\": \"x\", \"y0\": 8.8, \"y1\": 9.2, \"yref\": \"y\"}, {\"fillcolor\": \"rgb(140, 86, 75)\", \"line\": {\"width\": 0}, \"opacity\": 1, \"type\": \"rect\", \"x0\": \"2018-07-14 0:01:59\", \"x1\": \"2018-07-14 0:02:05\", \"xref\": \"x\", \"y0\": 8.8, \"y1\": 9.2, \"yref\": \"y\"}, {\"fillcolor\": \"rgb(227, 119, 194)\", \"line\": {\"width\": 0}, \"opacity\": 1, \"type\": \"rect\", \"x0\": \"2018-07-14 0:13:27\", \"x1\": \"2018-07-14 0:14:14\", \"xref\": \"x\", \"y0\": 8.8, \"y1\": 9.2, \"yref\": \"y\"}, {\"fillcolor\": \"rgb(127, 127, 127)\", \"line\": {\"width\": 0}, \"opacity\": 1, \"type\": \"rect\", \"x0\": \"2018-07-14 0:06:28\", \"x1\": \"2018-07-14 0:07:05\", \"xref\": \"x\", \"y0\": 8.8, \"y1\": 9.2, \"yref\": \"y\"}, {\"fillcolor\": \"rgb(188, 189, 34)\", \"line\": {\"width\": 0}, \"opacity\": 1, \"type\": \"rect\", \"x0\": \"2018-07-14 0:10:07\", \"x1\": \"2018-07-14 0:11:33\", \"xref\": \"x\", \"y0\": 8.8, \"y1\": 9.2, \"yref\": \"y\"}, {\"fillcolor\": \"rgb(23, 190, 207)\", \"line\": {\"width\": 0}, \"opacity\": 1, \"type\": \"rect\", \"x0\": \"2018-07-14 0:00:00\", \"x1\": \"2018-07-14 0:01:16\", \"xref\": \"x\", \"y0\": 8.8, \"y1\": 9.2, \"yref\": \"y\"}, {\"fillcolor\": \"rgb(255, 127, 14)\", \"line\": {\"width\": 0}, \"opacity\": 1, \"type\": \"rect\", \"x0\": \"2018-07-14 0:06:15\", \"x1\": \"2018-07-14 0:06:28\", \"xref\": \"x\", \"y0\": 8.8, \"y1\": 9.2, \"yref\": \"y\"}, {\"fillcolor\": \"rgb(31, 119, 180)\", \"line\": {\"width\": 0}, \"opacity\": 1, \"type\": \"rect\", \"x0\": \"2018-07-14 0:05:03\", \"x1\": \"2018-07-14 0:06:21\", \"xref\": \"x\", \"y0\": 7.8, \"y1\": 8.2, \"yref\": \"y\"}, {\"fillcolor\": \"rgb(44, 160, 44)\", \"line\": {\"width\": 0}, \"opacity\": 1, \"type\": \"rect\", \"x0\": \"2018-07-14 0:07:52\", \"x1\": \"2018-07-14 0:08:20\", \"xref\": \"x\", \"y0\": 7.8, \"y1\": 8.2, \"yref\": \"y\"}, {\"fillcolor\": \"rgb(214, 39, 40)\", \"line\": {\"width\": 0}, \"opacity\": 1, \"type\": \"rect\", \"x0\": \"2018-07-14 0:06:21\", \"x1\": \"2018-07-14 0:07:52\", \"xref\": \"x\", \"y0\": 7.8, \"y1\": 8.2, \"yref\": \"y\"}, {\"fillcolor\": \"rgb(148, 103, 189)\", \"line\": {\"width\": 0}, \"opacity\": 1, \"type\": \"rect\", \"x0\": \"2018-07-14 0:00:00\", \"x1\": \"2018-07-14 0:01:21\", \"xref\": \"x\", \"y0\": 7.8, \"y1\": 8.2, \"yref\": \"y\"}, {\"fillcolor\": \"rgb(140, 86, 75)\", \"line\": {\"width\": 0}, \"opacity\": 1, \"type\": \"rect\", \"x0\": \"2018-07-14 0:02:30\", \"x1\": \"2018-07-14 0:02:52\", \"xref\": \"x\", \"y0\": 7.8, \"y1\": 8.2, \"yref\": \"y\"}, {\"fillcolor\": \"rgb(227, 119, 194)\", \"line\": {\"width\": 0}, \"opacity\": 1, \"type\": \"rect\", \"x0\": \"2018-07-14 0:08:55\", \"x1\": \"2018-07-14 0:08:57\", \"xref\": \"x\", \"y0\": 7.8, \"y1\": 8.2, \"yref\": \"y\"}, {\"fillcolor\": \"rgb(127, 127, 127)\", \"line\": {\"width\": 0}, \"opacity\": 1, \"type\": \"rect\", \"x0\": \"2018-07-14 0:04:17\", \"x1\": \"2018-07-14 0:05:03\", \"xref\": \"x\", \"y0\": 7.8, \"y1\": 8.2, \"yref\": \"y\"}, {\"fillcolor\": \"rgb(188, 189, 34)\", \"line\": {\"width\": 0}, \"opacity\": 1, \"type\": \"rect\", \"x0\": \"2018-07-14 0:11:33\", \"x1\": \"2018-07-14 0:12:19\", \"xref\": \"x\", \"y0\": 7.8, \"y1\": 8.2, \"yref\": \"y\"}, {\"fillcolor\": \"rgb(23, 190, 207)\", \"line\": {\"width\": 0}, \"opacity\": 1, \"type\": \"rect\", \"x0\": \"2018-07-14 0:01:21\", \"x1\": \"2018-07-14 0:02:30\", \"xref\": \"x\", \"y0\": 7.8, \"y1\": 8.2, \"yref\": \"y\"}, {\"fillcolor\": \"rgb(255, 127, 14)\", \"line\": {\"width\": 0}, \"opacity\": 1, \"type\": \"rect\", \"x0\": \"2018-07-14 0:02:52\", \"x1\": \"2018-07-14 0:04:17\", \"xref\": \"x\", \"y0\": 7.8, \"y1\": 8.2, \"yref\": \"y\"}, {\"fillcolor\": \"rgb(31, 119, 180)\", \"line\": {\"width\": 0}, \"opacity\": 1, \"type\": \"rect\", \"x0\": \"2018-07-14 0:06:21\", \"x1\": \"2018-07-14 0:06:30\", \"xref\": \"x\", \"y0\": 6.8, \"y1\": 7.2, \"yref\": \"y\"}, {\"fillcolor\": \"rgb(44, 160, 44)\", \"line\": {\"width\": 0}, \"opacity\": 1, \"type\": \"rect\", \"x0\": \"2018-07-14 0:01:59\", \"x1\": \"2018-07-14 0:03:29\", \"xref\": \"x\", \"y0\": 6.8, \"y1\": 7.2, \"yref\": \"y\"}, {\"fillcolor\": \"rgb(214, 39, 40)\", \"line\": {\"width\": 0}, \"opacity\": 1, \"type\": \"rect\", \"x0\": \"2018-07-14 0:12:03\", \"x1\": \"2018-07-14 0:13:17\", \"xref\": \"x\", \"y0\": 6.8, \"y1\": 7.2, \"yref\": \"y\"}, {\"fillcolor\": \"rgb(148, 103, 189)\", \"line\": {\"width\": 0}, \"opacity\": 1, \"type\": \"rect\", \"x0\": \"2018-07-14 0:03:29\", \"x1\": \"2018-07-14 0:05:04\", \"xref\": \"x\", \"y0\": 6.8, \"y1\": 7.2, \"yref\": \"y\"}, {\"fillcolor\": \"rgb(140, 86, 75)\", \"line\": {\"width\": 0}, \"opacity\": 1, \"type\": \"rect\", \"x0\": \"2018-07-14 0:00:00\", \"x1\": \"2018-07-14 0:00:14\", \"xref\": \"x\", \"y0\": 6.8, \"y1\": 7.2, \"yref\": \"y\"}, {\"fillcolor\": \"rgb(227, 119, 194)\", \"line\": {\"width\": 0}, \"opacity\": 1, \"type\": \"rect\", \"x0\": \"2018-07-14 0:07:31\", \"x1\": \"2018-07-14 0:08:55\", \"xref\": \"x\", \"y0\": 6.8, \"y1\": 7.2, \"yref\": \"y\"}, {\"fillcolor\": \"rgb(127, 127, 127)\", \"line\": {\"width\": 0}, \"opacity\": 1, \"type\": \"rect\", \"x0\": \"2018-07-14 0:09:23\", \"x1\": \"2018-07-14 0:09:36\", \"xref\": \"x\", \"y0\": 6.8, \"y1\": 7.2, \"yref\": \"y\"}, {\"fillcolor\": \"rgb(188, 189, 34)\", \"line\": {\"width\": 0}, \"opacity\": 1, \"type\": \"rect\", \"x0\": \"2018-07-14 0:09:36\", \"x1\": \"2018-07-14 0:10:07\", \"xref\": \"x\", \"y0\": 6.8, \"y1\": 7.2, \"yref\": \"y\"}, {\"fillcolor\": \"rgb(23, 190, 207)\", \"line\": {\"width\": 0}, \"opacity\": 1, \"type\": \"rect\", \"x0\": \"2018-07-14 0:10:07\", \"x1\": \"2018-07-14 0:11:32\", \"xref\": \"x\", \"y0\": 6.8, \"y1\": 7.2, \"yref\": \"y\"}, {\"fillcolor\": \"rgb(255, 127, 14)\", \"line\": {\"width\": 0}, \"opacity\": 1, \"type\": \"rect\", \"x0\": \"2018-07-14 0:06:30\", \"x1\": \"2018-07-14 0:07:31\", \"xref\": \"x\", \"y0\": 6.8, \"y1\": 7.2, \"yref\": \"y\"}, {\"fillcolor\": \"rgb(31, 119, 180)\", \"line\": {\"width\": 0}, \"opacity\": 1, \"type\": \"rect\", \"x0\": \"2018-07-14 0:07:20\", \"x1\": \"2018-07-14 0:07:56\", \"xref\": \"x\", \"y0\": 5.8, \"y1\": 6.2, \"yref\": \"y\"}, {\"fillcolor\": \"rgb(44, 160, 44)\", \"line\": {\"width\": 0}, \"opacity\": 1, \"type\": \"rect\", \"x0\": \"2018-07-14 0:04:55\", \"x1\": \"2018-07-14 0:06:04\", \"xref\": \"x\", \"y0\": 5.8, \"y1\": 6.2, \"yref\": \"y\"}, {\"fillcolor\": \"rgb(214, 39, 40)\", \"line\": {\"width\": 0}, \"opacity\": 1, \"type\": \"rect\", \"x0\": \"2018-07-14 0:11:24\", \"x1\": \"2018-07-14 0:12:03\", \"xref\": \"x\", \"y0\": 5.8, \"y1\": 6.2, \"yref\": \"y\"}, {\"fillcolor\": \"rgb(148, 103, 189)\", \"line\": {\"width\": 0}, \"opacity\": 1, \"type\": \"rect\", \"x0\": \"2018-07-14 0:12:32\", \"x1\": \"2018-07-14 0:14:10\", \"xref\": \"x\", \"y0\": 5.8, \"y1\": 6.2, \"yref\": \"y\"}, {\"fillcolor\": \"rgb(140, 86, 75)\", \"line\": {\"width\": 0}, \"opacity\": 1, \"type\": \"rect\", \"x0\": \"2018-07-14 0:07:56\", \"x1\": \"2018-07-14 0:08:22\", \"xref\": \"x\", \"y0\": 5.8, \"y1\": 6.2, \"yref\": \"y\"}, {\"fillcolor\": \"rgb(227, 119, 194)\", \"line\": {\"width\": 0}, \"opacity\": 1, \"type\": \"rect\", \"x0\": \"2018-07-14 0:09:49\", \"x1\": \"2018-07-14 0:11:24\", \"xref\": \"x\", \"y0\": 5.8, \"y1\": 6.2, \"yref\": \"y\"}, {\"fillcolor\": \"rgb(127, 127, 127)\", \"line\": {\"width\": 0}, \"opacity\": 1, \"type\": \"rect\", \"x0\": \"2018-07-14 0:08:22\", \"x1\": \"2018-07-14 0:09:23\", \"xref\": \"x\", \"y0\": 5.8, \"y1\": 6.2, \"yref\": \"y\"}, {\"fillcolor\": \"rgb(188, 189, 34)\", \"line\": {\"width\": 0}, \"opacity\": 1, \"type\": \"rect\", \"x0\": \"2018-07-14 0:17:45\", \"x1\": \"2018-07-14 0:19:04\", \"xref\": \"x\", \"y0\": 5.8, \"y1\": 6.2, \"yref\": \"y\"}, {\"fillcolor\": \"rgb(23, 190, 207)\", \"line\": {\"width\": 0}, \"opacity\": 1, \"type\": \"rect\", \"x0\": \"2018-07-14 0:06:04\", \"x1\": \"2018-07-14 0:07:20\", \"xref\": \"x\", \"y0\": 5.8, \"y1\": 6.2, \"yref\": \"y\"}, {\"fillcolor\": \"rgb(255, 127, 14)\", \"line\": {\"width\": 0}, \"opacity\": 1, \"type\": \"rect\", \"x0\": \"2018-07-14 0:14:10\", \"x1\": \"2018-07-14 0:15:02\", \"xref\": \"x\", \"y0\": 5.8, \"y1\": 6.2, \"yref\": \"y\"}, {\"fillcolor\": \"rgb(31, 119, 180)\", \"line\": {\"width\": 0}, \"opacity\": 1, \"type\": \"rect\", \"x0\": \"2018-07-14 0:07:56\", \"x1\": \"2018-07-14 0:08:45\", \"xref\": \"x\", \"y0\": 4.8, \"y1\": 5.2, \"yref\": \"y\"}, {\"fillcolor\": \"rgb(44, 160, 44)\", \"line\": {\"width\": 0}, \"opacity\": 1, \"type\": \"rect\", \"x0\": \"2018-07-14 0:03:29\", \"x1\": \"2018-07-14 0:04:44\", \"xref\": \"x\", \"y0\": 4.8, \"y1\": 5.2, \"yref\": \"y\"}, {\"fillcolor\": \"rgb(214, 39, 40)\", \"line\": {\"width\": 0}, \"opacity\": 1, \"type\": \"rect\", \"x0\": \"2018-07-14 0:18:52\", \"x1\": \"2018-07-14 0:19:25\", \"xref\": \"x\", \"y0\": 4.8, \"y1\": 5.2, \"yref\": \"y\"}, {\"fillcolor\": \"rgb(148, 103, 189)\", \"line\": {\"width\": 0}, \"opacity\": 1, \"type\": \"rect\", \"x0\": \"2018-07-14 0:06:15\", \"x1\": \"2018-07-14 0:07:54\", \"xref\": \"x\", \"y0\": 4.8, \"y1\": 5.2, \"yref\": \"y\"}, {\"fillcolor\": \"rgb(140, 86, 75)\", \"line\": {\"width\": 0}, \"opacity\": 1, \"type\": \"rect\", \"x0\": \"2018-07-14 0:08:45\", \"x1\": \"2018-07-14 0:09:54\", \"xref\": \"x\", \"y0\": 4.8, \"y1\": 5.2, \"yref\": \"y\"}, {\"fillcolor\": \"rgb(227, 119, 194)\", \"line\": {\"width\": 0}, \"opacity\": 1, \"type\": \"rect\", \"x0\": \"2018-07-14 0:18:04\", \"x1\": \"2018-07-14 0:18:10\", \"xref\": \"x\", \"y0\": 4.8, \"y1\": 5.2, \"yref\": \"y\"}, {\"fillcolor\": \"rgb(127, 127, 127)\", \"line\": {\"width\": 0}, \"opacity\": 1, \"type\": \"rect\", \"x0\": \"2018-07-14 0:17:09\", \"x1\": \"2018-07-14 0:18:04\", \"xref\": \"x\", \"y0\": 4.8, \"y1\": 5.2, \"yref\": \"y\"}, {\"fillcolor\": \"rgb(188, 189, 34)\", \"line\": {\"width\": 0}, \"opacity\": 1, \"type\": \"rect\", \"x0\": \"2018-07-14 0:13:33\", \"x1\": \"2018-07-14 0:14:05\", \"xref\": \"x\", \"y0\": 4.8, \"y1\": 5.2, \"yref\": \"y\"}, {\"fillcolor\": \"rgb(23, 190, 207)\", \"line\": {\"width\": 0}, \"opacity\": 1, \"type\": \"rect\", \"x0\": \"2018-07-14 0:14:05\", \"x1\": \"2018-07-14 0:14:31\", \"xref\": \"x\", \"y0\": 4.8, \"y1\": 5.2, \"yref\": \"y\"}, {\"fillcolor\": \"rgb(255, 127, 14)\", \"line\": {\"width\": 0}, \"opacity\": 1, \"type\": \"rect\", \"x0\": \"2018-07-14 0:15:02\", \"x1\": \"2018-07-14 0:16:32\", \"xref\": \"x\", \"y0\": 4.8, \"y1\": 5.2, \"yref\": \"y\"}, {\"fillcolor\": \"rgb(31, 119, 180)\", \"line\": {\"width\": 0}, \"opacity\": 1, \"type\": \"rect\", \"x0\": \"2018-07-14 0:11:16\", \"x1\": \"2018-07-14 0:11:27\", \"xref\": \"x\", \"y0\": 3.8, \"y1\": 4.2, \"yref\": \"y\"}, {\"fillcolor\": \"rgb(44, 160, 44)\", \"line\": {\"width\": 0}, \"opacity\": 1, \"type\": \"rect\", \"x0\": \"2018-07-14 0:13:33\", \"x1\": \"2018-07-14 0:14:19\", \"xref\": \"x\", \"y0\": 3.8, \"y1\": 4.2, \"yref\": \"y\"}, {\"fillcolor\": \"rgb(214, 39, 40)\", \"line\": {\"width\": 0}, \"opacity\": 1, \"type\": \"rect\", \"x0\": \"2018-07-14 0:15:14\", \"x1\": \"2018-07-14 0:15:24\", \"xref\": \"x\", \"y0\": 3.8, \"y1\": 4.2, \"yref\": \"y\"}, {\"fillcolor\": \"rgb(148, 103, 189)\", \"line\": {\"width\": 0}, \"opacity\": 1, \"type\": \"rect\", \"x0\": \"2018-07-14 0:17:02\", \"x1\": \"2018-07-14 0:17:45\", \"xref\": \"x\", \"y0\": 3.8, \"y1\": 4.2, \"yref\": \"y\"}, {\"fillcolor\": \"rgb(140, 86, 75)\", \"line\": {\"width\": 0}, \"opacity\": 1, \"type\": \"rect\", \"x0\": \"2018-07-14 0:02:52\", \"x1\": \"2018-07-14 0:03:53\", \"xref\": \"x\", \"y0\": 3.8, \"y1\": 4.2, \"yref\": \"y\"}, {\"fillcolor\": \"rgb(227, 119, 194)\", \"line\": {\"width\": 0}, \"opacity\": 1, \"type\": \"rect\", \"x0\": \"2018-07-14 0:08:57\", \"x1\": \"2018-07-14 0:09:49\", \"xref\": \"x\", \"y0\": 3.8, \"y1\": 4.2, \"yref\": \"y\"}, {\"fillcolor\": \"rgb(127, 127, 127)\", \"line\": {\"width\": 0}, \"opacity\": 1, \"type\": \"rect\", \"x0\": \"2018-07-14 0:10:08\", \"x1\": \"2018-07-14 0:10:29\", \"xref\": \"x\", \"y0\": 3.8, \"y1\": 4.2, \"yref\": \"y\"}, {\"fillcolor\": \"rgb(188, 189, 34)\", \"line\": {\"width\": 0}, \"opacity\": 1, \"type\": \"rect\", \"x0\": \"2018-07-14 0:12:19\", \"x1\": \"2018-07-14 0:13:33\", \"xref\": \"x\", \"y0\": 3.8, \"y1\": 4.2, \"yref\": \"y\"}, {\"fillcolor\": \"rgb(23, 190, 207)\", \"line\": {\"width\": 0}, \"opacity\": 1, \"type\": \"rect\", \"x0\": \"2018-07-14 0:07:20\", \"x1\": \"2018-07-14 0:08:11\", \"xref\": \"x\", \"y0\": 3.8, \"y1\": 4.2, \"yref\": \"y\"}, {\"fillcolor\": \"rgb(255, 127, 14)\", \"line\": {\"width\": 0}, \"opacity\": 1, \"type\": \"rect\", \"x0\": \"2018-07-14 0:10:29\", \"x1\": \"2018-07-14 0:11:16\", \"xref\": \"x\", \"y0\": 3.8, \"y1\": 4.2, \"yref\": \"y\"}, {\"fillcolor\": \"rgb(31, 119, 180)\", \"line\": {\"width\": 0}, \"opacity\": 1, \"type\": \"rect\", \"x0\": \"2018-07-14 0:12:23\", \"x1\": \"2018-07-14 0:13:25\", \"xref\": \"x\", \"y0\": 2.8, \"y1\": 3.2, \"yref\": \"y\"}, {\"fillcolor\": \"rgb(44, 160, 44)\", \"line\": {\"width\": 0}, \"opacity\": 1, \"type\": \"rect\", \"x0\": \"2018-07-14 0:10:08\", \"x1\": \"2018-07-14 0:10:54\", \"xref\": \"x\", \"y0\": 2.8, \"y1\": 3.2, \"yref\": \"y\"}, {\"fillcolor\": \"rgb(214, 39, 40)\", \"line\": {\"width\": 0}, \"opacity\": 1, \"type\": \"rect\", \"x0\": \"2018-07-14 0:16:38\", \"x1\": \"2018-07-14 0:18:07\", \"xref\": \"x\", \"y0\": 2.8, \"y1\": 3.2, \"yref\": \"y\"}, {\"fillcolor\": \"rgb(148, 103, 189)\", \"line\": {\"width\": 0}, \"opacity\": 1, \"type\": \"rect\", \"x0\": \"2018-07-14 0:07:54\", \"x1\": \"2018-07-14 0:08:03\", \"xref\": \"x\", \"y0\": 2.8, \"y1\": 3.2, \"yref\": \"y\"}, {\"fillcolor\": \"rgb(140, 86, 75)\", \"line\": {\"width\": 0}, \"opacity\": 1, \"type\": \"rect\", \"x0\": \"2018-07-14 0:18:07\", \"x1\": \"2018-07-14 0:19:00\", \"xref\": \"x\", \"y0\": 2.8, \"y1\": 3.2, \"yref\": \"y\"}, {\"fillcolor\": \"rgb(227, 119, 194)\", \"line\": {\"width\": 0}, \"opacity\": 1, \"type\": \"rect\", \"x0\": \"2018-07-14 0:15:33\", \"x1\": \"2018-07-14 0:16:38\", \"xref\": \"x\", \"y0\": 2.8, \"y1\": 3.2, \"yref\": \"y\"}, {\"fillcolor\": \"rgb(127, 127, 127)\", \"line\": {\"width\": 0}, \"opacity\": 1, \"type\": \"rect\", \"x0\": \"2018-07-14 0:09:36\", \"x1\": \"2018-07-14 0:10:08\", \"xref\": \"x\", \"y0\": 2.8, \"y1\": 3.2, \"yref\": \"y\"}, {\"fillcolor\": \"rgb(188, 189, 34)\", \"line\": {\"width\": 0}, \"opacity\": 1, \"type\": \"rect\", \"x0\": \"2018-07-14 0:14:05\", \"x1\": \"2018-07-14 0:15:33\", \"xref\": \"x\", \"y0\": 2.8, \"y1\": 3.2, \"yref\": \"y\"}, {\"fillcolor\": \"rgb(23, 190, 207)\", \"line\": {\"width\": 0}, \"opacity\": 1, \"type\": \"rect\", \"x0\": \"2018-07-14 0:11:43\", \"x1\": \"2018-07-14 0:12:23\", \"xref\": \"x\", \"y0\": 2.8, \"y1\": 3.2, \"yref\": \"y\"}, {\"fillcolor\": \"rgb(255, 127, 14)\", \"line\": {\"width\": 0}, \"opacity\": 1, \"type\": \"rect\", \"x0\": \"2018-07-14 0:07:31\", \"x1\": \"2018-07-14 0:07:38\", \"xref\": \"x\", \"y0\": 2.8, \"y1\": 3.2, \"yref\": \"y\"}, {\"fillcolor\": \"rgb(31, 119, 180)\", \"line\": {\"width\": 0}, \"opacity\": 1, \"type\": \"rect\", \"x0\": \"2018-07-14 0:15:43\", \"x1\": \"2018-07-14 0:16:39\", \"xref\": \"x\", \"y0\": 1.8, \"y1\": 2.2, \"yref\": \"y\"}, {\"fillcolor\": \"rgb(44, 160, 44)\", \"line\": {\"width\": 0}, \"opacity\": 1, \"type\": \"rect\", \"x0\": \"2018-07-14 0:14:19\", \"x1\": \"2018-07-14 0:15:31\", \"xref\": \"x\", \"y0\": 1.8, \"y1\": 2.2, \"yref\": \"y\"}, {\"fillcolor\": \"rgb(214, 39, 40)\", \"line\": {\"width\": 0}, \"opacity\": 1, \"type\": \"rect\", \"x0\": \"2018-07-14 0:15:31\", \"x1\": \"2018-07-14 0:15:43\", \"xref\": \"x\", \"y0\": 1.8, \"y1\": 2.2, \"yref\": \"y\"}, {\"fillcolor\": \"rgb(148, 103, 189)\", \"line\": {\"width\": 0}, \"opacity\": 1, \"type\": \"rect\", \"x0\": \"2018-07-14 0:11:07\", \"x1\": \"2018-07-14 0:12:32\", \"xref\": \"x\", \"y0\": 1.8, \"y1\": 2.2, \"yref\": \"y\"}, {\"fillcolor\": \"rgb(140, 86, 75)\", \"line\": {\"width\": 0}, \"opacity\": 1, \"type\": \"rect\", \"x0\": \"2018-07-14 0:10:15\", \"x1\": \"2018-07-14 0:11:04\", \"xref\": \"x\", \"y0\": 1.8, \"y1\": 2.2, \"yref\": \"y\"}, {\"fillcolor\": \"rgb(227, 119, 194)\", \"line\": {\"width\": 0}, \"opacity\": 1, \"type\": \"rect\", \"x0\": \"2018-07-14 0:18:30\", \"x1\": \"2018-07-14 0:18:55\", \"xref\": \"x\", \"y0\": 1.8, \"y1\": 2.2, \"yref\": \"y\"}, {\"fillcolor\": \"rgb(127, 127, 127)\", \"line\": {\"width\": 0}, \"opacity\": 1, \"type\": \"rect\", \"x0\": \"2018-07-14 0:16:39\", \"x1\": \"2018-07-14 0:17:09\", \"xref\": \"x\", \"y0\": 1.8, \"y1\": 2.2, \"yref\": \"y\"}, {\"fillcolor\": \"rgb(188, 189, 34)\", \"line\": {\"width\": 0}, \"opacity\": 1, \"type\": \"rect\", \"x0\": \"2018-07-14 0:17:09\", \"x1\": \"2018-07-14 0:17:45\", \"xref\": \"x\", \"y0\": 1.8, \"y1\": 2.2, \"yref\": \"y\"}, {\"fillcolor\": \"rgb(23, 190, 207)\", \"line\": {\"width\": 0}, \"opacity\": 1, \"type\": \"rect\", \"x0\": \"2018-07-14 0:12:32\", \"x1\": \"2018-07-14 0:14:01\", \"xref\": \"x\", \"y0\": 1.8, \"y1\": 2.2, \"yref\": \"y\"}, {\"fillcolor\": \"rgb(255, 127, 14)\", \"line\": {\"width\": 0}, \"opacity\": 1, \"type\": \"rect\", \"x0\": \"2018-07-14 0:17:45\", \"x1\": \"2018-07-14 0:18:30\", \"xref\": \"x\", \"y0\": 1.8, \"y1\": 2.2, \"yref\": \"y\"}, {\"fillcolor\": \"rgb(31, 119, 180)\", \"line\": {\"width\": 0}, \"opacity\": 1, \"type\": \"rect\", \"x0\": \"2018-07-14 0:17:36\", \"x1\": \"2018-07-14 0:18:20\", \"xref\": \"x\", \"y0\": 0.8, \"y1\": 1.2, \"yref\": \"y\"}, {\"fillcolor\": \"rgb(44, 160, 44)\", \"line\": {\"width\": 0}, \"opacity\": 1, \"type\": \"rect\", \"x0\": \"2018-07-14 0:15:52\", \"x1\": \"2018-07-14 0:16:22\", \"xref\": \"x\", \"y0\": 0.8, \"y1\": 1.2, \"yref\": \"y\"}, {\"fillcolor\": \"rgb(214, 39, 40)\", \"line\": {\"width\": 0}, \"opacity\": 1, \"type\": \"rect\", \"x0\": \"2018-07-14 0:13:44\", \"x1\": \"2018-07-14 0:15:14\", \"xref\": \"x\", \"y0\": 0.8, \"y1\": 1.2, \"yref\": \"y\"}, {\"fillcolor\": \"rgb(148, 103, 189)\", \"line\": {\"width\": 0}, \"opacity\": 1, \"type\": \"rect\", \"x0\": \"2018-07-14 0:10:15\", \"x1\": \"2018-07-14 0:11:07\", \"xref\": \"x\", \"y0\": 0.8, \"y1\": 1.2, \"yref\": \"y\"}, {\"fillcolor\": \"rgb(140, 86, 75)\", \"line\": {\"width\": 0}, \"opacity\": 1, \"type\": \"rect\", \"x0\": \"2018-07-14 0:09:54\", \"x1\": \"2018-07-14 0:10:15\", \"xref\": \"x\", \"y0\": 0.8, \"y1\": 1.2, \"yref\": \"y\"}, {\"fillcolor\": \"rgb(227, 119, 194)\", \"line\": {\"width\": 0}, \"opacity\": 1, \"type\": \"rect\", \"x0\": \"2018-07-14 0:11:24\", \"x1\": \"2018-07-14 0:12:12\", \"xref\": \"x\", \"y0\": 0.8, \"y1\": 1.2, \"yref\": \"y\"}, {\"fillcolor\": \"rgb(127, 127, 127)\", \"line\": {\"width\": 0}, \"opacity\": 1, \"type\": \"rect\", \"x0\": \"2018-07-14 0:12:15\", \"x1\": \"2018-07-14 0:13:44\", \"xref\": \"x\", \"y0\": 0.8, \"y1\": 1.2, \"yref\": \"y\"}, {\"fillcolor\": \"rgb(188, 189, 34)\", \"line\": {\"width\": 0}, \"opacity\": 1, \"type\": \"rect\", \"x0\": \"2018-07-14 0:15:33\", \"x1\": \"2018-07-14 0:15:52\", \"xref\": \"x\", \"y0\": 0.8, \"y1\": 1.2, \"yref\": \"y\"}, {\"fillcolor\": \"rgb(23, 190, 207)\", \"line\": {\"width\": 0}, \"opacity\": 1, \"type\": \"rect\", \"x0\": \"2018-07-14 0:16:22\", \"x1\": \"2018-07-14 0:17:36\", \"xref\": \"x\", \"y0\": 0.8, \"y1\": 1.2, \"yref\": \"y\"}, {\"fillcolor\": \"rgb(255, 127, 14)\", \"line\": {\"width\": 0}, \"opacity\": 1, \"type\": \"rect\", \"x0\": \"2018-07-14 0:07:38\", \"x1\": \"2018-07-14 0:08:42\", \"xref\": \"x\", \"y0\": 0.8, \"y1\": 1.2, \"yref\": \"y\"}, {\"fillcolor\": \"rgb(31, 119, 180)\", \"line\": {\"width\": 0}, \"opacity\": 1, \"type\": \"rect\", \"x0\": \"2018-07-14 0:18:52\", \"x1\": \"2018-07-14 0:19:13\", \"xref\": \"x\", \"y0\": -0.2, \"y1\": 0.2, \"yref\": \"y\"}, {\"fillcolor\": \"rgb(44, 160, 44)\", \"line\": {\"width\": 0}, \"opacity\": 1, \"type\": \"rect\", \"x0\": \"2018-07-14 0:04:44\", \"x1\": \"2018-07-14 0:04:55\", \"xref\": \"x\", \"y0\": -0.2, \"y1\": 0.2, \"yref\": \"y\"}, {\"fillcolor\": \"rgb(214, 39, 40)\", \"line\": {\"width\": 0}, \"opacity\": 1, \"type\": \"rect\", \"x0\": \"2018-07-14 0:18:07\", \"x1\": \"2018-07-14 0:18:52\", \"xref\": \"x\", \"y0\": -0.2, \"y1\": 0.2, \"yref\": \"y\"}, {\"fillcolor\": \"rgb(148, 103, 189)\", \"line\": {\"width\": 0}, \"opacity\": 1, \"type\": \"rect\", \"x0\": \"2018-07-14 0:16:40\", \"x1\": \"2018-07-14 0:17:02\", \"xref\": \"x\", \"y0\": -0.2, \"y1\": 0.2, \"yref\": \"y\"}, {\"fillcolor\": \"rgb(140, 86, 75)\", \"line\": {\"width\": 0}, \"opacity\": 1, \"type\": \"rect\", \"x0\": \"2018-07-14 0:13:27\", \"x1\": \"2018-07-14 0:14:39\", \"xref\": \"x\", \"y0\": -0.2, \"y1\": 0.2, \"yref\": \"y\"}, {\"fillcolor\": \"rgb(227, 119, 194)\", \"line\": {\"width\": 0}, \"opacity\": 1, \"type\": \"rect\", \"x0\": \"2018-07-14 0:12:15\", \"x1\": \"2018-07-14 0:13:27\", \"xref\": \"x\", \"y0\": -0.2, \"y1\": 0.2, \"yref\": \"y\"}, {\"fillcolor\": \"rgb(127, 127, 127)\", \"line\": {\"width\": 0}, \"opacity\": 1, \"type\": \"rect\", \"x0\": \"2018-07-14 0:11:43\", \"x1\": \"2018-07-14 0:12:15\", \"xref\": \"x\", \"y0\": -0.2, \"y1\": 0.2, \"yref\": \"y\"}, {\"fillcolor\": \"rgb(188, 189, 34)\", \"line\": {\"width\": 0}, \"opacity\": 1, \"type\": \"rect\", \"x0\": \"2018-07-14 0:15:52\", \"x1\": \"2018-07-14 0:16:40\", \"xref\": \"x\", \"y0\": -0.2, \"y1\": 0.2, \"yref\": \"y\"}, {\"fillcolor\": \"rgb(23, 190, 207)\", \"line\": {\"width\": 0}, \"opacity\": 1, \"type\": \"rect\", \"x0\": \"2018-07-14 0:11:32\", \"x1\": \"2018-07-14 0:11:43\", \"xref\": \"x\", \"y0\": -0.2, \"y1\": 0.2, \"yref\": \"y\"}, {\"fillcolor\": \"rgb(255, 127, 14)\", \"line\": {\"width\": 0}, \"opacity\": 1, \"type\": \"rect\", \"x0\": \"2018-07-14 0:08:42\", \"x1\": \"2018-07-14 0:09:58\", \"xref\": \"x\", \"y0\": -0.2, \"y1\": 0.2, \"yref\": \"y\"}], \"showlegend\": true, \"title\": {\"text\": \"Job shop Schedule\"}, \"width\": 900, \"xaxis\": {\"rangeselector\": {\"buttons\": [{\"count\": 7, \"label\": \"1w\", \"step\": \"day\", \"stepmode\": \"backward\"}, {\"count\": 1, \"label\": \"1m\", \"step\": \"month\", \"stepmode\": \"backward\"}, {\"count\": 6, \"label\": \"6m\", \"step\": \"month\", \"stepmode\": \"backward\"}, {\"count\": 1, \"label\": \"YTD\", \"step\": \"year\", \"stepmode\": \"todate\"}, {\"count\": 1, \"label\": \"1y\", \"step\": \"year\", \"stepmode\": \"backward\"}, {\"step\": \"all\"}]}, \"showgrid\": true, \"type\": \"date\", \"zeroline\": false}, \"yaxis\": {\"autorange\": false, \"range\": [-1, 11], \"showgrid\": false, \"ticktext\": [\"Machine 10\", \"Machine 9\", \"Machine 8\", \"Machine 7\", \"Machine 6\", \"Machine 5\", \"Machine 4\", \"Machine 3\", \"Machine 2\", \"Machine 1\"], \"tickvals\": [0, 1, 2, 3, 4, 5, 6, 7, 8, 9], \"zeroline\": false}},\n",
       "                        {\"showLink\": false, \"linkText\": \"Export to plot.ly\", \"plotlyServerURL\": \"https://plot.ly\", \"responsive\": true}\n",
       "                    ).then(function(){\n",
       "                            \n",
       "var gd = document.getElementById('1fd7813d-a419-4c95-80ba-f011f72b1486');\n",
       "var x = new MutationObserver(function (mutations, observer) {{\n",
       "        var display = window.getComputedStyle(gd).display;\n",
       "        if (!display || display === 'none') {{\n",
       "            console.log([gd, 'removed!']);\n",
       "            Plotly.purge(gd);\n",
       "            observer.disconnect();\n",
       "        }}\n",
       "}});\n",
       "\n",
       "// Listen for the removal of the full notebook cells\n",
       "var notebookContainer = gd.closest('#notebook-container');\n",
       "if (notebookContainer) {{\n",
       "    x.observe(notebookContainer, {childList: true});\n",
       "}}\n",
       "\n",
       "// Listen for the clearing of the current output cell\n",
       "var outputEl = gd.closest('.output');\n",
       "if (outputEl) {{\n",
       "    x.observe(outputEl, {childList: true});\n",
       "}}\n",
       "\n",
       "                        })\n",
       "                };\n",
       "                });\n",
       "            </script>\n",
       "        </div>"
      ]
     },
     "metadata": {},
     "output_type": "display_data"
    }
   ],
   "source": [
    "import GAJobShopScheduling as jss\n",
    "\n",
    "#---Main Function--\n",
    "mainScheduler = jss.Scheduler()\n",
    "mainScheduler[\"processTimeTable\"] = \"ProcessingTime.csv\"\n",
    "mainScheduler[\"machinesSequenceTable\"] = \"MachinesSequence.csv\"\n",
    "\n",
    "mainScheduler.Run()\n",
    "\n",
    "mainScheduler.PrintResult()\n",
    "mainScheduler.PrintFitnessPlot()\n",
    "mainScheduler.GenerateGanttChart()\n",
    "#---\n",
    "\n",
    "# .ipynb file may not be fully displayed on Github, you can click the prompt that on the right handside to check the full file"
   ]
  },
  {
   "cell_type": "code",
   "execution_count": null,
   "metadata": {},
   "outputs": [],
   "source": []
  }
 ],
 "metadata": {
  "kernelspec": {
   "display_name": "Python 3",
   "language": "python",
   "name": "python3"
  },
  "language_info": {
   "codemirror_mode": {
    "name": "ipython",
    "version": 3
   },
   "file_extension": ".py",
   "mimetype": "text/x-python",
   "name": "python",
   "nbconvert_exporter": "python",
   "pygments_lexer": "ipython3",
   "version": "3.6.8"
  }
 },
 "nbformat": 4,
 "nbformat_minor": 2
}
