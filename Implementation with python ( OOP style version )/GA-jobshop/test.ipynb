{
 "cells": [
  {
   "cell_type": "code",
   "execution_count": 1,
   "metadata": {},
   "outputs": [
    {
     "data": {
      "text/html": [
       "        <script type=\"text/javascript\">\n",
       "        window.PlotlyConfig = {MathJaxConfig: 'local'};\n",
       "        if (window.MathJax) {MathJax.Hub.Config({SVG: {font: \"STIX-Web\"}});}\n",
       "        if (typeof require !== 'undefined') {\n",
       "        require.undef(\"plotly\");\n",
       "        requirejs.config({\n",
       "            paths: {\n",
       "                'plotly': ['https://cdn.plot.ly/plotly-latest.min']\n",
       "            }\n",
       "        });\n",
       "        require(['plotly'], function(Plotly) {\n",
       "            window._Plotly = Plotly;\n",
       "        });\n",
       "        }\n",
       "        </script>\n",
       "        "
      ]
     },
     "metadata": {},
     "output_type": "display_data"
    },
    {
     "name": "stdout",
     "output_type": "stream",
     "text": [
      "Calculating...\n",
      "optimal sequence [2, 3, 5, 2, 2, 4, 4, 7, 3, 5, 9, 0, 7, 0, 2, 7, 2, 9, 3, 6, 7, 2, 4, 3, 9, 7, 1, 5, 6, 3, 0, 0, 8, 2, 1, 1, 9, 8, 6, 0, 7, 2, 3, 5, 4, 9, 4, 4, 0, 8, 6, 7, 1, 3, 0, 9, 5, 6, 5, 7, 1, 8, 1, 9, 6, 8, 0, 2, 6, 3, 5, 1, 9, 4, 8, 7, 8, 5, 9, 4, 8, 3, 3, 5, 4, 0, 8, 2, 7, 1, 6, 9, 6, 1, 0, 4, 8, 5, 1, 6]\n",
      "optimal value:1210.000000\n"
     ]
    },
    {
     "data": {
      "image/png": "[encoded data removed]",
      "text/plain": [
       "<Figure size 432x288 with 1 Axes>"
      ]
     },
     "metadata": {},
     "output_type": "display_data"
    },
    {
     "data": {
      "application/vnd.plotly.v1+json": {
       "config": {
        "linkText": "Export to plot.ly",
        "plotlyServerURL": "https://plot.ly",
        "responsive": true,
        "showLink": false
       },
       "data": [
        {
         "marker": {
          "color": "white"
         },
         "name": "",
         "type": "scatter",
         "uid": "5ad74214-f334-4cdd-9173-1dad96e17edf",
         "x": [
          "2018-07-14 0:03:02",
          "2018-07-14 0:03:31"
         ],
         "y": [
          9,
          9
         ]
        },
        {
         "marker": {
          "color": "white"
         },
         "name": "",
         "type": "scatter",
         "uid": "9602c3fa-57a1-407b-9908-f088ee97780f",
         "x": [
          "2018-07-14 0:06:21",
          "2018-07-14 0:07:04"
         ],
         "y": [
          9,
          9
         ]
        },
        {
         "marker": {
          "color": "white"
         },
         "name": "",
         "type": "scatter",
         "uid": "5a7d80e6-0ffd-48ee-af61-79e206584742",
         "x": [
          "2018-07-14 0:01:31",
          "2018-07-14 0:02:56"
         ],
         "y": [
          9,
          9
         ]
        },
        {
         "marker": {
          "color": "white"
         },
         "name": "",
         "type": "scatter",
         "uid": "400380f5-c9dc-406a-992a-f4f50033bd67",
         "x": [
          "2018-07-14 0:05:10",
          "2018-07-14 0:06:21"
         ],
         "y": [
          9,
          9
         ]
        },
        {
         "marker": {
          "color": "white"
         },
         "name": "",
         "type": "scatter",
         "uid": "2568615d-0656-44e0-8aa4-c208af64e7f3",
         "x": [
          "2018-07-14 0:02:56",
          "2018-07-14 0:03:02"
         ],
         "y": [
          9,
          9
         ]
        },
        {
         "marker": {
          "color": "white"
         },
         "name": "",
         "type": "scatter",
         "uid": "7e4d6d7c-830d-4578-9c44-8600bcb807c8",
         "x": [
          "2018-07-14 0:12:33",
          "2018-07-14 0:13:20"
         ],
         "y": [
          9,
          9
         ]
        },
        {
         "marker": {
          "color": "white"
         },
         "name": "",
         "type": "scatter",
         "uid": "dc4cb115-6d3e-493e-b325-e714b6aa6c96",
         "x": [
          "2018-07-14 0:07:09",
          "2018-07-14 0:07:46"
         ],
         "y": [
          9,
          9
         ]
        },
        {
         "marker": {
          "color": "white"
         },
         "name": "",
         "type": "scatter",
         "uid": "02e786b9-a1c4-41de-bc95-754aa143426c",
         "x": [
          "2018-07-14 0:03:31",
          "2018-07-14 0:04:57"
         ],
         "y": [
          9,
          9
         ]
        },
        {
         "marker": {
          "color": "white"
         },
         "name": "",
         "type": "scatter",
         "uid": "521964df-2157-4166-aebb-8a70d4e9faa6",
         "x": [
          "2018-07-14 0:07:46",
          "2018-07-14 0:09:02"
         ],
         "y": [
          9,
          9
         ]
        },
        {
         "marker": {
          "color": "white"
         },
         "name": "",
         "type": "scatter",
         "uid": "66a767bd-96bf-4c5b-a8d1-9166cd1a0375",
         "x": [
          "2018-07-14 0:04:57",
          "2018-07-14 0:05:10"
         ],
         "y": [
          9,
          9
         ]
        },
        {
         "marker": {
          "color": "white"
         },
         "name": "",
         "type": "scatter",
         "uid": "4ba354f2-18cf-45fc-bbb5-f77984fdaaa6",
         "x": [
          "2018-07-14 0:04:19",
          "2018-07-14 0:05:37"
         ],
         "y": [
          8,
          8
         ]
        },
        {
         "marker": {
          "color": "white"
         },
         "name": "",
         "type": "scatter",
         "uid": "612d639b-5787-49f9-ae17-6145957aa25c",
         "x": [
          "2018-07-14 0:13:13",
          "2018-07-14 0:13:41"
         ],
         "y": [
          8,
          8
         ]
        },
        {
         "marker": {
          "color": "white"
         },
         "name": "",
         "type": "scatter",
         "uid": "61c7e6dc-eab0-4b9d-8dfa-b18e6a5ed76a",
         "x": [
          "2018-07-14 0:00:00",
          "2018-07-14 0:01:31"
         ],
         "y": [
          8,
          8
         ]
        },
        {
         "marker": {
          "color": "white"
         },
         "name": "",
         "type": "scatter",
         "uid": "04e8fb7b-079b-4892-a8f0-4b89f1435da7",
         "x": [
          "2018-07-14 0:01:31",
          "2018-07-14 0:02:52"
         ],
         "y": [
          8,
          8
         ]
        },
        {
         "marker": {
          "color": "white"
         },
         "name": "",
         "type": "scatter",
         "uid": "967fb2c7-ce94-430a-8293-2e20d2b8c5f7",
         "x": [
          "2018-07-14 0:07:09",
          "2018-07-14 0:07:31"
         ],
         "y": [
          8,
          8
         ]
        },
        {
         "marker": {
          "color": "white"
         },
         "name": "",
         "type": "scatter",
         "uid": "2af37c5f-87eb-4568-8ab8-96b1d127a5e0",
         "x": [
          "2018-07-14 0:02:52",
          "2018-07-14 0:02:54"
         ],
         "y": [
          8,
          8
         ]
        },
        {
         "marker": {
          "color": "white"
         },
         "name": "",
         "type": "scatter",
         "uid": "dcf3a17f-70e8-4945-bbf8-a49818260578",
         "x": [
          "2018-07-14 0:06:23",
          "2018-07-14 0:07:09"
         ],
         "y": [
          8,
          8
         ]
        },
        {
         "marker": {
          "color": "white"
         },
         "name": "",
         "type": "scatter",
         "uid": "249ac84a-01af-41dd-a4a8-68bcf9121438",
         "x": [
          "2018-07-14 0:05:37",
          "2018-07-14 0:06:23"
         ],
         "y": [
          8,
          8
         ]
        },
        {
         "marker": {
          "color": "white"
         },
         "name": "",
         "type": "scatter",
         "uid": "8d227d8a-9382-4ce6-a7fb-9e82554cc0dd",
         "x": [
          "2018-07-14 0:09:02",
          "2018-07-14 0:10:11"
         ],
         "y": [
          8,
          8
         ]
        },
        {
         "marker": {
          "color": "white"
         },
         "name": "",
         "type": "scatter",
         "uid": "c3060806-d43f-4026-bc96-2623f7fc023b",
         "x": [
          "2018-07-14 0:02:54",
          "2018-07-14 0:04:19"
         ],
         "y": [
          8,
          8
         ]
        },
        {
         "marker": {
          "color": "white"
         },
         "name": "",
         "type": "scatter",
         "uid": "c87672c9-3f3d-4d4c-bd74-1cef545159e8",
         "x": [
          "2018-07-14 0:06:42",
          "2018-07-14 0:06:51"
         ],
         "y": [
          7,
          7
         ]
        },
        {
         "marker": {
          "color": "white"
         },
         "name": "",
         "type": "scatter",
         "uid": "ba638be6-d5e8-4b15-94ec-a77a2050ac12",
         "x": [
          "2018-07-14 0:07:04",
          "2018-07-14 0:08:34"
         ],
         "y": [
          7,
          7
         ]
        },
        {
         "marker": {
          "color": "white"
         },
         "name": "",
         "type": "scatter",
         "uid": "ba8ca6c8-b8ca-4dae-8505-b07ceadb6565",
         "x": [
          "2018-07-14 0:04:27",
          "2018-07-14 0:05:41"
         ],
         "y": [
          7,
          7
         ]
        },
        {
         "marker": {
          "color": "white"
         },
         "name": "",
         "type": "scatter",
         "uid": "a52c7ea4-f10b-40be-a355-666689d3888a",
         "x": [
          "2018-07-14 0:02:52",
          "2018-07-14 0:04:27"
         ],
         "y": [
          7,
          7
         ]
        },
        {
         "marker": {
          "color": "white"
         },
         "name": "",
         "type": "scatter",
         "uid": "e16a354f-1fda-494a-b740-9121b9939bc6",
         "x": [
          "2018-07-14 0:01:24",
          "2018-07-14 0:01:38"
         ],
         "y": [
          7,
          7
         ]
        },
        {
         "marker": {
          "color": "white"
         },
         "name": "",
         "type": "scatter",
         "uid": "9b7e74d3-3924-476e-b9db-c2191f170e3d",
         "x": [
          "2018-07-14 0:00:00",
          "2018-07-14 0:01:24"
         ],
         "y": [
          7,
          7
         ]
        },
        {
         "marker": {
          "color": "white"
         },
         "name": "",
         "type": "scatter",
         "uid": "2d6f20ba-a43e-4b82-8f5e-439fe9701768",
         "x": [
          "2018-07-14 0:08:47",
          "2018-07-14 0:09:00"
         ],
         "y": [
          7,
          7
         ]
        },
        {
         "marker": {
          "color": "white"
         },
         "name": "",
         "type": "scatter",
         "uid": "d79afd30-9490-4c0f-9ea9-ee5ba8127ce6",
         "x": [
          "2018-07-14 0:01:38",
          "2018-07-14 0:02:09"
         ],
         "y": [
          7,
          7
         ]
        },
        {
         "marker": {
          "color": "white"
         },
         "name": "",
         "type": "scatter",
         "uid": "c52c868e-e79f-439a-bd47-a3b5b46aec72",
         "x": [
          "2018-07-14 0:12:55",
          "2018-07-14 0:14:20"
         ],
         "y": [
          7,
          7
         ]
        },
        {
         "marker": {
          "color": "white"
         },
         "name": "",
         "type": "scatter",
         "uid": "02cc771b-6342-4ae4-a260-b774618c4388",
         "x": [
          "2018-07-14 0:05:41",
          "2018-07-14 0:06:42"
         ],
         "y": [
          7,
          7
         ]
        },
        {
         "marker": {
          "color": "white"
         },
         "name": "",
         "type": "scatter",
         "uid": "668434f3-7847-4efb-b7ce-c2f335612d78",
         "x": [
          "2018-07-14 0:06:51",
          "2018-07-14 0:07:27"
         ],
         "y": [
          6,
          6
         ]
        },
        {
         "marker": {
          "color": "white"
         },
         "name": "",
         "type": "scatter",
         "uid": "d842bf7b-59e9-4b3d-bf6c-80c7823d7d7d",
         "x": [
          "2018-07-14 0:12:04",
          "2018-07-14 0:13:13"
         ],
         "y": [
          6,
          6
         ]
        },
        {
         "marker": {
          "color": "white"
         },
         "name": "",
         "type": "scatter",
         "uid": "0bb2bc14-e683-4cbd-a171-64ea7859bdeb",
         "x": [
          "2018-07-14 0:02:56",
          "2018-07-14 0:03:35"
         ],
         "y": [
          6,
          6
         ]
        },
        {
         "marker": {
          "color": "white"
         },
         "name": "",
         "type": "scatter",
         "uid": "82810db9-ca74-41c8-8b5b-396c6abe5a22",
         "x": [
          "2018-07-14 0:13:13",
          "2018-07-14 0:14:51"
         ],
         "y": [
          6,
          6
         ]
        },
        {
         "marker": {
          "color": "white"
         },
         "name": "",
         "type": "scatter",
         "uid": "31d2700c-5cde-4ae7-84a7-9a6c9266834e",
         "x": [
          "2018-07-14 0:10:22",
          "2018-07-14 0:10:48"
         ],
         "y": [
          6,
          6
         ]
        },
        {
         "marker": {
          "color": "white"
         },
         "name": "",
         "type": "scatter",
         "uid": "e88d9bdc-d077-476f-9066-815e34ed67c3",
         "x": [
          "2018-07-14 0:08:47",
          "2018-07-14 0:10:22"
         ],
         "y": [
          6,
          6
         ]
        },
        {
         "marker": {
          "color": "white"
         },
         "name": "",
         "type": "scatter",
         "uid": "d471a325-bd5c-428d-93a6-402f9814e6af",
         "x": [
          "2018-07-14 0:07:46",
          "2018-07-14 0:08:47"
         ],
         "y": [
          6,
          6
         ]
        },
        {
         "marker": {
          "color": "white"
         },
         "name": "",
         "type": "scatter",
         "uid": "8f3e3676-d087-43be-b1e4-fd873b06f72e",
         "x": [
          "2018-07-14 0:15:43",
          "2018-07-14 0:17:02"
         ],
         "y": [
          6,
          6
         ]
        },
        {
         "marker": {
          "color": "white"
         },
         "name": "",
         "type": "scatter",
         "uid": "88514657-2cbd-490e-9134-5694fb1b3729",
         "x": [
          "2018-07-14 0:10:48",
          "2018-07-14 0:12:04"
         ],
         "y": [
          6,
          6
         ]
        },
        {
         "marker": {
          "color": "white"
         },
         "name": "",
         "type": "scatter",
         "uid": "0f55d1c4-7304-41c2-94bb-31e0b3444bf4",
         "x": [
          "2018-07-14 0:14:51",
          "2018-07-14 0:15:43"
         ],
         "y": [
          6,
          6
         ]
        },
        {
         "marker": {
          "color": "white"
         },
         "name": "",
         "type": "scatter",
         "uid": "d7c0cc02-8f50-412d-b5dc-5b7ee80d82ee",
         "x": [
          "2018-07-14 0:09:49",
          "2018-07-14 0:10:38"
         ],
         "y": [
          5,
          5
         ]
        },
        {
         "marker": {
          "color": "white"
         },
         "name": "",
         "type": "scatter",
         "uid": "f28c2108-a980-4de1-b9fd-a847a43462d9",
         "x": [
          "2018-07-14 0:08:34",
          "2018-07-14 0:09:49"
         ],
         "y": [
          5,
          5
         ]
        },
        {
         "marker": {
          "color": "white"
         },
         "name": "",
         "type": "scatter",
         "uid": "1925c60e-205c-4039-9aca-a1683aeed443",
         "x": [
          "2018-07-14 0:17:45",
          "2018-07-14 0:18:18"
         ],
         "y": [
          5,
          5
         ]
        },
        {
         "marker": {
          "color": "white"
         },
         "name": "",
         "type": "scatter",
         "uid": "fce03376-7dae-4b05-a6b2-652dab9e0b8a",
         "x": [
          "2018-07-14 0:06:21",
          "2018-07-14 0:08:00"
         ],
         "y": [
          5,
          5
         ]
        },
        {
         "marker": {
          "color": "white"
         },
         "name": "",
         "type": "scatter",
         "uid": "f300d72d-2fbd-4572-81c4-82ac543fc49e",
         "x": [
          "2018-07-14 0:10:48",
          "2018-07-14 0:11:57"
         ],
         "y": [
          5,
          5
         ]
        },
        {
         "marker": {
          "color": "white"
         },
         "name": "",
         "type": "scatter",
         "uid": "faa60824-5379-472a-8004-3edbf034a893",
         "x": [
          "2018-07-14 0:17:13",
          "2018-07-14 0:17:19"
         ],
         "y": [
          5,
          5
         ]
        },
        {
         "marker": {
          "color": "white"
         },
         "name": "",
         "type": "scatter",
         "uid": "401a68a2-cc3d-42b4-8755-7cd82a82c00d",
         "x": [
          "2018-07-14 0:18:28",
          "2018-07-14 0:19:23"
         ],
         "y": [
          5,
          5
         ]
        },
        {
         "marker": {
          "color": "white"
         },
         "name": "",
         "type": "scatter",
         "uid": "2b87c2bf-676c-427c-8877-6055505bc202",
         "x": [
          "2018-07-14 0:08:00",
          "2018-07-14 0:08:32"
         ],
         "y": [
          5,
          5
         ]
        },
        {
         "marker": {
          "color": "white"
         },
         "name": "",
         "type": "scatter",
         "uid": "503f15db-5382-4ea2-91e8-65d729413a53",
         "x": [
          "2018-07-14 0:17:19",
          "2018-07-14 0:17:45"
         ],
         "y": [
          5,
          5
         ]
        },
        {
         "marker": {
          "color": "white"
         },
         "name": "",
         "type": "scatter",
         "uid": "4ad23d2e-c7a6-444f-842a-7321017577d2",
         "x": [
          "2018-07-14 0:15:43",
          "2018-07-14 0:17:13"
         ],
         "y": [
          5,
          5
         ]
        },
        {
         "marker": {
          "color": "white"
         },
         "name": "",
         "type": "scatter",
         "uid": "d63718a7-8c93-486e-8616-0f88541a2f18",
         "x": [
          "2018-07-14 0:10:38",
          "2018-07-14 0:10:49"
         ],
         "y": [
          4,
          4
         ]
        },
        {
         "marker": {
          "color": "white"
         },
         "name": "",
         "type": "scatter",
         "uid": "6414c9da-36a0-44d4-b40e-75b06fb48e01",
         "x": [
          "2018-07-14 0:15:56",
          "2018-07-14 0:16:42"
         ],
         "y": [
          4,
          4
         ]
        },
        {
         "marker": {
          "color": "white"
         },
         "name": "",
         "type": "scatter",
         "uid": "e09a8178-1af7-47f7-9409-411318a1ee3f",
         "x": [
          "2018-07-14 0:07:37",
          "2018-07-14 0:07:47"
         ],
         "y": [
          4,
          4
         ]
        },
        {
         "marker": {
          "color": "white"
         },
         "name": "",
         "type": "scatter",
         "uid": "93a37517-d509-43d0-866f-7dfc6a65ec9d",
         "x": [
          "2018-07-14 0:15:13",
          "2018-07-14 0:15:56"
         ],
         "y": [
          4,
          4
         ]
        },
        {
         "marker": {
          "color": "white"
         },
         "name": "",
         "type": "scatter",
         "uid": "3bd3eb29-91ae-4af2-a767-b91d3c6206c0",
         "x": [
          "2018-07-14 0:08:39",
          "2018-07-14 0:09:40"
         ],
         "y": [
          4,
          4
         ]
        },
        {
         "marker": {
          "color": "white"
         },
         "name": "",
         "type": "scatter",
         "uid": "437beaea-c9c7-42e7-98e5-773202a57e69",
         "x": [
          "2018-07-14 0:07:47",
          "2018-07-14 0:08:39"
         ],
         "y": [
          4,
          4
         ]
        },
        {
         "marker": {
          "color": "white"
         },
         "name": "",
         "type": "scatter",
         "uid": "63365334-a0b7-4cb7-b9e4-bdb96edcd9cf",
         "x": [
          "2018-07-14 0:13:42",
          "2018-07-14 0:14:03"
         ],
         "y": [
          4,
          4
         ]
        },
        {
         "marker": {
          "color": "white"
         },
         "name": "",
         "type": "scatter",
         "uid": "75f994c3-7e3b-42a2-b3e4-a0246962ee16",
         "x": [
          "2018-07-14 0:06:23",
          "2018-07-14 0:07:37"
         ],
         "y": [
          4,
          4
         ]
        },
        {
         "marker": {
          "color": "white"
         },
         "name": "",
         "type": "scatter",
         "uid": "b056ea08-533a-4e9b-a15b-4939104186b6",
         "x": [
          "2018-07-14 0:12:04",
          "2018-07-14 0:12:55"
         ],
         "y": [
          4,
          4
         ]
        },
        {
         "marker": {
          "color": "white"
         },
         "name": "",
         "type": "scatter",
         "uid": "890b3e57-15b0-4cd0-83a6-edd0234d4b10",
         "x": [
          "2018-07-14 0:12:55",
          "2018-07-14 0:13:42"
         ],
         "y": [
          4,
          4
         ]
        },
        {
         "marker": {
          "color": "white"
         },
         "name": "",
         "type": "scatter",
         "uid": "d31f8789-4fff-4d26-821d-d5cf732f57e6",
         "x": [
          "2018-07-14 0:11:29",
          "2018-07-14 0:12:31"
         ],
         "y": [
          3,
          3
         ]
        },
        {
         "marker": {
          "color": "white"
         },
         "name": "",
         "type": "scatter",
         "uid": "06daa3e9-9dd6-469e-9e59-0ed6d8cff5af",
         "x": [
          "2018-07-14 0:13:41",
          "2018-07-14 0:14:27"
         ],
         "y": [
          3,
          3
         ]
        },
        {
         "marker": {
          "color": "white"
         },
         "name": "",
         "type": "scatter",
         "uid": "e26d5be3-13b1-482b-82b0-4c0ef49d8a37",
         "x": [
          "2018-07-14 0:10:00",
          "2018-07-14 0:11:29"
         ],
         "y": [
          3,
          3
         ]
        },
        {
         "marker": {
          "color": "white"
         },
         "name": "",
         "type": "scatter",
         "uid": "7ac50c87-5055-4a03-8ae4-6d2488574f12",
         "x": [
          "2018-07-14 0:08:00",
          "2018-07-14 0:08:09"
         ],
         "y": [
          3,
          3
         ]
        },
        {
         "marker": {
          "color": "white"
         },
         "name": "",
         "type": "scatter",
         "uid": "0d924525-09af-4fa8-801f-c2e563a0d78b",
         "x": [
          "2018-07-14 0:16:34",
          "2018-07-14 0:17:27"
         ],
         "y": [
          3,
          3
         ]
        },
        {
         "marker": {
          "color": "white"
         },
         "name": "",
         "type": "scatter",
         "uid": "3817bac2-cc25-4002-8335-9368275334f2",
         "x": [
          "2018-07-14 0:15:29",
          "2018-07-14 0:16:34"
         ],
         "y": [
          3,
          3
         ]
        },
        {
         "marker": {
          "color": "white"
         },
         "name": "",
         "type": "scatter",
         "uid": "c97cd89f-a4c0-4ede-985d-08c06de5a586",
         "x": [
          "2018-07-14 0:12:31",
          "2018-07-14 0:13:03"
         ],
         "y": [
          3,
          3
         ]
        },
        {
         "marker": {
          "color": "white"
         },
         "name": "",
         "type": "scatter",
         "uid": "f1c78dd3-edca-4767-b7c8-5fdc36ae6e4d",
         "x": [
          "2018-07-14 0:08:32",
          "2018-07-14 0:10:00"
         ],
         "y": [
          3,
          3
         ]
        },
        {
         "marker": {
          "color": "white"
         },
         "name": "",
         "type": "scatter",
         "uid": "534ebfd3-e124-465c-81d6-84a3458f5c2b",
         "x": [
          "2018-07-14 0:14:49",
          "2018-07-14 0:15:29"
         ],
         "y": [
          3,
          3
         ]
        },
        {
         "marker": {
          "color": "white"
         },
         "name": "",
         "type": "scatter",
         "uid": "eb52e3ac-b10f-4c4a-9857-e4ba95f41f0c",
         "x": [
          "2018-07-14 0:08:09",
          "2018-07-14 0:08:16"
         ],
         "y": [
          3,
          3
         ]
        },
        {
         "marker": {
          "color": "white"
         },
         "name": "",
         "type": "scatter",
         "uid": "38daab0b-cb95-4508-9999-088da3af84d3",
         "x": [
          "2018-07-14 0:12:31",
          "2018-07-14 0:13:27"
         ],
         "y": [
          2,
          2
         ]
        },
        {
         "marker": {
          "color": "white"
         },
         "name": "",
         "type": "scatter",
         "uid": "c9901b91-7d57-4d19-9be2-ee3495062573",
         "x": [
          "2018-07-14 0:18:28",
          "2018-07-14 0:19:40"
         ],
         "y": [
          2,
          2
         ]
        },
        {
         "marker": {
          "color": "white"
         },
         "name": "",
         "type": "scatter",
         "uid": "cbe28959-8777-40d8-9dbb-94385e83c017",
         "x": [
          "2018-07-14 0:07:47",
          "2018-07-14 0:07:59"
         ],
         "y": [
          2,
          2
         ]
        },
        {
         "marker": {
          "color": "white"
         },
         "name": "",
         "type": "scatter",
         "uid": "a62f33bd-53e0-4d59-846e-1841418caaae",
         "x": [
          "2018-07-14 0:09:01",
          "2018-07-14 0:10:26"
         ],
         "y": [
          2,
          2
         ]
        },
        {
         "marker": {
          "color": "white"
         },
         "name": "",
         "type": "scatter",
         "uid": "debceba0-255f-453e-9996-73dbfbc14a59",
         "x": [
          "2018-07-14 0:14:03",
          "2018-07-14 0:14:52"
         ],
         "y": [
          2,
          2
         ]
        },
        {
         "marker": {
          "color": "white"
         },
         "name": "",
         "type": "scatter",
         "uid": "3f03a7f5-f2e3-41eb-b9c2-2e8d7b99422c",
         "x": [
          "2018-07-14 0:19:40",
          "2018-07-14 0:20:05"
         ],
         "y": [
          2,
          2
         ]
        },
        {
         "marker": {
          "color": "white"
         },
         "name": "",
         "type": "scatter",
         "uid": "b9ee1777-9a6f-49d4-9cac-7e65be07d2e2",
         "x": [
          "2018-07-14 0:17:58",
          "2018-07-14 0:18:28"
         ],
         "y": [
          2,
          2
         ]
        },
        {
         "marker": {
          "color": "white"
         },
         "name": "",
         "type": "scatter",
         "uid": "e95e2e89-57d6-46bd-b0ca-c5e667610db1",
         "x": [
          "2018-07-14 0:13:27",
          "2018-07-14 0:14:03"
         ],
         "y": [
          2,
          2
         ]
        },
        {
         "marker": {
          "color": "white"
         },
         "name": "",
         "type": "scatter",
         "uid": "f67611d5-85ad-4f5b-9c31-2a6bf175ceb9",
         "x": [
          "2018-07-14 0:15:29",
          "2018-07-14 0:16:58"
         ],
         "y": [
          2,
          2
         ]
        },
        {
         "marker": {
          "color": "white"
         },
         "name": "",
         "type": "scatter",
         "uid": "1d6104f5-02c4-4799-a99b-bce7d828a3dc",
         "x": [
          "2018-07-14 0:17:13",
          "2018-07-14 0:17:58"
         ],
         "y": [
          2,
          2
         ]
        },
        {
         "marker": {
          "color": "white"
         },
         "name": "",
         "type": "scatter",
         "uid": "61ccdef8-a345-45c3-a70d-1b37c1fd8dd5",
         "x": [
          "2018-07-14 0:13:27",
          "2018-07-14 0:14:11"
         ],
         "y": [
          1,
          1
         ]
        },
        {
         "marker": {
          "color": "white"
         },
         "name": "",
         "type": "scatter",
         "uid": "492896d3-a35c-4a11-affa-bcd52214970d",
         "x": [
          "2018-07-14 0:19:40",
          "2018-07-14 0:20:10"
         ],
         "y": [
          1,
          1
         ]
        },
        {
         "marker": {
          "color": "white"
         },
         "name": "",
         "type": "scatter",
         "uid": "53f5868f-14b4-4731-93af-5a065af29e09",
         "x": [
          "2018-07-14 0:05:41",
          "2018-07-14 0:07:11"
         ],
         "y": [
          1,
          1
         ]
        },
        {
         "marker": {
          "color": "white"
         },
         "name": "",
         "type": "scatter",
         "uid": "9a28c554-b689-415a-8fc8-d4077dbebdc6",
         "x": [
          "2018-07-14 0:08:09",
          "2018-07-14 0:09:01"
         ],
         "y": [
          1,
          1
         ]
        },
        {
         "marker": {
          "color": "white"
         },
         "name": "",
         "type": "scatter",
         "uid": "f288f281-c0e4-4f8f-b72a-30df45580b87",
         "x": [
          "2018-07-14 0:11:57",
          "2018-07-14 0:12:18"
         ],
         "y": [
          1,
          1
         ]
        },
        {
         "marker": {
          "color": "white"
         },
         "name": "",
         "type": "scatter",
         "uid": "0d059d67-607e-4acc-96bd-36fae1db0315",
         "x": [
          "2018-07-14 0:10:24",
          "2018-07-14 0:11:12"
         ],
         "y": [
          1,
          1
         ]
        },
        {
         "marker": {
          "color": "white"
         },
         "name": "",
         "type": "scatter",
         "uid": "14d91736-b7e3-480b-9ac7-e233c864ccbb",
         "x": [
          "2018-07-14 0:14:38",
          "2018-07-14 0:16:07"
         ],
         "y": [
          1,
          1
         ]
        },
        {
         "marker": {
          "color": "white"
         },
         "name": "",
         "type": "scatter",
         "uid": "2c6585f1-1a3a-494b-9edd-93c356c4610c",
         "x": [
          "2018-07-14 0:10:05",
          "2018-07-14 0:10:24"
         ],
         "y": [
          1,
          1
         ]
        },
        {
         "marker": {
          "color": "white"
         },
         "name": "",
         "type": "scatter",
         "uid": "b8bbd43e-f1c1-40a4-a520-9ae977da71b8",
         "x": [
          "2018-07-14 0:17:45",
          "2018-07-14 0:18:59"
         ],
         "y": [
          1,
          1
         ]
        },
        {
         "marker": {
          "color": "white"
         },
         "name": "",
         "type": "scatter",
         "uid": "848358b0-ce8d-4894-8123-f8574de2c47c",
         "x": [
          "2018-07-14 0:09:01",
          "2018-07-14 0:10:05"
         ],
         "y": [
          1,
          1
         ]
        },
        {
         "marker": {
          "color": "white"
         },
         "name": "",
         "type": "scatter",
         "uid": "c5197924-694b-482e-a9a3-1167cc0cdc4c",
         "x": [
          "2018-07-14 0:16:25",
          "2018-07-14 0:16:46"
         ],
         "y": [
          0,
          0
         ]
        },
        {
         "marker": {
          "color": "white"
         },
         "name": "",
         "type": "scatter",
         "uid": "05012c7e-a331-4c88-9a07-6d862463b775",
         "x": [
          "2018-07-14 0:09:49",
          "2018-07-14 0:10:00"
         ],
         "y": [
          0,
          0
         ]
        },
        {
         "marker": {
          "color": "white"
         },
         "name": "",
         "type": "scatter",
         "uid": "f64af3c0-5c4a-4f23-b495-9a6b365526a9",
         "x": [
          "2018-07-14 0:13:21",
          "2018-07-14 0:14:06"
         ],
         "y": [
          0,
          0
         ]
        },
        {
         "marker": {
          "color": "white"
         },
         "name": "",
         "type": "scatter",
         "uid": "02294ad7-e345-4901-bebd-9b006c28f153",
         "x": [
          "2018-07-14 0:14:51",
          "2018-07-14 0:15:13"
         ],
         "y": [
          0,
          0
         ]
        },
        {
         "marker": {
          "color": "white"
         },
         "name": "",
         "type": "scatter",
         "uid": "199af750-4f15-486b-9250-a10ba78d9f6d",
         "x": [
          "2018-07-14 0:15:13",
          "2018-07-14 0:16:25"
         ],
         "y": [
          0,
          0
         ]
        },
        {
         "marker": {
          "color": "white"
         },
         "name": "",
         "type": "scatter",
         "uid": "d63fc82b-ef67-4fcc-9b72-8684cd32fb0a",
         "x": [
          "2018-07-14 0:11:21",
          "2018-07-14 0:12:33"
         ],
         "y": [
          0,
          0
         ]
        },
        {
         "marker": {
          "color": "white"
         },
         "name": "",
         "type": "scatter",
         "uid": "0fbfe931-4f69-4e59-8c66-d867e5d2a976",
         "x": [
          "2018-07-14 0:14:06",
          "2018-07-14 0:14:38"
         ],
         "y": [
          0,
          0
         ]
        },
        {
         "marker": {
          "color": "white"
         },
         "name": "",
         "type": "scatter",
         "uid": "8ce70b87-ef07-4b59-95df-6457c1d3c5f3",
         "x": [
          "2018-07-14 0:12:33",
          "2018-07-14 0:13:21"
         ],
         "y": [
          0,
          0
         ]
        },
        {
         "marker": {
          "color": "white"
         },
         "name": "",
         "type": "scatter",
         "uid": "39c610ad-9671-4da2-acce-f514280d7d92",
         "x": [
          "2018-07-14 0:14:38",
          "2018-07-14 0:14:49"
         ],
         "y": [
          0,
          0
         ]
        },
        {
         "marker": {
          "color": "white"
         },
         "name": "",
         "type": "scatter",
         "uid": "e27814a5-277b-463b-85a1-e4be4418b2f2",
         "x": [
          "2018-07-14 0:10:05",
          "2018-07-14 0:11:21"
         ],
         "y": [
          0,
          0
         ]
        },
        {
         "hoverinfo": "none",
         "marker": {
          "color": "rgb(31, 119, 180)",
          "size": 1
         },
         "name": "Job 1",
         "showlegend": true,
         "type": "scatter",
         "uid": "e8952827-032b-47d0-8de7-5d2e16a0a02b",
         "x": [
          "2018-07-14 0:10:05",
          "2018-07-14 0:10:05"
         ],
         "y": [
          0,
          0
         ]
        },
        {
         "hoverinfo": "none",
         "marker": {
          "color": "rgb(255, 127, 14)",
          "size": 1
         },
         "name": "Job 10",
         "showlegend": true,
         "type": "scatter",
         "uid": "da44efa9-4645-426c-a872-713c9a7773e8",
         "x": [
          "2018-07-14 0:10:05",
          "2018-07-14 0:10:05"
         ],
         "y": [
          1,
          1
         ]
        },
        {
         "hoverinfo": "none",
         "marker": {
          "color": "rgb(44, 160, 44)",
          "size": 1
         },
         "name": "Job 2",
         "showlegend": true,
         "type": "scatter",
         "uid": "9f160bdb-1d42-4f18-a590-8447aeb34989",
         "x": [
          "2018-07-14 0:10:05",
          "2018-07-14 0:10:05"
         ],
         "y": [
          2,
          2
         ]
        },
        {
         "hoverinfo": "none",
         "marker": {
          "color": "rgb(214, 39, 40)",
          "size": 1
         },
         "name": "Job 3",
         "showlegend": true,
         "type": "scatter",
         "uid": "37d90a57-c7ee-4f5c-9a84-f161229bfc6d",
         "x": [
          "2018-07-14 0:10:05",
          "2018-07-14 0:10:05"
         ],
         "y": [
          3,
          3
         ]
        },
        {
         "hoverinfo": "none",
         "marker": {
          "color": "rgb(148, 103, 189)",
          "size": 1
         },
         "name": "Job 4",
         "showlegend": true,
         "type": "scatter",
         "uid": "28ea0209-1214-4ca0-ab07-f4e21a41ca13",
         "x": [
          "2018-07-14 0:10:05",
          "2018-07-14 0:10:05"
         ],
         "y": [
          4,
          4
         ]
        },
        {
         "hoverinfo": "none",
         "marker": {
          "color": "rgb(140, 86, 75)",
          "size": 1
         },
         "name": "Job 5",
         "showlegend": true,
         "type": "scatter",
         "uid": "592d97d1-e99b-4771-ae69-667e56ee15db",
         "x": [
          "2018-07-14 0:10:05",
          "2018-07-14 0:10:05"
         ],
         "y": [
          5,
          5
         ]
        },
        {
         "hoverinfo": "none",
         "marker": {
          "color": "rgb(227, 119, 194)",
          "size": 1
         },
         "name": "Job 6",
         "showlegend": true,
         "type": "scatter",
         "uid": "e128137e-fb5c-404e-bf2a-d41d90466eb9",
         "x": [
          "2018-07-14 0:10:05",
          "2018-07-14 0:10:05"
         ],
         "y": [
          6,
          6
         ]
        },
        {
         "hoverinfo": "none",
         "marker": {
          "color": "rgb(127, 127, 127)",
          "size": 1
         },
         "name": "Job 7",
         "showlegend": true,
         "type": "scatter",
         "uid": "14b685d2-f0d3-49c0-a1f9-cffdbd4bfa1c",
         "x": [
          "2018-07-14 0:10:05",
          "2018-07-14 0:10:05"
         ],
         "y": [
          7,
          7
         ]
        },
        {
         "hoverinfo": "none",
         "marker": {
          "color": "rgb(188, 189, 34)",
          "size": 1
         },
         "name": "Job 8",
         "showlegend": true,
         "type": "scatter",
         "uid": "3e7f73ec-7a39-49a3-bd92-44e15747a6af",
         "x": [
          "2018-07-14 0:10:05",
          "2018-07-14 0:10:05"
         ],
         "y": [
          8,
          8
         ]
        },
        {
         "hoverinfo": "none",
         "marker": {
          "color": "rgb(23, 190, 207)",
          "size": 1
         },
         "name": "Job 9",
         "showlegend": true,
         "type": "scatter",
         "uid": "68dc5385-3b8b-4cb0-8390-1ebed362da0b",
         "x": [
          "2018-07-14 0:10:05",
          "2018-07-14 0:10:05"
         ],
         "y": [
          9,
          9
         ]
        }
       ],
       "layout": {
        "height": 600,
        "hovermode": "closest",
        "shapes": [
         {
          "fillcolor": "rgb(31, 119, 180)",
          "line": {
           "width": 0
          },
          "opacity": 1,
          "type": "rect",
          "x0": "2018-07-14 0:03:02",
          "x1": "2018-07-14 0:03:31",
          "xref": "x",
          "y0": 8.8,
          "y1": 9.2,
          "yref": "y"
         },
         {
          "fillcolor": "rgb(44, 160, 44)",
          "line": {
           "width": 0
          },
          "opacity": 1,
          "type": "rect",
          "x0": "2018-07-14 0:06:21",
          "x1": "2018-07-14 0:07:04",
          "xref": "x",
          "y0": 8.8,
          "y1": 9.2,
          "yref": "y"
         },
         {
          "fillcolor": "rgb(214, 39, 40)",
          "line": {
           "width": 0
          },
          "opacity": 1,
          "type": "rect",
          "x0": "2018-07-14 0:01:31",
          "x1": "2018-07-14 0:02:56",
          "xref": "x",
          "y0": 8.8,
          "y1": 9.2,
          "yref": "y"
         },
         {
          "fillcolor": "rgb(148, 103, 189)",
          "line": {
           "width": 0
          },
          "opacity": 1,
          "type": "rect",
          "x0": "2018-07-14 0:05:10",
          "x1": "2018-07-14 0:06:21",
          "xref": "x",
          "y0": 8.8,
          "y1": 9.2,
          "yref": "y"
         },
         {
          "fillcolor": "rgb(140, 86, 75)",
          "line": {
           "width": 0
          },
          "opacity": 1,
          "type": "rect",
          "x0": "2018-07-14 0:02:56",
          "x1": "2018-07-14 0:03:02",
          "xref": "x",
          "y0": 8.8,
          "y1": 9.2,
          "yref": "y"
         },
         {
          "fillcolor": "rgb(227, 119, 194)",
          "line": {
           "width": 0
          },
          "opacity": 1,
          "type": "rect",
          "x0": "2018-07-14 0:12:33",
          "x1": "2018-07-14 0:13:20",
          "xref": "x",
          "y0": 8.8,
          "y1": 9.2,
          "yref": "y"
         },
         {
          "fillcolor": "rgb(127, 127, 127)",
          "line": {
           "width": 0
          },
          "opacity": 1,
          "type": "rect",
          "x0": "2018-07-14 0:07:09",
          "x1": "2018-07-14 0:07:46",
          "xref": "x",
          "y0": 8.8,
          "y1": 9.2,
          "yref": "y"
         },
         {
          "fillcolor": "rgb(188, 189, 34)",
          "line": {
           "width": 0
          },
          "opacity": 1,
          "type": "rect",
          "x0": "2018-07-14 0:03:31",
          "x1": "2018-07-14 0:04:57",
          "xref": "x",
          "y0": 8.8,
          "y1": 9.2,
          "yref": "y"
         },
         {
          "fillcolor": "rgb(23, 190, 207)",
          "line": {
           "width": 0
          },
          "opacity": 1,
          "type": "rect",
          "x0": "2018-07-14 0:07:46",
          "x1": "2018-07-14 0:09:02",
          "xref": "x",
          "y0": 8.8,
          "y1": 9.2,
          "yref": "y"
         },
         {
          "fillcolor": "rgb(255, 127, 14)",
          "line": {
           "width": 0
          },
          "opacity": 1,
          "type": "rect",
          "x0": "2018-07-14 0:04:57",
          "x1": "2018-07-14 0:05:10",
          "xref": "x",
          "y0": 8.8,
          "y1": 9.2,
          "yref": "y"
         },
         {
          "fillcolor": "rgb(31, 119, 180)",
          "line": {
           "width": 0
          },
          "opacity": 1,
          "type": "rect",
          "x0": "2018-07-14 0:04:19",
          "x1": "2018-07-14 0:05:37",
          "xref": "x",
          "y0": 7.8,
          "y1": 8.2,
          "yref": "y"
         },
         {
          "fillcolor": "rgb(44, 160, 44)",
          "line": {
           "width": 0
          },
          "opacity": 1,
          "type": "rect",
          "x0": "2018-07-14 0:13:13",
          "x1": "2018-07-14 0:13:41",
          "xref": "x",
          "y0": 7.8,
          "y1": 8.2,
          "yref": "y"
         },
         {
          "fillcolor": "rgb(214, 39, 40)",
          "line": {
           "width": 0
          },
          "opacity": 1,
          "type": "rect",
          "x0": "2018-07-14 0:00:00",
          "x1": "2018-07-14 0:01:31",
          "xref": "x",
          "y0": 7.8,
          "y1": 8.2,
          "yref": "y"
         },
         {
          "fillcolor": "rgb(148, 103, 189)",
          "line": {
           "width": 0
          },
          "opacity": 1,
          "type": "rect",
          "x0": "2018-07-14 0:01:31",
          "x1": "2018-07-14 0:02:52",
          "xref": "x",
          "y0": 7.8,
          "y1": 8.2,
          "yref": "y"
         },
         {
          "fillcolor": "rgb(140, 86, 75)",
          "line": {
           "width": 0
          },
          "opacity": 1,
          "type": "rect",
          "x0": "2018-07-14 0:07:09",
          "x1": "2018-07-14 0:07:31",
          "xref": "x",
          "y0": 7.8,
          "y1": 8.2,
          "yref": "y"
         },
         {
          "fillcolor": "rgb(227, 119, 194)",
          "line": {
           "width": 0
          },
          "opacity": 1,
          "type": "rect",
          "x0": "2018-07-14 0:02:52",
          "x1": "2018-07-14 0:02:54",
          "xref": "x",
          "y0": 7.8,
          "y1": 8.2,
          "yref": "y"
         },
         {
          "fillcolor": "rgb(127, 127, 127)",
          "line": {
           "width": 0
          },
          "opacity": 1,
          "type": "rect",
          "x0": "2018-07-14 0:06:23",
          "x1": "2018-07-14 0:07:09",
          "xref": "x",
          "y0": 7.8,
          "y1": 8.2,
          "yref": "y"
         },
         {
          "fillcolor": "rgb(188, 189, 34)",
          "line": {
           "width": 0
          },
          "opacity": 1,
          "type": "rect",
          "x0": "2018-07-14 0:05:37",
          "x1": "2018-07-14 0:06:23",
          "xref": "x",
          "y0": 7.8,
          "y1": 8.2,
          "yref": "y"
         },
         {
          "fillcolor": "rgb(23, 190, 207)",
          "line": {
           "width": 0
          },
          "opacity": 1,
          "type": "rect",
          "x0": "2018-07-14 0:09:02",
          "x1": "2018-07-14 0:10:11",
          "xref": "x",
          "y0": 7.8,
          "y1": 8.2,
          "yref": "y"
         },
         {
          "fillcolor": "rgb(255, 127, 14)",
          "line": {
           "width": 0
          },
          "opacity": 1,
          "type": "rect",
          "x0": "2018-07-14 0:02:54",
          "x1": "2018-07-14 0:04:19",
          "xref": "x",
          "y0": 7.8,
          "y1": 8.2,
          "yref": "y"
         },
         {
          "fillcolor": "rgb(31, 119, 180)",
          "line": {
           "width": 0
          },
          "opacity": 1,
          "type": "rect",
          "x0": "2018-07-14 0:06:42",
          "x1": "2018-07-14 0:06:51",
          "xref": "x",
          "y0": 6.8,
          "y1": 7.2,
          "yref": "y"
         },
         {
          "fillcolor": "rgb(44, 160, 44)",
          "line": {
           "width": 0
          },
          "opacity": 1,
          "type": "rect",
          "x0": "2018-07-14 0:07:04",
          "x1": "2018-07-14 0:08:34",
          "xref": "x",
          "y0": 6.8,
          "y1": 7.2,
          "yref": "y"
         },
         {
          "fillcolor": "rgb(214, 39, 40)",
          "line": {
           "width": 0
          },
          "opacity": 1,
          "type": "rect",
          "x0": "2018-07-14 0:04:27",
          "x1": "2018-07-14 0:05:41",
          "xref": "x",
          "y0": 6.8,
          "y1": 7.2,
          "yref": "y"
         },
         {
          "fillcolor": "rgb(148, 103, 189)",
          "line": {
           "width": 0
          },
          "opacity": 1,
          "type": "rect",
          "x0": "2018-07-14 0:02:52",
          "x1": "2018-07-14 0:04:27",
          "xref": "x",
          "y0": 6.8,
          "y1": 7.2,
          "yref": "y"
         },
         {
          "fillcolor": "rgb(140, 86, 75)",
          "line": {
           "width": 0
          },
          "opacity": 1,
          "type": "rect",
          "x0": "2018-07-14 0:01:24",
          "x1": "2018-07-14 0:01:38",
          "xref": "x",
          "y0": 6.8,
          "y1": 7.2,
          "yref": "y"
         },
         {
          "fillcolor": "rgb(227, 119, 194)",
          "line": {
           "width": 0
          },
          "opacity": 1,
          "type": "rect",
          "x0": "2018-07-14 0:00:00",
          "x1": "2018-07-14 0:01:24",
          "xref": "x",
          "y0": 6.8,
          "y1": 7.2,
          "yref": "y"
         },
         {
          "fillcolor": "rgb(127, 127, 127)",
          "line": {
           "width": 0
          },
          "opacity": 1,
          "type": "rect",
          "x0": "2018-07-14 0:08:47",
          "x1": "2018-07-14 0:09:00",
          "xref": "x",
          "y0": 6.8,
          "y1": 7.2,
          "yref": "y"
         },
         {
          "fillcolor": "rgb(188, 189, 34)",
          "line": {
           "width": 0
          },
          "opacity": 1,
          "type": "rect",
          "x0": "2018-07-14 0:01:38",
          "x1": "2018-07-14 0:02:09",
          "xref": "x",
          "y0": 6.8,
          "y1": 7.2,
          "yref": "y"
         },
         {
          "fillcolor": "rgb(23, 190, 207)",
          "line": {
           "width": 0
          },
          "opacity": 1,
          "type": "rect",
          "x0": "2018-07-14 0:12:55",
          "x1": "2018-07-14 0:14:20",
          "xref": "x",
          "y0": 6.8,
          "y1": 7.2,
          "yref": "y"
         },
         {
          "fillcolor": "rgb(255, 127, 14)",
          "line": {
           "width": 0
          },
          "opacity": 1,
          "type": "rect",
          "x0": "2018-07-14 0:05:41",
          "x1": "2018-07-14 0:06:42",
          "xref": "x",
          "y0": 6.8,
          "y1": 7.2,
          "yref": "y"
         },
         {
          "fillcolor": "rgb(31, 119, 180)",
          "line": {
           "width": 0
          },
          "opacity": 1,
          "type": "rect",
          "x0": "2018-07-14 0:06:51",
          "x1": "2018-07-14 0:07:27",
          "xref": "x",
          "y0": 5.8,
          "y1": 6.2,
          "yref": "y"
         },
         {
          "fillcolor": "rgb(44, 160, 44)",
          "line": {
           "width": 0
          },
          "opacity": 1,
          "type": "rect",
          "x0": "2018-07-14 0:12:04",
          "x1": "2018-07-14 0:13:13",
          "xref": "x",
          "y0": 5.8,
          "y1": 6.2,
          "yref": "y"
         },
         {
          "fillcolor": "rgb(214, 39, 40)",
          "line": {
           "width": 0
          },
          "opacity": 1,
          "type": "rect",
          "x0": "2018-07-14 0:02:56",
          "x1": "2018-07-14 0:03:35",
          "xref": "x",
          "y0": 5.8,
          "y1": 6.2,
          "yref": "y"
         },
         {
          "fillcolor": "rgb(148, 103, 189)",
          "line": {
           "width": 0
          },
          "opacity": 1,
          "type": "rect",
          "x0": "2018-07-14 0:13:13",
          "x1": "2018-07-14 0:14:51",
          "xref": "x",
          "y0": 5.8,
          "y1": 6.2,
          "yref": "y"
         },
         {
          "fillcolor": "rgb(140, 86, 75)",
          "line": {
           "width": 0
          },
          "opacity": 1,
          "type": "rect",
          "x0": "2018-07-14 0:10:22",
          "x1": "2018-07-14 0:10:48",
          "xref": "x",
          "y0": 5.8,
          "y1": 6.2,
          "yref": "y"
         },
         {
          "fillcolor": "rgb(227, 119, 194)",
          "line": {
           "width": 0
          },
          "opacity": 1,
          "type": "rect",
          "x0": "2018-07-14 0:08:47",
          "x1": "2018-07-14 0:10:22",
          "xref": "x",
          "y0": 5.8,
          "y1": 6.2,
          "yref": "y"
         },
         {
          "fillcolor": "rgb(127, 127, 127)",
          "line": {
           "width": 0
          },
          "opacity": 1,
          "type": "rect",
          "x0": "2018-07-14 0:07:46",
          "x1": "2018-07-14 0:08:47",
          "xref": "x",
          "y0": 5.8,
          "y1": 6.2,
          "yref": "y"
         },
         {
          "fillcolor": "rgb(188, 189, 34)",
          "line": {
           "width": 0
          },
          "opacity": 1,
          "type": "rect",
          "x0": "2018-07-14 0:15:43",
          "x1": "2018-07-14 0:17:02",
          "xref": "x",
          "y0": 5.8,
          "y1": 6.2,
          "yref": "y"
         },
         {
          "fillcolor": "rgb(23, 190, 207)",
          "line": {
           "width": 0
          },
          "opacity": 1,
          "type": "rect",
          "x0": "2018-07-14 0:10:48",
          "x1": "2018-07-14 0:12:04",
          "xref": "x",
          "y0": 5.8,
          "y1": 6.2,
          "yref": "y"
         },
         {
          "fillcolor": "rgb(255, 127, 14)",
          "line": {
           "width": 0
          },
          "opacity": 1,
          "type": "rect",
          "x0": "2018-07-14 0:14:51",
          "x1": "2018-07-14 0:15:43",
          "xref": "x",
          "y0": 5.8,
          "y1": 6.2,
          "yref": "y"
         },
         {
          "fillcolor": "rgb(31, 119, 180)",
          "line": {
           "width": 0
          },
          "opacity": 1,
          "type": "rect",
          "x0": "2018-07-14 0:09:49",
          "x1": "2018-07-14 0:10:38",
          "xref": "x",
          "y0": 4.8,
          "y1": 5.2,
          "yref": "y"
         },
         {
          "fillcolor": "rgb(44, 160, 44)",
          "line": {
           "width": 0
          },
          "opacity": 1,
          "type": "rect",
          "x0": "2018-07-14 0:08:34",
          "x1": "2018-07-14 0:09:49",
          "xref": "x",
          "y0": 4.8,
          "y1": 5.2,
          "yref": "y"
         },
         {
          "fillcolor": "rgb(214, 39, 40)",
          "line": {
           "width": 0
          },
          "opacity": 1,
          "type": "rect",
          "x0": "2018-07-14 0:17:45",
          "x1": "2018-07-14 0:18:18",
          "xref": "x",
          "y0": 4.8,
          "y1": 5.2,
          "yref": "y"
         },
         {
          "fillcolor": "rgb(148, 103, 189)",
          "line": {
           "width": 0
          },
          "opacity": 1,
          "type": "rect",
          "x0": "2018-07-14 0:06:21",
          "x1": "2018-07-14 0:08:00",
          "xref": "x",
          "y0": 4.8,
          "y1": 5.2,
          "yref": "y"
         },
         {
          "fillcolor": "rgb(140, 86, 75)",
          "line": {
           "width": 0
          },
          "opacity": 1,
          "type": "rect",
          "x0": "2018-07-14 0:10:48",
          "x1": "2018-07-14 0:11:57",
          "xref": "x",
          "y0": 4.8,
          "y1": 5.2,
          "yref": "y"
         },
         {
          "fillcolor": "rgb(227, 119, 194)",
          "line": {
           "width": 0
          },
          "opacity": 1,
          "type": "rect",
          "x0": "2018-07-14 0:17:13",
          "x1": "2018-07-14 0:17:19",
          "xref": "x",
          "y0": 4.8,
          "y1": 5.2,
          "yref": "y"
         },
         {
          "fillcolor": "rgb(127, 127, 127)",
          "line": {
           "width": 0
          },
          "opacity": 1,
          "type": "rect",
          "x0": "2018-07-14 0:18:28",
          "x1": "2018-07-14 0:19:23",
          "xref": "x",
          "y0": 4.8,
          "y1": 5.2,
          "yref": "y"
         },
         {
          "fillcolor": "rgb(188, 189, 34)",
          "line": {
           "width": 0
          },
          "opacity": 1,
          "type": "rect",
          "x0": "2018-07-14 0:08:00",
          "x1": "2018-07-14 0:08:32",
          "xref": "x",
          "y0": 4.8,
          "y1": 5.2,
          "yref": "y"
         },
         {
          "fillcolor": "rgb(23, 190, 207)",
          "line": {
           "width": 0
          },
          "opacity": 1,
          "type": "rect",
          "x0": "2018-07-14 0:17:19",
          "x1": "2018-07-14 0:17:45",
          "xref": "x",
          "y0": 4.8,
          "y1": 5.2,
          "yref": "y"
         },
         {
          "fillcolor": "rgb(255, 127, 14)",
          "line": {
           "width": 0
          },
          "opacity": 1,
          "type": "rect",
          "x0": "2018-07-14 0:15:43",
          "x1": "2018-07-14 0:17:13",
          "xref": "x",
          "y0": 4.8,
          "y1": 5.2,
          "yref": "y"
         },
         {
          "fillcolor": "rgb(31, 119, 180)",
          "line": {
           "width": 0
          },
          "opacity": 1,
          "type": "rect",
          "x0": "2018-07-14 0:10:38",
          "x1": "2018-07-14 0:10:49",
          "xref": "x",
          "y0": 3.8,
          "y1": 4.2,
          "yref": "y"
         },
         {
          "fillcolor": "rgb(44, 160, 44)",
          "line": {
           "width": 0
          },
          "opacity": 1,
          "type": "rect",
          "x0": "2018-07-14 0:15:56",
          "x1": "2018-07-14 0:16:42",
          "xref": "x",
          "y0": 3.8,
          "y1": 4.2,
          "yref": "y"
         },
         {
          "fillcolor": "rgb(214, 39, 40)",
          "line": {
           "width": 0
          },
          "opacity": 1,
          "type": "rect",
          "x0": "2018-07-14 0:07:37",
          "x1": "2018-07-14 0:07:47",
          "xref": "x",
          "y0": 3.8,
          "y1": 4.2,
          "yref": "y"
         },
         {
          "fillcolor": "rgb(148, 103, 189)",
          "line": {
           "width": 0
          },
          "opacity": 1,
          "type": "rect",
          "x0": "2018-07-14 0:15:13",
          "x1": "2018-07-14 0:15:56",
          "xref": "x",
          "y0": 3.8,
          "y1": 4.2,
          "yref": "y"
         },
         {
          "fillcolor": "rgb(140, 86, 75)",
          "line": {
           "width": 0
          },
          "opacity": 1,
          "type": "rect",
          "x0": "2018-07-14 0:08:39",
          "x1": "2018-07-14 0:09:40",
          "xref": "x",
          "y0": 3.8,
          "y1": 4.2,
          "yref": "y"
         },
         {
          "fillcolor": "rgb(227, 119, 194)",
          "line": {
           "width": 0
          },
          "opacity": 1,
          "type": "rect",
          "x0": "2018-07-14 0:07:47",
          "x1": "2018-07-14 0:08:39",
          "xref": "x",
          "y0": 3.8,
          "y1": 4.2,
          "yref": "y"
         },
         {
          "fillcolor": "rgb(127, 127, 127)",
          "line": {
           "width": 0
          },
          "opacity": 1,
          "type": "rect",
          "x0": "2018-07-14 0:13:42",
          "x1": "2018-07-14 0:14:03",
          "xref": "x",
          "y0": 3.8,
          "y1": 4.2,
          "yref": "y"
         },
         {
          "fillcolor": "rgb(188, 189, 34)",
          "line": {
           "width": 0
          },
          "opacity": 1,
          "type": "rect",
          "x0": "2018-07-14 0:06:23",
          "x1": "2018-07-14 0:07:37",
          "xref": "x",
          "y0": 3.8,
          "y1": 4.2,
          "yref": "y"
         },
         {
          "fillcolor": "rgb(23, 190, 207)",
          "line": {
           "width": 0
          },
          "opacity": 1,
          "type": "rect",
          "x0": "2018-07-14 0:12:04",
          "x1": "2018-07-14 0:12:55",
          "xref": "x",
          "y0": 3.8,
          "y1": 4.2,
          "yref": "y"
         },
         {
          "fillcolor": "rgb(255, 127, 14)",
          "line": {
           "width": 0
          },
          "opacity": 1,
          "type": "rect",
          "x0": "2018-07-14 0:12:55",
          "x1": "2018-07-14 0:13:42",
          "xref": "x",
          "y0": 3.8,
          "y1": 4.2,
          "yref": "y"
         },
         {
          "fillcolor": "rgb(31, 119, 180)",
          "line": {
           "width": 0
          },
          "opacity": 1,
          "type": "rect",
          "x0": "2018-07-14 0:11:29",
          "x1": "2018-07-14 0:12:31",
          "xref": "x",
          "y0": 2.8,
          "y1": 3.2,
          "yref": "y"
         },
         {
          "fillcolor": "rgb(44, 160, 44)",
          "line": {
           "width": 0
          },
          "opacity": 1,
          "type": "rect",
          "x0": "2018-07-14 0:13:41",
          "x1": "2018-07-14 0:14:27",
          "xref": "x",
          "y0": 2.8,
          "y1": 3.2,
          "yref": "y"
         },
         {
          "fillcolor": "rgb(214, 39, 40)",
          "line": {
           "width": 0
          },
          "opacity": 1,
          "type": "rect",
          "x0": "2018-07-14 0:10:00",
          "x1": "2018-07-14 0:11:29",
          "xref": "x",
          "y0": 2.8,
          "y1": 3.2,
          "yref": "y"
         },
         {
          "fillcolor": "rgb(148, 103, 189)",
          "line": {
           "width": 0
          },
          "opacity": 1,
          "type": "rect",
          "x0": "2018-07-14 0:08:00",
          "x1": "2018-07-14 0:08:09",
          "xref": "x",
          "y0": 2.8,
          "y1": 3.2,
          "yref": "y"
         },
         {
          "fillcolor": "rgb(140, 86, 75)",
          "line": {
           "width": 0
          },
          "opacity": 1,
          "type": "rect",
          "x0": "2018-07-14 0:16:34",
          "x1": "2018-07-14 0:17:27",
          "xref": "x",
          "y0": 2.8,
          "y1": 3.2,
          "yref": "y"
         },
         {
          "fillcolor": "rgb(227, 119, 194)",
          "line": {
           "width": 0
          },
          "opacity": 1,
          "type": "rect",
          "x0": "2018-07-14 0:15:29",
          "x1": "2018-07-14 0:16:34",
          "xref": "x",
          "y0": 2.8,
          "y1": 3.2,
          "yref": "y"
         },
         {
          "fillcolor": "rgb(127, 127, 127)",
          "line": {
           "width": 0
          },
          "opacity": 1,
          "type": "rect",
          "x0": "2018-07-14 0:12:31",
          "x1": "2018-07-14 0:13:03",
          "xref": "x",
          "y0": 2.8,
          "y1": 3.2,
          "yref": "y"
         },
         {
          "fillcolor": "rgb(188, 189, 34)",
          "line": {
           "width": 0
          },
          "opacity": 1,
          "type": "rect",
          "x0": "2018-07-14 0:08:32",
          "x1": "2018-07-14 0:10:00",
          "xref": "x",
          "y0": 2.8,
          "y1": 3.2,
          "yref": "y"
         },
         {
          "fillcolor": "rgb(23, 190, 207)",
          "line": {
           "width": 0
          },
          "opacity": 1,
          "type": "rect",
          "x0": "2018-07-14 0:14:49",
          "x1": "2018-07-14 0:15:29",
          "xref": "x",
          "y0": 2.8,
          "y1": 3.2,
          "yref": "y"
         },
         {
          "fillcolor": "rgb(255, 127, 14)",
          "line": {
           "width": 0
          },
          "opacity": 1,
          "type": "rect",
          "x0": "2018-07-14 0:08:09",
          "x1": "2018-07-14 0:08:16",
          "xref": "x",
          "y0": 2.8,
          "y1": 3.2,
          "yref": "y"
         },
         {
          "fillcolor": "rgb(31, 119, 180)",
          "line": {
           "width": 0
          },
          "opacity": 1,
          "type": "rect",
          "x0": "2018-07-14 0:12:31",
          "x1": "2018-07-14 0:13:27",
          "xref": "x",
          "y0": 1.8,
          "y1": 2.2,
          "yref": "y"
         },
         {
          "fillcolor": "rgb(44, 160, 44)",
          "line": {
           "width": 0
          },
          "opacity": 1,
          "type": "rect",
          "x0": "2018-07-14 0:18:28",
          "x1": "2018-07-14 0:19:40",
          "xref": "x",
          "y0": 1.8,
          "y1": 2.2,
          "yref": "y"
         },
         {
          "fillcolor": "rgb(214, 39, 40)",
          "line": {
           "width": 0
          },
          "opacity": 1,
          "type": "rect",
          "x0": "2018-07-14 0:07:47",
          "x1": "2018-07-14 0:07:59",
          "xref": "x",
          "y0": 1.8,
          "y1": 2.2,
          "yref": "y"
         },
         {
          "fillcolor": "rgb(148, 103, 189)",
          "line": {
           "width": 0
          },
          "opacity": 1,
          "type": "rect",
          "x0": "2018-07-14 0:09:01",
          "x1": "2018-07-14 0:10:26",
          "xref": "x",
          "y0": 1.8,
          "y1": 2.2,
          "yref": "y"
         },
         {
          "fillcolor": "rgb(140, 86, 75)",
          "line": {
           "width": 0
          },
          "opacity": 1,
          "type": "rect",
          "x0": "2018-07-14 0:14:03",
          "x1": "2018-07-14 0:14:52",
          "xref": "x",
          "y0": 1.8,
          "y1": 2.2,
          "yref": "y"
         },
         {
          "fillcolor": "rgb(227, 119, 194)",
          "line": {
           "width": 0
          },
          "opacity": 1,
          "type": "rect",
          "x0": "2018-07-14 0:19:40",
          "x1": "2018-07-14 0:20:05",
          "xref": "x",
          "y0": 1.8,
          "y1": 2.2,
          "yref": "y"
         },
         {
          "fillcolor": "rgb(127, 127, 127)",
          "line": {
           "width": 0
          },
          "opacity": 1,
          "type": "rect",
          "x0": "2018-07-14 0:17:58",
          "x1": "2018-07-14 0:18:28",
          "xref": "x",
          "y0": 1.8,
          "y1": 2.2,
          "yref": "y"
         },
         {
          "fillcolor": "rgb(188, 189, 34)",
          "line": {
           "width": 0
          },
          "opacity": 1,
          "type": "rect",
          "x0": "2018-07-14 0:13:27",
          "x1": "2018-07-14 0:14:03",
          "xref": "x",
          "y0": 1.8,
          "y1": 2.2,
          "yref": "y"
         },
         {
          "fillcolor": "rgb(23, 190, 207)",
          "line": {
           "width": 0
          },
          "opacity": 1,
          "type": "rect",
          "x0": "2018-07-14 0:15:29",
          "x1": "2018-07-14 0:16:58",
          "xref": "x",
          "y0": 1.8,
          "y1": 2.2,
          "yref": "y"
         },
         {
          "fillcolor": "rgb(255, 127, 14)",
          "line": {
           "width": 0
          },
          "opacity": 1,
          "type": "rect",
          "x0": "2018-07-14 0:17:13",
          "x1": "2018-07-14 0:17:58",
          "xref": "x",
          "y0": 1.8,
          "y1": 2.2,
          "yref": "y"
         },
         {
          "fillcolor": "rgb(31, 119, 180)",
          "line": {
           "width": 0
          },
          "opacity": 1,
          "type": "rect",
          "x0": "2018-07-14 0:13:27",
          "x1": "2018-07-14 0:14:11",
          "xref": "x",
          "y0": 0.8,
          "y1": 1.2,
          "yref": "y"
         },
         {
          "fillcolor": "rgb(44, 160, 44)",
          "line": {
           "width": 0
          },
          "opacity": 1,
          "type": "rect",
          "x0": "2018-07-14 0:19:40",
          "x1": "2018-07-14 0:20:10",
          "xref": "x",
          "y0": 0.8,
          "y1": 1.2,
          "yref": "y"
         },
         {
          "fillcolor": "rgb(214, 39, 40)",
          "line": {
           "width": 0
          },
          "opacity": 1,
          "type": "rect",
          "x0": "2018-07-14 0:05:41",
          "x1": "2018-07-14 0:07:11",
          "xref": "x",
          "y0": 0.8,
          "y1": 1.2,
          "yref": "y"
         },
         {
          "fillcolor": "rgb(148, 103, 189)",
          "line": {
           "width": 0
          },
          "opacity": 1,
          "type": "rect",
          "x0": "2018-07-14 0:08:09",
          "x1": "2018-07-14 0:09:01",
          "xref": "x",
          "y0": 0.8,
          "y1": 1.2,
          "yref": "y"
         },
         {
          "fillcolor": "rgb(140, 86, 75)",
          "line": {
           "width": 0
          },
          "opacity": 1,
          "type": "rect",
          "x0": "2018-07-14 0:11:57",
          "x1": "2018-07-14 0:12:18",
          "xref": "x",
          "y0": 0.8,
          "y1": 1.2,
          "yref": "y"
         },
         {
          "fillcolor": "rgb(227, 119, 194)",
          "line": {
           "width": 0
          },
          "opacity": 1,
          "type": "rect",
          "x0": "2018-07-14 0:10:24",
          "x1": "2018-07-14 0:11:12",
          "xref": "x",
          "y0": 0.8,
          "y1": 1.2,
          "yref": "y"
         },
         {
          "fillcolor": "rgb(127, 127, 127)",
          "line": {
           "width": 0
          },
          "opacity": 1,
          "type": "rect",
          "x0": "2018-07-14 0:14:38",
          "x1": "2018-07-14 0:16:07",
          "xref": "x",
          "y0": 0.8,
          "y1": 1.2,
          "yref": "y"
         },
         {
          "fillcolor": "rgb(188, 189, 34)",
          "line": {
           "width": 0
          },
          "opacity": 1,
          "type": "rect",
          "x0": "2018-07-14 0:10:05",
          "x1": "2018-07-14 0:10:24",
          "xref": "x",
          "y0": 0.8,
          "y1": 1.2,
          "yref": "y"
         },
         {
          "fillcolor": "rgb(23, 190, 207)",
          "line": {
           "width": 0
          },
          "opacity": 1,
          "type": "rect",
          "x0": "2018-07-14 0:17:45",
          "x1": "2018-07-14 0:18:59",
          "xref": "x",
          "y0": 0.8,
          "y1": 1.2,
          "yref": "y"
         },
         {
          "fillcolor": "rgb(255, 127, 14)",
          "line": {
           "width": 0
          },
          "opacity": 1,
          "type": "rect",
          "x0": "2018-07-14 0:09:01",
          "x1": "2018-07-14 0:10:05",
          "xref": "x",
          "y0": 0.8,
          "y1": 1.2,
          "yref": "y"
         },
         {
          "fillcolor": "rgb(31, 119, 180)",
          "line": {
           "width": 0
          },
          "opacity": 1,
          "type": "rect",
          "x0": "2018-07-14 0:16:25",
          "x1": "2018-07-14 0:16:46",
          "xref": "x",
          "y0": -0.2,
          "y1": 0.2,
          "yref": "y"
         },
         {
          "fillcolor": "rgb(44, 160, 44)",
          "line": {
           "width": 0
          },
          "opacity": 1,
          "type": "rect",
          "x0": "2018-07-14 0:09:49",
          "x1": "2018-07-14 0:10:00",
          "xref": "x",
          "y0": -0.2,
          "y1": 0.2,
          "yref": "y"
         },
         {
          "fillcolor": "rgb(214, 39, 40)",
          "line": {
           "width": 0
          },
          "opacity": 1,
          "type": "rect",
          "x0": "2018-07-14 0:13:21",
          "x1": "2018-07-14 0:14:06",
          "xref": "x",
          "y0": -0.2,
          "y1": 0.2,
          "yref": "y"
         },
         {
          "fillcolor": "rgb(148, 103, 189)",
          "line": {
           "width": 0
          },
          "opacity": 1,
          "type": "rect",
          "x0": "2018-07-14 0:14:51",
          "x1": "2018-07-14 0:15:13",
          "xref": "x",
          "y0": -0.2,
          "y1": 0.2,
          "yref": "y"
         },
         {
          "fillcolor": "rgb(140, 86, 75)",
          "line": {
           "width": 0
          },
          "opacity": 1,
          "type": "rect",
          "x0": "2018-07-14 0:15:13",
          "x1": "2018-07-14 0:16:25",
          "xref": "x",
          "y0": -0.2,
          "y1": 0.2,
          "yref": "y"
         },
         {
          "fillcolor": "rgb(227, 119, 194)",
          "line": {
           "width": 0
          },
          "opacity": 1,
          "type": "rect",
          "x0": "2018-07-14 0:11:21",
          "x1": "2018-07-14 0:12:33",
          "xref": "x",
          "y0": -0.2,
          "y1": 0.2,
          "yref": "y"
         },
         {
          "fillcolor": "rgb(127, 127, 127)",
          "line": {
           "width": 0
          },
          "opacity": 1,
          "type": "rect",
          "x0": "2018-07-14 0:14:06",
          "x1": "2018-07-14 0:14:38",
          "xref": "x",
          "y0": -0.2,
          "y1": 0.2,
          "yref": "y"
         },
         {
          "fillcolor": "rgb(188, 189, 34)",
          "line": {
           "width": 0
          },
          "opacity": 1,
          "type": "rect",
          "x0": "2018-07-14 0:12:33",
          "x1": "2018-07-14 0:13:21",
          "xref": "x",
          "y0": -0.2,
          "y1": 0.2,
          "yref": "y"
         },
         {
          "fillcolor": "rgb(23, 190, 207)",
          "line": {
           "width": 0
          },
          "opacity": 1,
          "type": "rect",
          "x0": "2018-07-14 0:14:38",
          "x1": "2018-07-14 0:14:49",
          "xref": "x",
          "y0": -0.2,
          "y1": 0.2,
          "yref": "y"
         },
         {
          "fillcolor": "rgb(255, 127, 14)",
          "line": {
           "width": 0
          },
          "opacity": 1,
          "type": "rect",
          "x0": "2018-07-14 0:10:05",
          "x1": "2018-07-14 0:11:21",
          "xref": "x",
          "y0": -0.2,
          "y1": 0.2,
          "yref": "y"
         }
        ],
        "showlegend": true,
        "title": {
         "text": "Job shop Schedule"
        },
        "width": 900,
        "xaxis": {
         "rangeselector": {
          "buttons": [
           {
            "count": 7,
            "label": "1w",
            "step": "day",
            "stepmode": "backward"
           },
           {
            "count": 1,
            "label": "1m",
            "step": "month",
            "stepmode": "backward"
           },
           {
            "count": 6,
            "label": "6m",
            "step": "month",
            "stepmode": "backward"
           },
           {
            "count": 1,
            "label": "YTD",
            "step": "year",
            "stepmode": "todate"
           },
           {
            "count": 1,
            "label": "1y",
            "step": "year",
            "stepmode": "backward"
           },
           {
            "step": "all"
           }
          ]
         },
         "showgrid": true,
         "type": "date",
         "zeroline": false
        },
        "yaxis": {
         "autorange": false,
         "range": [
          -1,
          11
         ],
         "showgrid": false,
         "ticktext": [
          "Machine 10",
          "Machine 9",
          "Machine 8",
          "Machine 7",
          "Machine 6",
          "Machine 5",
          "Machine 4",
          "Machine 3",
          "Machine 2",
          "Machine 1"
         ],
         "tickvals": [
          0,
          1,
          2,
          3,
          4,
          5,
          6,
          7,
          8,
          9
         ],
         "zeroline": false
        }
       }
      },
      "text/html": [
       "<div>\n",
       "        \n",
       "        \n",
       "            <div id=\"bac6a419-0492-415c-99cf-93832562ff66\" class=\"plotly-graph-div\" style=\"height:600px; width:900px;\"></div>\n",
       "            <script type=\"text/javascript\">\n",
       "                require([\"plotly\"], function(Plotly) {\n",
       "                    window.PLOTLYENV=window.PLOTLYENV || {};\n",
       "                    window.PLOTLYENV.BASE_URL='https://plot.ly';\n",
       "                    \n",
       "                if (document.getElementById(\"bac6a419-0492-415c-99cf-93832562ff66\")) {\n",
       "                    Plotly.newPlot(\n",
       "                        'bac6a419-0492-415c-99cf-93832562ff66',\n",
       "                        [{\"marker\": {\"color\": \"white\"}, \"name\": \"\", \"type\": \"scatter\", \"uid\": \"20569255-b461-446e-9e9f-bfaad4dc096e\", \"x\": [\"2018-07-14 0:03:02\", \"2018-07-14 0:03:31\"], \"y\": [9, 9]}, {\"marker\": {\"color\": \"white\"}, \"name\": \"\", \"type\": \"scatter\", \"uid\": \"cbf89c99-32e7-4cb4-88c8-d66bb39a05fc\", \"x\": [\"2018-07-14 0:06:21\", \"2018-07-14 0:07:04\"], \"y\": [9, 9]}, {\"marker\": {\"color\": \"white\"}, \"name\": \"\", \"type\": \"scatter\", \"uid\": \"2f52d864-43ad-4100-8839-9c953f030e74\", \"x\": [\"2018-07-14 0:01:31\", \"2018-07-14 0:02:56\"], \"y\": [9, 9]}, {\"marker\": {\"color\": \"white\"}, \"name\": \"\", \"type\": \"scatter\", \"uid\": \"96453e3c-4ec1-4af3-a521-9cf2bcad0148\", \"x\": [\"2018-07-14 0:05:10\", \"2018-07-14 0:06:21\"], \"y\": [9, 9]}, {\"marker\": {\"color\": \"white\"}, \"name\": \"\", \"type\": \"scatter\", \"uid\": \"fc241eef-1770-4f71-9ef3-98726712e84a\", \"x\": [\"2018-07-14 0:02:56\", \"2018-07-14 0:03:02\"], \"y\": [9, 9]}, {\"marker\": {\"color\": \"white\"}, \"name\": \"\", \"type\": \"scatter\", \"uid\": \"23fa2d4f-3413-4365-98cc-def14514081e\", \"x\": [\"2018-07-14 0:12:33\", \"2018-07-14 0:13:20\"], \"y\": [9, 9]}, {\"marker\": {\"color\": \"white\"}, \"name\": \"\", \"type\": \"scatter\", \"uid\": \"2c1a2fda-214c-4b62-9ebd-53f1c08432bd\", \"x\": [\"2018-07-14 0:07:09\", \"2018-07-14 0:07:46\"], \"y\": [9, 9]}, {\"marker\": {\"color\": \"white\"}, \"name\": \"\", \"type\": \"scatter\", \"uid\": \"8c18659d-d0b6-4b58-a2f4-a68ae00e2bbe\", \"x\": [\"2018-07-14 0:03:31\", \"2018-07-14 0:04:57\"], \"y\": [9, 9]}, {\"marker\": {\"color\": \"white\"}, \"name\": \"\", \"type\": \"scatter\", \"uid\": \"19e6b2b8-1df4-4716-8c94-3f81ef24d626\", \"x\": [\"2018-07-14 0:07:46\", \"2018-07-14 0:09:02\"], \"y\": [9, 9]}, {\"marker\": {\"color\": \"white\"}, \"name\": \"\", \"type\": \"scatter\", \"uid\": \"54cdb20a-2187-4615-b386-d1096b8d7777\", \"x\": [\"2018-07-14 0:04:57\", \"2018-07-14 0:05:10\"], \"y\": [9, 9]}, {\"marker\": {\"color\": \"white\"}, \"name\": \"\", \"type\": \"scatter\", \"uid\": \"b20c2713-efca-40b1-8e65-14e0d5a64772\", \"x\": [\"2018-07-14 0:04:19\", \"2018-07-14 0:05:37\"], \"y\": [8, 8]}, {\"marker\": {\"color\": \"white\"}, \"name\": \"\", \"type\": \"scatter\", \"uid\": \"99abdb2d-f12e-49ff-b0ce-ca2a5278e27c\", \"x\": [\"2018-07-14 0:13:13\", \"2018-07-14 0:13:41\"], \"y\": [8, 8]}, {\"marker\": {\"color\": \"white\"}, \"name\": \"\", \"type\": \"scatter\", \"uid\": \"af37b2cd-c4ee-4d2e-8733-7959e529cf7d\", \"x\": [\"2018-07-14 0:00:00\", \"2018-07-14 0:01:31\"], \"y\": [8, 8]}, {\"marker\": {\"color\": \"white\"}, \"name\": \"\", \"type\": \"scatter\", \"uid\": \"55a1fe83-0e67-453b-9013-2cf5b9d34ebd\", \"x\": [\"2018-07-14 0:01:31\", \"2018-07-14 0:02:52\"], \"y\": [8, 8]}, {\"marker\": {\"color\": \"white\"}, \"name\": \"\", \"type\": \"scatter\", \"uid\": \"abf4bd19-82fb-4894-a991-b733e6126db5\", \"x\": [\"2018-07-14 0:07:09\", \"2018-07-14 0:07:31\"], \"y\": [8, 8]}, {\"marker\": {\"color\": \"white\"}, \"name\": \"\", \"type\": \"scatter\", \"uid\": \"89810a9f-3f21-487d-bea2-b5c550ac2669\", \"x\": [\"2018-07-14 0:02:52\", \"2018-07-14 0:02:54\"], \"y\": [8, 8]}, {\"marker\": {\"color\": \"white\"}, \"name\": \"\", \"type\": \"scatter\", \"uid\": \"c0101c67-28b4-4d01-aad8-0d1718de9b5d\", \"x\": [\"2018-07-14 0:06:23\", \"2018-07-14 0:07:09\"], \"y\": [8, 8]}, {\"marker\": {\"color\": \"white\"}, \"name\": \"\", \"type\": \"scatter\", \"uid\": \"cfbec4b7-2149-48e7-9916-fa18ad602bb4\", \"x\": [\"2018-07-14 0:05:37\", \"2018-07-14 0:06:23\"], \"y\": [8, 8]}, {\"marker\": {\"color\": \"white\"}, \"name\": \"\", \"type\": \"scatter\", \"uid\": \"b85d6252-c1ac-470b-a057-8d4abd843ff6\", \"x\": [\"2018-07-14 0:09:02\", \"2018-07-14 0:10:11\"], \"y\": [8, 8]}, {\"marker\": {\"color\": \"white\"}, \"name\": \"\", \"type\": \"scatter\", \"uid\": \"abd7353e-87ac-48f2-88f2-6e089dd2ab20\", \"x\": [\"2018-07-14 0:02:54\", \"2018-07-14 0:04:19\"], \"y\": [8, 8]}, {\"marker\": {\"color\": \"white\"}, \"name\": \"\", \"type\": \"scatter\", \"uid\": \"b736d816-22ca-4531-90a0-2cd60d12a946\", \"x\": [\"2018-07-14 0:06:42\", \"2018-07-14 0:06:51\"], \"y\": [7, 7]}, {\"marker\": {\"color\": \"white\"}, \"name\": \"\", \"type\": \"scatter\", \"uid\": \"4785f575-d130-4b16-ba76-b6ee25572cb2\", \"x\": [\"2018-07-14 0:07:04\", \"2018-07-14 0:08:34\"], \"y\": [7, 7]}, {\"marker\": {\"color\": \"white\"}, \"name\": \"\", \"type\": \"scatter\", \"uid\": \"608b77b6-6c06-49e9-9092-5909399522cb\", \"x\": [\"2018-07-14 0:04:27\", \"2018-07-14 0:05:41\"], \"y\": [7, 7]}, {\"marker\": {\"color\": \"white\"}, \"name\": \"\", \"type\": \"scatter\", \"uid\": \"11ed6bbb-e401-4020-8dc1-51e0d1367e7b\", \"x\": [\"2018-07-14 0:02:52\", \"2018-07-14 0:04:27\"], \"y\": [7, 7]}, {\"marker\": {\"color\": \"white\"}, \"name\": \"\", \"type\": \"scatter\", \"uid\": \"f1b0a597-2e22-4f58-9310-ae6e28995ca4\", \"x\": [\"2018-07-14 0:01:24\", \"2018-07-14 0:01:38\"], \"y\": [7, 7]}, {\"marker\": {\"color\": \"white\"}, \"name\": \"\", \"type\": \"scatter\", \"uid\": \"ef85ae28-adc9-4a55-ae94-48afb99077c7\", \"x\": [\"2018-07-14 0:00:00\", \"2018-07-14 0:01:24\"], \"y\": [7, 7]}, {\"marker\": {\"color\": \"white\"}, \"name\": \"\", \"type\": \"scatter\", \"uid\": \"aef3195a-c750-4a66-979b-771be0845c95\", \"x\": [\"2018-07-14 0:08:47\", \"2018-07-14 0:09:00\"], \"y\": [7, 7]}, {\"marker\": {\"color\": \"white\"}, \"name\": \"\", \"type\": \"scatter\", \"uid\": \"175e6085-1727-4235-bd48-c55bd61d7376\", \"x\": [\"2018-07-14 0:01:38\", \"2018-07-14 0:02:09\"], \"y\": [7, 7]}, {\"marker\": {\"color\": \"white\"}, \"name\": \"\", \"type\": \"scatter\", \"uid\": \"3ec9889a-9011-4fb3-98ba-5b5610fa0f62\", \"x\": [\"2018-07-14 0:12:55\", \"2018-07-14 0:14:20\"], \"y\": [7, 7]}, {\"marker\": {\"color\": \"white\"}, \"name\": \"\", \"type\": \"scatter\", \"uid\": \"9fbf0fd1-a987-458f-96c7-1695ea70b11e\", \"x\": [\"2018-07-14 0:05:41\", \"2018-07-14 0:06:42\"], \"y\": [7, 7]}, {\"marker\": {\"color\": \"white\"}, \"name\": \"\", \"type\": \"scatter\", \"uid\": \"4157ec07-b81a-48ca-9f99-61bc3bef2668\", \"x\": [\"2018-07-14 0:06:51\", \"2018-07-14 0:07:27\"], \"y\": [6, 6]}, {\"marker\": {\"color\": \"white\"}, \"name\": \"\", \"type\": \"scatter\", \"uid\": \"bb8f7305-37c0-4af7-be61-ed861a4407a7\", \"x\": [\"2018-07-14 0:12:04\", \"2018-07-14 0:13:13\"], \"y\": [6, 6]}, {\"marker\": {\"color\": \"white\"}, \"name\": \"\", \"type\": \"scatter\", \"uid\": \"7c43bfbe-1d6c-4803-ba67-7fdb6e3a48b2\", \"x\": [\"2018-07-14 0:02:56\", \"2018-07-14 0:03:35\"], \"y\": [6, 6]}, {\"marker\": {\"color\": \"white\"}, \"name\": \"\", \"type\": \"scatter\", \"uid\": \"389e6943-422c-49cf-8e3c-2ba4bf15eb17\", \"x\": [\"2018-07-14 0:13:13\", \"2018-07-14 0:14:51\"], \"y\": [6, 6]}, {\"marker\": {\"color\": \"white\"}, \"name\": \"\", \"type\": \"scatter\", \"uid\": \"a2fe0cbf-980a-4627-aba9-b545eba4bd05\", \"x\": [\"2018-07-14 0:10:22\", \"2018-07-14 0:10:48\"], \"y\": [6, 6]}, {\"marker\": {\"color\": \"white\"}, \"name\": \"\", \"type\": \"scatter\", \"uid\": \"2020b3fc-dd25-4c07-aa8f-1488ab84eddb\", \"x\": [\"2018-07-14 0:08:47\", \"2018-07-14 0:10:22\"], \"y\": [6, 6]}, {\"marker\": {\"color\": \"white\"}, \"name\": \"\", \"type\": \"scatter\", \"uid\": \"45f8486b-24e3-46c2-98d2-148e2419c135\", \"x\": [\"2018-07-14 0:07:46\", \"2018-07-14 0:08:47\"], \"y\": [6, 6]}, {\"marker\": {\"color\": \"white\"}, \"name\": \"\", \"type\": \"scatter\", \"uid\": \"72d215cf-c94e-4dfa-855f-00497a1d8a57\", \"x\": [\"2018-07-14 0:15:43\", \"2018-07-14 0:17:02\"], \"y\": [6, 6]}, {\"marker\": {\"color\": \"white\"}, \"name\": \"\", \"type\": \"scatter\", \"uid\": \"15cd27f9-eabd-4d85-a0fe-c828193b4df9\", \"x\": [\"2018-07-14 0:10:48\", \"2018-07-14 0:12:04\"], \"y\": [6, 6]}, {\"marker\": {\"color\": \"white\"}, \"name\": \"\", \"type\": \"scatter\", \"uid\": \"122da725-bb0a-40cc-abcd-b9592a982633\", \"x\": [\"2018-07-14 0:14:51\", \"2018-07-14 0:15:43\"], \"y\": [6, 6]}, {\"marker\": {\"color\": \"white\"}, \"name\": \"\", \"type\": \"scatter\", \"uid\": \"9a16ee6b-4c53-486d-a351-64ea2a3e697e\", \"x\": [\"2018-07-14 0:09:49\", \"2018-07-14 0:10:38\"], \"y\": [5, 5]}, {\"marker\": {\"color\": \"white\"}, \"name\": \"\", \"type\": \"scatter\", \"uid\": \"a64f1c2d-acfb-43a9-9c4b-03ebbccf8ef7\", \"x\": [\"2018-07-14 0:08:34\", \"2018-07-14 0:09:49\"], \"y\": [5, 5]}, {\"marker\": {\"color\": \"white\"}, \"name\": \"\", \"type\": \"scatter\", \"uid\": \"2f0c00c5-1562-4724-a59d-8257a07317db\", \"x\": [\"2018-07-14 0:17:45\", \"2018-07-14 0:18:18\"], \"y\": [5, 5]}, {\"marker\": {\"color\": \"white\"}, \"name\": \"\", \"type\": \"scatter\", \"uid\": \"621d59c5-679a-4267-824f-613043a1ff01\", \"x\": [\"2018-07-14 0:06:21\", \"2018-07-14 0:08:00\"], \"y\": [5, 5]}, {\"marker\": {\"color\": \"white\"}, \"name\": \"\", \"type\": \"scatter\", \"uid\": \"3ca8c32d-21f0-4910-80fa-51ea1557c66c\", \"x\": [\"2018-07-14 0:10:48\", \"2018-07-14 0:11:57\"], \"y\": [5, 5]}, {\"marker\": {\"color\": \"white\"}, \"name\": \"\", \"type\": \"scatter\", \"uid\": \"66ddc40f-69fd-458f-a040-b0a85fbc74bc\", \"x\": [\"2018-07-14 0:17:13\", \"2018-07-14 0:17:19\"], \"y\": [5, 5]}, {\"marker\": {\"color\": \"white\"}, \"name\": \"\", \"type\": \"scatter\", \"uid\": \"04382f66-78e6-45cd-9988-9b2ae8823c6d\", \"x\": [\"2018-07-14 0:18:28\", \"2018-07-14 0:19:23\"], \"y\": [5, 5]}, {\"marker\": {\"color\": \"white\"}, \"name\": \"\", \"type\": \"scatter\", \"uid\": \"0f5e1254-e3c8-438c-b290-1cf1aa852240\", \"x\": [\"2018-07-14 0:08:00\", \"2018-07-14 0:08:32\"], \"y\": [5, 5]}, {\"marker\": {\"color\": \"white\"}, \"name\": \"\", \"type\": \"scatter\", \"uid\": \"4ad5632c-ef59-4f62-b621-eafb8dfbbcac\", \"x\": [\"2018-07-14 0:17:19\", \"2018-07-14 0:17:45\"], \"y\": [5, 5]}, {\"marker\": {\"color\": \"white\"}, \"name\": \"\", \"type\": \"scatter\", \"uid\": \"4e88a71c-e102-4d98-9228-4de58a84a0a2\", \"x\": [\"2018-07-14 0:15:43\", \"2018-07-14 0:17:13\"], \"y\": [5, 5]}, {\"marker\": {\"color\": \"white\"}, \"name\": \"\", \"type\": \"scatter\", \"uid\": \"2651aa09-d69e-4944-9e96-0972e5ec770a\", \"x\": [\"2018-07-14 0:10:38\", \"2018-07-14 0:10:49\"], \"y\": [4, 4]}, {\"marker\": {\"color\": \"white\"}, \"name\": \"\", \"type\": \"scatter\", \"uid\": \"f60679e2-eda3-41d4-8bb4-25c722b66e4f\", \"x\": [\"2018-07-14 0:15:56\", \"2018-07-14 0:16:42\"], \"y\": [4, 4]}, {\"marker\": {\"color\": \"white\"}, \"name\": \"\", \"type\": \"scatter\", \"uid\": \"b37317fc-7bb2-4140-ad76-7adf941f8b59\", \"x\": [\"2018-07-14 0:07:37\", \"2018-07-14 0:07:47\"], \"y\": [4, 4]}, {\"marker\": {\"color\": \"white\"}, \"name\": \"\", \"type\": \"scatter\", \"uid\": \"a2753343-d37b-4c3a-8016-a873a86bc575\", \"x\": [\"2018-07-14 0:15:13\", \"2018-07-14 0:15:56\"], \"y\": [4, 4]}, {\"marker\": {\"color\": \"white\"}, \"name\": \"\", \"type\": \"scatter\", \"uid\": \"cbe60e4b-3179-4d81-aeb4-13d647499ca1\", \"x\": [\"2018-07-14 0:08:39\", \"2018-07-14 0:09:40\"], \"y\": [4, 4]}, {\"marker\": {\"color\": \"white\"}, \"name\": \"\", \"type\": \"scatter\", \"uid\": \"d0f438ac-45a5-4a61-965a-080428f47bd9\", \"x\": [\"2018-07-14 0:07:47\", \"2018-07-14 0:08:39\"], \"y\": [4, 4]}, {\"marker\": {\"color\": \"white\"}, \"name\": \"\", \"type\": \"scatter\", \"uid\": \"59d2e3ae-4095-4100-a7bf-73709110c69b\", \"x\": [\"2018-07-14 0:13:42\", \"2018-07-14 0:14:03\"], \"y\": [4, 4]}, {\"marker\": {\"color\": \"white\"}, \"name\": \"\", \"type\": \"scatter\", \"uid\": \"55abf9b0-2041-446d-a636-dc8479982eaf\", \"x\": [\"2018-07-14 0:06:23\", \"2018-07-14 0:07:37\"], \"y\": [4, 4]}, {\"marker\": {\"color\": \"white\"}, \"name\": \"\", \"type\": \"scatter\", \"uid\": \"6d42c7e4-ef94-45ea-b3c2-43de31739518\", \"x\": [\"2018-07-14 0:12:04\", \"2018-07-14 0:12:55\"], \"y\": [4, 4]}, {\"marker\": {\"color\": \"white\"}, \"name\": \"\", \"type\": \"scatter\", \"uid\": \"afce6b9b-d62d-4d02-bedd-624182686e76\", \"x\": [\"2018-07-14 0:12:55\", \"2018-07-14 0:13:42\"], \"y\": [4, 4]}, {\"marker\": {\"color\": \"white\"}, \"name\": \"\", \"type\": \"scatter\", \"uid\": \"58fe2424-5d23-4027-a756-037cac5088cc\", \"x\": [\"2018-07-14 0:11:29\", \"2018-07-14 0:12:31\"], \"y\": [3, 3]}, {\"marker\": {\"color\": \"white\"}, \"name\": \"\", \"type\": \"scatter\", \"uid\": \"2498bfe5-7017-4a0e-a7b0-8d27437ad329\", \"x\": [\"2018-07-14 0:13:41\", \"2018-07-14 0:14:27\"], \"y\": [3, 3]}, {\"marker\": {\"color\": \"white\"}, \"name\": \"\", \"type\": \"scatter\", \"uid\": \"00f02d7a-3488-47e5-8735-6296a9023142\", \"x\": [\"2018-07-14 0:10:00\", \"2018-07-14 0:11:29\"], \"y\": [3, 3]}, {\"marker\": {\"color\": \"white\"}, \"name\": \"\", \"type\": \"scatter\", \"uid\": \"ef4e9625-f4ff-452f-accb-f53401bb4fd6\", \"x\": [\"2018-07-14 0:08:00\", \"2018-07-14 0:08:09\"], \"y\": [3, 3]}, {\"marker\": {\"color\": \"white\"}, \"name\": \"\", \"type\": \"scatter\", \"uid\": \"518b5121-f455-4f08-9146-24aa7dba1965\", \"x\": [\"2018-07-14 0:16:34\", \"2018-07-14 0:17:27\"], \"y\": [3, 3]}, {\"marker\": {\"color\": \"white\"}, \"name\": \"\", \"type\": \"scatter\", \"uid\": \"7307a9c1-58a2-43d1-8039-1b7c1c2841c9\", \"x\": [\"2018-07-14 0:15:29\", \"2018-07-14 0:16:34\"], \"y\": [3, 3]}, {\"marker\": {\"color\": \"white\"}, \"name\": \"\", \"type\": \"scatter\", \"uid\": \"688d90e1-4396-47e3-9ca2-22d81fac77bc\", \"x\": [\"2018-07-14 0:12:31\", \"2018-07-14 0:13:03\"], \"y\": [3, 3]}, {\"marker\": {\"color\": \"white\"}, \"name\": \"\", \"type\": \"scatter\", \"uid\": \"909eec39-08ce-442b-b6e1-42a770e64f00\", \"x\": [\"2018-07-14 0:08:32\", \"2018-07-14 0:10:00\"], \"y\": [3, 3]}, {\"marker\": {\"color\": \"white\"}, \"name\": \"\", \"type\": \"scatter\", \"uid\": \"db2db6e0-d49d-4dfd-b43f-bfa9f4d4dfd3\", \"x\": [\"2018-07-14 0:14:49\", \"2018-07-14 0:15:29\"], \"y\": [3, 3]}, {\"marker\": {\"color\": \"white\"}, \"name\": \"\", \"type\": \"scatter\", \"uid\": \"57f7cb3e-e09f-4d91-9a12-847b9d0d3109\", \"x\": [\"2018-07-14 0:08:09\", \"2018-07-14 0:08:16\"], \"y\": [3, 3]}, {\"marker\": {\"color\": \"white\"}, \"name\": \"\", \"type\": \"scatter\", \"uid\": \"ae098015-8a64-48d9-9be9-71c16894f889\", \"x\": [\"2018-07-14 0:12:31\", \"2018-07-14 0:13:27\"], \"y\": [2, 2]}, {\"marker\": {\"color\": \"white\"}, \"name\": \"\", \"type\": \"scatter\", \"uid\": \"6a75e37e-e0a6-4c65-9529-8183492a130e\", \"x\": [\"2018-07-14 0:18:28\", \"2018-07-14 0:19:40\"], \"y\": [2, 2]}, {\"marker\": {\"color\": \"white\"}, \"name\": \"\", \"type\": \"scatter\", \"uid\": \"8f2107e3-adb1-4e92-b152-a6afdd98b8dc\", \"x\": [\"2018-07-14 0:07:47\", \"2018-07-14 0:07:59\"], \"y\": [2, 2]}, {\"marker\": {\"color\": \"white\"}, \"name\": \"\", \"type\": \"scatter\", \"uid\": \"1fa79820-0369-45a4-bea7-9a30fb189179\", \"x\": [\"2018-07-14 0:09:01\", \"2018-07-14 0:10:26\"], \"y\": [2, 2]}, {\"marker\": {\"color\": \"white\"}, \"name\": \"\", \"type\": \"scatter\", \"uid\": \"add25146-026c-4aa5-8c8b-bcc2b2e26ebf\", \"x\": [\"2018-07-14 0:14:03\", \"2018-07-14 0:14:52\"], \"y\": [2, 2]}, {\"marker\": {\"color\": \"white\"}, \"name\": \"\", \"type\": \"scatter\", \"uid\": \"5d723a44-7d09-482b-9bd4-47e1e81e933b\", \"x\": [\"2018-07-14 0:19:40\", \"2018-07-14 0:20:05\"], \"y\": [2, 2]}, {\"marker\": {\"color\": \"white\"}, \"name\": \"\", \"type\": \"scatter\", \"uid\": \"f33ae273-175e-4686-a418-4a9dc28b964b\", \"x\": [\"2018-07-14 0:17:58\", \"2018-07-14 0:18:28\"], \"y\": [2, 2]}, {\"marker\": {\"color\": \"white\"}, \"name\": \"\", \"type\": \"scatter\", \"uid\": \"e3b1916a-e3d6-414d-b141-4be2686b28a0\", \"x\": [\"2018-07-14 0:13:27\", \"2018-07-14 0:14:03\"], \"y\": [2, 2]}, {\"marker\": {\"color\": \"white\"}, \"name\": \"\", \"type\": \"scatter\", \"uid\": \"fcf9afea-44ca-4ba4-9cd6-bc8aa157333f\", \"x\": [\"2018-07-14 0:15:29\", \"2018-07-14 0:16:58\"], \"y\": [2, 2]}, {\"marker\": {\"color\": \"white\"}, \"name\": \"\", \"type\": \"scatter\", \"uid\": \"55aad0b0-e1ac-4000-9e8a-27b3e03d9a6e\", \"x\": [\"2018-07-14 0:17:13\", \"2018-07-14 0:17:58\"], \"y\": [2, 2]}, {\"marker\": {\"color\": \"white\"}, \"name\": \"\", \"type\": \"scatter\", \"uid\": \"ad9415ea-c899-4f22-8ef6-f611fc6fe1e1\", \"x\": [\"2018-07-14 0:13:27\", \"2018-07-14 0:14:11\"], \"y\": [1, 1]}, {\"marker\": {\"color\": \"white\"}, \"name\": \"\", \"type\": \"scatter\", \"uid\": \"4f9440df-8738-4722-9ebf-3e3ae83c4207\", \"x\": [\"2018-07-14 0:19:40\", \"2018-07-14 0:20:10\"], \"y\": [1, 1]}, {\"marker\": {\"color\": \"white\"}, \"name\": \"\", \"type\": \"scatter\", \"uid\": \"f81ea08b-bd50-412d-b2a8-3fd5c6494cae\", \"x\": [\"2018-07-14 0:05:41\", \"2018-07-14 0:07:11\"], \"y\": [1, 1]}, {\"marker\": {\"color\": \"white\"}, \"name\": \"\", \"type\": \"scatter\", \"uid\": \"8def8235-1f8a-46f7-b3bc-709c037d39df\", \"x\": [\"2018-07-14 0:08:09\", \"2018-07-14 0:09:01\"], \"y\": [1, 1]}, {\"marker\": {\"color\": \"white\"}, \"name\": \"\", \"type\": \"scatter\", \"uid\": \"4a8cfaab-238a-467e-b5e6-22c549a1a2cf\", \"x\": [\"2018-07-14 0:11:57\", \"2018-07-14 0:12:18\"], \"y\": [1, 1]}, {\"marker\": {\"color\": \"white\"}, \"name\": \"\", \"type\": \"scatter\", \"uid\": \"79ad0bc7-b4e6-4cc6-8c53-b9406c6ddfef\", \"x\": [\"2018-07-14 0:10:24\", \"2018-07-14 0:11:12\"], \"y\": [1, 1]}, {\"marker\": {\"color\": \"white\"}, \"name\": \"\", \"type\": \"scatter\", \"uid\": \"deae820f-a106-441f-8019-f179964a9478\", \"x\": [\"2018-07-14 0:14:38\", \"2018-07-14 0:16:07\"], \"y\": [1, 1]}, {\"marker\": {\"color\": \"white\"}, \"name\": \"\", \"type\": \"scatter\", \"uid\": \"c633928b-9034-468d-91db-5c3f339ccd46\", \"x\": [\"2018-07-14 0:10:05\", \"2018-07-14 0:10:24\"], \"y\": [1, 1]}, {\"marker\": {\"color\": \"white\"}, \"name\": \"\", \"type\": \"scatter\", \"uid\": \"ac30f64c-ac06-437a-bb77-b780b57ec8e0\", \"x\": [\"2018-07-14 0:17:45\", \"2018-07-14 0:18:59\"], \"y\": [1, 1]}, {\"marker\": {\"color\": \"white\"}, \"name\": \"\", \"type\": \"scatter\", \"uid\": \"6faa6e51-7b0b-4230-bbb6-b2e1448ff0e3\", \"x\": [\"2018-07-14 0:09:01\", \"2018-07-14 0:10:05\"], \"y\": [1, 1]}, {\"marker\": {\"color\": \"white\"}, \"name\": \"\", \"type\": \"scatter\", \"uid\": \"aa4b3000-6256-473d-96bd-f987329d994f\", \"x\": [\"2018-07-14 0:16:25\", \"2018-07-14 0:16:46\"], \"y\": [0, 0]}, {\"marker\": {\"color\": \"white\"}, \"name\": \"\", \"type\": \"scatter\", \"uid\": \"767eb694-5969-4bc4-9350-8e52e7b9d0ef\", \"x\": [\"2018-07-14 0:09:49\", \"2018-07-14 0:10:00\"], \"y\": [0, 0]}, {\"marker\": {\"color\": \"white\"}, \"name\": \"\", \"type\": \"scatter\", \"uid\": \"649d2105-be2c-4b3c-9b4d-c87d12c54568\", \"x\": [\"2018-07-14 0:13:21\", \"2018-07-14 0:14:06\"], \"y\": [0, 0]}, {\"marker\": {\"color\": \"white\"}, \"name\": \"\", \"type\": \"scatter\", \"uid\": \"1c8bbade-fc42-400b-a61c-e46541c22b2c\", \"x\": [\"2018-07-14 0:14:51\", \"2018-07-14 0:15:13\"], \"y\": [0, 0]}, {\"marker\": {\"color\": \"white\"}, \"name\": \"\", \"type\": \"scatter\", \"uid\": \"76f28275-4c51-4145-802f-89abfdcb98f5\", \"x\": [\"2018-07-14 0:15:13\", \"2018-07-14 0:16:25\"], \"y\": [0, 0]}, {\"marker\": {\"color\": \"white\"}, \"name\": \"\", \"type\": \"scatter\", \"uid\": \"c53fed4e-d239-4375-a330-86d38c6c9209\", \"x\": [\"2018-07-14 0:11:21\", \"2018-07-14 0:12:33\"], \"y\": [0, 0]}, {\"marker\": {\"color\": \"white\"}, \"name\": \"\", \"type\": \"scatter\", \"uid\": \"08705682-5fdf-4a91-867d-d8f560d5d443\", \"x\": [\"2018-07-14 0:14:06\", \"2018-07-14 0:14:38\"], \"y\": [0, 0]}, {\"marker\": {\"color\": \"white\"}, \"name\": \"\", \"type\": \"scatter\", \"uid\": \"b35dc4ed-0f68-4214-8a86-40a1bf8ecd6d\", \"x\": [\"2018-07-14 0:12:33\", \"2018-07-14 0:13:21\"], \"y\": [0, 0]}, {\"marker\": {\"color\": \"white\"}, \"name\": \"\", \"type\": \"scatter\", \"uid\": \"209b3e67-6c7e-47d9-9a7a-0bce6bfbca36\", \"x\": [\"2018-07-14 0:14:38\", \"2018-07-14 0:14:49\"], \"y\": [0, 0]}, {\"marker\": {\"color\": \"white\"}, \"name\": \"\", \"type\": \"scatter\", \"uid\": \"fd7dcd53-80d6-4eed-99fc-3101db0ffdfa\", \"x\": [\"2018-07-14 0:10:05\", \"2018-07-14 0:11:21\"], \"y\": [0, 0]}, {\"hoverinfo\": \"none\", \"marker\": {\"color\": \"rgb(31, 119, 180)\", \"size\": 1}, \"name\": \"Job 1\", \"showlegend\": true, \"type\": \"scatter\", \"uid\": \"4e95bb03-99f8-4963-9a71-25bf7e9d4f1b\", \"x\": [\"2018-07-14 0:10:05\", \"2018-07-14 0:10:05\"], \"y\": [0, 0]}, {\"hoverinfo\": \"none\", \"marker\": {\"color\": \"rgb(255, 127, 14)\", \"size\": 1}, \"name\": \"Job 10\", \"showlegend\": true, \"type\": \"scatter\", \"uid\": \"afb0ed6e-1548-439c-9a2b-7b9f594971bf\", \"x\": [\"2018-07-14 0:10:05\", \"2018-07-14 0:10:05\"], \"y\": [1, 1]}, {\"hoverinfo\": \"none\", \"marker\": {\"color\": \"rgb(44, 160, 44)\", \"size\": 1}, \"name\": \"Job 2\", \"showlegend\": true, \"type\": \"scatter\", \"uid\": \"918ea603-f70d-4902-af6b-2647d000af5c\", \"x\": [\"2018-07-14 0:10:05\", \"2018-07-14 0:10:05\"], \"y\": [2, 2]}, {\"hoverinfo\": \"none\", \"marker\": {\"color\": \"rgb(214, 39, 40)\", \"size\": 1}, \"name\": \"Job 3\", \"showlegend\": true, \"type\": \"scatter\", \"uid\": \"239833ac-ff22-4761-b5c3-609e52247fa2\", \"x\": [\"2018-07-14 0:10:05\", \"2018-07-14 0:10:05\"], \"y\": [3, 3]}, {\"hoverinfo\": \"none\", \"marker\": {\"color\": \"rgb(148, 103, 189)\", \"size\": 1}, \"name\": \"Job 4\", \"showlegend\": true, \"type\": \"scatter\", \"uid\": \"1943a250-9216-47b5-8e65-30e70523ef97\", \"x\": [\"2018-07-14 0:10:05\", \"2018-07-14 0:10:05\"], \"y\": [4, 4]}, {\"hoverinfo\": \"none\", \"marker\": {\"color\": \"rgb(140, 86, 75)\", \"size\": 1}, \"name\": \"Job 5\", \"showlegend\": true, \"type\": \"scatter\", \"uid\": \"0bcf775e-cb74-405a-8887-f17519d651a7\", \"x\": [\"2018-07-14 0:10:05\", \"2018-07-14 0:10:05\"], \"y\": [5, 5]}, {\"hoverinfo\": \"none\", \"marker\": {\"color\": \"rgb(227, 119, 194)\", \"size\": 1}, \"name\": \"Job 6\", \"showlegend\": true, \"type\": \"scatter\", \"uid\": \"3593ff36-c980-4c83-b18e-137e63e0e8dd\", \"x\": [\"2018-07-14 0:10:05\", \"2018-07-14 0:10:05\"], \"y\": [6, 6]}, {\"hoverinfo\": \"none\", \"marker\": {\"color\": \"rgb(127, 127, 127)\", \"size\": 1}, \"name\": \"Job 7\", \"showlegend\": true, \"type\": \"scatter\", \"uid\": \"ba0d9a8f-7449-4cd0-a20d-076b5541b841\", \"x\": [\"2018-07-14 0:10:05\", \"2018-07-14 0:10:05\"], \"y\": [7, 7]}, {\"hoverinfo\": \"none\", \"marker\": {\"color\": \"rgb(188, 189, 34)\", \"size\": 1}, \"name\": \"Job 8\", \"showlegend\": true, \"type\": \"scatter\", \"uid\": \"a75341b3-ed35-4494-9d6e-d2237ef5c057\", \"x\": [\"2018-07-14 0:10:05\", \"2018-07-14 0:10:05\"], \"y\": [8, 8]}, {\"hoverinfo\": \"none\", \"marker\": {\"color\": \"rgb(23, 190, 207)\", \"size\": 1}, \"name\": \"Job 9\", \"showlegend\": true, \"type\": \"scatter\", \"uid\": \"884bb6ff-7a12-429c-89ce-d75f9058ea72\", \"x\": [\"2018-07-14 0:10:05\", \"2018-07-14 0:10:05\"], \"y\": [9, 9]}],\n",
       "                        {\"height\": 600, \"hovermode\": \"closest\", \"shapes\": [{\"fillcolor\": \"rgb(31, 119, 180)\", \"line\": {\"width\": 0}, \"opacity\": 1, \"type\": \"rect\", \"x0\": \"2018-07-14 0:03:02\", \"x1\": \"2018-07-14 0:03:31\", \"xref\": \"x\", \"y0\": 8.8, \"y1\": 9.2, \"yref\": \"y\"}, {\"fillcolor\": \"rgb(44, 160, 44)\", \"line\": {\"width\": 0}, \"opacity\": 1, \"type\": \"rect\", \"x0\": \"2018-07-14 0:06:21\", \"x1\": \"2018-07-14 0:07:04\", \"xref\": \"x\", \"y0\": 8.8, \"y1\": 9.2, \"yref\": \"y\"}, {\"fillcolor\": \"rgb(214, 39, 40)\", \"line\": {\"width\": 0}, \"opacity\": 1, \"type\": \"rect\", \"x0\": \"2018-07-14 0:01:31\", \"x1\": \"2018-07-14 0:02:56\", \"xref\": \"x\", \"y0\": 8.8, \"y1\": 9.2, \"yref\": \"y\"}, {\"fillcolor\": \"rgb(148, 103, 189)\", \"line\": {\"width\": 0}, \"opacity\": 1, \"type\": \"rect\", \"x0\": \"2018-07-14 0:05:10\", \"x1\": \"2018-07-14 0:06:21\", \"xref\": \"x\", \"y0\": 8.8, \"y1\": 9.2, \"yref\": \"y\"}, {\"fillcolor\": \"rgb(140, 86, 75)\", \"line\": {\"width\": 0}, \"opacity\": 1, \"type\": \"rect\", \"x0\": \"2018-07-14 0:02:56\", \"x1\": \"2018-07-14 0:03:02\", \"xref\": \"x\", \"y0\": 8.8, \"y1\": 9.2, \"yref\": \"y\"}, {\"fillcolor\": \"rgb(227, 119, 194)\", \"line\": {\"width\": 0}, \"opacity\": 1, \"type\": \"rect\", \"x0\": \"2018-07-14 0:12:33\", \"x1\": \"2018-07-14 0:13:20\", \"xref\": \"x\", \"y0\": 8.8, \"y1\": 9.2, \"yref\": \"y\"}, {\"fillcolor\": \"rgb(127, 127, 127)\", \"line\": {\"width\": 0}, \"opacity\": 1, \"type\": \"rect\", \"x0\": \"2018-07-14 0:07:09\", \"x1\": \"2018-07-14 0:07:46\", \"xref\": \"x\", \"y0\": 8.8, \"y1\": 9.2, \"yref\": \"y\"}, {\"fillcolor\": \"rgb(188, 189, 34)\", \"line\": {\"width\": 0}, \"opacity\": 1, \"type\": \"rect\", \"x0\": \"2018-07-14 0:03:31\", \"x1\": \"2018-07-14 0:04:57\", \"xref\": \"x\", \"y0\": 8.8, \"y1\": 9.2, \"yref\": \"y\"}, {\"fillcolor\": \"rgb(23, 190, 207)\", \"line\": {\"width\": 0}, \"opacity\": 1, \"type\": \"rect\", \"x0\": \"2018-07-14 0:07:46\", \"x1\": \"2018-07-14 0:09:02\", \"xref\": \"x\", \"y0\": 8.8, \"y1\": 9.2, \"yref\": \"y\"}, {\"fillcolor\": \"rgb(255, 127, 14)\", \"line\": {\"width\": 0}, \"opacity\": 1, \"type\": \"rect\", \"x0\": \"2018-07-14 0:04:57\", \"x1\": \"2018-07-14 0:05:10\", \"xref\": \"x\", \"y0\": 8.8, \"y1\": 9.2, \"yref\": \"y\"}, {\"fillcolor\": \"rgb(31, 119, 180)\", \"line\": {\"width\": 0}, \"opacity\": 1, \"type\": \"rect\", \"x0\": \"2018-07-14 0:04:19\", \"x1\": \"2018-07-14 0:05:37\", \"xref\": \"x\", \"y0\": 7.8, \"y1\": 8.2, \"yref\": \"y\"}, {\"fillcolor\": \"rgb(44, 160, 44)\", \"line\": {\"width\": 0}, \"opacity\": 1, \"type\": \"rect\", \"x0\": \"2018-07-14 0:13:13\", \"x1\": \"2018-07-14 0:13:41\", \"xref\": \"x\", \"y0\": 7.8, \"y1\": 8.2, \"yref\": \"y\"}, {\"fillcolor\": \"rgb(214, 39, 40)\", \"line\": {\"width\": 0}, \"opacity\": 1, \"type\": \"rect\", \"x0\": \"2018-07-14 0:00:00\", \"x1\": \"2018-07-14 0:01:31\", \"xref\": \"x\", \"y0\": 7.8, \"y1\": 8.2, \"yref\": \"y\"}, {\"fillcolor\": \"rgb(148, 103, 189)\", \"line\": {\"width\": 0}, \"opacity\": 1, \"type\": \"rect\", \"x0\": \"2018-07-14 0:01:31\", \"x1\": \"2018-07-14 0:02:52\", \"xref\": \"x\", \"y0\": 7.8, \"y1\": 8.2, \"yref\": \"y\"}, {\"fillcolor\": \"rgb(140, 86, 75)\", \"line\": {\"width\": 0}, \"opacity\": 1, \"type\": \"rect\", \"x0\": \"2018-07-14 0:07:09\", \"x1\": \"2018-07-14 0:07:31\", \"xref\": \"x\", \"y0\": 7.8, \"y1\": 8.2, \"yref\": \"y\"}, {\"fillcolor\": \"rgb(227, 119, 194)\", \"line\": {\"width\": 0}, \"opacity\": 1, \"type\": \"rect\", \"x0\": \"2018-07-14 0:02:52\", \"x1\": \"2018-07-14 0:02:54\", \"xref\": \"x\", \"y0\": 7.8, \"y1\": 8.2, \"yref\": \"y\"}, {\"fillcolor\": \"rgb(127, 127, 127)\", \"line\": {\"width\": 0}, \"opacity\": 1, \"type\": \"rect\", \"x0\": \"2018-07-14 0:06:23\", \"x1\": \"2018-07-14 0:07:09\", \"xref\": \"x\", \"y0\": 7.8, \"y1\": 8.2, \"yref\": \"y\"}, {\"fillcolor\": \"rgb(188, 189, 34)\", \"line\": {\"width\": 0}, \"opacity\": 1, \"type\": \"rect\", \"x0\": \"2018-07-14 0:05:37\", \"x1\": \"2018-07-14 0:06:23\", \"xref\": \"x\", \"y0\": 7.8, \"y1\": 8.2, \"yref\": \"y\"}, {\"fillcolor\": \"rgb(23, 190, 207)\", \"line\": {\"width\": 0}, \"opacity\": 1, \"type\": \"rect\", \"x0\": \"2018-07-14 0:09:02\", \"x1\": \"2018-07-14 0:10:11\", \"xref\": \"x\", \"y0\": 7.8, \"y1\": 8.2, \"yref\": \"y\"}, {\"fillcolor\": \"rgb(255, 127, 14)\", \"line\": {\"width\": 0}, \"opacity\": 1, \"type\": \"rect\", \"x0\": \"2018-07-14 0:02:54\", \"x1\": \"2018-07-14 0:04:19\", \"xref\": \"x\", \"y0\": 7.8, \"y1\": 8.2, \"yref\": \"y\"}, {\"fillcolor\": \"rgb(31, 119, 180)\", \"line\": {\"width\": 0}, \"opacity\": 1, \"type\": \"rect\", \"x0\": \"2018-07-14 0:06:42\", \"x1\": \"2018-07-14 0:06:51\", \"xref\": \"x\", \"y0\": 6.8, \"y1\": 7.2, \"yref\": \"y\"}, {\"fillcolor\": \"rgb(44, 160, 44)\", \"line\": {\"width\": 0}, \"opacity\": 1, \"type\": \"rect\", \"x0\": \"2018-07-14 0:07:04\", \"x1\": \"2018-07-14 0:08:34\", \"xref\": \"x\", \"y0\": 6.8, \"y1\": 7.2, \"yref\": \"y\"}, {\"fillcolor\": \"rgb(214, 39, 40)\", \"line\": {\"width\": 0}, \"opacity\": 1, \"type\": \"rect\", \"x0\": \"2018-07-14 0:04:27\", \"x1\": \"2018-07-14 0:05:41\", \"xref\": \"x\", \"y0\": 6.8, \"y1\": 7.2, \"yref\": \"y\"}, {\"fillcolor\": \"rgb(148, 103, 189)\", \"line\": {\"width\": 0}, \"opacity\": 1, \"type\": \"rect\", \"x0\": \"2018-07-14 0:02:52\", \"x1\": \"2018-07-14 0:04:27\", \"xref\": \"x\", \"y0\": 6.8, \"y1\": 7.2, \"yref\": \"y\"}, {\"fillcolor\": \"rgb(140, 86, 75)\", \"line\": {\"width\": 0}, \"opacity\": 1, \"type\": \"rect\", \"x0\": \"2018-07-14 0:01:24\", \"x1\": \"2018-07-14 0:01:38\", \"xref\": \"x\", \"y0\": 6.8, \"y1\": 7.2, \"yref\": \"y\"}, {\"fillcolor\": \"rgb(227, 119, 194)\", \"line\": {\"width\": 0}, \"opacity\": 1, \"type\": \"rect\", \"x0\": \"2018-07-14 0:00:00\", \"x1\": \"2018-07-14 0:01:24\", \"xref\": \"x\", \"y0\": 6.8, \"y1\": 7.2, \"yref\": \"y\"}, {\"fillcolor\": \"rgb(127, 127, 127)\", \"line\": {\"width\": 0}, \"opacity\": 1, \"type\": \"rect\", \"x0\": \"2018-07-14 0:08:47\", \"x1\": \"2018-07-14 0:09:00\", \"xref\": \"x\", \"y0\": 6.8, \"y1\": 7.2, \"yref\": \"y\"}, {\"fillcolor\": \"rgb(188, 189, 34)\", \"line\": {\"width\": 0}, \"opacity\": 1, \"type\": \"rect\", \"x0\": \"2018-07-14 0:01:38\", \"x1\": \"2018-07-14 0:02:09\", \"xref\": \"x\", \"y0\": 6.8, \"y1\": 7.2, \"yref\": \"y\"}, {\"fillcolor\": \"rgb(23, 190, 207)\", \"line\": {\"width\": 0}, \"opacity\": 1, \"type\": \"rect\", \"x0\": \"2018-07-14 0:12:55\", \"x1\": \"2018-07-14 0:14:20\", \"xref\": \"x\", \"y0\": 6.8, \"y1\": 7.2, \"yref\": \"y\"}, {\"fillcolor\": \"rgb(255, 127, 14)\", \"line\": {\"width\": 0}, \"opacity\": 1, \"type\": \"rect\", \"x0\": \"2018-07-14 0:05:41\", \"x1\": \"2018-07-14 0:06:42\", \"xref\": \"x\", \"y0\": 6.8, \"y1\": 7.2, \"yref\": \"y\"}, {\"fillcolor\": \"rgb(31, 119, 180)\", \"line\": {\"width\": 0}, \"opacity\": 1, \"type\": \"rect\", \"x0\": \"2018-07-14 0:06:51\", \"x1\": \"2018-07-14 0:07:27\", \"xref\": \"x\", \"y0\": 5.8, \"y1\": 6.2, \"yref\": \"y\"}, {\"fillcolor\": \"rgb(44, 160, 44)\", \"line\": {\"width\": 0}, \"opacity\": 1, \"type\": \"rect\", \"x0\": \"2018-07-14 0:12:04\", \"x1\": \"2018-07-14 0:13:13\", \"xref\": \"x\", \"y0\": 5.8, \"y1\": 6.2, \"yref\": \"y\"}, {\"fillcolor\": \"rgb(214, 39, 40)\", \"line\": {\"width\": 0}, \"opacity\": 1, \"type\": \"rect\", \"x0\": \"2018-07-14 0:02:56\", \"x1\": \"2018-07-14 0:03:35\", \"xref\": \"x\", \"y0\": 5.8, \"y1\": 6.2, \"yref\": \"y\"}, {\"fillcolor\": \"rgb(148, 103, 189)\", \"line\": {\"width\": 0}, \"opacity\": 1, \"type\": \"rect\", \"x0\": \"2018-07-14 0:13:13\", \"x1\": \"2018-07-14 0:14:51\", \"xref\": \"x\", \"y0\": 5.8, \"y1\": 6.2, \"yref\": \"y\"}, {\"fillcolor\": \"rgb(140, 86, 75)\", \"line\": {\"width\": 0}, \"opacity\": 1, \"type\": \"rect\", \"x0\": \"2018-07-14 0:10:22\", \"x1\": \"2018-07-14 0:10:48\", \"xref\": \"x\", \"y0\": 5.8, \"y1\": 6.2, \"yref\": \"y\"}, {\"fillcolor\": \"rgb(227, 119, 194)\", \"line\": {\"width\": 0}, \"opacity\": 1, \"type\": \"rect\", \"x0\": \"2018-07-14 0:08:47\", \"x1\": \"2018-07-14 0:10:22\", \"xref\": \"x\", \"y0\": 5.8, \"y1\": 6.2, \"yref\": \"y\"}, {\"fillcolor\": \"rgb(127, 127, 127)\", \"line\": {\"width\": 0}, \"opacity\": 1, \"type\": \"rect\", \"x0\": \"2018-07-14 0:07:46\", \"x1\": \"2018-07-14 0:08:47\", \"xref\": \"x\", \"y0\": 5.8, \"y1\": 6.2, \"yref\": \"y\"}, {\"fillcolor\": \"rgb(188, 189, 34)\", \"line\": {\"width\": 0}, \"opacity\": 1, \"type\": \"rect\", \"x0\": \"2018-07-14 0:15:43\", \"x1\": \"2018-07-14 0:17:02\", \"xref\": \"x\", \"y0\": 5.8, \"y1\": 6.2, \"yref\": \"y\"}, {\"fillcolor\": \"rgb(23, 190, 207)\", \"line\": {\"width\": 0}, \"opacity\": 1, \"type\": \"rect\", \"x0\": \"2018-07-14 0:10:48\", \"x1\": \"2018-07-14 0:12:04\", \"xref\": \"x\", \"y0\": 5.8, \"y1\": 6.2, \"yref\": \"y\"}, {\"fillcolor\": \"rgb(255, 127, 14)\", \"line\": {\"width\": 0}, \"opacity\": 1, \"type\": \"rect\", \"x0\": \"2018-07-14 0:14:51\", \"x1\": \"2018-07-14 0:15:43\", \"xref\": \"x\", \"y0\": 5.8, \"y1\": 6.2, \"yref\": \"y\"}, {\"fillcolor\": \"rgb(31, 119, 180)\", \"line\": {\"width\": 0}, \"opacity\": 1, \"type\": \"rect\", \"x0\": \"2018-07-14 0:09:49\", \"x1\": \"2018-07-14 0:10:38\", \"xref\": \"x\", \"y0\": 4.8, \"y1\": 5.2, \"yref\": \"y\"}, {\"fillcolor\": \"rgb(44, 160, 44)\", \"line\": {\"width\": 0}, \"opacity\": 1, \"type\": \"rect\", \"x0\": \"2018-07-14 0:08:34\", \"x1\": \"2018-07-14 0:09:49\", \"xref\": \"x\", \"y0\": 4.8, \"y1\": 5.2, \"yref\": \"y\"}, {\"fillcolor\": \"rgb(214, 39, 40)\", \"line\": {\"width\": 0}, \"opacity\": 1, \"type\": \"rect\", \"x0\": \"2018-07-14 0:17:45\", \"x1\": \"2018-07-14 0:18:18\", \"xref\": \"x\", \"y0\": 4.8, \"y1\": 5.2, \"yref\": \"y\"}, {\"fillcolor\": \"rgb(148, 103, 189)\", \"line\": {\"width\": 0}, \"opacity\": 1, \"type\": \"rect\", \"x0\": \"2018-07-14 0:06:21\", \"x1\": \"2018-07-14 0:08:00\", \"xref\": \"x\", \"y0\": 4.8, \"y1\": 5.2, \"yref\": \"y\"}, {\"fillcolor\": \"rgb(140, 86, 75)\", \"line\": {\"width\": 0}, \"opacity\": 1, \"type\": \"rect\", \"x0\": \"2018-07-14 0:10:48\", \"x1\": \"2018-07-14 0:11:57\", \"xref\": \"x\", \"y0\": 4.8, \"y1\": 5.2, \"yref\": \"y\"}, {\"fillcolor\": \"rgb(227, 119, 194)\", \"line\": {\"width\": 0}, \"opacity\": 1, \"type\": \"rect\", \"x0\": \"2018-07-14 0:17:13\", \"x1\": \"2018-07-14 0:17:19\", \"xref\": \"x\", \"y0\": 4.8, \"y1\": 5.2, \"yref\": \"y\"}, {\"fillcolor\": \"rgb(127, 127, 127)\", \"line\": {\"width\": 0}, \"opacity\": 1, \"type\": \"rect\", \"x0\": \"2018-07-14 0:18:28\", \"x1\": \"2018-07-14 0:19:23\", \"xref\": \"x\", \"y0\": 4.8, \"y1\": 5.2, \"yref\": \"y\"}, {\"fillcolor\": \"rgb(188, 189, 34)\", \"line\": {\"width\": 0}, \"opacity\": 1, \"type\": \"rect\", \"x0\": \"2018-07-14 0:08:00\", \"x1\": \"2018-07-14 0:08:32\", \"xref\": \"x\", \"y0\": 4.8, \"y1\": 5.2, \"yref\": \"y\"}, {\"fillcolor\": \"rgb(23, 190, 207)\", \"line\": {\"width\": 0}, \"opacity\": 1, \"type\": \"rect\", \"x0\": \"2018-07-14 0:17:19\", \"x1\": \"2018-07-14 0:17:45\", \"xref\": \"x\", \"y0\": 4.8, \"y1\": 5.2, \"yref\": \"y\"}, {\"fillcolor\": \"rgb(255, 127, 14)\", \"line\": {\"width\": 0}, \"opacity\": 1, \"type\": \"rect\", \"x0\": \"2018-07-14 0:15:43\", \"x1\": \"2018-07-14 0:17:13\", \"xref\": \"x\", \"y0\": 4.8, \"y1\": 5.2, \"yref\": \"y\"}, {\"fillcolor\": \"rgb(31, 119, 180)\", \"line\": {\"width\": 0}, \"opacity\": 1, \"type\": \"rect\", \"x0\": \"2018-07-14 0:10:38\", \"x1\": \"2018-07-14 0:10:49\", \"xref\": \"x\", \"y0\": 3.8, \"y1\": 4.2, \"yref\": \"y\"}, {\"fillcolor\": \"rgb(44, 160, 44)\", \"line\": {\"width\": 0}, \"opacity\": 1, \"type\": \"rect\", \"x0\": \"2018-07-14 0:15:56\", \"x1\": \"2018-07-14 0:16:42\", \"xref\": \"x\", \"y0\": 3.8, \"y1\": 4.2, \"yref\": \"y\"}, {\"fillcolor\": \"rgb(214, 39, 40)\", \"line\": {\"width\": 0}, \"opacity\": 1, \"type\": \"rect\", \"x0\": \"2018-07-14 0:07:37\", \"x1\": \"2018-07-14 0:07:47\", \"xref\": \"x\", \"y0\": 3.8, \"y1\": 4.2, \"yref\": \"y\"}, {\"fillcolor\": \"rgb(148, 103, 189)\", \"line\": {\"width\": 0}, \"opacity\": 1, \"type\": \"rect\", \"x0\": \"2018-07-14 0:15:13\", \"x1\": \"2018-07-14 0:15:56\", \"xref\": \"x\", \"y0\": 3.8, \"y1\": 4.2, \"yref\": \"y\"}, {\"fillcolor\": \"rgb(140, 86, 75)\", \"line\": {\"width\": 0}, \"opacity\": 1, \"type\": \"rect\", \"x0\": \"2018-07-14 0:08:39\", \"x1\": \"2018-07-14 0:09:40\", \"xref\": \"x\", \"y0\": 3.8, \"y1\": 4.2, \"yref\": \"y\"}, {\"fillcolor\": \"rgb(227, 119, 194)\", \"line\": {\"width\": 0}, \"opacity\": 1, \"type\": \"rect\", \"x0\": \"2018-07-14 0:07:47\", \"x1\": \"2018-07-14 0:08:39\", \"xref\": \"x\", \"y0\": 3.8, \"y1\": 4.2, \"yref\": \"y\"}, {\"fillcolor\": \"rgb(127, 127, 127)\", \"line\": {\"width\": 0}, \"opacity\": 1, \"type\": \"rect\", \"x0\": \"2018-07-14 0:13:42\", \"x1\": \"2018-07-14 0:14:03\", \"xref\": \"x\", \"y0\": 3.8, \"y1\": 4.2, \"yref\": \"y\"}, {\"fillcolor\": \"rgb(188, 189, 34)\", \"line\": {\"width\": 0}, \"opacity\": 1, \"type\": \"rect\", \"x0\": \"2018-07-14 0:06:23\", \"x1\": \"2018-07-14 0:07:37\", \"xref\": \"x\", \"y0\": 3.8, \"y1\": 4.2, \"yref\": \"y\"}, {\"fillcolor\": \"rgb(23, 190, 207)\", \"line\": {\"width\": 0}, \"opacity\": 1, \"type\": \"rect\", \"x0\": \"2018-07-14 0:12:04\", \"x1\": \"2018-07-14 0:12:55\", \"xref\": \"x\", \"y0\": 3.8, \"y1\": 4.2, \"yref\": \"y\"}, {\"fillcolor\": \"rgb(255, 127, 14)\", \"line\": {\"width\": 0}, \"opacity\": 1, \"type\": \"rect\", \"x0\": \"2018-07-14 0:12:55\", \"x1\": \"2018-07-14 0:13:42\", \"xref\": \"x\", \"y0\": 3.8, \"y1\": 4.2, \"yref\": \"y\"}, {\"fillcolor\": \"rgb(31, 119, 180)\", \"line\": {\"width\": 0}, \"opacity\": 1, \"type\": \"rect\", \"x0\": \"2018-07-14 0:11:29\", \"x1\": \"2018-07-14 0:12:31\", \"xref\": \"x\", \"y0\": 2.8, \"y1\": 3.2, \"yref\": \"y\"}, {\"fillcolor\": \"rgb(44, 160, 44)\", \"line\": {\"width\": 0}, \"opacity\": 1, \"type\": \"rect\", \"x0\": \"2018-07-14 0:13:41\", \"x1\": \"2018-07-14 0:14:27\", \"xref\": \"x\", \"y0\": 2.8, \"y1\": 3.2, \"yref\": \"y\"}, {\"fillcolor\": \"rgb(214, 39, 40)\", \"line\": {\"width\": 0}, \"opacity\": 1, \"type\": \"rect\", \"x0\": \"2018-07-14 0:10:00\", \"x1\": \"2018-07-14 0:11:29\", \"xref\": \"x\", \"y0\": 2.8, \"y1\": 3.2, \"yref\": \"y\"}, {\"fillcolor\": \"rgb(148, 103, 189)\", \"line\": {\"width\": 0}, \"opacity\": 1, \"type\": \"rect\", \"x0\": \"2018-07-14 0:08:00\", \"x1\": \"2018-07-14 0:08:09\", \"xref\": \"x\", \"y0\": 2.8, \"y1\": 3.2, \"yref\": \"y\"}, {\"fillcolor\": \"rgb(140, 86, 75)\", \"line\": {\"width\": 0}, \"opacity\": 1, \"type\": \"rect\", \"x0\": \"2018-07-14 0:16:34\", \"x1\": \"2018-07-14 0:17:27\", \"xref\": \"x\", \"y0\": 2.8, \"y1\": 3.2, \"yref\": \"y\"}, {\"fillcolor\": \"rgb(227, 119, 194)\", \"line\": {\"width\": 0}, \"opacity\": 1, \"type\": \"rect\", \"x0\": \"2018-07-14 0:15:29\", \"x1\": \"2018-07-14 0:16:34\", \"xref\": \"x\", \"y0\": 2.8, \"y1\": 3.2, \"yref\": \"y\"}, {\"fillcolor\": \"rgb(127, 127, 127)\", \"line\": {\"width\": 0}, \"opacity\": 1, \"type\": \"rect\", \"x0\": \"2018-07-14 0:12:31\", \"x1\": \"2018-07-14 0:13:03\", \"xref\": \"x\", \"y0\": 2.8, \"y1\": 3.2, \"yref\": \"y\"}, {\"fillcolor\": \"rgb(188, 189, 34)\", \"line\": {\"width\": 0}, \"opacity\": 1, \"type\": \"rect\", \"x0\": \"2018-07-14 0:08:32\", \"x1\": \"2018-07-14 0:10:00\", \"xref\": \"x\", \"y0\": 2.8, \"y1\": 3.2, \"yref\": \"y\"}, {\"fillcolor\": \"rgb(23, 190, 207)\", \"line\": {\"width\": 0}, \"opacity\": 1, \"type\": \"rect\", \"x0\": \"2018-07-14 0:14:49\", \"x1\": \"2018-07-14 0:15:29\", \"xref\": \"x\", \"y0\": 2.8, \"y1\": 3.2, \"yref\": \"y\"}, {\"fillcolor\": \"rgb(255, 127, 14)\", \"line\": {\"width\": 0}, \"opacity\": 1, \"type\": \"rect\", \"x0\": \"2018-07-14 0:08:09\", \"x1\": \"2018-07-14 0:08:16\", \"xref\": \"x\", \"y0\": 2.8, \"y1\": 3.2, \"yref\": \"y\"}, {\"fillcolor\": \"rgb(31, 119, 180)\", \"line\": {\"width\": 0}, \"opacity\": 1, \"type\": \"rect\", \"x0\": \"2018-07-14 0:12:31\", \"x1\": \"2018-07-14 0:13:27\", \"xref\": \"x\", \"y0\": 1.8, \"y1\": 2.2, \"yref\": \"y\"}, {\"fillcolor\": \"rgb(44, 160, 44)\", \"line\": {\"width\": 0}, \"opacity\": 1, \"type\": \"rect\", \"x0\": \"2018-07-14 0:18:28\", \"x1\": \"2018-07-14 0:19:40\", \"xref\": \"x\", \"y0\": 1.8, \"y1\": 2.2, \"yref\": \"y\"}, {\"fillcolor\": \"rgb(214, 39, 40)\", \"line\": {\"width\": 0}, \"opacity\": 1, \"type\": \"rect\", \"x0\": \"2018-07-14 0:07:47\", \"x1\": \"2018-07-14 0:07:59\", \"xref\": \"x\", \"y0\": 1.8, \"y1\": 2.2, \"yref\": \"y\"}, {\"fillcolor\": \"rgb(148, 103, 189)\", \"line\": {\"width\": 0}, \"opacity\": 1, \"type\": \"rect\", \"x0\": \"2018-07-14 0:09:01\", \"x1\": \"2018-07-14 0:10:26\", \"xref\": \"x\", \"y0\": 1.8, \"y1\": 2.2, \"yref\": \"y\"}, {\"fillcolor\": \"rgb(140, 86, 75)\", \"line\": {\"width\": 0}, \"opacity\": 1, \"type\": \"rect\", \"x0\": \"2018-07-14 0:14:03\", \"x1\": \"2018-07-14 0:14:52\", \"xref\": \"x\", \"y0\": 1.8, \"y1\": 2.2, \"yref\": \"y\"}, {\"fillcolor\": \"rgb(227, 119, 194)\", \"line\": {\"width\": 0}, \"opacity\": 1, \"type\": \"rect\", \"x0\": \"2018-07-14 0:19:40\", \"x1\": \"2018-07-14 0:20:05\", \"xref\": \"x\", \"y0\": 1.8, \"y1\": 2.2, \"yref\": \"y\"}, {\"fillcolor\": \"rgb(127, 127, 127)\", \"line\": {\"width\": 0}, \"opacity\": 1, \"type\": \"rect\", \"x0\": \"2018-07-14 0:17:58\", \"x1\": \"2018-07-14 0:18:28\", \"xref\": \"x\", \"y0\": 1.8, \"y1\": 2.2, \"yref\": \"y\"}, {\"fillcolor\": \"rgb(188, 189, 34)\", \"line\": {\"width\": 0}, \"opacity\": 1, \"type\": \"rect\", \"x0\": \"2018-07-14 0:13:27\", \"x1\": \"2018-07-14 0:14:03\", \"xref\": \"x\", \"y0\": 1.8, \"y1\": 2.2, \"yref\": \"y\"}, {\"fillcolor\": \"rgb(23, 190, 207)\", \"line\": {\"width\": 0}, \"opacity\": 1, \"type\": \"rect\", \"x0\": \"2018-07-14 0:15:29\", \"x1\": \"2018-07-14 0:16:58\", \"xref\": \"x\", \"y0\": 1.8, \"y1\": 2.2, \"yref\": \"y\"}, {\"fillcolor\": \"rgb(255, 127, 14)\", \"line\": {\"width\": 0}, \"opacity\": 1, \"type\": \"rect\", \"x0\": \"2018-07-14 0:17:13\", \"x1\": \"2018-07-14 0:17:58\", \"xref\": \"x\", \"y0\": 1.8, \"y1\": 2.2, \"yref\": \"y\"}, {\"fillcolor\": \"rgb(31, 119, 180)\", \"line\": {\"width\": 0}, \"opacity\": 1, \"type\": \"rect\", \"x0\": \"2018-07-14 0:13:27\", \"x1\": \"2018-07-14 0:14:11\", \"xref\": \"x\", \"y0\": 0.8, \"y1\": 1.2, \"yref\": \"y\"}, {\"fillcolor\": \"rgb(44, 160, 44)\", \"line\": {\"width\": 0}, \"opacity\": 1, \"type\": \"rect\", \"x0\": \"2018-07-14 0:19:40\", \"x1\": \"2018-07-14 0:20:10\", \"xref\": \"x\", \"y0\": 0.8, \"y1\": 1.2, \"yref\": \"y\"}, {\"fillcolor\": \"rgb(214, 39, 40)\", \"line\": {\"width\": 0}, \"opacity\": 1, \"type\": \"rect\", \"x0\": \"2018-07-14 0:05:41\", \"x1\": \"2018-07-14 0:07:11\", \"xref\": \"x\", \"y0\": 0.8, \"y1\": 1.2, \"yref\": \"y\"}, {\"fillcolor\": \"rgb(148, 103, 189)\", \"line\": {\"width\": 0}, \"opacity\": 1, \"type\": \"rect\", \"x0\": \"2018-07-14 0:08:09\", \"x1\": \"2018-07-14 0:09:01\", \"xref\": \"x\", \"y0\": 0.8, \"y1\": 1.2, \"yref\": \"y\"}, {\"fillcolor\": \"rgb(140, 86, 75)\", \"line\": {\"width\": 0}, \"opacity\": 1, \"type\": \"rect\", \"x0\": \"2018-07-14 0:11:57\", \"x1\": \"2018-07-14 0:12:18\", \"xref\": \"x\", \"y0\": 0.8, \"y1\": 1.2, \"yref\": \"y\"}, {\"fillcolor\": \"rgb(227, 119, 194)\", \"line\": {\"width\": 0}, \"opacity\": 1, \"type\": \"rect\", \"x0\": \"2018-07-14 0:10:24\", \"x1\": \"2018-07-14 0:11:12\", \"xref\": \"x\", \"y0\": 0.8, \"y1\": 1.2, \"yref\": \"y\"}, {\"fillcolor\": \"rgb(127, 127, 127)\", \"line\": {\"width\": 0}, \"opacity\": 1, \"type\": \"rect\", \"x0\": \"2018-07-14 0:14:38\", \"x1\": \"2018-07-14 0:16:07\", \"xref\": \"x\", \"y0\": 0.8, \"y1\": 1.2, \"yref\": \"y\"}, {\"fillcolor\": \"rgb(188, 189, 34)\", \"line\": {\"width\": 0}, \"opacity\": 1, \"type\": \"rect\", \"x0\": \"2018-07-14 0:10:05\", \"x1\": \"2018-07-14 0:10:24\", \"xref\": \"x\", \"y0\": 0.8, \"y1\": 1.2, \"yref\": \"y\"}, {\"fillcolor\": \"rgb(23, 190, 207)\", \"line\": {\"width\": 0}, \"opacity\": 1, \"type\": \"rect\", \"x0\": \"2018-07-14 0:17:45\", \"x1\": \"2018-07-14 0:18:59\", \"xref\": \"x\", \"y0\": 0.8, \"y1\": 1.2, \"yref\": \"y\"}, {\"fillcolor\": \"rgb(255, 127, 14)\", \"line\": {\"width\": 0}, \"opacity\": 1, \"type\": \"rect\", \"x0\": \"2018-07-14 0:09:01\", \"x1\": \"2018-07-14 0:10:05\", \"xref\": \"x\", \"y0\": 0.8, \"y1\": 1.2, \"yref\": \"y\"}, {\"fillcolor\": \"rgb(31, 119, 180)\", \"line\": {\"width\": 0}, \"opacity\": 1, \"type\": \"rect\", \"x0\": \"2018-07-14 0:16:25\", \"x1\": \"2018-07-14 0:16:46\", \"xref\": \"x\", \"y0\": -0.2, \"y1\": 0.2, \"yref\": \"y\"}, {\"fillcolor\": \"rgb(44, 160, 44)\", \"line\": {\"width\": 0}, \"opacity\": 1, \"type\": \"rect\", \"x0\": \"2018-07-14 0:09:49\", \"x1\": \"2018-07-14 0:10:00\", \"xref\": \"x\", \"y0\": -0.2, \"y1\": 0.2, \"yref\": \"y\"}, {\"fillcolor\": \"rgb(214, 39, 40)\", \"line\": {\"width\": 0}, \"opacity\": 1, \"type\": \"rect\", \"x0\": \"2018-07-14 0:13:21\", \"x1\": \"2018-07-14 0:14:06\", \"xref\": \"x\", \"y0\": -0.2, \"y1\": 0.2, \"yref\": \"y\"}, {\"fillcolor\": \"rgb(148, 103, 189)\", \"line\": {\"width\": 0}, \"opacity\": 1, \"type\": \"rect\", \"x0\": \"2018-07-14 0:14:51\", \"x1\": \"2018-07-14 0:15:13\", \"xref\": \"x\", \"y0\": -0.2, \"y1\": 0.2, \"yref\": \"y\"}, {\"fillcolor\": \"rgb(140, 86, 75)\", \"line\": {\"width\": 0}, \"opacity\": 1, \"type\": \"rect\", \"x0\": \"2018-07-14 0:15:13\", \"x1\": \"2018-07-14 0:16:25\", \"xref\": \"x\", \"y0\": -0.2, \"y1\": 0.2, \"yref\": \"y\"}, {\"fillcolor\": \"rgb(227, 119, 194)\", \"line\": {\"width\": 0}, \"opacity\": 1, \"type\": \"rect\", \"x0\": \"2018-07-14 0:11:21\", \"x1\": \"2018-07-14 0:12:33\", \"xref\": \"x\", \"y0\": -0.2, \"y1\": 0.2, \"yref\": \"y\"}, {\"fillcolor\": \"rgb(127, 127, 127)\", \"line\": {\"width\": 0}, \"opacity\": 1, \"type\": \"rect\", \"x0\": \"2018-07-14 0:14:06\", \"x1\": \"2018-07-14 0:14:38\", \"xref\": \"x\", \"y0\": -0.2, \"y1\": 0.2, \"yref\": \"y\"}, {\"fillcolor\": \"rgb(188, 189, 34)\", \"line\": {\"width\": 0}, \"opacity\": 1, \"type\": \"rect\", \"x0\": \"2018-07-14 0:12:33\", \"x1\": \"2018-07-14 0:13:21\", \"xref\": \"x\", \"y0\": -0.2, \"y1\": 0.2, \"yref\": \"y\"}, {\"fillcolor\": \"rgb(23, 190, 207)\", \"line\": {\"width\": 0}, \"opacity\": 1, \"type\": \"rect\", \"x0\": \"2018-07-14 0:14:38\", \"x1\": \"2018-07-14 0:14:49\", \"xref\": \"x\", \"y0\": -0.2, \"y1\": 0.2, \"yref\": \"y\"}, {\"fillcolor\": \"rgb(255, 127, 14)\", \"line\": {\"width\": 0}, \"opacity\": 1, \"type\": \"rect\", \"x0\": \"2018-07-14 0:10:05\", \"x1\": \"2018-07-14 0:11:21\", \"xref\": \"x\", \"y0\": -0.2, \"y1\": 0.2, \"yref\": \"y\"}], \"showlegend\": true, \"title\": {\"text\": \"Job shop Schedule\"}, \"width\": 900, \"xaxis\": {\"rangeselector\": {\"buttons\": [{\"count\": 7, \"label\": \"1w\", \"step\": \"day\", \"stepmode\": \"backward\"}, {\"count\": 1, \"label\": \"1m\", \"step\": \"month\", \"stepmode\": \"backward\"}, {\"count\": 6, \"label\": \"6m\", \"step\": \"month\", \"stepmode\": \"backward\"}, {\"count\": 1, \"label\": \"YTD\", \"step\": \"year\", \"stepmode\": \"todate\"}, {\"count\": 1, \"label\": \"1y\", \"step\": \"year\", \"stepmode\": \"backward\"}, {\"step\": \"all\"}]}, \"showgrid\": true, \"type\": \"date\", \"zeroline\": false}, \"yaxis\": {\"autorange\": false, \"range\": [-1, 11], \"showgrid\": false, \"ticktext\": [\"Machine 10\", \"Machine 9\", \"Machine 8\", \"Machine 7\", \"Machine 6\", \"Machine 5\", \"Machine 4\", \"Machine 3\", \"Machine 2\", \"Machine 1\"], \"tickvals\": [0, 1, 2, 3, 4, 5, 6, 7, 8, 9], \"zeroline\": false}},\n",
       "                        {\"showLink\": false, \"linkText\": \"Export to plot.ly\", \"plotlyServerURL\": \"https://plot.ly\", \"responsive\": true}\n",
       "                    ).then(function(){\n",
       "                            \n",
       "var gd = document.getElementById('bac6a419-0492-415c-99cf-93832562ff66');\n",
       "var x = new MutationObserver(function (mutations, observer) {{\n",
       "        var display = window.getComputedStyle(gd).display;\n",
       "        if (!display || display === 'none') {{\n",
       "            console.log([gd, 'removed!']);\n",
       "            Plotly.purge(gd);\n",
       "            observer.disconnect();\n",
       "        }}\n",
       "}});\n",
       "\n",
       "// Listen for the removal of the full notebook cells\n",
       "var notebookContainer = gd.closest('#notebook-container');\n",
       "if (notebookContainer) {{\n",
       "    x.observe(notebookContainer, {childList: true});\n",
       "}}\n",
       "\n",
       "// Listen for the clearing of the current output cell\n",
       "var outputEl = gd.closest('.output');\n",
       "if (outputEl) {{\n",
       "    x.observe(outputEl, {childList: true});\n",
       "}}\n",
       "\n",
       "                        })\n",
       "                };\n",
       "                });\n",
       "            </script>\n",
       "        </div>"
      ]
     },
     "metadata": {},
     "output_type": "display_data"
    }
   ],
   "source": [
    "import GAJobShopScheduling as jss\n",
    "\n",
    "#---Main Function--\n",
    "mainScheduler = jss.Scheduler()\n",
    "mainScheduler[\"processTimeTable\"] = \"ProcessingTime.csv\"\n",
    "mainScheduler[\"machinesSequenceTable\"] = \"MachinesSequence.csv\"\n",
    "\n",
    "mainScheduler.Run()\n",
    "\n",
    "mainScheduler.PrintResult()\n",
    "mainScheduler.PrintFitnessPlot()\n",
    "mainScheduler.GenerateGanttChart()\n",
    "#---\n",
    "\n",
    "# .ipynb file may not be fully displayed on Github, you can click the prompt that on the right handside to check the full file"
   ]
  },
  {
   "cell_type": "code",
   "execution_count": null,
   "metadata": {},
   "outputs": [],
   "source": []
  }
 ],
 "metadata": {
  "kernelspec": {
   "display_name": "Python 3",
   "language": "python",
   "name": "python3"
  },
  "language_info": {
   "codemirror_mode": {
    "name": "ipython",
    "version": 3
   },
   "file_extension": ".py",
   "mimetype": "text/x-python",
   "name": "python",
   "nbconvert_exporter": "python",
   "pygments_lexer": "ipython3",
   "version": "3.6.8"
  }
 },
 "nbformat": 4,
 "nbformat_minor": 2
}
