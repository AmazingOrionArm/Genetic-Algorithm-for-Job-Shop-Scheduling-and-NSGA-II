{
 "cells": [
  {
   "cell_type": "code",
   "execution_count": 12,
   "metadata": {},
   "outputs": [
    {
     "data": {
      "text/html": [
       "        <script type=\"text/javascript\">\n",
       "        window.PlotlyConfig = {MathJaxConfig: 'local'};\n",
       "        if (window.MathJax) {MathJax.Hub.Config({SVG: {font: \"STIX-Web\"}});}\n",
       "        if (typeof require !== 'undefined') {\n",
       "        require.undef(\"plotly\");\n",
       "        requirejs.config({\n",
       "            paths: {\n",
       "                'plotly': ['https://cdn.plot.ly/plotly-latest.min']\n",
       "            }\n",
       "        });\n",
       "        require(['plotly'], function(Plotly) {\n",
       "            window._Plotly = Plotly;\n",
       "        });\n",
       "        }\n",
       "        </script>\n",
       "        "
      ]
     },
     "metadata": {},
     "output_type": "display_data"
    },
    {
     "name": "stdout",
     "output_type": "stream",
     "text": [
      "Calculating...\n",
      "=== Generation:0===\n",
      "=== Generation:1===\n",
      "=== Generation:2===\n",
      "=== Generation:3===\n",
      "=== Generation:4===\n",
      "=== Generation:5===\n",
      "=== Generation:6===\n",
      "=== Generation:7===\n",
      "=== Generation:8===\n",
      "=== Generation:9===\n",
      "=== Generation:10===\n",
      "=== Generation:11===\n",
      "=== Generation:12===\n",
      "=== Generation:13===\n",
      "=== Generation:14===\n",
      "=== Generation:15===\n",
      "=== Generation:16===\n",
      "=== Generation:17===\n",
      "=== Generation:18===\n",
      "=== Generation:19===\n",
      "=== Generation:20===\n",
      "=== Generation:21===\n",
      "=== Generation:22===\n",
      "=== Generation:23===\n",
      "=== Generation:24===\n",
      "=== Generation:25===\n",
      "=== Generation:26===\n",
      "=== Generation:27===\n",
      "=== Generation:28===\n",
      "=== Generation:29===\n",
      "=== Generation:30===\n",
      "=== Generation:31===\n",
      "=== Generation:32===\n",
      "=== Generation:33===\n",
      "=== Generation:34===\n",
      "=== Generation:35===\n",
      "=== Generation:36===\n",
      "=== Generation:37===\n",
      "=== Generation:38===\n",
      "=== Generation:39===\n",
      "=== Generation:40===\n",
      "=== Generation:41===\n",
      "=== Generation:42===\n",
      "=== Generation:43===\n",
      "=== Generation:44===\n",
      "=== Generation:45===\n",
      "=== Generation:46===\n",
      "=== Generation:47===\n",
      "=== Generation:48===\n",
      "=== Generation:49===\n",
      "=== Generation:50===\n",
      "=== Generation:51===\n",
      "=== Generation:52===\n",
      "=== Generation:53===\n",
      "=== Generation:54===\n",
      "=== Generation:55===\n",
      "=== Generation:56===\n",
      "=== Generation:57===\n",
      "=== Generation:58===\n",
      "=== Generation:59===\n",
      "=== Generation:60===\n",
      "=== Generation:61===\n",
      "=== Generation:62===\n",
      "=== Generation:63===\n",
      "=== Generation:64===\n",
      "=== Generation:65===\n",
      "=== Generation:66===\n",
      "=== Generation:67===\n",
      "=== Generation:68===\n",
      "=== Generation:69===\n",
      "=== Generation:70===\n",
      "=== Generation:71===\n",
      "=== Generation:72===\n",
      "=== Generation:73===\n",
      "=== Generation:74===\n",
      "=== Generation:75===\n",
      "=== Generation:76===\n",
      "=== Generation:77===\n",
      "=== Generation:78===\n",
      "=== Generation:79===\n",
      "=== Generation:80===\n",
      "=== Generation:81===\n",
      "=== Generation:82===\n",
      "=== Generation:83===\n",
      "=== Generation:84===\n",
      "=== Generation:85===\n",
      "=== Generation:86===\n",
      "=== Generation:87===\n",
      "=== Generation:88===\n",
      "=== Generation:89===\n",
      "=== Generation:90===\n",
      "=== Generation:91===\n",
      "=== Generation:92===\n",
      "=== Generation:93===\n",
      "=== Generation:94===\n",
      "=== Generation:95===\n",
      "=== Generation:96===\n",
      "=== Generation:97===\n",
      "=== Generation:98===\n",
      "=== Generation:99===\n",
      "optimal sequence [3, 8, 0, 5, 7, 8, 9, 9, 3, 8, 7, 8, 0, 1, 8, 5, 0, 5, 2, 9, 8, 6, 7, 4, 5, 4, 0, 9, 5, 6, 0, 7, 3, 0, 6, 7, 8, 1, 1, 7, 1, 2, 6, 9, 7, 4, 2, 4, 1, 2, 7, 1, 3, 2, 9, 2, 3, 3, 0, 8, 2, 6, 5, 2, 2, 4, 8, 4, 9, 6, 1, 4, 6, 0, 0, 5, 4, 3, 4, 5, 7, 9, 3, 9, 4, 6, 7, 3, 1, 5, 8, 0, 2, 3, 5, 1, 1, 6, 9, 6]\n",
      "optimal value:1278.000000\n"
     ]
    },
    {
     "data": {
      "image/png": "[encoded data removed]",
      "text/plain": [
       "<Figure size 432x288 with 1 Axes>"
      ]
     },
     "metadata": {},
     "output_type": "display_data"
    },
    {
     "data": {
      "application/vnd.plotly.v1+json": {
       "config": {
        "linkText": "Export to plot.ly",
        "plotlyServerURL": "https://plot.ly",
        "responsive": true,
        "showLink": false
       },
       "data": [
        {
         "marker": {
          "color": "white"
         },
         "name": "",
         "type": "scatter",
         "uid": "f89ff34b-5cfe-4157-aed8-29092d20f6c9",
         "x": [
          "2018-07-14 0:01:16",
          "2018-07-14 0:01:45"
         ],
         "y": [
          9,
          9
         ]
        },
        {
         "marker": {
          "color": "white"
         },
         "name": "",
         "type": "scatter",
         "uid": "366209a5-20eb-4dce-8c6d-f6f4882455ae",
         "x": [
          "2018-07-14 0:05:34",
          "2018-07-14 0:06:17"
         ],
         "y": [
          9,
          9
         ]
        },
        {
         "marker": {
          "color": "white"
         },
         "name": "",
         "type": "scatter",
         "uid": "43b89067-6266-4cac-9328-358ee44d4689",
         "x": [
          "2018-07-14 0:09:20",
          "2018-07-14 0:10:45"
         ],
         "y": [
          9,
          9
         ]
        },
        {
         "marker": {
          "color": "white"
         },
         "name": "",
         "type": "scatter",
         "uid": "7923ebcf-b78d-4e7d-9084-4a54862f3d50",
         "x": [
          "2018-07-14 0:08:09",
          "2018-07-14 0:09:20"
         ],
         "y": [
          9,
          9
         ]
        },
        {
         "marker": {
          "color": "white"
         },
         "name": "",
         "type": "scatter",
         "uid": "b1802f3e-cdd4-4dc1-9fae-1bb561fe9b3d",
         "x": [
          "2018-07-14 0:07:26",
          "2018-07-14 0:07:32"
         ],
         "y": [
          9,
          9
         ]
        },
        {
         "marker": {
          "color": "white"
         },
         "name": "",
         "type": "scatter",
         "uid": "0b288f5b-2118-44ae-bc71-53c4f4015901",
         "x": [
          "2018-07-14 0:15:07",
          "2018-07-14 0:15:54"
         ],
         "y": [
          9,
          9
         ]
        },
        {
         "marker": {
          "color": "white"
         },
         "name": "",
         "type": "scatter",
         "uid": "3fcdd1c3-36bb-441c-9acd-1f6ea770f1f8",
         "x": [
          "2018-07-14 0:07:32",
          "2018-07-14 0:08:09"
         ],
         "y": [
          9,
          9
         ]
        },
        {
         "marker": {
          "color": "white"
         },
         "name": "",
         "type": "scatter",
         "uid": "7bc08964-75c3-4d7a-a4e1-c21bbd6286ef",
         "x": [
          "2018-07-14 0:04:08",
          "2018-07-14 0:05:34"
         ],
         "y": [
          9,
          9
         ]
        },
        {
         "marker": {
          "color": "white"
         },
         "name": "",
         "type": "scatter",
         "uid": "c9170af8-102b-4b36-bcbe-fedcd976b859",
         "x": [
          "2018-07-14 0:00:00",
          "2018-07-14 0:01:16"
         ],
         "y": [
          9,
          9
         ]
        },
        {
         "marker": {
          "color": "white"
         },
         "name": "",
         "type": "scatter",
         "uid": "019407ca-0f54-409a-b7d0-fe74d15ce619",
         "x": [
          "2018-07-14 0:03:55",
          "2018-07-14 0:04:08"
         ],
         "y": [
          9,
          9
         ]
        },
        {
         "marker": {
          "color": "white"
         },
         "name": "",
         "type": "scatter",
         "uid": "dfed2f3f-9ed5-43d7-93c3-c2b4f6f0adef",
         "x": [
          "2018-07-14 0:03:55",
          "2018-07-14 0:05:13"
         ],
         "y": [
          8,
          8
         ]
        },
        {
         "marker": {
          "color": "white"
         },
         "name": "",
         "type": "scatter",
         "uid": "4508c728-e966-40b8-a470-206b7239f541",
         "x": [
          "2018-07-14 0:12:39",
          "2018-07-14 0:13:07"
         ],
         "y": [
          8,
          8
         ]
        },
        {
         "marker": {
          "color": "white"
         },
         "name": "",
         "type": "scatter",
         "uid": "8d3f038c-71c3-436a-b205-b5211c25863a",
         "x": [
          "2018-07-14 0:05:15",
          "2018-07-14 0:06:46"
         ],
         "y": [
          8,
          8
         ]
        },
        {
         "marker": {
          "color": "white"
         },
         "name": "",
         "type": "scatter",
         "uid": "e467ee30-213f-4bda-bdd8-2413ec200c91",
         "x": [
          "2018-07-14 0:00:00",
          "2018-07-14 0:01:21"
         ],
         "y": [
          8,
          8
         ]
        },
        {
         "marker": {
          "color": "white"
         },
         "name": "",
         "type": "scatter",
         "uid": "96c259a7-e0bd-4c6b-b8c9-64f5ee236e92",
         "x": [
          "2018-07-14 0:08:18",
          "2018-07-14 0:08:40"
         ],
         "y": [
          8,
          8
         ]
        },
        {
         "marker": {
          "color": "white"
         },
         "name": "",
         "type": "scatter",
         "uid": "7bb88721-f3cb-4a57-a477-76470185d732",
         "x": [
          "2018-07-14 0:05:13",
          "2018-07-14 0:05:15"
         ],
         "y": [
          8,
          8
         ]
        },
        {
         "marker": {
          "color": "white"
         },
         "name": "",
         "type": "scatter",
         "uid": "38047ecf-14ec-42ed-803b-31397db55ce2",
         "x": [
          "2018-07-14 0:06:46",
          "2018-07-14 0:07:32"
         ],
         "y": [
          8,
          8
         ]
        },
        {
         "marker": {
          "color": "white"
         },
         "name": "",
         "type": "scatter",
         "uid": "5a9160ce-8dc6-4b04-96dc-1be338ca925c",
         "x": [
          "2018-07-14 0:07:32",
          "2018-07-14 0:08:18"
         ],
         "y": [
          8,
          8
         ]
        },
        {
         "marker": {
          "color": "white"
         },
         "name": "",
         "type": "scatter",
         "uid": "e635e717-6524-4c03-848e-aef94ea6a7c9",
         "x": [
          "2018-07-14 0:01:21",
          "2018-07-14 0:02:30"
         ],
         "y": [
          8,
          8
         ]
        },
        {
         "marker": {
          "color": "white"
         },
         "name": "",
         "type": "scatter",
         "uid": "93a620dd-b456-44c1-9f30-5b14b046468a",
         "x": [
          "2018-07-14 0:02:30",
          "2018-07-14 0:03:55"
         ],
         "y": [
          8,
          8
         ]
        },
        {
         "marker": {
          "color": "white"
         },
         "name": "",
         "type": "scatter",
         "uid": "535def6d-3529-4795-b6f0-d3a9e4ea9684",
         "x": [
          "2018-07-14 0:06:02",
          "2018-07-14 0:06:11"
         ],
         "y": [
          7,
          7
         ]
        },
        {
         "marker": {
          "color": "white"
         },
         "name": "",
         "type": "scatter",
         "uid": "bdd4fb27-219b-4a0f-862f-e97ced8e7ed9",
         "x": [
          "2018-07-14 0:07:26",
          "2018-07-14 0:08:56"
         ],
         "y": [
          7,
          7
         ]
        },
        {
         "marker": {
          "color": "white"
         },
         "name": "",
         "type": "scatter",
         "uid": "a33eb493-2791-4c65-85ab-52572740c1f4",
         "x": [
          "2018-07-14 0:11:24",
          "2018-07-14 0:12:38"
         ],
         "y": [
          7,
          7
         ]
        },
        {
         "marker": {
          "color": "white"
         },
         "name": "",
         "type": "scatter",
         "uid": "4f9ccd48-694b-4422-9031-46cefc22f92b",
         "x": [
          "2018-07-14 0:01:55",
          "2018-07-14 0:03:30"
         ],
         "y": [
          7,
          7
         ]
        },
        {
         "marker": {
          "color": "white"
         },
         "name": "",
         "type": "scatter",
         "uid": "e91b18a1-e8c3-4e1d-a8f8-8adc418d0c67",
         "x": [
          "2018-07-14 0:07:12",
          "2018-07-14 0:07:26"
         ],
         "y": [
          7,
          7
         ]
        },
        {
         "marker": {
          "color": "white"
         },
         "name": "",
         "type": "scatter",
         "uid": "1cbdaa7f-243f-4ebf-b390-d83befd9e364",
         "x": [
          "2018-07-14 0:00:00",
          "2018-07-14 0:01:24"
         ],
         "y": [
          7,
          7
         ]
        },
        {
         "marker": {
          "color": "white"
         },
         "name": "",
         "type": "scatter",
         "uid": "109a71d0-925a-40dc-a2bf-415503390f8e",
         "x": [
          "2018-07-14 0:09:19",
          "2018-07-14 0:09:32"
         ],
         "y": [
          7,
          7
         ]
        },
        {
         "marker": {
          "color": "white"
         },
         "name": "",
         "type": "scatter",
         "uid": "3faa255f-ab89-4d38-b6c4-7082aeb8b1f3",
         "x": [
          "2018-07-14 0:01:24",
          "2018-07-14 0:01:55"
         ],
         "y": [
          7,
          7
         ]
        },
        {
         "marker": {
          "color": "white"
         },
         "name": "",
         "type": "scatter",
         "uid": "99204ff3-cb41-498e-bb5e-415dd807e371",
         "x": [
          "2018-07-14 0:04:37",
          "2018-07-14 0:06:02"
         ],
         "y": [
          7,
          7
         ]
        },
        {
         "marker": {
          "color": "white"
         },
         "name": "",
         "type": "scatter",
         "uid": "1378348c-604b-4e6b-b5d7-8d810c5472e0",
         "x": [
          "2018-07-14 0:06:11",
          "2018-07-14 0:07:12"
         ],
         "y": [
          7,
          7
         ]
        },
        {
         "marker": {
          "color": "white"
         },
         "name": "",
         "type": "scatter",
         "uid": "ff940d82-cd48-4868-82a7-0bc7e80a5ffe",
         "x": [
          "2018-07-14 0:07:42",
          "2018-07-14 0:08:18"
         ],
         "y": [
          6,
          6
         ]
        },
        {
         "marker": {
          "color": "white"
         },
         "name": "",
         "type": "scatter",
         "uid": "735c7cad-ba6a-462d-9ade-a8953622771b",
         "x": [
          "2018-07-14 0:11:30",
          "2018-07-14 0:12:39"
         ],
         "y": [
          6,
          6
         ]
        },
        {
         "marker": {
          "color": "white"
         },
         "name": "",
         "type": "scatter",
         "uid": "eb19d0a9-1fda-4daf-9d2b-5b919415a16a",
         "x": [
          "2018-07-14 0:10:45",
          "2018-07-14 0:11:24"
         ],
         "y": [
          6,
          6
         ]
        },
        {
         "marker": {
          "color": "white"
         },
         "name": "",
         "type": "scatter",
         "uid": "38e7aa0a-4abb-4382-b328-0b774898767c",
         "x": [
          "2018-07-14 0:17:40",
          "2018-07-14 0:19:18"
         ],
         "y": [
          6,
          6
         ]
        },
        {
         "marker": {
          "color": "white"
         },
         "name": "",
         "type": "scatter",
         "uid": "50df4947-ebd0-465b-a249-d8698c88d39c",
         "x": [
          "2018-07-14 0:12:39",
          "2018-07-14 0:13:05"
         ],
         "y": [
          6,
          6
         ]
        },
        {
         "marker": {
          "color": "white"
         },
         "name": "",
         "type": "scatter",
         "uid": "4a5d1871-8099-4519-86b1-b75200c6a5d9",
         "x": [
          "2018-07-14 0:06:07",
          "2018-07-14 0:07:42"
         ],
         "y": [
          6,
          6
         ]
        },
        {
         "marker": {
          "color": "white"
         },
         "name": "",
         "type": "scatter",
         "uid": "afb3c5a3-cfd7-4afb-b68d-f5264004a3b8",
         "x": [
          "2018-07-14 0:08:18",
          "2018-07-14 0:09:19"
         ],
         "y": [
          6,
          6
         ]
        },
        {
         "marker": {
          "color": "white"
         },
         "name": "",
         "type": "scatter",
         "uid": "d26d4084-0164-43ff-a6c8-11275c1d2b7a",
         "x": [
          "2018-07-14 0:19:18",
          "2018-07-14 0:20:37"
         ],
         "y": [
          6,
          6
         ]
        },
        {
         "marker": {
          "color": "white"
         },
         "name": "",
         "type": "scatter",
         "uid": "2f08e4a7-d02a-4a75-872c-1d18dec3b560",
         "x": [
          "2018-07-14 0:02:30",
          "2018-07-14 0:03:46"
         ],
         "y": [
          6,
          6
         ]
        },
        {
         "marker": {
          "color": "white"
         },
         "name": "",
         "type": "scatter",
         "uid": "5dac8a95-ddc9-44bf-af44-bbfdac1d50a2",
         "x": [
          "2018-07-14 0:15:05",
          "2018-07-14 0:15:57"
         ],
         "y": [
          6,
          6
         ]
        },
        {
         "marker": {
          "color": "white"
         },
         "name": "",
         "type": "scatter",
         "uid": "88326087-007d-4515-bdb4-c09634c1c320",
         "x": [
          "2018-07-14 0:08:18",
          "2018-07-14 0:09:07"
         ],
         "y": [
          5,
          5
         ]
        },
        {
         "marker": {
          "color": "white"
         },
         "name": "",
         "type": "scatter",
         "uid": "61c40e08-2f28-4a2d-915b-0438f6c96567",
         "x": [
          "2018-07-14 0:10:04",
          "2018-07-14 0:11:19"
         ],
         "y": [
          5,
          5
         ]
        },
        {
         "marker": {
          "color": "white"
         },
         "name": "",
         "type": "scatter",
         "uid": "cb45e32c-925c-4797-bcc7-650da7f8e794",
         "x": [
          "2018-07-14 0:18:07",
          "2018-07-14 0:18:40"
         ],
         "y": [
          5,
          5
         ]
        },
        {
         "marker": {
          "color": "white"
         },
         "name": "",
         "type": "scatter",
         "uid": "0a4b7716-9a51-43b1-a110-4b807ca94094",
         "x": [
          "2018-07-14 0:11:19",
          "2018-07-14 0:12:58"
         ],
         "y": [
          5,
          5
         ]
        },
        {
         "marker": {
          "color": "white"
         },
         "name": "",
         "type": "scatter",
         "uid": "e9b04ce5-cbc9-49e8-9eae-905e7a081835",
         "x": [
          "2018-07-14 0:13:24",
          "2018-07-14 0:14:33"
         ],
         "y": [
          5,
          5
         ]
        },
        {
         "marker": {
          "color": "white"
         },
         "name": "",
         "type": "scatter",
         "uid": "ebd12c70-6323-4233-9183-17e313801a9b",
         "x": [
          "2018-07-14 0:18:01",
          "2018-07-14 0:18:07"
         ],
         "y": [
          5,
          5
         ]
        },
        {
         "marker": {
          "color": "white"
         },
         "name": "",
         "type": "scatter",
         "uid": "df78900f-f701-4e6e-baef-b8327ae2703e",
         "x": [
          "2018-07-14 0:20:23",
          "2018-07-14 0:21:18"
         ],
         "y": [
          5,
          5
         ]
        },
        {
         "marker": {
          "color": "white"
         },
         "name": "",
         "type": "scatter",
         "uid": "100abc5e-2773-4384-87f3-841413e4e350",
         "x": [
          "2018-07-14 0:09:32",
          "2018-07-14 0:10:04"
         ],
         "y": [
          5,
          5
         ]
        },
        {
         "marker": {
          "color": "white"
         },
         "name": "",
         "type": "scatter",
         "uid": "85b59171-9262-461b-aa4c-416cff34dc0c",
         "x": [
          "2018-07-14 0:12:58",
          "2018-07-14 0:13:24"
         ],
         "y": [
          5,
          5
         ]
        },
        {
         "marker": {
          "color": "white"
         },
         "name": "",
         "type": "scatter",
         "uid": "90e8ece8-4f6e-4b95-b307-f6e82034408e",
         "x": [
          "2018-07-14 0:15:57",
          "2018-07-14 0:17:27"
         ],
         "y": [
          5,
          5
         ]
        },
        {
         "marker": {
          "color": "white"
         },
         "name": "",
         "type": "scatter",
         "uid": "8016c82a-f0fe-4899-b5b8-7d0924d2c3f1",
         "x": [
          "2018-07-14 0:09:32",
          "2018-07-14 0:09:43"
         ],
         "y": [
          4,
          4
         ]
        },
        {
         "marker": {
          "color": "white"
         },
         "name": "",
         "type": "scatter",
         "uid": "2f28f8b0-9102-424e-9f61-b4585332455e",
         "x": [
          "2018-07-14 0:16:56",
          "2018-07-14 0:17:42"
         ],
         "y": [
          4,
          4
         ]
        },
        {
         "marker": {
          "color": "white"
         },
         "name": "",
         "type": "scatter",
         "uid": "28d8b4ba-6ef2-482f-84fc-aa4c2de23a7a",
         "x": [
          "2018-07-14 0:14:08",
          "2018-07-14 0:14:18"
         ],
         "y": [
          4,
          4
         ]
        },
        {
         "marker": {
          "color": "white"
         },
         "name": "",
         "type": "scatter",
         "uid": "edd765bb-393f-4e7f-a2ee-a31a55cbfb1a",
         "x": [
          "2018-07-14 0:19:40",
          "2018-07-14 0:20:23"
         ],
         "y": [
          4,
          4
         ]
        },
        {
         "marker": {
          "color": "white"
         },
         "name": "",
         "type": "scatter",
         "uid": "fcf203cf-3ccd-4127-acb7-6102b3a947cf",
         "x": [
          "2018-07-14 0:09:43",
          "2018-07-14 0:10:44"
         ],
         "y": [
          4,
          4
         ]
        },
        {
         "marker": {
          "color": "white"
         },
         "name": "",
         "type": "scatter",
         "uid": "90ffd6e2-31d2-41e2-9bb8-61a2897174d9",
         "x": [
          "2018-07-14 0:05:15",
          "2018-07-14 0:06:07"
         ],
         "y": [
          4,
          4
         ]
        },
        {
         "marker": {
          "color": "white"
         },
         "name": "",
         "type": "scatter",
         "uid": "5718d208-6143-4d2d-bb26-4ab812b8b4d6",
         "x": [
          "2018-07-14 0:15:05",
          "2018-07-14 0:15:26"
         ],
         "y": [
          4,
          4
         ]
        },
        {
         "marker": {
          "color": "white"
         },
         "name": "",
         "type": "scatter",
         "uid": "695d8ddd-ea57-4407-976f-e068afc0e2d8",
         "x": [
          "2018-07-14 0:08:18",
          "2018-07-14 0:09:32"
         ],
         "y": [
          4,
          4
         ]
        },
        {
         "marker": {
          "color": "white"
         },
         "name": "",
         "type": "scatter",
         "uid": "ceb3f2fc-f18d-4e60-926f-7f923de74a68",
         "x": [
          "2018-07-14 0:03:46",
          "2018-07-14 0:04:37"
         ],
         "y": [
          4,
          4
         ]
        },
        {
         "marker": {
          "color": "white"
         },
         "name": "",
         "type": "scatter",
         "uid": "da2299e6-9380-4b2f-be3f-0c46d4297883",
         "x": [
          "2018-07-14 0:14:18",
          "2018-07-14 0:15:05"
         ],
         "y": [
          4,
          4
         ]
        },
        {
         "marker": {
          "color": "white"
         },
         "name": "",
         "type": "scatter",
         "uid": "03c1073d-d3dc-45ff-9fe9-8ca538222c24",
         "x": [
          "2018-07-14 0:13:07",
          "2018-07-14 0:14:09"
         ],
         "y": [
          3,
          3
         ]
        },
        {
         "marker": {
          "color": "white"
         },
         "name": "",
         "type": "scatter",
         "uid": "9d2120c2-0083-4002-a1eb-318d0c25a306",
         "x": [
          "2018-07-14 0:16:10",
          "2018-07-14 0:16:56"
         ],
         "y": [
          3,
          3
         ]
        },
        {
         "marker": {
          "color": "white"
         },
         "name": "",
         "type": "scatter",
         "uid": "f32841c7-9e6f-4357-ad23-46d322c6647d",
         "x": [
          "2018-07-14 0:14:41",
          "2018-07-14 0:16:10"
         ],
         "y": [
          3,
          3
         ]
        },
        {
         "marker": {
          "color": "white"
         },
         "name": "",
         "type": "scatter",
         "uid": "02a2726e-447a-43c6-be8f-746847e5fa2d",
         "x": [
          "2018-07-14 0:12:58",
          "2018-07-14 0:13:07"
         ],
         "y": [
          3,
          3
         ]
        },
        {
         "marker": {
          "color": "white"
         },
         "name": "",
         "type": "scatter",
         "uid": "c4bfeb3d-a036-4b53-a576-2fe6cb9a47f2",
         "x": [
          "2018-07-14 0:18:39",
          "2018-07-14 0:19:32"
         ],
         "y": [
          3,
          3
         ]
        },
        {
         "marker": {
          "color": "white"
         },
         "name": "",
         "type": "scatter",
         "uid": "a2c7743a-0fbc-4ff5-81c3-c7914e9655f8",
         "x": [
          "2018-07-14 0:16:56",
          "2018-07-14 0:18:01"
         ],
         "y": [
          3,
          3
         ]
        },
        {
         "marker": {
          "color": "white"
         },
         "name": "",
         "type": "scatter",
         "uid": "271214ac-2d34-420f-a556-f7f67da26aec",
         "x": [
          "2018-07-14 0:14:09",
          "2018-07-14 0:14:41"
         ],
         "y": [
          3,
          3
         ]
        },
        {
         "marker": {
          "color": "white"
         },
         "name": "",
         "type": "scatter",
         "uid": "69d15d86-d9c8-483c-ac53-6a85f7fd8af7",
         "x": [
          "2018-07-14 0:10:04",
          "2018-07-14 0:11:32"
         ],
         "y": [
          3,
          3
         ]
        },
        {
         "marker": {
          "color": "white"
         },
         "name": "",
         "type": "scatter",
         "uid": "669ec664-98d5-40e1-a0ab-a4bc0fe04ac6",
         "x": [
          "2018-07-14 0:07:19",
          "2018-07-14 0:07:59"
         ],
         "y": [
          3,
          3
         ]
        },
        {
         "marker": {
          "color": "white"
         },
         "name": "",
         "type": "scatter",
         "uid": "1c1c685f-67a2-4298-95d7-512acb3258a8",
         "x": [
          "2018-07-14 0:07:12",
          "2018-07-14 0:07:19"
         ],
         "y": [
          3,
          3
         ]
        },
        {
         "marker": {
          "color": "white"
         },
         "name": "",
         "type": "scatter",
         "uid": "32a4fdcf-64cf-4f4c-8de7-57496827df4a",
         "x": [
          "2018-07-14 0:14:30",
          "2018-07-14 0:15:26"
         ],
         "y": [
          2,
          2
         ]
        },
        {
         "marker": {
          "color": "white"
         },
         "name": "",
         "type": "scatter",
         "uid": "cc468e12-6719-4bef-bff9-098b4f1fd682",
         "x": [
          "2018-07-14 0:18:41",
          "2018-07-14 0:19:53"
         ],
         "y": [
          2,
          2
         ]
        },
        {
         "marker": {
          "color": "white"
         },
         "name": "",
         "type": "scatter",
         "uid": "22d22882-8b17-4261-bb42-50787527d71b",
         "x": [
          "2018-07-14 0:14:18",
          "2018-07-14 0:14:30"
         ],
         "y": [
          2,
          2
         ]
        },
        {
         "marker": {
          "color": "white"
         },
         "name": "",
         "type": "scatter",
         "uid": "e0998c3e-19ca-40b8-87fc-d365afbb870d",
         "x": [
          "2018-07-14 0:16:15",
          "2018-07-14 0:17:40"
         ],
         "y": [
          2,
          2
         ]
        },
        {
         "marker": {
          "color": "white"
         },
         "name": "",
         "type": "scatter",
         "uid": "e0b304af-300f-4197-bfe2-5f371de5a98d",
         "x": [
          "2018-07-14 0:15:26",
          "2018-07-14 0:16:15"
         ],
         "y": [
          2,
          2
         ]
        },
        {
         "marker": {
          "color": "white"
         },
         "name": "",
         "type": "scatter",
         "uid": "4e0f689b-23c6-4ea4-8d3b-d483f2a7a345",
         "x": [
          "2018-07-14 0:18:16",
          "2018-07-14 0:18:41"
         ],
         "y": [
          2,
          2
         ]
        },
        {
         "marker": {
          "color": "white"
         },
         "name": "",
         "type": "scatter",
         "uid": "eca8c632-f437-43b4-b72c-126e098547d2",
         "x": [
          "2018-07-14 0:19:53",
          "2018-07-14 0:20:23"
         ],
         "y": [
          2,
          2
         ]
        },
        {
         "marker": {
          "color": "white"
         },
         "name": "",
         "type": "scatter",
         "uid": "4dacb12d-9bfd-4f28-9e34-d659c3ebe60b",
         "x": [
          "2018-07-14 0:17:40",
          "2018-07-14 0:18:16"
         ],
         "y": [
          2,
          2
         ]
        },
        {
         "marker": {
          "color": "white"
         },
         "name": "",
         "type": "scatter",
         "uid": "10489537-bb0a-4ef2-af7a-a9794b687a26",
         "x": [
          "2018-07-14 0:07:59",
          "2018-07-14 0:09:28"
         ],
         "y": [
          2,
          2
         ]
        },
        {
         "marker": {
          "color": "white"
         },
         "name": "",
         "type": "scatter",
         "uid": "2ad2d919-613f-4931-9a05-028c077a29ac",
         "x": [
          "2018-07-14 0:20:23",
          "2018-07-14 0:21:08"
         ],
         "y": [
          2,
          2
         ]
        },
        {
         "marker": {
          "color": "white"
         },
         "name": "",
         "type": "scatter",
         "uid": "2ae41315-cf1e-4a0c-8e54-efc0edd3feb5",
         "x": [
          "2018-07-14 0:15:26",
          "2018-07-14 0:16:10"
         ],
         "y": [
          1,
          1
         ]
        },
        {
         "marker": {
          "color": "white"
         },
         "name": "",
         "type": "scatter",
         "uid": "f7cb7d0d-6ca1-4381-897e-9987c8d96c20",
         "x": [
          "2018-07-14 0:20:10",
          "2018-07-14 0:20:40"
         ],
         "y": [
          1,
          1
         ]
        },
        {
         "marker": {
          "color": "white"
         },
         "name": "",
         "type": "scatter",
         "uid": "2a284979-2ef2-4234-8f23-e28ff65788da",
         "x": [
          "2018-07-14 0:12:38",
          "2018-07-14 0:14:08"
         ],
         "y": [
          1,
          1
         ]
        },
        {
         "marker": {
          "color": "white"
         },
         "name": "",
         "type": "scatter",
         "uid": "66bab324-71ea-4df1-9ced-ce9defbccc83",
         "x": [
          "2018-07-14 0:14:08",
          "2018-07-14 0:15:00"
         ],
         "y": [
          1,
          1
         ]
        },
        {
         "marker": {
          "color": "white"
         },
         "name": "",
         "type": "scatter",
         "uid": "e223192b-936d-4c70-9f53-8b8d2c983659",
         "x": [
          "2018-07-14 0:15:00",
          "2018-07-14 0:15:21"
         ],
         "y": [
          1,
          1
         ]
        },
        {
         "marker": {
          "color": "white"
         },
         "name": "",
         "type": "scatter",
         "uid": "8b5cf077-5c60-4444-ba02-b112691496b5",
         "x": [
          "2018-07-14 0:07:42",
          "2018-07-14 0:08:30"
         ],
         "y": [
          1,
          1
         ]
        },
        {
         "marker": {
          "color": "white"
         },
         "name": "",
         "type": "scatter",
         "uid": "d2b1327e-7dab-45ba-9c6d-3b0d0449d788",
         "x": [
          "2018-07-14 0:17:27",
          "2018-07-14 0:18:56"
         ],
         "y": [
          1,
          1
         ]
        },
        {
         "marker": {
          "color": "white"
         },
         "name": "",
         "type": "scatter",
         "uid": "3703d4d6-32bf-40dd-8881-f970af91ce5b",
         "x": [
          "2018-07-14 0:11:32",
          "2018-07-14 0:11:51"
         ],
         "y": [
          1,
          1
         ]
        },
        {
         "marker": {
          "color": "white"
         },
         "name": "",
         "type": "scatter",
         "uid": "0f10f232-bc96-4ff9-93b2-ac9b949bca22",
         "x": [
          "2018-07-14 0:18:56",
          "2018-07-14 0:20:10"
         ],
         "y": [
          1,
          1
         ]
        },
        {
         "marker": {
          "color": "white"
         },
         "name": "",
         "type": "scatter",
         "uid": "368ccf13-0b12-4491-9dbb-735c421be182",
         "x": [
          "2018-07-14 0:08:30",
          "2018-07-14 0:09:34"
         ],
         "y": [
          1,
          1
         ]
        },
        {
         "marker": {
          "color": "white"
         },
         "name": "",
         "type": "scatter",
         "uid": "27536f0b-37d4-4bb6-9e2f-af92119aaabe",
         "x": [
          "2018-07-14 0:19:40",
          "2018-07-14 0:20:01"
         ],
         "y": [
          0,
          0
         ]
        },
        {
         "marker": {
          "color": "white"
         },
         "name": "",
         "type": "scatter",
         "uid": "e01fa5d1-0c63-488d-b936-10257d8aaf20",
         "x": [
          "2018-07-14 0:11:19",
          "2018-07-14 0:11:30"
         ],
         "y": [
          0,
          0
         ]
        },
        {
         "marker": {
          "color": "white"
         },
         "name": "",
         "type": "scatter",
         "uid": "56b13de2-cb4c-4f10-9063-a40f60d811e7",
         "x": [
          "2018-07-14 0:16:10",
          "2018-07-14 0:16:55"
         ],
         "y": [
          0,
          0
         ]
        },
        {
         "marker": {
          "color": "white"
         },
         "name": "",
         "type": "scatter",
         "uid": "7bbca9fa-17a3-4bff-bef3-f2af4349a377",
         "x": [
          "2018-07-14 0:19:18",
          "2018-07-14 0:19:40"
         ],
         "y": [
          0,
          0
         ]
        },
        {
         "marker": {
          "color": "white"
         },
         "name": "",
         "type": "scatter",
         "uid": "2aa048c6-0c15-4be6-8677-b30a6f106da5",
         "x": [
          "2018-07-14 0:17:27",
          "2018-07-14 0:18:39"
         ],
         "y": [
          0,
          0
         ]
        },
        {
         "marker": {
          "color": "white"
         },
         "name": "",
         "type": "scatter",
         "uid": "0f70a921-1b8b-4199-bd06-b5d9481020ca",
         "x": [
          "2018-07-14 0:13:55",
          "2018-07-14 0:15:07"
         ],
         "y": [
          0,
          0
         ]
        },
        {
         "marker": {
          "color": "white"
         },
         "name": "",
         "type": "scatter",
         "uid": "b3bffa6c-8a80-47c0-8617-37a90e143835",
         "x": [
          "2018-07-14 0:16:55",
          "2018-07-14 0:17:27"
         ],
         "y": [
          0,
          0
         ]
        },
        {
         "marker": {
          "color": "white"
         },
         "name": "",
         "type": "scatter",
         "uid": "bfc65de4-773c-4d28-9908-545307a36534",
         "x": [
          "2018-07-14 0:11:51",
          "2018-07-14 0:12:39"
         ],
         "y": [
          0,
          0
         ]
        },
        {
         "marker": {
          "color": "white"
         },
         "name": "",
         "type": "scatter",
         "uid": "879d1359-913a-4830-9f27-646107e9d8ff",
         "x": [
          "2018-07-14 0:06:02",
          "2018-07-14 0:06:13"
         ],
         "y": [
          0,
          0
         ]
        },
        {
         "marker": {
          "color": "white"
         },
         "name": "",
         "type": "scatter",
         "uid": "a523ef98-2820-4656-89cd-863565622e24",
         "x": [
          "2018-07-14 0:12:39",
          "2018-07-14 0:13:55"
         ],
         "y": [
          0,
          0
         ]
        },
        {
         "hoverinfo": "none",
         "marker": {
          "color": "rgb(31, 119, 180)",
          "size": 1
         },
         "name": "Job 1",
         "showlegend": true,
         "type": "scatter",
         "uid": "43942c1d-74c0-4c56-aa38-ebd9b1affd3e",
         "x": [
          "2018-07-14 0:12:39",
          "2018-07-14 0:12:39"
         ],
         "y": [
          0,
          0
         ]
        },
        {
         "hoverinfo": "none",
         "marker": {
          "color": "rgb(255, 127, 14)",
          "size": 1
         },
         "name": "Job 10",
         "showlegend": true,
         "type": "scatter",
         "uid": "84d263c3-39e2-48fe-ba0f-e9f16a44c795",
         "x": [
          "2018-07-14 0:12:39",
          "2018-07-14 0:12:39"
         ],
         "y": [
          1,
          1
         ]
        },
        {
         "hoverinfo": "none",
         "marker": {
          "color": "rgb(44, 160, 44)",
          "size": 1
         },
         "name": "Job 2",
         "showlegend": true,
         "type": "scatter",
         "uid": "e5ef2392-6119-47a4-98f5-fb04c0818a9f",
         "x": [
          "2018-07-14 0:12:39",
          "2018-07-14 0:12:39"
         ],
         "y": [
          2,
          2
         ]
        },
        {
         "hoverinfo": "none",
         "marker": {
          "color": "rgb(214, 39, 40)",
          "size": 1
         },
         "name": "Job 3",
         "showlegend": true,
         "type": "scatter",
         "uid": "2d977e2a-9cd3-4bba-b2ab-f538387ee12b",
         "x": [
          "2018-07-14 0:12:39",
          "2018-07-14 0:12:39"
         ],
         "y": [
          3,
          3
         ]
        },
        {
         "hoverinfo": "none",
         "marker": {
          "color": "rgb(148, 103, 189)",
          "size": 1
         },
         "name": "Job 4",
         "showlegend": true,
         "type": "scatter",
         "uid": "bae938b0-5f63-47f8-8a35-f1df11e0b91b",
         "x": [
          "2018-07-14 0:12:39",
          "2018-07-14 0:12:39"
         ],
         "y": [
          4,
          4
         ]
        },
        {
         "hoverinfo": "none",
         "marker": {
          "color": "rgb(140, 86, 75)",
          "size": 1
         },
         "name": "Job 5",
         "showlegend": true,
         "type": "scatter",
         "uid": "9c292416-2187-4389-9af7-96e393765c43",
         "x": [
          "2018-07-14 0:12:39",
          "2018-07-14 0:12:39"
         ],
         "y": [
          5,
          5
         ]
        },
        {
         "hoverinfo": "none",
         "marker": {
          "color": "rgb(227, 119, 194)",
          "size": 1
         },
         "name": "Job 6",
         "showlegend": true,
         "type": "scatter",
         "uid": "3a8495e4-4514-4231-937d-128e6a08d5fa",
         "x": [
          "2018-07-14 0:12:39",
          "2018-07-14 0:12:39"
         ],
         "y": [
          6,
          6
         ]
        },
        {
         "hoverinfo": "none",
         "marker": {
          "color": "rgb(127, 127, 127)",
          "size": 1
         },
         "name": "Job 7",
         "showlegend": true,
         "type": "scatter",
         "uid": "5740e966-d5a5-43bc-b7ad-15e342dc7184",
         "x": [
          "2018-07-14 0:12:39",
          "2018-07-14 0:12:39"
         ],
         "y": [
          7,
          7
         ]
        },
        {
         "hoverinfo": "none",
         "marker": {
          "color": "rgb(188, 189, 34)",
          "size": 1
         },
         "name": "Job 8",
         "showlegend": true,
         "type": "scatter",
         "uid": "11b7a7ba-9e12-430c-9e03-b4abd8f2ccde",
         "x": [
          "2018-07-14 0:12:39",
          "2018-07-14 0:12:39"
         ],
         "y": [
          8,
          8
         ]
        },
        {
         "hoverinfo": "none",
         "marker": {
          "color": "rgb(23, 190, 207)",
          "size": 1
         },
         "name": "Job 9",
         "showlegend": true,
         "type": "scatter",
         "uid": "87085c43-2c9f-4c98-9c44-6c9087fb9f30",
         "x": [
          "2018-07-14 0:12:39",
          "2018-07-14 0:12:39"
         ],
         "y": [
          9,
          9
         ]
        }
       ],
       "layout": {
        "height": 600,
        "hovermode": "closest",
        "shapes": [
         {
          "fillcolor": "rgb(31, 119, 180)",
          "line": {
           "width": 0
          },
          "opacity": 1,
          "type": "rect",
          "x0": "2018-07-14 0:01:16",
          "x1": "2018-07-14 0:01:45",
          "xref": "x",
          "y0": 8.8,
          "y1": 9.2,
          "yref": "y"
         },
         {
          "fillcolor": "rgb(44, 160, 44)",
          "line": {
           "width": 0
          },
          "opacity": 1,
          "type": "rect",
          "x0": "2018-07-14 0:05:34",
          "x1": "2018-07-14 0:06:17",
          "xref": "x",
          "y0": 8.8,
          "y1": 9.2,
          "yref": "y"
         },
         {
          "fillcolor": "rgb(214, 39, 40)",
          "line": {
           "width": 0
          },
          "opacity": 1,
          "type": "rect",
          "x0": "2018-07-14 0:09:20",
          "x1": "2018-07-14 0:10:45",
          "xref": "x",
          "y0": 8.8,
          "y1": 9.2,
          "yref": "y"
         },
         {
          "fillcolor": "rgb(148, 103, 189)",
          "line": {
           "width": 0
          },
          "opacity": 1,
          "type": "rect",
          "x0": "2018-07-14 0:08:09",
          "x1": "2018-07-14 0:09:20",
          "xref": "x",
          "y0": 8.8,
          "y1": 9.2,
          "yref": "y"
         },
         {
          "fillcolor": "rgb(140, 86, 75)",
          "line": {
           "width": 0
          },
          "opacity": 1,
          "type": "rect",
          "x0": "2018-07-14 0:07:26",
          "x1": "2018-07-14 0:07:32",
          "xref": "x",
          "y0": 8.8,
          "y1": 9.2,
          "yref": "y"
         },
         {
          "fillcolor": "rgb(227, 119, 194)",
          "line": {
           "width": 0
          },
          "opacity": 1,
          "type": "rect",
          "x0": "2018-07-14 0:15:07",
          "x1": "2018-07-14 0:15:54",
          "xref": "x",
          "y0": 8.8,
          "y1": 9.2,
          "yref": "y"
         },
         {
          "fillcolor": "rgb(127, 127, 127)",
          "line": {
           "width": 0
          },
          "opacity": 1,
          "type": "rect",
          "x0": "2018-07-14 0:07:32",
          "x1": "2018-07-14 0:08:09",
          "xref": "x",
          "y0": 8.8,
          "y1": 9.2,
          "yref": "y"
         },
         {
          "fillcolor": "rgb(188, 189, 34)",
          "line": {
           "width": 0
          },
          "opacity": 1,
          "type": "rect",
          "x0": "2018-07-14 0:04:08",
          "x1": "2018-07-14 0:05:34",
          "xref": "x",
          "y0": 8.8,
          "y1": 9.2,
          "yref": "y"
         },
         {
          "fillcolor": "rgb(23, 190, 207)",
          "line": {
           "width": 0
          },
          "opacity": 1,
          "type": "rect",
          "x0": "2018-07-14 0:00:00",
          "x1": "2018-07-14 0:01:16",
          "xref": "x",
          "y0": 8.8,
          "y1": 9.2,
          "yref": "y"
         },
         {
          "fillcolor": "rgb(255, 127, 14)",
          "line": {
           "width": 0
          },
          "opacity": 1,
          "type": "rect",
          "x0": "2018-07-14 0:03:55",
          "x1": "2018-07-14 0:04:08",
          "xref": "x",
          "y0": 8.8,
          "y1": 9.2,
          "yref": "y"
         },
         {
          "fillcolor": "rgb(31, 119, 180)",
          "line": {
           "width": 0
          },
          "opacity": 1,
          "type": "rect",
          "x0": "2018-07-14 0:03:55",
          "x1": "2018-07-14 0:05:13",
          "xref": "x",
          "y0": 7.8,
          "y1": 8.2,
          "yref": "y"
         },
         {
          "fillcolor": "rgb(44, 160, 44)",
          "line": {
           "width": 0
          },
          "opacity": 1,
          "type": "rect",
          "x0": "2018-07-14 0:12:39",
          "x1": "2018-07-14 0:13:07",
          "xref": "x",
          "y0": 7.8,
          "y1": 8.2,
          "yref": "y"
         },
         {
          "fillcolor": "rgb(214, 39, 40)",
          "line": {
           "width": 0
          },
          "opacity": 1,
          "type": "rect",
          "x0": "2018-07-14 0:05:15",
          "x1": "2018-07-14 0:06:46",
          "xref": "x",
          "y0": 7.8,
          "y1": 8.2,
          "yref": "y"
         },
         {
          "fillcolor": "rgb(148, 103, 189)",
          "line": {
           "width": 0
          },
          "opacity": 1,
          "type": "rect",
          "x0": "2018-07-14 0:00:00",
          "x1": "2018-07-14 0:01:21",
          "xref": "x",
          "y0": 7.8,
          "y1": 8.2,
          "yref": "y"
         },
         {
          "fillcolor": "rgb(140, 86, 75)",
          "line": {
           "width": 0
          },
          "opacity": 1,
          "type": "rect",
          "x0": "2018-07-14 0:08:18",
          "x1": "2018-07-14 0:08:40",
          "xref": "x",
          "y0": 7.8,
          "y1": 8.2,
          "yref": "y"
         },
         {
          "fillcolor": "rgb(227, 119, 194)",
          "line": {
           "width": 0
          },
          "opacity": 1,
          "type": "rect",
          "x0": "2018-07-14 0:05:13",
          "x1": "2018-07-14 0:05:15",
          "xref": "x",
          "y0": 7.8,
          "y1": 8.2,
          "yref": "y"
         },
         {
          "fillcolor": "rgb(127, 127, 127)",
          "line": {
           "width": 0
          },
          "opacity": 1,
          "type": "rect",
          "x0": "2018-07-14 0:06:46",
          "x1": "2018-07-14 0:07:32",
          "xref": "x",
          "y0": 7.8,
          "y1": 8.2,
          "yref": "y"
         },
         {
          "fillcolor": "rgb(188, 189, 34)",
          "line": {
           "width": 0
          },
          "opacity": 1,
          "type": "rect",
          "x0": "2018-07-14 0:07:32",
          "x1": "2018-07-14 0:08:18",
          "xref": "x",
          "y0": 7.8,
          "y1": 8.2,
          "yref": "y"
         },
         {
          "fillcolor": "rgb(23, 190, 207)",
          "line": {
           "width": 0
          },
          "opacity": 1,
          "type": "rect",
          "x0": "2018-07-14 0:01:21",
          "x1": "2018-07-14 0:02:30",
          "xref": "x",
          "y0": 7.8,
          "y1": 8.2,
          "yref": "y"
         },
         {
          "fillcolor": "rgb(255, 127, 14)",
          "line": {
           "width": 0
          },
          "opacity": 1,
          "type": "rect",
          "x0": "2018-07-14 0:02:30",
          "x1": "2018-07-14 0:03:55",
          "xref": "x",
          "y0": 7.8,
          "y1": 8.2,
          "yref": "y"
         },
         {
          "fillcolor": "rgb(31, 119, 180)",
          "line": {
           "width": 0
          },
          "opacity": 1,
          "type": "rect",
          "x0": "2018-07-14 0:06:02",
          "x1": "2018-07-14 0:06:11",
          "xref": "x",
          "y0": 6.8,
          "y1": 7.2,
          "yref": "y"
         },
         {
          "fillcolor": "rgb(44, 160, 44)",
          "line": {
           "width": 0
          },
          "opacity": 1,
          "type": "rect",
          "x0": "2018-07-14 0:07:26",
          "x1": "2018-07-14 0:08:56",
          "xref": "x",
          "y0": 6.8,
          "y1": 7.2,
          "yref": "y"
         },
         {
          "fillcolor": "rgb(214, 39, 40)",
          "line": {
           "width": 0
          },
          "opacity": 1,
          "type": "rect",
          "x0": "2018-07-14 0:11:24",
          "x1": "2018-07-14 0:12:38",
          "xref": "x",
          "y0": 6.8,
          "y1": 7.2,
          "yref": "y"
         },
         {
          "fillcolor": "rgb(148, 103, 189)",
          "line": {
           "width": 0
          },
          "opacity": 1,
          "type": "rect",
          "x0": "2018-07-14 0:01:55",
          "x1": "2018-07-14 0:03:30",
          "xref": "x",
          "y0": 6.8,
          "y1": 7.2,
          "yref": "y"
         },
         {
          "fillcolor": "rgb(140, 86, 75)",
          "line": {
           "width": 0
          },
          "opacity": 1,
          "type": "rect",
          "x0": "2018-07-14 0:07:12",
          "x1": "2018-07-14 0:07:26",
          "xref": "x",
          "y0": 6.8,
          "y1": 7.2,
          "yref": "y"
         },
         {
          "fillcolor": "rgb(227, 119, 194)",
          "line": {
           "width": 0
          },
          "opacity": 1,
          "type": "rect",
          "x0": "2018-07-14 0:00:00",
          "x1": "2018-07-14 0:01:24",
          "xref": "x",
          "y0": 6.8,
          "y1": 7.2,
          "yref": "y"
         },
         {
          "fillcolor": "rgb(127, 127, 127)",
          "line": {
           "width": 0
          },
          "opacity": 1,
          "type": "rect",
          "x0": "2018-07-14 0:09:19",
          "x1": "2018-07-14 0:09:32",
          "xref": "x",
          "y0": 6.8,
          "y1": 7.2,
          "yref": "y"
         },
         {
          "fillcolor": "rgb(188, 189, 34)",
          "line": {
           "width": 0
          },
          "opacity": 1,
          "type": "rect",
          "x0": "2018-07-14 0:01:24",
          "x1": "2018-07-14 0:01:55",
          "xref": "x",
          "y0": 6.8,
          "y1": 7.2,
          "yref": "y"
         },
         {
          "fillcolor": "rgb(23, 190, 207)",
          "line": {
           "width": 0
          },
          "opacity": 1,
          "type": "rect",
          "x0": "2018-07-14 0:04:37",
          "x1": "2018-07-14 0:06:02",
          "xref": "x",
          "y0": 6.8,
          "y1": 7.2,
          "yref": "y"
         },
         {
          "fillcolor": "rgb(255, 127, 14)",
          "line": {
           "width": 0
          },
          "opacity": 1,
          "type": "rect",
          "x0": "2018-07-14 0:06:11",
          "x1": "2018-07-14 0:07:12",
          "xref": "x",
          "y0": 6.8,
          "y1": 7.2,
          "yref": "y"
         },
         {
          "fillcolor": "rgb(31, 119, 180)",
          "line": {
           "width": 0
          },
          "opacity": 1,
          "type": "rect",
          "x0": "2018-07-14 0:07:42",
          "x1": "2018-07-14 0:08:18",
          "xref": "x",
          "y0": 5.8,
          "y1": 6.2,
          "yref": "y"
         },
         {
          "fillcolor": "rgb(44, 160, 44)",
          "line": {
           "width": 0
          },
          "opacity": 1,
          "type": "rect",
          "x0": "2018-07-14 0:11:30",
          "x1": "2018-07-14 0:12:39",
          "xref": "x",
          "y0": 5.8,
          "y1": 6.2,
          "yref": "y"
         },
         {
          "fillcolor": "rgb(214, 39, 40)",
          "line": {
           "width": 0
          },
          "opacity": 1,
          "type": "rect",
          "x0": "2018-07-14 0:10:45",
          "x1": "2018-07-14 0:11:24",
          "xref": "x",
          "y0": 5.8,
          "y1": 6.2,
          "yref": "y"
         },
         {
          "fillcolor": "rgb(148, 103, 189)",
          "line": {
           "width": 0
          },
          "opacity": 1,
          "type": "rect",
          "x0": "2018-07-14 0:17:40",
          "x1": "2018-07-14 0:19:18",
          "xref": "x",
          "y0": 5.8,
          "y1": 6.2,
          "yref": "y"
         },
         {
          "fillcolor": "rgb(140, 86, 75)",
          "line": {
           "width": 0
          },
          "opacity": 1,
          "type": "rect",
          "x0": "2018-07-14 0:12:39",
          "x1": "2018-07-14 0:13:05",
          "xref": "x",
          "y0": 5.8,
          "y1": 6.2,
          "yref": "y"
         },
         {
          "fillcolor": "rgb(227, 119, 194)",
          "line": {
           "width": 0
          },
          "opacity": 1,
          "type": "rect",
          "x0": "2018-07-14 0:06:07",
          "x1": "2018-07-14 0:07:42",
          "xref": "x",
          "y0": 5.8,
          "y1": 6.2,
          "yref": "y"
         },
         {
          "fillcolor": "rgb(127, 127, 127)",
          "line": {
           "width": 0
          },
          "opacity": 1,
          "type": "rect",
          "x0": "2018-07-14 0:08:18",
          "x1": "2018-07-14 0:09:19",
          "xref": "x",
          "y0": 5.8,
          "y1": 6.2,
          "yref": "y"
         },
         {
          "fillcolor": "rgb(188, 189, 34)",
          "line": {
           "width": 0
          },
          "opacity": 1,
          "type": "rect",
          "x0": "2018-07-14 0:19:18",
          "x1": "2018-07-14 0:20:37",
          "xref": "x",
          "y0": 5.8,
          "y1": 6.2,
          "yref": "y"
         },
         {
          "fillcolor": "rgb(23, 190, 207)",
          "line": {
           "width": 0
          },
          "opacity": 1,
          "type": "rect",
          "x0": "2018-07-14 0:02:30",
          "x1": "2018-07-14 0:03:46",
          "xref": "x",
          "y0": 5.8,
          "y1": 6.2,
          "yref": "y"
         },
         {
          "fillcolor": "rgb(255, 127, 14)",
          "line": {
           "width": 0
          },
          "opacity": 1,
          "type": "rect",
          "x0": "2018-07-14 0:15:05",
          "x1": "2018-07-14 0:15:57",
          "xref": "x",
          "y0": 5.8,
          "y1": 6.2,
          "yref": "y"
         },
         {
          "fillcolor": "rgb(31, 119, 180)",
          "line": {
           "width": 0
          },
          "opacity": 1,
          "type": "rect",
          "x0": "2018-07-14 0:08:18",
          "x1": "2018-07-14 0:09:07",
          "xref": "x",
          "y0": 4.8,
          "y1": 5.2,
          "yref": "y"
         },
         {
          "fillcolor": "rgb(44, 160, 44)",
          "line": {
           "width": 0
          },
          "opacity": 1,
          "type": "rect",
          "x0": "2018-07-14 0:10:04",
          "x1": "2018-07-14 0:11:19",
          "xref": "x",
          "y0": 4.8,
          "y1": 5.2,
          "yref": "y"
         },
         {
          "fillcolor": "rgb(214, 39, 40)",
          "line": {
           "width": 0
          },
          "opacity": 1,
          "type": "rect",
          "x0": "2018-07-14 0:18:07",
          "x1": "2018-07-14 0:18:40",
          "xref": "x",
          "y0": 4.8,
          "y1": 5.2,
          "yref": "y"
         },
         {
          "fillcolor": "rgb(148, 103, 189)",
          "line": {
           "width": 0
          },
          "opacity": 1,
          "type": "rect",
          "x0": "2018-07-14 0:11:19",
          "x1": "2018-07-14 0:12:58",
          "xref": "x",
          "y0": 4.8,
          "y1": 5.2,
          "yref": "y"
         },
         {
          "fillcolor": "rgb(140, 86, 75)",
          "line": {
           "width": 0
          },
          "opacity": 1,
          "type": "rect",
          "x0": "2018-07-14 0:13:24",
          "x1": "2018-07-14 0:14:33",
          "xref": "x",
          "y0": 4.8,
          "y1": 5.2,
          "yref": "y"
         },
         {
          "fillcolor": "rgb(227, 119, 194)",
          "line": {
           "width": 0
          },
          "opacity": 1,
          "type": "rect",
          "x0": "2018-07-14 0:18:01",
          "x1": "2018-07-14 0:18:07",
          "xref": "x",
          "y0": 4.8,
          "y1": 5.2,
          "yref": "y"
         },
         {
          "fillcolor": "rgb(127, 127, 127)",
          "line": {
           "width": 0
          },
          "opacity": 1,
          "type": "rect",
          "x0": "2018-07-14 0:20:23",
          "x1": "2018-07-14 0:21:18",
          "xref": "x",
          "y0": 4.8,
          "y1": 5.2,
          "yref": "y"
         },
         {
          "fillcolor": "rgb(188, 189, 34)",
          "line": {
           "width": 0
          },
          "opacity": 1,
          "type": "rect",
          "x0": "2018-07-14 0:09:32",
          "x1": "2018-07-14 0:10:04",
          "xref": "x",
          "y0": 4.8,
          "y1": 5.2,
          "yref": "y"
         },
         {
          "fillcolor": "rgb(23, 190, 207)",
          "line": {
           "width": 0
          },
          "opacity": 1,
          "type": "rect",
          "x0": "2018-07-14 0:12:58",
          "x1": "2018-07-14 0:13:24",
          "xref": "x",
          "y0": 4.8,
          "y1": 5.2,
          "yref": "y"
         },
         {
          "fillcolor": "rgb(255, 127, 14)",
          "line": {
           "width": 0
          },
          "opacity": 1,
          "type": "rect",
          "x0": "2018-07-14 0:15:57",
          "x1": "2018-07-14 0:17:27",
          "xref": "x",
          "y0": 4.8,
          "y1": 5.2,
          "yref": "y"
         },
         {
          "fillcolor": "rgb(31, 119, 180)",
          "line": {
           "width": 0
          },
          "opacity": 1,
          "type": "rect",
          "x0": "2018-07-14 0:09:32",
          "x1": "2018-07-14 0:09:43",
          "xref": "x",
          "y0": 3.8,
          "y1": 4.2,
          "yref": "y"
         },
         {
          "fillcolor": "rgb(44, 160, 44)",
          "line": {
           "width": 0
          },
          "opacity": 1,
          "type": "rect",
          "x0": "2018-07-14 0:16:56",
          "x1": "2018-07-14 0:17:42",
          "xref": "x",
          "y0": 3.8,
          "y1": 4.2,
          "yref": "y"
         },
         {
          "fillcolor": "rgb(214, 39, 40)",
          "line": {
           "width": 0
          },
          "opacity": 1,
          "type": "rect",
          "x0": "2018-07-14 0:14:08",
          "x1": "2018-07-14 0:14:18",
          "xref": "x",
          "y0": 3.8,
          "y1": 4.2,
          "yref": "y"
         },
         {
          "fillcolor": "rgb(148, 103, 189)",
          "line": {
           "width": 0
          },
          "opacity": 1,
          "type": "rect",
          "x0": "2018-07-14 0:19:40",
          "x1": "2018-07-14 0:20:23",
          "xref": "x",
          "y0": 3.8,
          "y1": 4.2,
          "yref": "y"
         },
         {
          "fillcolor": "rgb(140, 86, 75)",
          "line": {
           "width": 0
          },
          "opacity": 1,
          "type": "rect",
          "x0": "2018-07-14 0:09:43",
          "x1": "2018-07-14 0:10:44",
          "xref": "x",
          "y0": 3.8,
          "y1": 4.2,
          "yref": "y"
         },
         {
          "fillcolor": "rgb(227, 119, 194)",
          "line": {
           "width": 0
          },
          "opacity": 1,
          "type": "rect",
          "x0": "2018-07-14 0:05:15",
          "x1": "2018-07-14 0:06:07",
          "xref": "x",
          "y0": 3.8,
          "y1": 4.2,
          "yref": "y"
         },
         {
          "fillcolor": "rgb(127, 127, 127)",
          "line": {
           "width": 0
          },
          "opacity": 1,
          "type": "rect",
          "x0": "2018-07-14 0:15:05",
          "x1": "2018-07-14 0:15:26",
          "xref": "x",
          "y0": 3.8,
          "y1": 4.2,
          "yref": "y"
         },
         {
          "fillcolor": "rgb(188, 189, 34)",
          "line": {
           "width": 0
          },
          "opacity": 1,
          "type": "rect",
          "x0": "2018-07-14 0:08:18",
          "x1": "2018-07-14 0:09:32",
          "xref": "x",
          "y0": 3.8,
          "y1": 4.2,
          "yref": "y"
         },
         {
          "fillcolor": "rgb(23, 190, 207)",
          "line": {
           "width": 0
          },
          "opacity": 1,
          "type": "rect",
          "x0": "2018-07-14 0:03:46",
          "x1": "2018-07-14 0:04:37",
          "xref": "x",
          "y0": 3.8,
          "y1": 4.2,
          "yref": "y"
         },
         {
          "fillcolor": "rgb(255, 127, 14)",
          "line": {
           "width": 0
          },
          "opacity": 1,
          "type": "rect",
          "x0": "2018-07-14 0:14:18",
          "x1": "2018-07-14 0:15:05",
          "xref": "x",
          "y0": 3.8,
          "y1": 4.2,
          "yref": "y"
         },
         {
          "fillcolor": "rgb(31, 119, 180)",
          "line": {
           "width": 0
          },
          "opacity": 1,
          "type": "rect",
          "x0": "2018-07-14 0:13:07",
          "x1": "2018-07-14 0:14:09",
          "xref": "x",
          "y0": 2.8,
          "y1": 3.2,
          "yref": "y"
         },
         {
          "fillcolor": "rgb(44, 160, 44)",
          "line": {
           "width": 0
          },
          "opacity": 1,
          "type": "rect",
          "x0": "2018-07-14 0:16:10",
          "x1": "2018-07-14 0:16:56",
          "xref": "x",
          "y0": 2.8,
          "y1": 3.2,
          "yref": "y"
         },
         {
          "fillcolor": "rgb(214, 39, 40)",
          "line": {
           "width": 0
          },
          "opacity": 1,
          "type": "rect",
          "x0": "2018-07-14 0:14:41",
          "x1": "2018-07-14 0:16:10",
          "xref": "x",
          "y0": 2.8,
          "y1": 3.2,
          "yref": "y"
         },
         {
          "fillcolor": "rgb(148, 103, 189)",
          "line": {
           "width": 0
          },
          "opacity": 1,
          "type": "rect",
          "x0": "2018-07-14 0:12:58",
          "x1": "2018-07-14 0:13:07",
          "xref": "x",
          "y0": 2.8,
          "y1": 3.2,
          "yref": "y"
         },
         {
          "fillcolor": "rgb(140, 86, 75)",
          "line": {
           "width": 0
          },
          "opacity": 1,
          "type": "rect",
          "x0": "2018-07-14 0:18:39",
          "x1": "2018-07-14 0:19:32",
          "xref": "x",
          "y0": 2.8,
          "y1": 3.2,
          "yref": "y"
         },
         {
          "fillcolor": "rgb(227, 119, 194)",
          "line": {
           "width": 0
          },
          "opacity": 1,
          "type": "rect",
          "x0": "2018-07-14 0:16:56",
          "x1": "2018-07-14 0:18:01",
          "xref": "x",
          "y0": 2.8,
          "y1": 3.2,
          "yref": "y"
         },
         {
          "fillcolor": "rgb(127, 127, 127)",
          "line": {
           "width": 0
          },
          "opacity": 1,
          "type": "rect",
          "x0": "2018-07-14 0:14:09",
          "x1": "2018-07-14 0:14:41",
          "xref": "x",
          "y0": 2.8,
          "y1": 3.2,
          "yref": "y"
         },
         {
          "fillcolor": "rgb(188, 189, 34)",
          "line": {
           "width": 0
          },
          "opacity": 1,
          "type": "rect",
          "x0": "2018-07-14 0:10:04",
          "x1": "2018-07-14 0:11:32",
          "xref": "x",
          "y0": 2.8,
          "y1": 3.2,
          "yref": "y"
         },
         {
          "fillcolor": "rgb(23, 190, 207)",
          "line": {
           "width": 0
          },
          "opacity": 1,
          "type": "rect",
          "x0": "2018-07-14 0:07:19",
          "x1": "2018-07-14 0:07:59",
          "xref": "x",
          "y0": 2.8,
          "y1": 3.2,
          "yref": "y"
         },
         {
          "fillcolor": "rgb(255, 127, 14)",
          "line": {
           "width": 0
          },
          "opacity": 1,
          "type": "rect",
          "x0": "2018-07-14 0:07:12",
          "x1": "2018-07-14 0:07:19",
          "xref": "x",
          "y0": 2.8,
          "y1": 3.2,
          "yref": "y"
         },
         {
          "fillcolor": "rgb(31, 119, 180)",
          "line": {
           "width": 0
          },
          "opacity": 1,
          "type": "rect",
          "x0": "2018-07-14 0:14:30",
          "x1": "2018-07-14 0:15:26",
          "xref": "x",
          "y0": 1.8,
          "y1": 2.2,
          "yref": "y"
         },
         {
          "fillcolor": "rgb(44, 160, 44)",
          "line": {
           "width": 0
          },
          "opacity": 1,
          "type": "rect",
          "x0": "2018-07-14 0:18:41",
          "x1": "2018-07-14 0:19:53",
          "xref": "x",
          "y0": 1.8,
          "y1": 2.2,
          "yref": "y"
         },
         {
          "fillcolor": "rgb(214, 39, 40)",
          "line": {
           "width": 0
          },
          "opacity": 1,
          "type": "rect",
          "x0": "2018-07-14 0:14:18",
          "x1": "2018-07-14 0:14:30",
          "xref": "x",
          "y0": 1.8,
          "y1": 2.2,
          "yref": "y"
         },
         {
          "fillcolor": "rgb(148, 103, 189)",
          "line": {
           "width": 0
          },
          "opacity": 1,
          "type": "rect",
          "x0": "2018-07-14 0:16:15",
          "x1": "2018-07-14 0:17:40",
          "xref": "x",
          "y0": 1.8,
          "y1": 2.2,
          "yref": "y"
         },
         {
          "fillcolor": "rgb(140, 86, 75)",
          "line": {
           "width": 0
          },
          "opacity": 1,
          "type": "rect",
          "x0": "2018-07-14 0:15:26",
          "x1": "2018-07-14 0:16:15",
          "xref": "x",
          "y0": 1.8,
          "y1": 2.2,
          "yref": "y"
         },
         {
          "fillcolor": "rgb(227, 119, 194)",
          "line": {
           "width": 0
          },
          "opacity": 1,
          "type": "rect",
          "x0": "2018-07-14 0:18:16",
          "x1": "2018-07-14 0:18:41",
          "xref": "x",
          "y0": 1.8,
          "y1": 2.2,
          "yref": "y"
         },
         {
          "fillcolor": "rgb(127, 127, 127)",
          "line": {
           "width": 0
          },
          "opacity": 1,
          "type": "rect",
          "x0": "2018-07-14 0:19:53",
          "x1": "2018-07-14 0:20:23",
          "xref": "x",
          "y0": 1.8,
          "y1": 2.2,
          "yref": "y"
         },
         {
          "fillcolor": "rgb(188, 189, 34)",
          "line": {
           "width": 0
          },
          "opacity": 1,
          "type": "rect",
          "x0": "2018-07-14 0:17:40",
          "x1": "2018-07-14 0:18:16",
          "xref": "x",
          "y0": 1.8,
          "y1": 2.2,
          "yref": "y"
         },
         {
          "fillcolor": "rgb(23, 190, 207)",
          "line": {
           "width": 0
          },
          "opacity": 1,
          "type": "rect",
          "x0": "2018-07-14 0:07:59",
          "x1": "2018-07-14 0:09:28",
          "xref": "x",
          "y0": 1.8,
          "y1": 2.2,
          "yref": "y"
         },
         {
          "fillcolor": "rgb(255, 127, 14)",
          "line": {
           "width": 0
          },
          "opacity": 1,
          "type": "rect",
          "x0": "2018-07-14 0:20:23",
          "x1": "2018-07-14 0:21:08",
          "xref": "x",
          "y0": 1.8,
          "y1": 2.2,
          "yref": "y"
         },
         {
          "fillcolor": "rgb(31, 119, 180)",
          "line": {
           "width": 0
          },
          "opacity": 1,
          "type": "rect",
          "x0": "2018-07-14 0:15:26",
          "x1": "2018-07-14 0:16:10",
          "xref": "x",
          "y0": 0.8,
          "y1": 1.2,
          "yref": "y"
         },
         {
          "fillcolor": "rgb(44, 160, 44)",
          "line": {
           "width": 0
          },
          "opacity": 1,
          "type": "rect",
          "x0": "2018-07-14 0:20:10",
          "x1": "2018-07-14 0:20:40",
          "xref": "x",
          "y0": 0.8,
          "y1": 1.2,
          "yref": "y"
         },
         {
          "fillcolor": "rgb(214, 39, 40)",
          "line": {
           "width": 0
          },
          "opacity": 1,
          "type": "rect",
          "x0": "2018-07-14 0:12:38",
          "x1": "2018-07-14 0:14:08",
          "xref": "x",
          "y0": 0.8,
          "y1": 1.2,
          "yref": "y"
         },
         {
          "fillcolor": "rgb(148, 103, 189)",
          "line": {
           "width": 0
          },
          "opacity": 1,
          "type": "rect",
          "x0": "2018-07-14 0:14:08",
          "x1": "2018-07-14 0:15:00",
          "xref": "x",
          "y0": 0.8,
          "y1": 1.2,
          "yref": "y"
         },
         {
          "fillcolor": "rgb(140, 86, 75)",
          "line": {
           "width": 0
          },
          "opacity": 1,
          "type": "rect",
          "x0": "2018-07-14 0:15:00",
          "x1": "2018-07-14 0:15:21",
          "xref": "x",
          "y0": 0.8,
          "y1": 1.2,
          "yref": "y"
         },
         {
          "fillcolor": "rgb(227, 119, 194)",
          "line": {
           "width": 0
          },
          "opacity": 1,
          "type": "rect",
          "x0": "2018-07-14 0:07:42",
          "x1": "2018-07-14 0:08:30",
          "xref": "x",
          "y0": 0.8,
          "y1": 1.2,
          "yref": "y"
         },
         {
          "fillcolor": "rgb(127, 127, 127)",
          "line": {
           "width": 0
          },
          "opacity": 1,
          "type": "rect",
          "x0": "2018-07-14 0:17:27",
          "x1": "2018-07-14 0:18:56",
          "xref": "x",
          "y0": 0.8,
          "y1": 1.2,
          "yref": "y"
         },
         {
          "fillcolor": "rgb(188, 189, 34)",
          "line": {
           "width": 0
          },
          "opacity": 1,
          "type": "rect",
          "x0": "2018-07-14 0:11:32",
          "x1": "2018-07-14 0:11:51",
          "xref": "x",
          "y0": 0.8,
          "y1": 1.2,
          "yref": "y"
         },
         {
          "fillcolor": "rgb(23, 190, 207)",
          "line": {
           "width": 0
          },
          "opacity": 1,
          "type": "rect",
          "x0": "2018-07-14 0:18:56",
          "x1": "2018-07-14 0:20:10",
          "xref": "x",
          "y0": 0.8,
          "y1": 1.2,
          "yref": "y"
         },
         {
          "fillcolor": "rgb(255, 127, 14)",
          "line": {
           "width": 0
          },
          "opacity": 1,
          "type": "rect",
          "x0": "2018-07-14 0:08:30",
          "x1": "2018-07-14 0:09:34",
          "xref": "x",
          "y0": 0.8,
          "y1": 1.2,
          "yref": "y"
         },
         {
          "fillcolor": "rgb(31, 119, 180)",
          "line": {
           "width": 0
          },
          "opacity": 1,
          "type": "rect",
          "x0": "2018-07-14 0:19:40",
          "x1": "2018-07-14 0:20:01",
          "xref": "x",
          "y0": -0.2,
          "y1": 0.2,
          "yref": "y"
         },
         {
          "fillcolor": "rgb(44, 160, 44)",
          "line": {
           "width": 0
          },
          "opacity": 1,
          "type": "rect",
          "x0": "2018-07-14 0:11:19",
          "x1": "2018-07-14 0:11:30",
          "xref": "x",
          "y0": -0.2,
          "y1": 0.2,
          "yref": "y"
         },
         {
          "fillcolor": "rgb(214, 39, 40)",
          "line": {
           "width": 0
          },
          "opacity": 1,
          "type": "rect",
          "x0": "2018-07-14 0:16:10",
          "x1": "2018-07-14 0:16:55",
          "xref": "x",
          "y0": -0.2,
          "y1": 0.2,
          "yref": "y"
         },
         {
          "fillcolor": "rgb(148, 103, 189)",
          "line": {
           "width": 0
          },
          "opacity": 1,
          "type": "rect",
          "x0": "2018-07-14 0:19:18",
          "x1": "2018-07-14 0:19:40",
          "xref": "x",
          "y0": -0.2,
          "y1": 0.2,
          "yref": "y"
         },
         {
          "fillcolor": "rgb(140, 86, 75)",
          "line": {
           "width": 0
          },
          "opacity": 1,
          "type": "rect",
          "x0": "2018-07-14 0:17:27",
          "x1": "2018-07-14 0:18:39",
          "xref": "x",
          "y0": -0.2,
          "y1": 0.2,
          "yref": "y"
         },
         {
          "fillcolor": "rgb(227, 119, 194)",
          "line": {
           "width": 0
          },
          "opacity": 1,
          "type": "rect",
          "x0": "2018-07-14 0:13:55",
          "x1": "2018-07-14 0:15:07",
          "xref": "x",
          "y0": -0.2,
          "y1": 0.2,
          "yref": "y"
         },
         {
          "fillcolor": "rgb(127, 127, 127)",
          "line": {
           "width": 0
          },
          "opacity": 1,
          "type": "rect",
          "x0": "2018-07-14 0:16:55",
          "x1": "2018-07-14 0:17:27",
          "xref": "x",
          "y0": -0.2,
          "y1": 0.2,
          "yref": "y"
         },
         {
          "fillcolor": "rgb(188, 189, 34)",
          "line": {
           "width": 0
          },
          "opacity": 1,
          "type": "rect",
          "x0": "2018-07-14 0:11:51",
          "x1": "2018-07-14 0:12:39",
          "xref": "x",
          "y0": -0.2,
          "y1": 0.2,
          "yref": "y"
         },
         {
          "fillcolor": "rgb(23, 190, 207)",
          "line": {
           "width": 0
          },
          "opacity": 1,
          "type": "rect",
          "x0": "2018-07-14 0:06:02",
          "x1": "2018-07-14 0:06:13",
          "xref": "x",
          "y0": -0.2,
          "y1": 0.2,
          "yref": "y"
         },
         {
          "fillcolor": "rgb(255, 127, 14)",
          "line": {
           "width": 0
          },
          "opacity": 1,
          "type": "rect",
          "x0": "2018-07-14 0:12:39",
          "x1": "2018-07-14 0:13:55",
          "xref": "x",
          "y0": -0.2,
          "y1": 0.2,
          "yref": "y"
         }
        ],
        "showlegend": true,
        "title": {
         "text": "Job shop Schedule"
        },
        "width": 900,
        "xaxis": {
         "rangeselector": {
          "buttons": [
           {
            "count": 7,
            "label": "1w",
            "step": "day",
            "stepmode": "backward"
           },
           {
            "count": 1,
            "label": "1m",
            "step": "month",
            "stepmode": "backward"
           },
           {
            "count": 6,
            "label": "6m",
            "step": "month",
            "stepmode": "backward"
           },
           {
            "count": 1,
            "label": "YTD",
            "step": "year",
            "stepmode": "todate"
           },
           {
            "count": 1,
            "label": "1y",
            "step": "year",
            "stepmode": "backward"
           },
           {
            "step": "all"
           }
          ]
         },
         "showgrid": true,
         "type": "date",
         "zeroline": false
        },
        "yaxis": {
         "autorange": false,
         "range": [
          -1,
          11
         ],
         "showgrid": false,
         "ticktext": [
          "Machine 10",
          "Machine 9",
          "Machine 8",
          "Machine 7",
          "Machine 6",
          "Machine 5",
          "Machine 4",
          "Machine 3",
          "Machine 2",
          "Machine 1"
         ],
         "tickvals": [
          0,
          1,
          2,
          3,
          4,
          5,
          6,
          7,
          8,
          9
         ],
         "zeroline": false
        }
       }
      },
      "text/html": [
       "<div>\n",
       "        \n",
       "        \n",
       "            <div id=\"29399fb2-76e4-4bd0-965f-0e94f313f87b\" class=\"plotly-graph-div\" style=\"height:600px; width:900px;\"></div>\n",
       "            <script type=\"text/javascript\">\n",
       "                require([\"plotly\"], function(Plotly) {\n",
       "                    window.PLOTLYENV=window.PLOTLYENV || {};\n",
       "                    window.PLOTLYENV.BASE_URL='https://plot.ly';\n",
       "                    \n",
       "                if (document.getElementById(\"29399fb2-76e4-4bd0-965f-0e94f313f87b\")) {\n",
       "                    Plotly.newPlot(\n",
       "                        '29399fb2-76e4-4bd0-965f-0e94f313f87b',\n",
       "                        [{\"marker\": {\"color\": \"white\"}, \"name\": \"\", \"type\": \"scatter\", \"uid\": \"1b8606d2-c2d0-4c8a-928a-6809146a6425\", \"x\": [\"2018-07-14 0:01:16\", \"2018-07-14 0:01:45\"], \"y\": [9, 9]}, {\"marker\": {\"color\": \"white\"}, \"name\": \"\", \"type\": \"scatter\", \"uid\": \"d6efd97b-928b-4d4b-998c-18db77f1ae86\", \"x\": [\"2018-07-14 0:05:34\", \"2018-07-14 0:06:17\"], \"y\": [9, 9]}, {\"marker\": {\"color\": \"white\"}, \"name\": \"\", \"type\": \"scatter\", \"uid\": \"ee3d8a5b-ba28-4e1b-a2bf-2aca1776595b\", \"x\": [\"2018-07-14 0:09:20\", \"2018-07-14 0:10:45\"], \"y\": [9, 9]}, {\"marker\": {\"color\": \"white\"}, \"name\": \"\", \"type\": \"scatter\", \"uid\": \"aafe05a1-5bd6-4ecf-ba1e-eaeecd9cff19\", \"x\": [\"2018-07-14 0:08:09\", \"2018-07-14 0:09:20\"], \"y\": [9, 9]}, {\"marker\": {\"color\": \"white\"}, \"name\": \"\", \"type\": \"scatter\", \"uid\": \"69414b06-d4fe-487d-96fa-b231e36f025a\", \"x\": [\"2018-07-14 0:07:26\", \"2018-07-14 0:07:32\"], \"y\": [9, 9]}, {\"marker\": {\"color\": \"white\"}, \"name\": \"\", \"type\": \"scatter\", \"uid\": \"f386ece8-dbf6-4a77-9930-c0e9c7893492\", \"x\": [\"2018-07-14 0:15:07\", \"2018-07-14 0:15:54\"], \"y\": [9, 9]}, {\"marker\": {\"color\": \"white\"}, \"name\": \"\", \"type\": \"scatter\", \"uid\": \"4df10e24-9ed2-4fd7-b3b5-034a5f262a8d\", \"x\": [\"2018-07-14 0:07:32\", \"2018-07-14 0:08:09\"], \"y\": [9, 9]}, {\"marker\": {\"color\": \"white\"}, \"name\": \"\", \"type\": \"scatter\", \"uid\": \"30563a99-af2c-4304-9607-1724b2d9bb24\", \"x\": [\"2018-07-14 0:04:08\", \"2018-07-14 0:05:34\"], \"y\": [9, 9]}, {\"marker\": {\"color\": \"white\"}, \"name\": \"\", \"type\": \"scatter\", \"uid\": \"3b12218a-8f0e-4c78-9101-e788fdd5c81e\", \"x\": [\"2018-07-14 0:00:00\", \"2018-07-14 0:01:16\"], \"y\": [9, 9]}, {\"marker\": {\"color\": \"white\"}, \"name\": \"\", \"type\": \"scatter\", \"uid\": \"3ab60014-6b6b-4b0a-8c79-b8fb26e2ac29\", \"x\": [\"2018-07-14 0:03:55\", \"2018-07-14 0:04:08\"], \"y\": [9, 9]}, {\"marker\": {\"color\": \"white\"}, \"name\": \"\", \"type\": \"scatter\", \"uid\": \"a1364924-4a49-4aa1-a15b-b6e0d510476a\", \"x\": [\"2018-07-14 0:03:55\", \"2018-07-14 0:05:13\"], \"y\": [8, 8]}, {\"marker\": {\"color\": \"white\"}, \"name\": \"\", \"type\": \"scatter\", \"uid\": \"017bebd8-067d-40d2-8ac6-0bb311c8069f\", \"x\": [\"2018-07-14 0:12:39\", \"2018-07-14 0:13:07\"], \"y\": [8, 8]}, {\"marker\": {\"color\": \"white\"}, \"name\": \"\", \"type\": \"scatter\", \"uid\": \"b872599e-b463-4823-a247-98eeecc284a5\", \"x\": [\"2018-07-14 0:05:15\", \"2018-07-14 0:06:46\"], \"y\": [8, 8]}, {\"marker\": {\"color\": \"white\"}, \"name\": \"\", \"type\": \"scatter\", \"uid\": \"07ff964b-b367-422f-a9fd-6918bbc274a3\", \"x\": [\"2018-07-14 0:00:00\", \"2018-07-14 0:01:21\"], \"y\": [8, 8]}, {\"marker\": {\"color\": \"white\"}, \"name\": \"\", \"type\": \"scatter\", \"uid\": \"a3e8f3ce-0487-4fa1-8aac-cea965eb0aea\", \"x\": [\"2018-07-14 0:08:18\", \"2018-07-14 0:08:40\"], \"y\": [8, 8]}, {\"marker\": {\"color\": \"white\"}, \"name\": \"\", \"type\": \"scatter\", \"uid\": \"c88a9e3a-b203-4ca7-a1e0-f64878d6cf95\", \"x\": [\"2018-07-14 0:05:13\", \"2018-07-14 0:05:15\"], \"y\": [8, 8]}, {\"marker\": {\"color\": \"white\"}, \"name\": \"\", \"type\": \"scatter\", \"uid\": \"1baee292-203d-4716-ba83-53ea6dccc41d\", \"x\": [\"2018-07-14 0:06:46\", \"2018-07-14 0:07:32\"], \"y\": [8, 8]}, {\"marker\": {\"color\": \"white\"}, \"name\": \"\", \"type\": \"scatter\", \"uid\": \"768ed214-1242-42a9-a967-7ce0b82e596a\", \"x\": [\"2018-07-14 0:07:32\", \"2018-07-14 0:08:18\"], \"y\": [8, 8]}, {\"marker\": {\"color\": \"white\"}, \"name\": \"\", \"type\": \"scatter\", \"uid\": \"04ef8876-8b99-47c7-bc57-17ed1d6ada4e\", \"x\": [\"2018-07-14 0:01:21\", \"2018-07-14 0:02:30\"], \"y\": [8, 8]}, {\"marker\": {\"color\": \"white\"}, \"name\": \"\", \"type\": \"scatter\", \"uid\": \"ea8fc768-6e87-45c0-a3c0-666efc910a46\", \"x\": [\"2018-07-14 0:02:30\", \"2018-07-14 0:03:55\"], \"y\": [8, 8]}, {\"marker\": {\"color\": \"white\"}, \"name\": \"\", \"type\": \"scatter\", \"uid\": \"77bddb08-f345-4b12-bd62-49d3f6d67788\", \"x\": [\"2018-07-14 0:06:02\", \"2018-07-14 0:06:11\"], \"y\": [7, 7]}, {\"marker\": {\"color\": \"white\"}, \"name\": \"\", \"type\": \"scatter\", \"uid\": \"d2a4716f-e0a0-43ee-82bd-f24e610f388e\", \"x\": [\"2018-07-14 0:07:26\", \"2018-07-14 0:08:56\"], \"y\": [7, 7]}, {\"marker\": {\"color\": \"white\"}, \"name\": \"\", \"type\": \"scatter\", \"uid\": \"a286c8ed-5900-4df8-a7fc-e2eca915b9d3\", \"x\": [\"2018-07-14 0:11:24\", \"2018-07-14 0:12:38\"], \"y\": [7, 7]}, {\"marker\": {\"color\": \"white\"}, \"name\": \"\", \"type\": \"scatter\", \"uid\": \"51268e78-dd0a-4549-abdc-cda12d1e3bb2\", \"x\": [\"2018-07-14 0:01:55\", \"2018-07-14 0:03:30\"], \"y\": [7, 7]}, {\"marker\": {\"color\": \"white\"}, \"name\": \"\", \"type\": \"scatter\", \"uid\": \"7e360df7-15a7-4ad6-abd2-ae2aac87ccfa\", \"x\": [\"2018-07-14 0:07:12\", \"2018-07-14 0:07:26\"], \"y\": [7, 7]}, {\"marker\": {\"color\": \"white\"}, \"name\": \"\", \"type\": \"scatter\", \"uid\": \"5828c51c-4673-4fa5-a4aa-2e180d06dbf3\", \"x\": [\"2018-07-14 0:00:00\", \"2018-07-14 0:01:24\"], \"y\": [7, 7]}, {\"marker\": {\"color\": \"white\"}, \"name\": \"\", \"type\": \"scatter\", \"uid\": \"a904625e-7196-4941-924c-f4bec938db92\", \"x\": [\"2018-07-14 0:09:19\", \"2018-07-14 0:09:32\"], \"y\": [7, 7]}, {\"marker\": {\"color\": \"white\"}, \"name\": \"\", \"type\": \"scatter\", \"uid\": \"4b018da5-1f85-444c-b292-03da2b4da31d\", \"x\": [\"2018-07-14 0:01:24\", \"2018-07-14 0:01:55\"], \"y\": [7, 7]}, {\"marker\": {\"color\": \"white\"}, \"name\": \"\", \"type\": \"scatter\", \"uid\": \"96bdb8ab-4d9c-4744-b1c8-1e6ed4160bc4\", \"x\": [\"2018-07-14 0:04:37\", \"2018-07-14 0:06:02\"], \"y\": [7, 7]}, {\"marker\": {\"color\": \"white\"}, \"name\": \"\", \"type\": \"scatter\", \"uid\": \"0b5b429b-fb43-4f4d-aa46-072349cb65c5\", \"x\": [\"2018-07-14 0:06:11\", \"2018-07-14 0:07:12\"], \"y\": [7, 7]}, {\"marker\": {\"color\": \"white\"}, \"name\": \"\", \"type\": \"scatter\", \"uid\": \"1740773a-f2d3-4d1a-bb07-db354ebaf0a7\", \"x\": [\"2018-07-14 0:07:42\", \"2018-07-14 0:08:18\"], \"y\": [6, 6]}, {\"marker\": {\"color\": \"white\"}, \"name\": \"\", \"type\": \"scatter\", \"uid\": \"3e366462-e848-4e9e-b859-3ec7d2307bac\", \"x\": [\"2018-07-14 0:11:30\", \"2018-07-14 0:12:39\"], \"y\": [6, 6]}, {\"marker\": {\"color\": \"white\"}, \"name\": \"\", \"type\": \"scatter\", \"uid\": \"a6bf667a-be69-433f-8db6-dc14c233f857\", \"x\": [\"2018-07-14 0:10:45\", \"2018-07-14 0:11:24\"], \"y\": [6, 6]}, {\"marker\": {\"color\": \"white\"}, \"name\": \"\", \"type\": \"scatter\", \"uid\": \"bb448c7b-f711-4761-a0b9-20a1823942a6\", \"x\": [\"2018-07-14 0:17:40\", \"2018-07-14 0:19:18\"], \"y\": [6, 6]}, {\"marker\": {\"color\": \"white\"}, \"name\": \"\", \"type\": \"scatter\", \"uid\": \"1bab2179-5d68-47e8-a55e-d71d62ecf08c\", \"x\": [\"2018-07-14 0:12:39\", \"2018-07-14 0:13:05\"], \"y\": [6, 6]}, {\"marker\": {\"color\": \"white\"}, \"name\": \"\", \"type\": \"scatter\", \"uid\": \"d883b319-77b5-4988-8deb-fdb8a92854d7\", \"x\": [\"2018-07-14 0:06:07\", \"2018-07-14 0:07:42\"], \"y\": [6, 6]}, {\"marker\": {\"color\": \"white\"}, \"name\": \"\", \"type\": \"scatter\", \"uid\": \"92e87d2e-5261-4c3c-a606-def4089040d3\", \"x\": [\"2018-07-14 0:08:18\", \"2018-07-14 0:09:19\"], \"y\": [6, 6]}, {\"marker\": {\"color\": \"white\"}, \"name\": \"\", \"type\": \"scatter\", \"uid\": \"b6712016-0993-4b49-b46b-28eee03305f0\", \"x\": [\"2018-07-14 0:19:18\", \"2018-07-14 0:20:37\"], \"y\": [6, 6]}, {\"marker\": {\"color\": \"white\"}, \"name\": \"\", \"type\": \"scatter\", \"uid\": \"e355ca53-216e-4b41-8dab-e45eb3d4b64a\", \"x\": [\"2018-07-14 0:02:30\", \"2018-07-14 0:03:46\"], \"y\": [6, 6]}, {\"marker\": {\"color\": \"white\"}, \"name\": \"\", \"type\": \"scatter\", \"uid\": \"ce5f90f1-17e8-4225-b4ce-c2f9b8e98857\", \"x\": [\"2018-07-14 0:15:05\", \"2018-07-14 0:15:57\"], \"y\": [6, 6]}, {\"marker\": {\"color\": \"white\"}, \"name\": \"\", \"type\": \"scatter\", \"uid\": \"e8aef9da-a2b4-4497-8971-c1c6824e2499\", \"x\": [\"2018-07-14 0:08:18\", \"2018-07-14 0:09:07\"], \"y\": [5, 5]}, {\"marker\": {\"color\": \"white\"}, \"name\": \"\", \"type\": \"scatter\", \"uid\": \"dadc56c8-5c3e-4aa5-bb2d-e8be33266d69\", \"x\": [\"2018-07-14 0:10:04\", \"2018-07-14 0:11:19\"], \"y\": [5, 5]}, {\"marker\": {\"color\": \"white\"}, \"name\": \"\", \"type\": \"scatter\", \"uid\": \"e8f3b77a-5cd6-414b-8c6b-a539e9b9af2a\", \"x\": [\"2018-07-14 0:18:07\", \"2018-07-14 0:18:40\"], \"y\": [5, 5]}, {\"marker\": {\"color\": \"white\"}, \"name\": \"\", \"type\": \"scatter\", \"uid\": \"a70aa167-f045-4fcd-bc48-cbd35faa61ad\", \"x\": [\"2018-07-14 0:11:19\", \"2018-07-14 0:12:58\"], \"y\": [5, 5]}, {\"marker\": {\"color\": \"white\"}, \"name\": \"\", \"type\": \"scatter\", \"uid\": \"a7565633-2690-4823-b686-307611c983f4\", \"x\": [\"2018-07-14 0:13:24\", \"2018-07-14 0:14:33\"], \"y\": [5, 5]}, {\"marker\": {\"color\": \"white\"}, \"name\": \"\", \"type\": \"scatter\", \"uid\": \"21d362ee-e2f6-4364-9f0c-2e976d9dd774\", \"x\": [\"2018-07-14 0:18:01\", \"2018-07-14 0:18:07\"], \"y\": [5, 5]}, {\"marker\": {\"color\": \"white\"}, \"name\": \"\", \"type\": \"scatter\", \"uid\": \"e072be29-2196-4c0c-8a4e-5fb35ebde73d\", \"x\": [\"2018-07-14 0:20:23\", \"2018-07-14 0:21:18\"], \"y\": [5, 5]}, {\"marker\": {\"color\": \"white\"}, \"name\": \"\", \"type\": \"scatter\", \"uid\": \"c2d2a719-52c9-4f5f-8f8d-faa7ed1f4524\", \"x\": [\"2018-07-14 0:09:32\", \"2018-07-14 0:10:04\"], \"y\": [5, 5]}, {\"marker\": {\"color\": \"white\"}, \"name\": \"\", \"type\": \"scatter\", \"uid\": \"ad3f991f-b6cd-4365-b789-a0c17b1822d8\", \"x\": [\"2018-07-14 0:12:58\", \"2018-07-14 0:13:24\"], \"y\": [5, 5]}, {\"marker\": {\"color\": \"white\"}, \"name\": \"\", \"type\": \"scatter\", \"uid\": \"30afdd64-10ff-4f82-8945-bdae311823f5\", \"x\": [\"2018-07-14 0:15:57\", \"2018-07-14 0:17:27\"], \"y\": [5, 5]}, {\"marker\": {\"color\": \"white\"}, \"name\": \"\", \"type\": \"scatter\", \"uid\": \"9c62c887-d741-4be3-8b49-ed670a0c7c1a\", \"x\": [\"2018-07-14 0:09:32\", \"2018-07-14 0:09:43\"], \"y\": [4, 4]}, {\"marker\": {\"color\": \"white\"}, \"name\": \"\", \"type\": \"scatter\", \"uid\": \"f49af664-bc52-4cc9-a615-537b9ac4af12\", \"x\": [\"2018-07-14 0:16:56\", \"2018-07-14 0:17:42\"], \"y\": [4, 4]}, {\"marker\": {\"color\": \"white\"}, \"name\": \"\", \"type\": \"scatter\", \"uid\": \"24240b63-55d1-4549-8a57-68141c3ffeac\", \"x\": [\"2018-07-14 0:14:08\", \"2018-07-14 0:14:18\"], \"y\": [4, 4]}, {\"marker\": {\"color\": \"white\"}, \"name\": \"\", \"type\": \"scatter\", \"uid\": \"1e43cc3d-a794-4305-ae86-e74b55186a19\", \"x\": [\"2018-07-14 0:19:40\", \"2018-07-14 0:20:23\"], \"y\": [4, 4]}, {\"marker\": {\"color\": \"white\"}, \"name\": \"\", \"type\": \"scatter\", \"uid\": \"878564b9-52ce-4c17-b8d1-5658c69eb7bb\", \"x\": [\"2018-07-14 0:09:43\", \"2018-07-14 0:10:44\"], \"y\": [4, 4]}, {\"marker\": {\"color\": \"white\"}, \"name\": \"\", \"type\": \"scatter\", \"uid\": \"92c5dbfe-1870-4e2d-ae1b-3ea6e248421e\", \"x\": [\"2018-07-14 0:05:15\", \"2018-07-14 0:06:07\"], \"y\": [4, 4]}, {\"marker\": {\"color\": \"white\"}, \"name\": \"\", \"type\": \"scatter\", \"uid\": \"5fde01ee-c666-42e3-aeac-36069c3c469f\", \"x\": [\"2018-07-14 0:15:05\", \"2018-07-14 0:15:26\"], \"y\": [4, 4]}, {\"marker\": {\"color\": \"white\"}, \"name\": \"\", \"type\": \"scatter\", \"uid\": \"a44b35d0-9cc8-4a49-a503-fee501ca7500\", \"x\": [\"2018-07-14 0:08:18\", \"2018-07-14 0:09:32\"], \"y\": [4, 4]}, {\"marker\": {\"color\": \"white\"}, \"name\": \"\", \"type\": \"scatter\", \"uid\": \"15bb0b3b-57a2-4467-a8f5-404bc3f0c184\", \"x\": [\"2018-07-14 0:03:46\", \"2018-07-14 0:04:37\"], \"y\": [4, 4]}, {\"marker\": {\"color\": \"white\"}, \"name\": \"\", \"type\": \"scatter\", \"uid\": \"680cb933-3b7a-4665-939c-978dcb1878e4\", \"x\": [\"2018-07-14 0:14:18\", \"2018-07-14 0:15:05\"], \"y\": [4, 4]}, {\"marker\": {\"color\": \"white\"}, \"name\": \"\", \"type\": \"scatter\", \"uid\": \"398574a2-3547-4d8f-a35f-b96933e26236\", \"x\": [\"2018-07-14 0:13:07\", \"2018-07-14 0:14:09\"], \"y\": [3, 3]}, {\"marker\": {\"color\": \"white\"}, \"name\": \"\", \"type\": \"scatter\", \"uid\": \"c495acaf-c0ba-4843-9716-e939c79b4777\", \"x\": [\"2018-07-14 0:16:10\", \"2018-07-14 0:16:56\"], \"y\": [3, 3]}, {\"marker\": {\"color\": \"white\"}, \"name\": \"\", \"type\": \"scatter\", \"uid\": \"675a283d-5585-4b8f-8a42-9eb68868ef26\", \"x\": [\"2018-07-14 0:14:41\", \"2018-07-14 0:16:10\"], \"y\": [3, 3]}, {\"marker\": {\"color\": \"white\"}, \"name\": \"\", \"type\": \"scatter\", \"uid\": \"8a275282-2198-44ae-8fb2-b1a8cdb6ffe1\", \"x\": [\"2018-07-14 0:12:58\", \"2018-07-14 0:13:07\"], \"y\": [3, 3]}, {\"marker\": {\"color\": \"white\"}, \"name\": \"\", \"type\": \"scatter\", \"uid\": \"6c868d91-c386-4f54-a7db-5d2bae0d1856\", \"x\": [\"2018-07-14 0:18:39\", \"2018-07-14 0:19:32\"], \"y\": [3, 3]}, {\"marker\": {\"color\": \"white\"}, \"name\": \"\", \"type\": \"scatter\", \"uid\": \"92c5e243-2aab-4d2a-b2e4-bba0e18c0061\", \"x\": [\"2018-07-14 0:16:56\", \"2018-07-14 0:18:01\"], \"y\": [3, 3]}, {\"marker\": {\"color\": \"white\"}, \"name\": \"\", \"type\": \"scatter\", \"uid\": \"8eae9288-d821-41bf-88e2-7ddcd2e8e87f\", \"x\": [\"2018-07-14 0:14:09\", \"2018-07-14 0:14:41\"], \"y\": [3, 3]}, {\"marker\": {\"color\": \"white\"}, \"name\": \"\", \"type\": \"scatter\", \"uid\": \"dd486c67-31e6-4bc3-826b-f976257406b1\", \"x\": [\"2018-07-14 0:10:04\", \"2018-07-14 0:11:32\"], \"y\": [3, 3]}, {\"marker\": {\"color\": \"white\"}, \"name\": \"\", \"type\": \"scatter\", \"uid\": \"7a9aa263-0cb2-4ee1-928d-6a63e47140a5\", \"x\": [\"2018-07-14 0:07:19\", \"2018-07-14 0:07:59\"], \"y\": [3, 3]}, {\"marker\": {\"color\": \"white\"}, \"name\": \"\", \"type\": \"scatter\", \"uid\": \"79b2d26a-ede8-4dd3-8ab7-3ee62aef5745\", \"x\": [\"2018-07-14 0:07:12\", \"2018-07-14 0:07:19\"], \"y\": [3, 3]}, {\"marker\": {\"color\": \"white\"}, \"name\": \"\", \"type\": \"scatter\", \"uid\": \"9ed5a0b3-db1d-49c7-a4f5-558f5528fd40\", \"x\": [\"2018-07-14 0:14:30\", \"2018-07-14 0:15:26\"], \"y\": [2, 2]}, {\"marker\": {\"color\": \"white\"}, \"name\": \"\", \"type\": \"scatter\", \"uid\": \"94354403-e513-434c-b613-6f060d72173a\", \"x\": [\"2018-07-14 0:18:41\", \"2018-07-14 0:19:53\"], \"y\": [2, 2]}, {\"marker\": {\"color\": \"white\"}, \"name\": \"\", \"type\": \"scatter\", \"uid\": \"a20e21b2-5725-40fb-b33f-1fdf80c8d951\", \"x\": [\"2018-07-14 0:14:18\", \"2018-07-14 0:14:30\"], \"y\": [2, 2]}, {\"marker\": {\"color\": \"white\"}, \"name\": \"\", \"type\": \"scatter\", \"uid\": \"3a982e57-659b-4771-9a31-c3418c8c363e\", \"x\": [\"2018-07-14 0:16:15\", \"2018-07-14 0:17:40\"], \"y\": [2, 2]}, {\"marker\": {\"color\": \"white\"}, \"name\": \"\", \"type\": \"scatter\", \"uid\": \"4e8579f8-b4d0-441a-96f4-f10ae8863fcf\", \"x\": [\"2018-07-14 0:15:26\", \"2018-07-14 0:16:15\"], \"y\": [2, 2]}, {\"marker\": {\"color\": \"white\"}, \"name\": \"\", \"type\": \"scatter\", \"uid\": \"e8c10ad1-8c66-4323-ad58-222d8439bd99\", \"x\": [\"2018-07-14 0:18:16\", \"2018-07-14 0:18:41\"], \"y\": [2, 2]}, {\"marker\": {\"color\": \"white\"}, \"name\": \"\", \"type\": \"scatter\", \"uid\": \"ab4f7636-fe5c-43bd-8560-c7eb28cfad14\", \"x\": [\"2018-07-14 0:19:53\", \"2018-07-14 0:20:23\"], \"y\": [2, 2]}, {\"marker\": {\"color\": \"white\"}, \"name\": \"\", \"type\": \"scatter\", \"uid\": \"d69bd270-e964-4deb-9701-4ab6c9721759\", \"x\": [\"2018-07-14 0:17:40\", \"2018-07-14 0:18:16\"], \"y\": [2, 2]}, {\"marker\": {\"color\": \"white\"}, \"name\": \"\", \"type\": \"scatter\", \"uid\": \"e94db10d-dd84-4be8-a378-16453fa6ea69\", \"x\": [\"2018-07-14 0:07:59\", \"2018-07-14 0:09:28\"], \"y\": [2, 2]}, {\"marker\": {\"color\": \"white\"}, \"name\": \"\", \"type\": \"scatter\", \"uid\": \"6737480c-790a-479e-ab9b-35d334ed443c\", \"x\": [\"2018-07-14 0:20:23\", \"2018-07-14 0:21:08\"], \"y\": [2, 2]}, {\"marker\": {\"color\": \"white\"}, \"name\": \"\", \"type\": \"scatter\", \"uid\": \"5227b91c-2338-46a4-900b-bd8bf7918409\", \"x\": [\"2018-07-14 0:15:26\", \"2018-07-14 0:16:10\"], \"y\": [1, 1]}, {\"marker\": {\"color\": \"white\"}, \"name\": \"\", \"type\": \"scatter\", \"uid\": \"d955de2f-bd64-471e-b0d0-5ae396d54bc3\", \"x\": [\"2018-07-14 0:20:10\", \"2018-07-14 0:20:40\"], \"y\": [1, 1]}, {\"marker\": {\"color\": \"white\"}, \"name\": \"\", \"type\": \"scatter\", \"uid\": \"5463273d-c314-4236-9d41-79580acb568a\", \"x\": [\"2018-07-14 0:12:38\", \"2018-07-14 0:14:08\"], \"y\": [1, 1]}, {\"marker\": {\"color\": \"white\"}, \"name\": \"\", \"type\": \"scatter\", \"uid\": \"39d61cb1-a059-4682-8897-8503e59ddaf7\", \"x\": [\"2018-07-14 0:14:08\", \"2018-07-14 0:15:00\"], \"y\": [1, 1]}, {\"marker\": {\"color\": \"white\"}, \"name\": \"\", \"type\": \"scatter\", \"uid\": \"6f5c3558-68ff-4e19-95b1-afb9df6df8d0\", \"x\": [\"2018-07-14 0:15:00\", \"2018-07-14 0:15:21\"], \"y\": [1, 1]}, {\"marker\": {\"color\": \"white\"}, \"name\": \"\", \"type\": \"scatter\", \"uid\": \"0b96a38e-7146-41ae-b4be-fd062b9a7383\", \"x\": [\"2018-07-14 0:07:42\", \"2018-07-14 0:08:30\"], \"y\": [1, 1]}, {\"marker\": {\"color\": \"white\"}, \"name\": \"\", \"type\": \"scatter\", \"uid\": \"ac357afa-a75b-47a7-93bc-19399568d1a8\", \"x\": [\"2018-07-14 0:17:27\", \"2018-07-14 0:18:56\"], \"y\": [1, 1]}, {\"marker\": {\"color\": \"white\"}, \"name\": \"\", \"type\": \"scatter\", \"uid\": \"7294b366-35c4-4939-9417-3ea20242dc29\", \"x\": [\"2018-07-14 0:11:32\", \"2018-07-14 0:11:51\"], \"y\": [1, 1]}, {\"marker\": {\"color\": \"white\"}, \"name\": \"\", \"type\": \"scatter\", \"uid\": \"9263ec4e-45ef-4888-9bb6-c93921adb0a2\", \"x\": [\"2018-07-14 0:18:56\", \"2018-07-14 0:20:10\"], \"y\": [1, 1]}, {\"marker\": {\"color\": \"white\"}, \"name\": \"\", \"type\": \"scatter\", \"uid\": \"38484f76-1634-42fb-abc1-b54a1cba42dd\", \"x\": [\"2018-07-14 0:08:30\", \"2018-07-14 0:09:34\"], \"y\": [1, 1]}, {\"marker\": {\"color\": \"white\"}, \"name\": \"\", \"type\": \"scatter\", \"uid\": \"c00e9b57-99a4-411f-bbf3-cbf56db08599\", \"x\": [\"2018-07-14 0:19:40\", \"2018-07-14 0:20:01\"], \"y\": [0, 0]}, {\"marker\": {\"color\": \"white\"}, \"name\": \"\", \"type\": \"scatter\", \"uid\": \"67b956d6-858a-432b-a40b-926e593eda84\", \"x\": [\"2018-07-14 0:11:19\", \"2018-07-14 0:11:30\"], \"y\": [0, 0]}, {\"marker\": {\"color\": \"white\"}, \"name\": \"\", \"type\": \"scatter\", \"uid\": \"e3c091e4-0799-408e-ada2-f8d5c44f9f82\", \"x\": [\"2018-07-14 0:16:10\", \"2018-07-14 0:16:55\"], \"y\": [0, 0]}, {\"marker\": {\"color\": \"white\"}, \"name\": \"\", \"type\": \"scatter\", \"uid\": \"02bee68e-1291-4b2f-b3a6-1e6f7766bc69\", \"x\": [\"2018-07-14 0:19:18\", \"2018-07-14 0:19:40\"], \"y\": [0, 0]}, {\"marker\": {\"color\": \"white\"}, \"name\": \"\", \"type\": \"scatter\", \"uid\": \"4f2d5c2a-f3d3-48ef-b1a9-9ce6fe3e250a\", \"x\": [\"2018-07-14 0:17:27\", \"2018-07-14 0:18:39\"], \"y\": [0, 0]}, {\"marker\": {\"color\": \"white\"}, \"name\": \"\", \"type\": \"scatter\", \"uid\": \"09d930dc-02e7-4974-a567-75e3898dbb6d\", \"x\": [\"2018-07-14 0:13:55\", \"2018-07-14 0:15:07\"], \"y\": [0, 0]}, {\"marker\": {\"color\": \"white\"}, \"name\": \"\", \"type\": \"scatter\", \"uid\": \"67a794e0-90fb-4a32-bd73-5405b1a1fc72\", \"x\": [\"2018-07-14 0:16:55\", \"2018-07-14 0:17:27\"], \"y\": [0, 0]}, {\"marker\": {\"color\": \"white\"}, \"name\": \"\", \"type\": \"scatter\", \"uid\": \"ee37eabe-d2bd-49f2-8faf-dbc9660c43e9\", \"x\": [\"2018-07-14 0:11:51\", \"2018-07-14 0:12:39\"], \"y\": [0, 0]}, {\"marker\": {\"color\": \"white\"}, \"name\": \"\", \"type\": \"scatter\", \"uid\": \"c8976b28-b734-4cb0-9641-75a72807fb5d\", \"x\": [\"2018-07-14 0:06:02\", \"2018-07-14 0:06:13\"], \"y\": [0, 0]}, {\"marker\": {\"color\": \"white\"}, \"name\": \"\", \"type\": \"scatter\", \"uid\": \"8acdccef-fa04-4af3-a0b8-cd89519a05a4\", \"x\": [\"2018-07-14 0:12:39\", \"2018-07-14 0:13:55\"], \"y\": [0, 0]}, {\"hoverinfo\": \"none\", \"marker\": {\"color\": \"rgb(31, 119, 180)\", \"size\": 1}, \"name\": \"Job 1\", \"showlegend\": true, \"type\": \"scatter\", \"uid\": \"7ab5b1de-e147-49b5-81a1-929d62a447cb\", \"x\": [\"2018-07-14 0:12:39\", \"2018-07-14 0:12:39\"], \"y\": [0, 0]}, {\"hoverinfo\": \"none\", \"marker\": {\"color\": \"rgb(255, 127, 14)\", \"size\": 1}, \"name\": \"Job 10\", \"showlegend\": true, \"type\": \"scatter\", \"uid\": \"cc75d13b-5509-4e61-b753-ed4c344423f6\", \"x\": [\"2018-07-14 0:12:39\", \"2018-07-14 0:12:39\"], \"y\": [1, 1]}, {\"hoverinfo\": \"none\", \"marker\": {\"color\": \"rgb(44, 160, 44)\", \"size\": 1}, \"name\": \"Job 2\", \"showlegend\": true, \"type\": \"scatter\", \"uid\": \"4466f4a1-0d66-48f3-8016-54a95cc61002\", \"x\": [\"2018-07-14 0:12:39\", \"2018-07-14 0:12:39\"], \"y\": [2, 2]}, {\"hoverinfo\": \"none\", \"marker\": {\"color\": \"rgb(214, 39, 40)\", \"size\": 1}, \"name\": \"Job 3\", \"showlegend\": true, \"type\": \"scatter\", \"uid\": \"a9a8b0c4-8f19-4c77-b739-de83efae6ae6\", \"x\": [\"2018-07-14 0:12:39\", \"2018-07-14 0:12:39\"], \"y\": [3, 3]}, {\"hoverinfo\": \"none\", \"marker\": {\"color\": \"rgb(148, 103, 189)\", \"size\": 1}, \"name\": \"Job 4\", \"showlegend\": true, \"type\": \"scatter\", \"uid\": \"fd76e3fe-8aab-4e31-8a99-6727e447eb29\", \"x\": [\"2018-07-14 0:12:39\", \"2018-07-14 0:12:39\"], \"y\": [4, 4]}, {\"hoverinfo\": \"none\", \"marker\": {\"color\": \"rgb(140, 86, 75)\", \"size\": 1}, \"name\": \"Job 5\", \"showlegend\": true, \"type\": \"scatter\", \"uid\": \"5788c9da-6936-4528-a57f-c936ac382e7c\", \"x\": [\"2018-07-14 0:12:39\", \"2018-07-14 0:12:39\"], \"y\": [5, 5]}, {\"hoverinfo\": \"none\", \"marker\": {\"color\": \"rgb(227, 119, 194)\", \"size\": 1}, \"name\": \"Job 6\", \"showlegend\": true, \"type\": \"scatter\", \"uid\": \"d34ad42e-7a23-4f38-b466-637af2f53ac7\", \"x\": [\"2018-07-14 0:12:39\", \"2018-07-14 0:12:39\"], \"y\": [6, 6]}, {\"hoverinfo\": \"none\", \"marker\": {\"color\": \"rgb(127, 127, 127)\", \"size\": 1}, \"name\": \"Job 7\", \"showlegend\": true, \"type\": \"scatter\", \"uid\": \"9c908480-52d8-4002-a3a3-a8643645f029\", \"x\": [\"2018-07-14 0:12:39\", \"2018-07-14 0:12:39\"], \"y\": [7, 7]}, {\"hoverinfo\": \"none\", \"marker\": {\"color\": \"rgb(188, 189, 34)\", \"size\": 1}, \"name\": \"Job 8\", \"showlegend\": true, \"type\": \"scatter\", \"uid\": \"854b6113-b13d-41d3-8f56-6795a945e376\", \"x\": [\"2018-07-14 0:12:39\", \"2018-07-14 0:12:39\"], \"y\": [8, 8]}, {\"hoverinfo\": \"none\", \"marker\": {\"color\": \"rgb(23, 190, 207)\", \"size\": 1}, \"name\": \"Job 9\", \"showlegend\": true, \"type\": \"scatter\", \"uid\": \"161e51a7-47f6-42dd-b834-28e6a72ddefa\", \"x\": [\"2018-07-14 0:12:39\", \"2018-07-14 0:12:39\"], \"y\": [9, 9]}],\n",
       "                        {\"height\": 600, \"hovermode\": \"closest\", \"shapes\": [{\"fillcolor\": \"rgb(31, 119, 180)\", \"line\": {\"width\": 0}, \"opacity\": 1, \"type\": \"rect\", \"x0\": \"2018-07-14 0:01:16\", \"x1\": \"2018-07-14 0:01:45\", \"xref\": \"x\", \"y0\": 8.8, \"y1\": 9.2, \"yref\": \"y\"}, {\"fillcolor\": \"rgb(44, 160, 44)\", \"line\": {\"width\": 0}, \"opacity\": 1, \"type\": \"rect\", \"x0\": \"2018-07-14 0:05:34\", \"x1\": \"2018-07-14 0:06:17\", \"xref\": \"x\", \"y0\": 8.8, \"y1\": 9.2, \"yref\": \"y\"}, {\"fillcolor\": \"rgb(214, 39, 40)\", \"line\": {\"width\": 0}, \"opacity\": 1, \"type\": \"rect\", \"x0\": \"2018-07-14 0:09:20\", \"x1\": \"2018-07-14 0:10:45\", \"xref\": \"x\", \"y0\": 8.8, \"y1\": 9.2, \"yref\": \"y\"}, {\"fillcolor\": \"rgb(148, 103, 189)\", \"line\": {\"width\": 0}, \"opacity\": 1, \"type\": \"rect\", \"x0\": \"2018-07-14 0:08:09\", \"x1\": \"2018-07-14 0:09:20\", \"xref\": \"x\", \"y0\": 8.8, \"y1\": 9.2, \"yref\": \"y\"}, {\"fillcolor\": \"rgb(140, 86, 75)\", \"line\": {\"width\": 0}, \"opacity\": 1, \"type\": \"rect\", \"x0\": \"2018-07-14 0:07:26\", \"x1\": \"2018-07-14 0:07:32\", \"xref\": \"x\", \"y0\": 8.8, \"y1\": 9.2, \"yref\": \"y\"}, {\"fillcolor\": \"rgb(227, 119, 194)\", \"line\": {\"width\": 0}, \"opacity\": 1, \"type\": \"rect\", \"x0\": \"2018-07-14 0:15:07\", \"x1\": \"2018-07-14 0:15:54\", \"xref\": \"x\", \"y0\": 8.8, \"y1\": 9.2, \"yref\": \"y\"}, {\"fillcolor\": \"rgb(127, 127, 127)\", \"line\": {\"width\": 0}, \"opacity\": 1, \"type\": \"rect\", \"x0\": \"2018-07-14 0:07:32\", \"x1\": \"2018-07-14 0:08:09\", \"xref\": \"x\", \"y0\": 8.8, \"y1\": 9.2, \"yref\": \"y\"}, {\"fillcolor\": \"rgb(188, 189, 34)\", \"line\": {\"width\": 0}, \"opacity\": 1, \"type\": \"rect\", \"x0\": \"2018-07-14 0:04:08\", \"x1\": \"2018-07-14 0:05:34\", \"xref\": \"x\", \"y0\": 8.8, \"y1\": 9.2, \"yref\": \"y\"}, {\"fillcolor\": \"rgb(23, 190, 207)\", \"line\": {\"width\": 0}, \"opacity\": 1, \"type\": \"rect\", \"x0\": \"2018-07-14 0:00:00\", \"x1\": \"2018-07-14 0:01:16\", \"xref\": \"x\", \"y0\": 8.8, \"y1\": 9.2, \"yref\": \"y\"}, {\"fillcolor\": \"rgb(255, 127, 14)\", \"line\": {\"width\": 0}, \"opacity\": 1, \"type\": \"rect\", \"x0\": \"2018-07-14 0:03:55\", \"x1\": \"2018-07-14 0:04:08\", \"xref\": \"x\", \"y0\": 8.8, \"y1\": 9.2, \"yref\": \"y\"}, {\"fillcolor\": \"rgb(31, 119, 180)\", \"line\": {\"width\": 0}, \"opacity\": 1, \"type\": \"rect\", \"x0\": \"2018-07-14 0:03:55\", \"x1\": \"2018-07-14 0:05:13\", \"xref\": \"x\", \"y0\": 7.8, \"y1\": 8.2, \"yref\": \"y\"}, {\"fillcolor\": \"rgb(44, 160, 44)\", \"line\": {\"width\": 0}, \"opacity\": 1, \"type\": \"rect\", \"x0\": \"2018-07-14 0:12:39\", \"x1\": \"2018-07-14 0:13:07\", \"xref\": \"x\", \"y0\": 7.8, \"y1\": 8.2, \"yref\": \"y\"}, {\"fillcolor\": \"rgb(214, 39, 40)\", \"line\": {\"width\": 0}, \"opacity\": 1, \"type\": \"rect\", \"x0\": \"2018-07-14 0:05:15\", \"x1\": \"2018-07-14 0:06:46\", \"xref\": \"x\", \"y0\": 7.8, \"y1\": 8.2, \"yref\": \"y\"}, {\"fillcolor\": \"rgb(148, 103, 189)\", \"line\": {\"width\": 0}, \"opacity\": 1, \"type\": \"rect\", \"x0\": \"2018-07-14 0:00:00\", \"x1\": \"2018-07-14 0:01:21\", \"xref\": \"x\", \"y0\": 7.8, \"y1\": 8.2, \"yref\": \"y\"}, {\"fillcolor\": \"rgb(140, 86, 75)\", \"line\": {\"width\": 0}, \"opacity\": 1, \"type\": \"rect\", \"x0\": \"2018-07-14 0:08:18\", \"x1\": \"2018-07-14 0:08:40\", \"xref\": \"x\", \"y0\": 7.8, \"y1\": 8.2, \"yref\": \"y\"}, {\"fillcolor\": \"rgb(227, 119, 194)\", \"line\": {\"width\": 0}, \"opacity\": 1, \"type\": \"rect\", \"x0\": \"2018-07-14 0:05:13\", \"x1\": \"2018-07-14 0:05:15\", \"xref\": \"x\", \"y0\": 7.8, \"y1\": 8.2, \"yref\": \"y\"}, {\"fillcolor\": \"rgb(127, 127, 127)\", \"line\": {\"width\": 0}, \"opacity\": 1, \"type\": \"rect\", \"x0\": \"2018-07-14 0:06:46\", \"x1\": \"2018-07-14 0:07:32\", \"xref\": \"x\", \"y0\": 7.8, \"y1\": 8.2, \"yref\": \"y\"}, {\"fillcolor\": \"rgb(188, 189, 34)\", \"line\": {\"width\": 0}, \"opacity\": 1, \"type\": \"rect\", \"x0\": \"2018-07-14 0:07:32\", \"x1\": \"2018-07-14 0:08:18\", \"xref\": \"x\", \"y0\": 7.8, \"y1\": 8.2, \"yref\": \"y\"}, {\"fillcolor\": \"rgb(23, 190, 207)\", \"line\": {\"width\": 0}, \"opacity\": 1, \"type\": \"rect\", \"x0\": \"2018-07-14 0:01:21\", \"x1\": \"2018-07-14 0:02:30\", \"xref\": \"x\", \"y0\": 7.8, \"y1\": 8.2, \"yref\": \"y\"}, {\"fillcolor\": \"rgb(255, 127, 14)\", \"line\": {\"width\": 0}, \"opacity\": 1, \"type\": \"rect\", \"x0\": \"2018-07-14 0:02:30\", \"x1\": \"2018-07-14 0:03:55\", \"xref\": \"x\", \"y0\": 7.8, \"y1\": 8.2, \"yref\": \"y\"}, {\"fillcolor\": \"rgb(31, 119, 180)\", \"line\": {\"width\": 0}, \"opacity\": 1, \"type\": \"rect\", \"x0\": \"2018-07-14 0:06:02\", \"x1\": \"2018-07-14 0:06:11\", \"xref\": \"x\", \"y0\": 6.8, \"y1\": 7.2, \"yref\": \"y\"}, {\"fillcolor\": \"rgb(44, 160, 44)\", \"line\": {\"width\": 0}, \"opacity\": 1, \"type\": \"rect\", \"x0\": \"2018-07-14 0:07:26\", \"x1\": \"2018-07-14 0:08:56\", \"xref\": \"x\", \"y0\": 6.8, \"y1\": 7.2, \"yref\": \"y\"}, {\"fillcolor\": \"rgb(214, 39, 40)\", \"line\": {\"width\": 0}, \"opacity\": 1, \"type\": \"rect\", \"x0\": \"2018-07-14 0:11:24\", \"x1\": \"2018-07-14 0:12:38\", \"xref\": \"x\", \"y0\": 6.8, \"y1\": 7.2, \"yref\": \"y\"}, {\"fillcolor\": \"rgb(148, 103, 189)\", \"line\": {\"width\": 0}, \"opacity\": 1, \"type\": \"rect\", \"x0\": \"2018-07-14 0:01:55\", \"x1\": \"2018-07-14 0:03:30\", \"xref\": \"x\", \"y0\": 6.8, \"y1\": 7.2, \"yref\": \"y\"}, {\"fillcolor\": \"rgb(140, 86, 75)\", \"line\": {\"width\": 0}, \"opacity\": 1, \"type\": \"rect\", \"x0\": \"2018-07-14 0:07:12\", \"x1\": \"2018-07-14 0:07:26\", \"xref\": \"x\", \"y0\": 6.8, \"y1\": 7.2, \"yref\": \"y\"}, {\"fillcolor\": \"rgb(227, 119, 194)\", \"line\": {\"width\": 0}, \"opacity\": 1, \"type\": \"rect\", \"x0\": \"2018-07-14 0:00:00\", \"x1\": \"2018-07-14 0:01:24\", \"xref\": \"x\", \"y0\": 6.8, \"y1\": 7.2, \"yref\": \"y\"}, {\"fillcolor\": \"rgb(127, 127, 127)\", \"line\": {\"width\": 0}, \"opacity\": 1, \"type\": \"rect\", \"x0\": \"2018-07-14 0:09:19\", \"x1\": \"2018-07-14 0:09:32\", \"xref\": \"x\", \"y0\": 6.8, \"y1\": 7.2, \"yref\": \"y\"}, {\"fillcolor\": \"rgb(188, 189, 34)\", \"line\": {\"width\": 0}, \"opacity\": 1, \"type\": \"rect\", \"x0\": \"2018-07-14 0:01:24\", \"x1\": \"2018-07-14 0:01:55\", \"xref\": \"x\", \"y0\": 6.8, \"y1\": 7.2, \"yref\": \"y\"}, {\"fillcolor\": \"rgb(23, 190, 207)\", \"line\": {\"width\": 0}, \"opacity\": 1, \"type\": \"rect\", \"x0\": \"2018-07-14 0:04:37\", \"x1\": \"2018-07-14 0:06:02\", \"xref\": \"x\", \"y0\": 6.8, \"y1\": 7.2, \"yref\": \"y\"}, {\"fillcolor\": \"rgb(255, 127, 14)\", \"line\": {\"width\": 0}, \"opacity\": 1, \"type\": \"rect\", \"x0\": \"2018-07-14 0:06:11\", \"x1\": \"2018-07-14 0:07:12\", \"xref\": \"x\", \"y0\": 6.8, \"y1\": 7.2, \"yref\": \"y\"}, {\"fillcolor\": \"rgb(31, 119, 180)\", \"line\": {\"width\": 0}, \"opacity\": 1, \"type\": \"rect\", \"x0\": \"2018-07-14 0:07:42\", \"x1\": \"2018-07-14 0:08:18\", \"xref\": \"x\", \"y0\": 5.8, \"y1\": 6.2, \"yref\": \"y\"}, {\"fillcolor\": \"rgb(44, 160, 44)\", \"line\": {\"width\": 0}, \"opacity\": 1, \"type\": \"rect\", \"x0\": \"2018-07-14 0:11:30\", \"x1\": \"2018-07-14 0:12:39\", \"xref\": \"x\", \"y0\": 5.8, \"y1\": 6.2, \"yref\": \"y\"}, {\"fillcolor\": \"rgb(214, 39, 40)\", \"line\": {\"width\": 0}, \"opacity\": 1, \"type\": \"rect\", \"x0\": \"2018-07-14 0:10:45\", \"x1\": \"2018-07-14 0:11:24\", \"xref\": \"x\", \"y0\": 5.8, \"y1\": 6.2, \"yref\": \"y\"}, {\"fillcolor\": \"rgb(148, 103, 189)\", \"line\": {\"width\": 0}, \"opacity\": 1, \"type\": \"rect\", \"x0\": \"2018-07-14 0:17:40\", \"x1\": \"2018-07-14 0:19:18\", \"xref\": \"x\", \"y0\": 5.8, \"y1\": 6.2, \"yref\": \"y\"}, {\"fillcolor\": \"rgb(140, 86, 75)\", \"line\": {\"width\": 0}, \"opacity\": 1, \"type\": \"rect\", \"x0\": \"2018-07-14 0:12:39\", \"x1\": \"2018-07-14 0:13:05\", \"xref\": \"x\", \"y0\": 5.8, \"y1\": 6.2, \"yref\": \"y\"}, {\"fillcolor\": \"rgb(227, 119, 194)\", \"line\": {\"width\": 0}, \"opacity\": 1, \"type\": \"rect\", \"x0\": \"2018-07-14 0:06:07\", \"x1\": \"2018-07-14 0:07:42\", \"xref\": \"x\", \"y0\": 5.8, \"y1\": 6.2, \"yref\": \"y\"}, {\"fillcolor\": \"rgb(127, 127, 127)\", \"line\": {\"width\": 0}, \"opacity\": 1, \"type\": \"rect\", \"x0\": \"2018-07-14 0:08:18\", \"x1\": \"2018-07-14 0:09:19\", \"xref\": \"x\", \"y0\": 5.8, \"y1\": 6.2, \"yref\": \"y\"}, {\"fillcolor\": \"rgb(188, 189, 34)\", \"line\": {\"width\": 0}, \"opacity\": 1, \"type\": \"rect\", \"x0\": \"2018-07-14 0:19:18\", \"x1\": \"2018-07-14 0:20:37\", \"xref\": \"x\", \"y0\": 5.8, \"y1\": 6.2, \"yref\": \"y\"}, {\"fillcolor\": \"rgb(23, 190, 207)\", \"line\": {\"width\": 0}, \"opacity\": 1, \"type\": \"rect\", \"x0\": \"2018-07-14 0:02:30\", \"x1\": \"2018-07-14 0:03:46\", \"xref\": \"x\", \"y0\": 5.8, \"y1\": 6.2, \"yref\": \"y\"}, {\"fillcolor\": \"rgb(255, 127, 14)\", \"line\": {\"width\": 0}, \"opacity\": 1, \"type\": \"rect\", \"x0\": \"2018-07-14 0:15:05\", \"x1\": \"2018-07-14 0:15:57\", \"xref\": \"x\", \"y0\": 5.8, \"y1\": 6.2, \"yref\": \"y\"}, {\"fillcolor\": \"rgb(31, 119, 180)\", \"line\": {\"width\": 0}, \"opacity\": 1, \"type\": \"rect\", \"x0\": \"2018-07-14 0:08:18\", \"x1\": \"2018-07-14 0:09:07\", \"xref\": \"x\", \"y0\": 4.8, \"y1\": 5.2, \"yref\": \"y\"}, {\"fillcolor\": \"rgb(44, 160, 44)\", \"line\": {\"width\": 0}, \"opacity\": 1, \"type\": \"rect\", \"x0\": \"2018-07-14 0:10:04\", \"x1\": \"2018-07-14 0:11:19\", \"xref\": \"x\", \"y0\": 4.8, \"y1\": 5.2, \"yref\": \"y\"}, {\"fillcolor\": \"rgb(214, 39, 40)\", \"line\": {\"width\": 0}, \"opacity\": 1, \"type\": \"rect\", \"x0\": \"2018-07-14 0:18:07\", \"x1\": \"2018-07-14 0:18:40\", \"xref\": \"x\", \"y0\": 4.8, \"y1\": 5.2, \"yref\": \"y\"}, {\"fillcolor\": \"rgb(148, 103, 189)\", \"line\": {\"width\": 0}, \"opacity\": 1, \"type\": \"rect\", \"x0\": \"2018-07-14 0:11:19\", \"x1\": \"2018-07-14 0:12:58\", \"xref\": \"x\", \"y0\": 4.8, \"y1\": 5.2, \"yref\": \"y\"}, {\"fillcolor\": \"rgb(140, 86, 75)\", \"line\": {\"width\": 0}, \"opacity\": 1, \"type\": \"rect\", \"x0\": \"2018-07-14 0:13:24\", \"x1\": \"2018-07-14 0:14:33\", \"xref\": \"x\", \"y0\": 4.8, \"y1\": 5.2, \"yref\": \"y\"}, {\"fillcolor\": \"rgb(227, 119, 194)\", \"line\": {\"width\": 0}, \"opacity\": 1, \"type\": \"rect\", \"x0\": \"2018-07-14 0:18:01\", \"x1\": \"2018-07-14 0:18:07\", \"xref\": \"x\", \"y0\": 4.8, \"y1\": 5.2, \"yref\": \"y\"}, {\"fillcolor\": \"rgb(127, 127, 127)\", \"line\": {\"width\": 0}, \"opacity\": 1, \"type\": \"rect\", \"x0\": \"2018-07-14 0:20:23\", \"x1\": \"2018-07-14 0:21:18\", \"xref\": \"x\", \"y0\": 4.8, \"y1\": 5.2, \"yref\": \"y\"}, {\"fillcolor\": \"rgb(188, 189, 34)\", \"line\": {\"width\": 0}, \"opacity\": 1, \"type\": \"rect\", \"x0\": \"2018-07-14 0:09:32\", \"x1\": \"2018-07-14 0:10:04\", \"xref\": \"x\", \"y0\": 4.8, \"y1\": 5.2, \"yref\": \"y\"}, {\"fillcolor\": \"rgb(23, 190, 207)\", \"line\": {\"width\": 0}, \"opacity\": 1, \"type\": \"rect\", \"x0\": \"2018-07-14 0:12:58\", \"x1\": \"2018-07-14 0:13:24\", \"xref\": \"x\", \"y0\": 4.8, \"y1\": 5.2, \"yref\": \"y\"}, {\"fillcolor\": \"rgb(255, 127, 14)\", \"line\": {\"width\": 0}, \"opacity\": 1, \"type\": \"rect\", \"x0\": \"2018-07-14 0:15:57\", \"x1\": \"2018-07-14 0:17:27\", \"xref\": \"x\", \"y0\": 4.8, \"y1\": 5.2, \"yref\": \"y\"}, {\"fillcolor\": \"rgb(31, 119, 180)\", \"line\": {\"width\": 0}, \"opacity\": 1, \"type\": \"rect\", \"x0\": \"2018-07-14 0:09:32\", \"x1\": \"2018-07-14 0:09:43\", \"xref\": \"x\", \"y0\": 3.8, \"y1\": 4.2, \"yref\": \"y\"}, {\"fillcolor\": \"rgb(44, 160, 44)\", \"line\": {\"width\": 0}, \"opacity\": 1, \"type\": \"rect\", \"x0\": \"2018-07-14 0:16:56\", \"x1\": \"2018-07-14 0:17:42\", \"xref\": \"x\", \"y0\": 3.8, \"y1\": 4.2, \"yref\": \"y\"}, {\"fillcolor\": \"rgb(214, 39, 40)\", \"line\": {\"width\": 0}, \"opacity\": 1, \"type\": \"rect\", \"x0\": \"2018-07-14 0:14:08\", \"x1\": \"2018-07-14 0:14:18\", \"xref\": \"x\", \"y0\": 3.8, \"y1\": 4.2, \"yref\": \"y\"}, {\"fillcolor\": \"rgb(148, 103, 189)\", \"line\": {\"width\": 0}, \"opacity\": 1, \"type\": \"rect\", \"x0\": \"2018-07-14 0:19:40\", \"x1\": \"2018-07-14 0:20:23\", \"xref\": \"x\", \"y0\": 3.8, \"y1\": 4.2, \"yref\": \"y\"}, {\"fillcolor\": \"rgb(140, 86, 75)\", \"line\": {\"width\": 0}, \"opacity\": 1, \"type\": \"rect\", \"x0\": \"2018-07-14 0:09:43\", \"x1\": \"2018-07-14 0:10:44\", \"xref\": \"x\", \"y0\": 3.8, \"y1\": 4.2, \"yref\": \"y\"}, {\"fillcolor\": \"rgb(227, 119, 194)\", \"line\": {\"width\": 0}, \"opacity\": 1, \"type\": \"rect\", \"x0\": \"2018-07-14 0:05:15\", \"x1\": \"2018-07-14 0:06:07\", \"xref\": \"x\", \"y0\": 3.8, \"y1\": 4.2, \"yref\": \"y\"}, {\"fillcolor\": \"rgb(127, 127, 127)\", \"line\": {\"width\": 0}, \"opacity\": 1, \"type\": \"rect\", \"x0\": \"2018-07-14 0:15:05\", \"x1\": \"2018-07-14 0:15:26\", \"xref\": \"x\", \"y0\": 3.8, \"y1\": 4.2, \"yref\": \"y\"}, {\"fillcolor\": \"rgb(188, 189, 34)\", \"line\": {\"width\": 0}, \"opacity\": 1, \"type\": \"rect\", \"x0\": \"2018-07-14 0:08:18\", \"x1\": \"2018-07-14 0:09:32\", \"xref\": \"x\", \"y0\": 3.8, \"y1\": 4.2, \"yref\": \"y\"}, {\"fillcolor\": \"rgb(23, 190, 207)\", \"line\": {\"width\": 0}, \"opacity\": 1, \"type\": \"rect\", \"x0\": \"2018-07-14 0:03:46\", \"x1\": \"2018-07-14 0:04:37\", \"xref\": \"x\", \"y0\": 3.8, \"y1\": 4.2, \"yref\": \"y\"}, {\"fillcolor\": \"rgb(255, 127, 14)\", \"line\": {\"width\": 0}, \"opacity\": 1, \"type\": \"rect\", \"x0\": \"2018-07-14 0:14:18\", \"x1\": \"2018-07-14 0:15:05\", \"xref\": \"x\", \"y0\": 3.8, \"y1\": 4.2, \"yref\": \"y\"}, {\"fillcolor\": \"rgb(31, 119, 180)\", \"line\": {\"width\": 0}, \"opacity\": 1, \"type\": \"rect\", \"x0\": \"2018-07-14 0:13:07\", \"x1\": \"2018-07-14 0:14:09\", \"xref\": \"x\", \"y0\": 2.8, \"y1\": 3.2, \"yref\": \"y\"}, {\"fillcolor\": \"rgb(44, 160, 44)\", \"line\": {\"width\": 0}, \"opacity\": 1, \"type\": \"rect\", \"x0\": \"2018-07-14 0:16:10\", \"x1\": \"2018-07-14 0:16:56\", \"xref\": \"x\", \"y0\": 2.8, \"y1\": 3.2, \"yref\": \"y\"}, {\"fillcolor\": \"rgb(214, 39, 40)\", \"line\": {\"width\": 0}, \"opacity\": 1, \"type\": \"rect\", \"x0\": \"2018-07-14 0:14:41\", \"x1\": \"2018-07-14 0:16:10\", \"xref\": \"x\", \"y0\": 2.8, \"y1\": 3.2, \"yref\": \"y\"}, {\"fillcolor\": \"rgb(148, 103, 189)\", \"line\": {\"width\": 0}, \"opacity\": 1, \"type\": \"rect\", \"x0\": \"2018-07-14 0:12:58\", \"x1\": \"2018-07-14 0:13:07\", \"xref\": \"x\", \"y0\": 2.8, \"y1\": 3.2, \"yref\": \"y\"}, {\"fillcolor\": \"rgb(140, 86, 75)\", \"line\": {\"width\": 0}, \"opacity\": 1, \"type\": \"rect\", \"x0\": \"2018-07-14 0:18:39\", \"x1\": \"2018-07-14 0:19:32\", \"xref\": \"x\", \"y0\": 2.8, \"y1\": 3.2, \"yref\": \"y\"}, {\"fillcolor\": \"rgb(227, 119, 194)\", \"line\": {\"width\": 0}, \"opacity\": 1, \"type\": \"rect\", \"x0\": \"2018-07-14 0:16:56\", \"x1\": \"2018-07-14 0:18:01\", \"xref\": \"x\", \"y0\": 2.8, \"y1\": 3.2, \"yref\": \"y\"}, {\"fillcolor\": \"rgb(127, 127, 127)\", \"line\": {\"width\": 0}, \"opacity\": 1, \"type\": \"rect\", \"x0\": \"2018-07-14 0:14:09\", \"x1\": \"2018-07-14 0:14:41\", \"xref\": \"x\", \"y0\": 2.8, \"y1\": 3.2, \"yref\": \"y\"}, {\"fillcolor\": \"rgb(188, 189, 34)\", \"line\": {\"width\": 0}, \"opacity\": 1, \"type\": \"rect\", \"x0\": \"2018-07-14 0:10:04\", \"x1\": \"2018-07-14 0:11:32\", \"xref\": \"x\", \"y0\": 2.8, \"y1\": 3.2, \"yref\": \"y\"}, {\"fillcolor\": \"rgb(23, 190, 207)\", \"line\": {\"width\": 0}, \"opacity\": 1, \"type\": \"rect\", \"x0\": \"2018-07-14 0:07:19\", \"x1\": \"2018-07-14 0:07:59\", \"xref\": \"x\", \"y0\": 2.8, \"y1\": 3.2, \"yref\": \"y\"}, {\"fillcolor\": \"rgb(255, 127, 14)\", \"line\": {\"width\": 0}, \"opacity\": 1, \"type\": \"rect\", \"x0\": \"2018-07-14 0:07:12\", \"x1\": \"2018-07-14 0:07:19\", \"xref\": \"x\", \"y0\": 2.8, \"y1\": 3.2, \"yref\": \"y\"}, {\"fillcolor\": \"rgb(31, 119, 180)\", \"line\": {\"width\": 0}, \"opacity\": 1, \"type\": \"rect\", \"x0\": \"2018-07-14 0:14:30\", \"x1\": \"2018-07-14 0:15:26\", \"xref\": \"x\", \"y0\": 1.8, \"y1\": 2.2, \"yref\": \"y\"}, {\"fillcolor\": \"rgb(44, 160, 44)\", \"line\": {\"width\": 0}, \"opacity\": 1, \"type\": \"rect\", \"x0\": \"2018-07-14 0:18:41\", \"x1\": \"2018-07-14 0:19:53\", \"xref\": \"x\", \"y0\": 1.8, \"y1\": 2.2, \"yref\": \"y\"}, {\"fillcolor\": \"rgb(214, 39, 40)\", \"line\": {\"width\": 0}, \"opacity\": 1, \"type\": \"rect\", \"x0\": \"2018-07-14 0:14:18\", \"x1\": \"2018-07-14 0:14:30\", \"xref\": \"x\", \"y0\": 1.8, \"y1\": 2.2, \"yref\": \"y\"}, {\"fillcolor\": \"rgb(148, 103, 189)\", \"line\": {\"width\": 0}, \"opacity\": 1, \"type\": \"rect\", \"x0\": \"2018-07-14 0:16:15\", \"x1\": \"2018-07-14 0:17:40\", \"xref\": \"x\", \"y0\": 1.8, \"y1\": 2.2, \"yref\": \"y\"}, {\"fillcolor\": \"rgb(140, 86, 75)\", \"line\": {\"width\": 0}, \"opacity\": 1, \"type\": \"rect\", \"x0\": \"2018-07-14 0:15:26\", \"x1\": \"2018-07-14 0:16:15\", \"xref\": \"x\", \"y0\": 1.8, \"y1\": 2.2, \"yref\": \"y\"}, {\"fillcolor\": \"rgb(227, 119, 194)\", \"line\": {\"width\": 0}, \"opacity\": 1, \"type\": \"rect\", \"x0\": \"2018-07-14 0:18:16\", \"x1\": \"2018-07-14 0:18:41\", \"xref\": \"x\", \"y0\": 1.8, \"y1\": 2.2, \"yref\": \"y\"}, {\"fillcolor\": \"rgb(127, 127, 127)\", \"line\": {\"width\": 0}, \"opacity\": 1, \"type\": \"rect\", \"x0\": \"2018-07-14 0:19:53\", \"x1\": \"2018-07-14 0:20:23\", \"xref\": \"x\", \"y0\": 1.8, \"y1\": 2.2, \"yref\": \"y\"}, {\"fillcolor\": \"rgb(188, 189, 34)\", \"line\": {\"width\": 0}, \"opacity\": 1, \"type\": \"rect\", \"x0\": \"2018-07-14 0:17:40\", \"x1\": \"2018-07-14 0:18:16\", \"xref\": \"x\", \"y0\": 1.8, \"y1\": 2.2, \"yref\": \"y\"}, {\"fillcolor\": \"rgb(23, 190, 207)\", \"line\": {\"width\": 0}, \"opacity\": 1, \"type\": \"rect\", \"x0\": \"2018-07-14 0:07:59\", \"x1\": \"2018-07-14 0:09:28\", \"xref\": \"x\", \"y0\": 1.8, \"y1\": 2.2, \"yref\": \"y\"}, {\"fillcolor\": \"rgb(255, 127, 14)\", \"line\": {\"width\": 0}, \"opacity\": 1, \"type\": \"rect\", \"x0\": \"2018-07-14 0:20:23\", \"x1\": \"2018-07-14 0:21:08\", \"xref\": \"x\", \"y0\": 1.8, \"y1\": 2.2, \"yref\": \"y\"}, {\"fillcolor\": \"rgb(31, 119, 180)\", \"line\": {\"width\": 0}, \"opacity\": 1, \"type\": \"rect\", \"x0\": \"2018-07-14 0:15:26\", \"x1\": \"2018-07-14 0:16:10\", \"xref\": \"x\", \"y0\": 0.8, \"y1\": 1.2, \"yref\": \"y\"}, {\"fillcolor\": \"rgb(44, 160, 44)\", \"line\": {\"width\": 0}, \"opacity\": 1, \"type\": \"rect\", \"x0\": \"2018-07-14 0:20:10\", \"x1\": \"2018-07-14 0:20:40\", \"xref\": \"x\", \"y0\": 0.8, \"y1\": 1.2, \"yref\": \"y\"}, {\"fillcolor\": \"rgb(214, 39, 40)\", \"line\": {\"width\": 0}, \"opacity\": 1, \"type\": \"rect\", \"x0\": \"2018-07-14 0:12:38\", \"x1\": \"2018-07-14 0:14:08\", \"xref\": \"x\", \"y0\": 0.8, \"y1\": 1.2, \"yref\": \"y\"}, {\"fillcolor\": \"rgb(148, 103, 189)\", \"line\": {\"width\": 0}, \"opacity\": 1, \"type\": \"rect\", \"x0\": \"2018-07-14 0:14:08\", \"x1\": \"2018-07-14 0:15:00\", \"xref\": \"x\", \"y0\": 0.8, \"y1\": 1.2, \"yref\": \"y\"}, {\"fillcolor\": \"rgb(140, 86, 75)\", \"line\": {\"width\": 0}, \"opacity\": 1, \"type\": \"rect\", \"x0\": \"2018-07-14 0:15:00\", \"x1\": \"2018-07-14 0:15:21\", \"xref\": \"x\", \"y0\": 0.8, \"y1\": 1.2, \"yref\": \"y\"}, {\"fillcolor\": \"rgb(227, 119, 194)\", \"line\": {\"width\": 0}, \"opacity\": 1, \"type\": \"rect\", \"x0\": \"2018-07-14 0:07:42\", \"x1\": \"2018-07-14 0:08:30\", \"xref\": \"x\", \"y0\": 0.8, \"y1\": 1.2, \"yref\": \"y\"}, {\"fillcolor\": \"rgb(127, 127, 127)\", \"line\": {\"width\": 0}, \"opacity\": 1, \"type\": \"rect\", \"x0\": \"2018-07-14 0:17:27\", \"x1\": \"2018-07-14 0:18:56\", \"xref\": \"x\", \"y0\": 0.8, \"y1\": 1.2, \"yref\": \"y\"}, {\"fillcolor\": \"rgb(188, 189, 34)\", \"line\": {\"width\": 0}, \"opacity\": 1, \"type\": \"rect\", \"x0\": \"2018-07-14 0:11:32\", \"x1\": \"2018-07-14 0:11:51\", \"xref\": \"x\", \"y0\": 0.8, \"y1\": 1.2, \"yref\": \"y\"}, {\"fillcolor\": \"rgb(23, 190, 207)\", \"line\": {\"width\": 0}, \"opacity\": 1, \"type\": \"rect\", \"x0\": \"2018-07-14 0:18:56\", \"x1\": \"2018-07-14 0:20:10\", \"xref\": \"x\", \"y0\": 0.8, \"y1\": 1.2, \"yref\": \"y\"}, {\"fillcolor\": \"rgb(255, 127, 14)\", \"line\": {\"width\": 0}, \"opacity\": 1, \"type\": \"rect\", \"x0\": \"2018-07-14 0:08:30\", \"x1\": \"2018-07-14 0:09:34\", \"xref\": \"x\", \"y0\": 0.8, \"y1\": 1.2, \"yref\": \"y\"}, {\"fillcolor\": \"rgb(31, 119, 180)\", \"line\": {\"width\": 0}, \"opacity\": 1, \"type\": \"rect\", \"x0\": \"2018-07-14 0:19:40\", \"x1\": \"2018-07-14 0:20:01\", \"xref\": \"x\", \"y0\": -0.2, \"y1\": 0.2, \"yref\": \"y\"}, {\"fillcolor\": \"rgb(44, 160, 44)\", \"line\": {\"width\": 0}, \"opacity\": 1, \"type\": \"rect\", \"x0\": \"2018-07-14 0:11:19\", \"x1\": \"2018-07-14 0:11:30\", \"xref\": \"x\", \"y0\": -0.2, \"y1\": 0.2, \"yref\": \"y\"}, {\"fillcolor\": \"rgb(214, 39, 40)\", \"line\": {\"width\": 0}, \"opacity\": 1, \"type\": \"rect\", \"x0\": \"2018-07-14 0:16:10\", \"x1\": \"2018-07-14 0:16:55\", \"xref\": \"x\", \"y0\": -0.2, \"y1\": 0.2, \"yref\": \"y\"}, {\"fillcolor\": \"rgb(148, 103, 189)\", \"line\": {\"width\": 0}, \"opacity\": 1, \"type\": \"rect\", \"x0\": \"2018-07-14 0:19:18\", \"x1\": \"2018-07-14 0:19:40\", \"xref\": \"x\", \"y0\": -0.2, \"y1\": 0.2, \"yref\": \"y\"}, {\"fillcolor\": \"rgb(140, 86, 75)\", \"line\": {\"width\": 0}, \"opacity\": 1, \"type\": \"rect\", \"x0\": \"2018-07-14 0:17:27\", \"x1\": \"2018-07-14 0:18:39\", \"xref\": \"x\", \"y0\": -0.2, \"y1\": 0.2, \"yref\": \"y\"}, {\"fillcolor\": \"rgb(227, 119, 194)\", \"line\": {\"width\": 0}, \"opacity\": 1, \"type\": \"rect\", \"x0\": \"2018-07-14 0:13:55\", \"x1\": \"2018-07-14 0:15:07\", \"xref\": \"x\", \"y0\": -0.2, \"y1\": 0.2, \"yref\": \"y\"}, {\"fillcolor\": \"rgb(127, 127, 127)\", \"line\": {\"width\": 0}, \"opacity\": 1, \"type\": \"rect\", \"x0\": \"2018-07-14 0:16:55\", \"x1\": \"2018-07-14 0:17:27\", \"xref\": \"x\", \"y0\": -0.2, \"y1\": 0.2, \"yref\": \"y\"}, {\"fillcolor\": \"rgb(188, 189, 34)\", \"line\": {\"width\": 0}, \"opacity\": 1, \"type\": \"rect\", \"x0\": \"2018-07-14 0:11:51\", \"x1\": \"2018-07-14 0:12:39\", \"xref\": \"x\", \"y0\": -0.2, \"y1\": 0.2, \"yref\": \"y\"}, {\"fillcolor\": \"rgb(23, 190, 207)\", \"line\": {\"width\": 0}, \"opacity\": 1, \"type\": \"rect\", \"x0\": \"2018-07-14 0:06:02\", \"x1\": \"2018-07-14 0:06:13\", \"xref\": \"x\", \"y0\": -0.2, \"y1\": 0.2, \"yref\": \"y\"}, {\"fillcolor\": \"rgb(255, 127, 14)\", \"line\": {\"width\": 0}, \"opacity\": 1, \"type\": \"rect\", \"x0\": \"2018-07-14 0:12:39\", \"x1\": \"2018-07-14 0:13:55\", \"xref\": \"x\", \"y0\": -0.2, \"y1\": 0.2, \"yref\": \"y\"}], \"showlegend\": true, \"title\": {\"text\": \"Job shop Schedule\"}, \"width\": 900, \"xaxis\": {\"rangeselector\": {\"buttons\": [{\"count\": 7, \"label\": \"1w\", \"step\": \"day\", \"stepmode\": \"backward\"}, {\"count\": 1, \"label\": \"1m\", \"step\": \"month\", \"stepmode\": \"backward\"}, {\"count\": 6, \"label\": \"6m\", \"step\": \"month\", \"stepmode\": \"backward\"}, {\"count\": 1, \"label\": \"YTD\", \"step\": \"year\", \"stepmode\": \"todate\"}, {\"count\": 1, \"label\": \"1y\", \"step\": \"year\", \"stepmode\": \"backward\"}, {\"step\": \"all\"}]}, \"showgrid\": true, \"type\": \"date\", \"zeroline\": false}, \"yaxis\": {\"autorange\": false, \"range\": [-1, 11], \"showgrid\": false, \"ticktext\": [\"Machine 10\", \"Machine 9\", \"Machine 8\", \"Machine 7\", \"Machine 6\", \"Machine 5\", \"Machine 4\", \"Machine 3\", \"Machine 2\", \"Machine 1\"], \"tickvals\": [0, 1, 2, 3, 4, 5, 6, 7, 8, 9], \"zeroline\": false}},\n",
       "                        {\"showLink\": false, \"linkText\": \"Export to plot.ly\", \"plotlyServerURL\": \"https://plot.ly\", \"responsive\": true}\n",
       "                    ).then(function(){\n",
       "                            \n",
       "var gd = document.getElementById('29399fb2-76e4-4bd0-965f-0e94f313f87b');\n",
       "var x = new MutationObserver(function (mutations, observer) {{\n",
       "        var display = window.getComputedStyle(gd).display;\n",
       "        if (!display || display === 'none') {{\n",
       "            console.log([gd, 'removed!']);\n",
       "            Plotly.purge(gd);\n",
       "            observer.disconnect();\n",
       "        }}\n",
       "}});\n",
       "\n",
       "// Listen for the removal of the full notebook cells\n",
       "var notebookContainer = gd.closest('#notebook-container');\n",
       "if (notebookContainer) {{\n",
       "    x.observe(notebookContainer, {childList: true});\n",
       "}}\n",
       "\n",
       "// Listen for the clearing of the current output cell\n",
       "var outputEl = gd.closest('.output');\n",
       "if (outputEl) {{\n",
       "    x.observe(outputEl, {childList: true});\n",
       "}}\n",
       "\n",
       "                        })\n",
       "                };\n",
       "                });\n",
       "            </script>\n",
       "        </div>"
      ]
     },
     "metadata": {},
     "output_type": "display_data"
    }
   ],
   "source": [
    "\"\"\"\n",
    "===== Original Version Code: https://github.com/wurmen/Genetic-Algorithm-for-Job-Shop-Scheduling-and-NSGA-II/blob/master/implementation%20with%20python/GA-jobshop/GA_jobshop_makespan.py\n",
    "===== Original Author's Information =====\n",
    "Original Author: cheng-man wu\n",
    "LinkedIn: www.linkedin.com/in/chengmanwu\n",
    "Github: https://github.com/wurmen\n",
    "=====\n",
    "===== Adaptor: James, NTUST-IM\n",
    "\"\"\"\n",
    "import numpy as np\n",
    "import pandas as pd\n",
    "import plotly\n",
    "import plotly.plotly as py\n",
    "import plotly.figure_factory as ff\n",
    "import plotly.graph_objs as go\n",
    "from plotly.offline import download_plotlyjs, init_notebook_mode, plot, iplot\n",
    "import datetime\n",
    "import copy\n",
    "import time\n",
    "import matplotlib.pyplot as plt\n",
    "%matplotlib inline\n",
    "init_notebook_mode(connected=True)\n",
    "\n",
    "class Scheduler:\n",
    "    def __init__(self):\n",
    "        # Initial基本參數\n",
    "        self.__parameters = {\n",
    "            # Table\n",
    "            \"processTimeTable\": None,\n",
    "            \"machinesSequenceTable\": None,\n",
    "            # basic parameters\n",
    "            \"populationSize\": 30,\n",
    "            \"crossoverRate\": 0.8,\n",
    "            \"mutationRate\": 0.2,\n",
    "            \"mutationSelectionRate\": 0.2,\n",
    "            \"maxGeneration\": 100,\n",
    "        }\n",
    "        \n",
    "    # -\n",
    "    def Scheduler(self):\n",
    "        print(\"Construct Initial Scheduler\")\n",
    "        \n",
    "    # -\n",
    "    def Scheduler(self, processTimeTableName, machinesSequenceTableName):\n",
    "        # read table\n",
    "        self.__parameters[\"processTimeTable\"] = pd.read_csv(processTimeTableName)\n",
    "        self.__parameters[\"machinesSequenceTable\"] = pd.read_csv(machinesSequenceTableName)        \n",
    "        \n",
    "    # Accessor，Operator [] overloading\n",
    "    def __getitem__(self, preferParameter):\n",
    "        return self.__parameters[preferParameter]\n",
    "    \n",
    "    # Mutator，Operator [] overloading\n",
    "    def __setitem__(self, preferParameter, preferValue):\n",
    "        # 如果要設定的是Table，則利用該TableName讀取Table，再進行assign\n",
    "        if(preferParameter == \"processTimeTable\"):\n",
    "            self.__parameters[\"processTimeTable\"] = pd.read_csv(preferValue, index_col=[0])\n",
    "        elif(preferParameter == \"machinesSequenceTable\"):\n",
    "            self.__parameters[\"machinesSequenceTable\"] = pd.read_csv(preferValue, index_col=[0])\n",
    "        # 一般數執行參數則直接assign\n",
    "        else:\n",
    "            self.__parameters[preferParameter] = preferValue\n",
    "    \n",
    "    # 印出所有參數\n",
    "    def PrintAllParameters(self):\n",
    "        print(\"Current Parameters List\\n------\")\n",
    "        print(pd.Series(self.__parameters))\n",
    "    \n",
    "    # 啟動函式，變數名稱原則沿用原版本\n",
    "    def Run(self):\n",
    "        print(\"Calculating...\")\n",
    "        \n",
    "        self.__dfshape=self.__parameters[\"processTimeTable\"].shape\n",
    "        self.__num_mc=self.__dfshape[1] # number of machines\n",
    "        self.__num_job=self.__dfshape[0] # number of jobs\n",
    "        self.__num_gene=self.__num_mc*self.__num_job # number of genes in a chromosome\n",
    "        self.__num_mutation_jobs=round(self.__num_gene*self.__parameters[\"mutationSelectionRate\"])\n",
    "        \n",
    "        self.__pt=[list(map(int, self.__parameters[\"processTimeTable\"].iloc[i])) for i in range(self.__num_job)]\n",
    "        self.__ms=[list(map(int, self.__parameters[\"machinesSequenceTable\"].iloc[i])) for i in range(self.__num_job)]\n",
    "        \n",
    "        self.__Tbest=999999999999999\n",
    "        self.__best_list, self.__best_obj=[],[]\n",
    "        self.__population_list=[]\n",
    "        self.__makespan_record=[]\n",
    "        \n",
    "        for t in range(self.__parameters[\"populationSize\"]):\n",
    "            #---產生初始群體---\n",
    "            self.NewPupulation(t)\n",
    "            #---\n",
    "            \n",
    "        for n in range(self.__parameters[\"maxGeneration\"]):\n",
    "            #---產生新群體---\n",
    "            print(\"=== Generation:\" + str(n) + \"===\")\n",
    "            self.ReProduction()\n",
    "            #---\n",
    "            self.Repair()\n",
    "            self.Mutation()\n",
    "            self.CalcFitness()\n",
    "            self.Selection()\n",
    "            self.Compare()\n",
    "            \n",
    "    \n",
    "    def NewPupulation(self, i):\n",
    "        # 產生初始群體\n",
    "        self.__nxm_random_num=list(np.random.permutation(self.__num_gene)) # generate a random permutation of 0 to self.__num_job*num_mc-1\n",
    "        self.__population_list.append(self.__nxm_random_num)\n",
    "        for j in range(self.__num_gene):\n",
    "            self.__population_list[i][j]=self.__population_list[i][j]%self.__num_job # convert to job number format, every job appears m times\n",
    "        \n",
    "    def ReProduction(self):\n",
    "        # 產生新群體\n",
    "        self.__Tbest_now=99999999999\n",
    "        #--- two point crossover ---\n",
    "        self.__parent_list=copy.deepcopy(self.__population_list)\n",
    "        self.__offspring_list=copy.deepcopy(self.__population_list)\n",
    "        S=list(np.random.permutation(self.__parameters[\"populationSize\"])) # generate a random sequence to select the parent chromosome to crossover\n",
    "\n",
    "        for m in range(int(self.__parameters[\"populationSize\"]/2)):\n",
    "            crossover_prob=np.random.rand()\n",
    "            if(crossover_prob <= self.__parameters[\"crossoverRate\"]):\n",
    "                parent_1= self.__population_list[S[2*m]][:]\n",
    "                parent_2= self.__population_list[S[2*m+1]][:]\n",
    "                child_1=parent_1[:]\n",
    "                child_2=parent_2[:]\n",
    "                cutpoint=list(np.random.choice(self.__num_gene, 2, replace=False))\n",
    "                cutpoint.sort()\n",
    "\n",
    "                child_1[cutpoint[0]:cutpoint[1]]=parent_2[cutpoint[0]:cutpoint[1]]\n",
    "                child_2[cutpoint[0]:cutpoint[1]]=parent_1[cutpoint[0]:cutpoint[1]]\n",
    "                self.__offspring_list[S[2*m]]=child_1[:]\n",
    "                self.__offspring_list[S[2*m+1]]=child_2[:]        \n",
    "        \n",
    "    def Selection(self):\n",
    "        # 選擇\n",
    "        pk,qk=[],[]\n",
    "    \n",
    "        for i in range(self.__parameters[\"populationSize\"]*2):\n",
    "            pk.append(self.__chrom_fitness[i]/self.__total_fitness)\n",
    "        for i in range(self.__parameters[\"populationSize\"]*2):\n",
    "            cumulative=0\n",
    "            for j in range(0,i+1):\n",
    "                cumulative=cumulative+pk[j]\n",
    "            qk.append(cumulative)\n",
    "\n",
    "        selection_rand=[np.random.rand() for i in range(self.__parameters[\"populationSize\"])]\n",
    "\n",
    "        for i in range(self.__parameters[\"populationSize\"]):\n",
    "            if selection_rand[i]<=qk[0]:\n",
    "                self.__population_list[i]=copy.deepcopy(self.__total_chromosome[0])\n",
    "            else:\n",
    "                for j in range(0,self.__parameters[\"populationSize\"]*2-1):\n",
    "                    if selection_rand[i]>qk[j] and selection_rand[i]<=qk[j+1]:\n",
    "                        self.__population_list[i]=copy.deepcopy(self.__total_chromosome[j+1])\n",
    "                        break\n",
    "\n",
    "    '''\n",
    "    def Crossover(self):\n",
    "        # 交配\n",
    "    '''\n",
    "\n",
    "    def Mutation(self):\n",
    "        # 突變\n",
    "        for m in range(len(self.__offspring_list)):\n",
    "            mutation_prob=np.random.rand()\n",
    "            if(mutation_prob <= self.__parameters[\"mutationRate\"]):\n",
    "                m_chg=list(np.random.choice(self.__num_gene, self.__num_mutation_jobs, replace=False)) # chooses the position to mutation\n",
    "                t_value_last=self.__offspring_list[m][m_chg[0]] # save the value which is on the first mutation position\n",
    "                for i in range(self.__num_mutation_jobs-1):\n",
    "                    self.__offspring_list[m][m_chg[i]]=self.__offspring_list[m][m_chg[i+1]] # displacement\n",
    "\n",
    "                self.__offspring_list[m][m_chg[self.__num_mutation_jobs-1]]=t_value_last # move the value of the first mutation position to the last mutation position\n",
    "\n",
    "\n",
    "    def Repair(self):\n",
    "        # 修復\n",
    "        for m in range(self.__parameters[\"populationSize\"]):\n",
    "            job_count={}\n",
    "            larger,less=[],[] # 'larger' record jobs appear in the chromosome more than m times, and 'less' records less than m times.\n",
    "            for i in range(self.__num_job):\n",
    "                if i in self.__offspring_list[m]:\n",
    "                    count=self.__offspring_list[m].count(i)\n",
    "                    pos=self.__offspring_list[m].index(i)\n",
    "                    job_count[i]=[count,pos] # store the above two values to the job_count dictionary\n",
    "                else:\n",
    "                    count=0\n",
    "                    job_count[i]=[count,0]\n",
    "                if count>self.__num_mc:\n",
    "                    larger.append(i)\n",
    "                elif count<self.__num_mc:\n",
    "                    less.append(i)\n",
    "\n",
    "            for k in range(len(larger)):\n",
    "                chg_job=larger[k]\n",
    "                while job_count[chg_job][0] > self.__num_mc:\n",
    "                    for d in range(len(less)):\n",
    "                        if job_count[less[d]][0] < self.__num_mc:                    \n",
    "                            self.__offspring_list[m][job_count[chg_job][1]]=less[d]\n",
    "                            job_count[chg_job][1]=self.__offspring_list[m].index(chg_job)\n",
    "                            job_count[chg_job][0]=job_count[chg_job][0]-1\n",
    "                            job_count[less[d]][0]=job_count[less[d]][0]+1                    \n",
    "                        if job_count[chg_job][0]==self.__num_mc:\n",
    "                            break\n",
    "\n",
    "    \n",
    "    \n",
    "    def CalcFitness(self):\n",
    "        # 計算適應值\n",
    "        self.__total_chromosome=copy.deepcopy(self.__parent_list)+copy.deepcopy(self.__offspring_list) # parent and offspring chromosomes combination\n",
    "        self.__chrom_fitness,self.__chrom_fit=[],[]\n",
    "        self.__total_fitness=0\n",
    "        for m in range(self.__parameters[\"populationSize\"]*2):\n",
    "            j_keys=[j for j in range(self.__num_job)]\n",
    "            key_count={key:0 for key in j_keys}\n",
    "            j_count={key:0 for key in j_keys}\n",
    "            m_keys=[j+1 for j in range(self.__num_mc)]\n",
    "            m_count={key:0 for key in m_keys}\n",
    "\n",
    "            for i in self.__total_chromosome[m]:\n",
    "                gen_t=int(self.__pt[i][key_count[i]])\n",
    "                gen_m=int(self.__ms[i][key_count[i]])\n",
    "                j_count[i]=j_count[i]+gen_t\n",
    "                m_count[gen_m]=m_count[gen_m]+gen_t\n",
    "\n",
    "                if m_count[gen_m]<j_count[i]:\n",
    "                    m_count[gen_m]=j_count[i]\n",
    "                elif m_count[gen_m]>j_count[i]:\n",
    "                    j_count[i]=m_count[gen_m]\n",
    "\n",
    "                key_count[i]=key_count[i]+1\n",
    "\n",
    "            makespan=max(j_count.values())\n",
    "            self.__chrom_fitness.append(1/makespan)\n",
    "            self.__chrom_fit.append(makespan)\n",
    "            self.__total_fitness=self.__total_fitness+self.__chrom_fitness[m]\n",
    "\n",
    "    def Compare(self):\n",
    "        # 比較\n",
    "        for i in range(self.__parameters[\"populationSize\"]*2):\n",
    "            if self.__chrom_fit[i]<self.__Tbest_now:\n",
    "                self.__Tbest_now=self.__chrom_fit[i]\n",
    "                sequence_now=copy.deepcopy(self.__total_chromosome[i])\n",
    "        if self.__Tbest_now<=self.__Tbest:\n",
    "            self.__Tbest=self.__Tbest_now\n",
    "            self.__sequence_best=copy.deepcopy(sequence_now)\n",
    "        \n",
    "        self.__makespan_record.append(self.__Tbest)\n",
    "    \n",
    "    def PrintResult(self):\n",
    "        # 印出計算結果\n",
    "        print(\"optimal sequence\",self.__sequence_best)\n",
    "        print(\"optimal value:%f\"%self.__Tbest)\n",
    "\n",
    "    def PrintFitnessPlot(self):\n",
    "        # 繪製適應度趨勢圖\n",
    "        plt.plot([i for i in range(len(self.__makespan_record))],self.__makespan_record,'b')\n",
    "        plt.ylabel('makespan',fontsize=15)\n",
    "        plt.xlabel('generation',fontsize=15)\n",
    "        plt.show()\n",
    "\n",
    "    def GenerateGanttChart(self):\n",
    "        # 繪製甘特圖\n",
    "        m_keys=[j+1 for j in range(self.__num_mc)]\n",
    "        j_keys=[j for j in range(self.__num_job)]\n",
    "        key_count={key:0 for key in j_keys}\n",
    "        j_count={key:0 for key in j_keys}\n",
    "        m_count={key:0 for key in m_keys}\n",
    "        j_record={}\n",
    "        for i in self.__sequence_best:\n",
    "            gen_t=int(self.__pt[i][key_count[i]])\n",
    "            gen_m=int(self.__ms[i][key_count[i]])\n",
    "            j_count[i]=j_count[i]+gen_t\n",
    "            m_count[gen_m]=m_count[gen_m]+gen_t\n",
    "\n",
    "            if m_count[gen_m]<j_count[i]:\n",
    "                m_count[gen_m]=j_count[i]\n",
    "            elif m_count[gen_m]>j_count[i]:\n",
    "                j_count[i]=m_count[gen_m]\n",
    "\n",
    "            start_time=str(datetime.timedelta(seconds=j_count[i]-self.__pt[i][key_count[i]])) # convert seconds to hours, minutes and seconds\n",
    "            end_time=str(datetime.timedelta(seconds=j_count[i]))\n",
    "\n",
    "            j_record[(i,gen_m)]=[start_time,end_time]\n",
    "\n",
    "            key_count[i]=key_count[i]+1\n",
    "\n",
    "\n",
    "        df=[]\n",
    "        for m in m_keys:\n",
    "            for j in j_keys:\n",
    "                df.append(dict(Task='Machine %s'%(m), Start='2018-07-14 %s'%(str(j_record[(j,m)][0])), Finish='2018-07-14 %s'%(str(j_record[(j,m)][1])),Resource='Job %s'%(j+1)))\n",
    "                \n",
    "        fig = ff.create_gantt(df, index_col='Resource', show_colorbar=True, group_tasks=True, showgrid_x=True, title='Job shop Schedule')\n",
    "        iplot(fig, filename='GA_job_shop_scheduling')\n",
    "        "
   ]
  },
  {
   "cell_type": "code",
   "execution_count": null,
   "metadata": {},
   "outputs": [],
   "source": []
  }
 ],
 "metadata": {
  "kernelspec": {
   "display_name": "Python 3",
   "language": "python",
   "name": "python3"
  },
  "language_info": {
   "codemirror_mode": {
    "name": "ipython",
    "version": 3
   },
   "file_extension": ".py",
   "mimetype": "text/x-python",
   "name": "python",
   "nbconvert_exporter": "python",
   "pygments_lexer": "ipython3",
   "version": "3.6.8"
  }
 },
 "nbformat": 4,
 "nbformat_minor": 2
}
